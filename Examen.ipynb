{
 "cells": [
  {
   "cell_type": "markdown",
   "metadata": {},
   "source": [
    "# Examen SageMath <code> Algebra Lineal </code>\n",
    "## Problema 1\n",
    "### (a)"
   ]
  },
  {
   "cell_type": "code",
   "execution_count": 7,
   "metadata": {},
   "outputs": [
    {
     "data": {
      "text/html": [
       "<html>\\[\\newcommand{\\Bold}[1]{\\mathbf{#1}}\\verb|Matriu|\\phantom{\\verb!x!}\\verb|de|\\phantom{\\verb!x!}\\verb|coeficients|\\phantom{\\verb!x!}\\verb|=| \\left(\\begin{array}{rrr}\n",
       "1 & 1 & a \\\\\n",
       "1 & a & 1 \\\\\n",
       "a & 1 & 1\n",
       "\\end{array}\\right)\\]</html>"
      ],
      "text/latex": [
       "$$\\newcommand{\\Bold}[1]{\\mathbf{#1}}\\verb|Matriu|\\phantom{\\verb!x!}\\verb|de|\\phantom{\\verb!x!}\\verb|coeficients|\\phantom{\\verb!x!}\\verb|=| \\left(\\begin{array}{rrr}\n",
       "1 & 1 & a \\\\\n",
       "1 & a & 1 \\\\\n",
       "a & 1 & 1\n",
       "\\end{array}\\right)$$"
      ],
      "text/plain": [
       "'Matriu de coeficients =' [1 1 a]\n",
       "[1 a 1]\n",
       "[a 1 1]"
      ]
     },
     "metadata": {},
     "output_type": "display_data"
    },
    {
     "data": {
      "text/html": [
       "<html>\\[\\newcommand{\\Bold}[1]{\\mathbf{#1}}\\verb|Matriu|\\phantom{\\verb!x!}\\verb|de|\\phantom{\\verb!x!}\\verb|termes|\\phantom{\\verb!x!}\\verb|independents|\\phantom{\\verb!x!}\\verb|=| \\left(\\begin{array}{r}\n",
       "1 \\\\\n",
       "1 \\\\\n",
       "6\n",
       "\\end{array}\\right)\\]</html>"
      ],
      "text/latex": [
       "$$\\newcommand{\\Bold}[1]{\\mathbf{#1}}\\verb|Matriu|\\phantom{\\verb!x!}\\verb|de|\\phantom{\\verb!x!}\\verb|termes|\\phantom{\\verb!x!}\\verb|independents|\\phantom{\\verb!x!}\\verb|=| \\left(\\begin{array}{r}\n",
       "1 \\\\\n",
       "1 \\\\\n",
       "6\n",
       "\\end{array}\\right)$$"
      ],
      "text/plain": [
       "'Matriu de termes independents =' [1]\n",
       "[1]\n",
       "[6]"
      ]
     },
     "metadata": {},
     "output_type": "display_data"
    },
    {
     "data": {
      "text/html": [
       "<html>\\[\\newcommand{\\Bold}[1]{\\mathbf{#1}}\\verb|Matriu|\\phantom{\\verb!x!}\\verb|associada|\\phantom{\\verb!x!}\\verb|al|\\phantom{\\verb!x!}\\verb|sistema|\\phantom{\\verb!x!}\\verb|(ampliada)|\\phantom{\\verb!x!}\\verb|=| \\left(\\begin{array}{rrr|r}\n",
       "1 & 1 & a & 1 \\\\\n",
       "1 & a & 1 & 1 \\\\\n",
       "a & 1 & 1 & 6\n",
       "\\end{array}\\right)\\]</html>"
      ],
      "text/latex": [
       "$$\\newcommand{\\Bold}[1]{\\mathbf{#1}}\\verb|Matriu|\\phantom{\\verb!x!}\\verb|associada|\\phantom{\\verb!x!}\\verb|al|\\phantom{\\verb!x!}\\verb|sistema|\\phantom{\\verb!x!}\\verb|(ampliada)|\\phantom{\\verb!x!}\\verb|=| \\left(\\begin{array}{rrr|r}\n",
       "1 & 1 & a & 1 \\\\\n",
       "1 & a & 1 & 1 \\\\\n",
       "a & 1 & 1 & 6\n",
       "\\end{array}\\right)$$"
      ],
      "text/plain": [
       "'Matriu associada al sistema (ampliada) =' [1 1 a|1]\n",
       "[1 a 1|1]\n",
       "[a 1 1|6]"
      ]
     },
     "metadata": {},
     "output_type": "display_data"
    }
   ],
   "source": [
    "var('a')\n",
    "A=matrix(SR,[[1,1,a],[1,a,1],[a,1,1]])\n",
    "b=column_matrix(QQ,[1,1,6])\n",
    "Ab=block_matrix(1,2,[A,b])\n",
    "\n",
    "show('Matriu de coeficients =', A)\n",
    "show('Matriu de termes independents =', b)\n",
    "show('Matriu associada al sistema (ampliada) =', Ab)\n"
   ]
  },
  {
   "cell_type": "code",
   "execution_count": 16,
   "metadata": {},
   "outputs": [
    {
     "data": {
      "text/html": [
       "<html>\\[\\newcommand{\\Bold}[1]{\\mathbf{#1}}\\left(\\begin{array}{rrr|r}\n",
       "1 & 1 & a & 1 \\\\\n",
       "0 & a - 1 & -a + 1 & 0 \\\\\n",
       "0 & -a + 1 & -a^{2} + 1 & -a + 6\n",
       "\\end{array}\\right)\\]</html>"
      ],
      "text/latex": [
       "$$\\newcommand{\\Bold}[1]{\\mathbf{#1}}\\left(\\begin{array}{rrr|r}\n",
       "1 & 1 & a & 1 \\\\\n",
       "0 & a - 1 & -a + 1 & 0 \\\\\n",
       "0 & -a + 1 & -a^{2} + 1 & -a + 6\n",
       "\\end{array}\\right)$$"
      ],
      "text/plain": [
       "[       1        1        a|       1]\n",
       "[       0    a - 1   -a + 1|       0]\n",
       "[       0   -a + 1 -a^2 + 1|  -a + 6]"
      ]
     },
     "metadata": {},
     "output_type": "display_data"
    }
   ],
   "source": [
    "GJ=copy(Ab)\n",
    "GJ.add_multiple_of_row(1,0,-1)\n",
    "GJ.add_multiple_of_row(2,0,-a)\n",
    "show(GJ)"
   ]
  },
  {
   "cell_type": "code",
   "execution_count": 17,
   "metadata": {},
   "outputs": [
    {
     "data": {
      "text/html": [
       "<html>\\[\\newcommand{\\Bold}[1]{\\mathbf{#1}}\\left(\\begin{array}{rrr|r}\n",
       "1 & 1 & a & 1 \\\\\n",
       "0 & a - 1 & -a + 1 & 0 \\\\\n",
       "0 & 0 & -a^{2} - a + 2 & -a + 6\n",
       "\\end{array}\\right)\\]</html>"
      ],
      "text/latex": [
       "$$\\newcommand{\\Bold}[1]{\\mathbf{#1}}\\left(\\begin{array}{rrr|r}\n",
       "1 & 1 & a & 1 \\\\\n",
       "0 & a - 1 & -a + 1 & 0 \\\\\n",
       "0 & 0 & -a^{2} - a + 2 & -a + 6\n",
       "\\end{array}\\right)$$"
      ],
      "text/plain": [
       "[           1            1            a|           1]\n",
       "[           0        a - 1       -a + 1|           0]\n",
       "[           0            0 -a^2 - a + 2|      -a + 6]"
      ]
     },
     "metadata": {},
     "output_type": "display_data"
    }
   ],
   "source": [
    "GJ.add_multiple_of_row(2,1,1)\n",
    "show(GJ) # Aquesta és la matriu de G-J en funció de a (genèrica)"
   ]
  },
  {
   "cell_type": "markdown",
   "metadata": {},
   "source": [
    "Ara hi ha que diferenciar per casos.\n",
    "##### Cas I: a=1"
   ]
  },
  {
   "cell_type": "code",
   "execution_count": 30,
   "metadata": {},
   "outputs": [
    {
     "data": {
      "text/html": [
       "<html>\\[\\newcommand{\\Bold}[1]{\\mathbf{#1}}\\verb|Matriu|\\phantom{\\verb!x!}\\verb|de|\\phantom{\\verb!x!}\\verb|G-J|\\phantom{\\verb!x!}\\verb|per|\\phantom{\\verb!x!}\\verb|a=1|\\phantom{\\verb!x!}\\verb|:| \\left(\\begin{array}{rrrr}\n",
       "1 & 1 & 1 & 0 \\\\\n",
       "0 & 0 & 0 & 1 \\\\\n",
       "0 & 0 & 0 & 0\n",
       "\\end{array}\\right)\\]</html>"
      ],
      "text/latex": [
       "$$\\newcommand{\\Bold}[1]{\\mathbf{#1}}\\verb|Matriu|\\phantom{\\verb!x!}\\verb|de|\\phantom{\\verb!x!}\\verb|G-J|\\phantom{\\verb!x!}\\verb|per|\\phantom{\\verb!x!}\\verb|a=1|\\phantom{\\verb!x!}\\verb|:| \\left(\\begin{array}{rrrr}\n",
       "1 & 1 & 1 & 0 \\\\\n",
       "0 & 0 & 0 & 1 \\\\\n",
       "0 & 0 & 0 & 0\n",
       "\\end{array}\\right)$$"
      ],
      "text/plain": [
       "'Matriu de G-J per a=1 :' [1 1 1 0]\n",
       "[0 0 0 1]\n",
       "[0 0 0 0]"
      ]
     },
     "metadata": {},
     "output_type": "display_data"
    }
   ],
   "source": [
    "GJ1=copy(GJ).subs(a=1)\n",
    "GJ1.swap_rows(1,2)\n",
    "GJ1.rescale_row(1,1/5)\n",
    "GJ1.add_multiple_of_row(0,1,-1)\n",
    "show('Matriu de G-J per a=1 :',GJ1)"
   ]
  },
  {
   "cell_type": "code",
   "execution_count": 34,
   "metadata": {
    "scrolled": true
   },
   "outputs": [
    {
     "data": {
      "text/html": [
       "<html>\\[\\newcommand{\\Bold}[1]{\\mathbf{#1}}\\verb|Rang|\\phantom{\\verb!x!}\\verb|A|\\phantom{\\verb!x!}\\verb|=| 1\\]</html>"
      ],
      "text/latex": [
       "$$\\newcommand{\\Bold}[1]{\\mathbf{#1}}\\verb|Rang|\\phantom{\\verb!x!}\\verb|A|\\phantom{\\verb!x!}\\verb|=| 1$$"
      ],
      "text/plain": [
       "'Rang A =' 1"
      ]
     },
     "metadata": {},
     "output_type": "display_data"
    },
    {
     "data": {
      "text/html": [
       "<html>\\[\\newcommand{\\Bold}[1]{\\mathbf{#1}}\\verb\"Rang\"\\phantom{\\verb!x!}\\verb\"A|b\"\\phantom{\\verb!x!}\\verb\"=\" 2\\]</html>"
      ],
      "text/latex": [
       "$$\\newcommand{\\Bold}[1]{\\mathbf{#1}}\\verb\"Rang\"\\phantom{\\verb!x!}\\verb\"A|b\"\\phantom{\\verb!x!}\\verb\"=\" 2$$"
      ],
      "text/plain": [
       "'Rang A|b = ' 2"
      ]
     },
     "metadata": {},
     "output_type": "display_data"
    }
   ],
   "source": [
    "show('Rang A =',GJ1.matrix_from_columns[0..2].rank())\n",
    "show('Rang A|b = ', GJ1.rank())"
   ]
  },
  {
   "cell_type": "markdown",
   "metadata": {},
   "source": [
    "Per el Tª de Rouché_Frobenious, com que el rang de la matriu de coeficients és diferent del rang de la matriu ampliada, el sistema es INCOMPATIBLE\n",
    "##### Cas II:  a=-2"
   ]
  },
  {
   "cell_type": "code",
   "execution_count": 33,
   "metadata": {},
   "outputs": [
    {
     "data": {
      "text/html": [
       "<html>\\[\\newcommand{\\Bold}[1]{\\mathbf{#1}}\\verb|Matriu|\\phantom{\\verb!x!}\\verb|de|\\phantom{\\verb!x!}\\verb|G-J|\\phantom{\\verb!x!}\\verb|per|\\phantom{\\verb!x!}\\verb|a=-2|\\phantom{\\verb!x!}\\verb|:| \\left(\\begin{array}{rrrr}\n",
       "1 & 0 & -1 & 0 \\\\\n",
       "0 & 1 & -1 & 0 \\\\\n",
       "0 & 0 & 0 & 1\n",
       "\\end{array}\\right)\\]</html>"
      ],
      "text/latex": [
       "$$\\newcommand{\\Bold}[1]{\\mathbf{#1}}\\verb|Matriu|\\phantom{\\verb!x!}\\verb|de|\\phantom{\\verb!x!}\\verb|G-J|\\phantom{\\verb!x!}\\verb|per|\\phantom{\\verb!x!}\\verb|a=-2|\\phantom{\\verb!x!}\\verb|:| \\left(\\begin{array}{rrrr}\n",
       "1 & 0 & -1 & 0 \\\\\n",
       "0 & 1 & -1 & 0 \\\\\n",
       "0 & 0 & 0 & 1\n",
       "\\end{array}\\right)$$"
      ],
      "text/plain": [
       "'Matriu de G-J per a=-2 : ' [ 1  0 -1  0]\n",
       "[ 0  1 -1  0]\n",
       "[ 0  0  0  1]"
      ]
     },
     "metadata": {},
     "output_type": "display_data"
    }
   ],
   "source": [
    "GJ2=copy(GJ).subs(a=-2)\n",
    "GJ2.rescale_row(1,-1/3)\n",
    "GJ2.rescale_row(2,1/8)\n",
    "GJ2.add_multiple_of_row(0,1,-1)\n",
    "GJ2.add_multiple_of_row(0,2,-1)\n",
    "show('Matriu de G-J per a=-2 : ',GJ2)"
   ]
  },
  {
   "cell_type": "code",
   "execution_count": 35,
   "metadata": {},
   "outputs": [
    {
     "data": {
      "text/html": [
       "<html>\\[\\newcommand{\\Bold}[1]{\\mathbf{#1}}\\verb|Rang|\\phantom{\\verb!x!}\\verb|A|\\phantom{\\verb!x!}\\verb|=| 2\\]</html>"
      ],
      "text/latex": [
       "$$\\newcommand{\\Bold}[1]{\\mathbf{#1}}\\verb|Rang|\\phantom{\\verb!x!}\\verb|A|\\phantom{\\verb!x!}\\verb|=| 2$$"
      ],
      "text/plain": [
       "'Rang A =' 2"
      ]
     },
     "metadata": {},
     "output_type": "display_data"
    },
    {
     "data": {
      "text/html": [
       "<html>\\[\\newcommand{\\Bold}[1]{\\mathbf{#1}}\\verb\"Rang\"\\phantom{\\verb!x!}\\verb\"A|b\"\\phantom{\\verb!x!}\\verb\"=\" 3\\]</html>"
      ],
      "text/latex": [
       "$$\\newcommand{\\Bold}[1]{\\mathbf{#1}}\\verb\"Rang\"\\phantom{\\verb!x!}\\verb\"A|b\"\\phantom{\\verb!x!}\\verb\"=\" 3$$"
      ],
      "text/plain": [
       "'Rang A|b = ' 3"
      ]
     },
     "metadata": {},
     "output_type": "display_data"
    }
   ],
   "source": [
    "show('Rang A =',GJ2.matrix_from_columns[0..2].rank())\n",
    "show('Rang A|b = ', GJ2.rank())"
   ]
  },
  {
   "cell_type": "markdown",
   "metadata": {},
   "source": [
    "Per el Tª de Rouché_Frobenious, com que el rang de la matriu de coeficients és diferent del rang de la matriu ampliada, el sistema es INCOMPATIBLE\n",
    "##### Cas III:  a != 1, -2"
   ]
  },
  {
   "cell_type": "code",
   "execution_count": 45,
   "metadata": {},
   "outputs": [
    {
     "data": {
      "text/html": [
       "<html>\\[\\newcommand{\\Bold}[1]{\\mathbf{#1}}\\verb|Matriu|\\phantom{\\verb!x!}\\verb|de|\\phantom{\\verb!x!}\\verb|G-J|\\phantom{\\verb!x!}\\verb|per|\\phantom{\\verb!x!}\\verb|a!=|\\phantom{\\verb!x!}\\verb|1,-2|\\phantom{\\verb!x!}\\verb|:| \\left(\\begin{array}{rrr|r}\n",
       "1 & 0 & 0 & -\\frac{{\\left(a - 6\\right)} a}{a^{2} + a - 2} - \\frac{a - 6}{a^{2} + a - 2} + 1 \\\\\n",
       "0 & 1 & 0 & \\frac{a - 6}{a^{2} + a - 2} \\\\\n",
       "0 & 0 & 1 & \\frac{a - 6}{a^{2} + a - 2}\n",
       "\\end{array}\\right)\\]</html>"
      ],
      "text/latex": [
       "$$\\newcommand{\\Bold}[1]{\\mathbf{#1}}\\verb|Matriu|\\phantom{\\verb!x!}\\verb|de|\\phantom{\\verb!x!}\\verb|G-J|\\phantom{\\verb!x!}\\verb|per|\\phantom{\\verb!x!}\\verb|a!=|\\phantom{\\verb!x!}\\verb|1,-2|\\phantom{\\verb!x!}\\verb|:| \\left(\\begin{array}{rrr|r}\n",
       "1 & 0 & 0 & -\\frac{{\\left(a - 6\\right)} a}{a^{2} + a - 2} - \\frac{a - 6}{a^{2} + a - 2} + 1 \\\\\n",
       "0 & 1 & 0 & \\frac{a - 6}{a^{2} + a - 2} \\\\\n",
       "0 & 0 & 1 & \\frac{a - 6}{a^{2} + a - 2}\n",
       "\\end{array}\\right)$$"
      ],
      "text/plain": [
       "'Matriu de G-J per a!= 1,-2 :' [                                                   1                                                    0                                                    0|-(a - 6)*a/(a^2 + a - 2) - (a - 6)/(a^2 + a - 2) + 1]\n",
       "[                                                   0                                                    1                                                    0|                               (a - 6)/(a^2 + a - 2)]\n",
       "[                                                   0                                                    0                                                    1|                               (a - 6)/(a^2 + a - 2)]"
      ]
     },
     "metadata": {},
     "output_type": "display_data"
    }
   ],
   "source": [
    "GJ3=copy(GJ)\n",
    "GJ3.rescale_row(1,1/(a-1))\n",
    "GJ3.rescale_row(2,1/(-a^2-a+2))\n",
    "GJ3.add_multiple_of_row(1,2,1)\n",
    "GJ3.add_multiple_of_row(0,2,-a)\n",
    "GJ3.add_multiple_of_row(0,1,-1)\n",
    "show('Matriu de G-J per a!= 1,-2 :',GJ3)"
   ]
  },
  {
   "cell_type": "code",
   "execution_count": 46,
   "metadata": {},
   "outputs": [
    {
     "data": {
      "text/html": [
       "<html>\\[\\newcommand{\\Bold}[1]{\\mathbf{#1}}\\verb|Rang|\\phantom{\\verb!x!}\\verb|A|\\phantom{\\verb!x!}\\verb|=| 3\\]</html>"
      ],
      "text/latex": [
       "$$\\newcommand{\\Bold}[1]{\\mathbf{#1}}\\verb|Rang|\\phantom{\\verb!x!}\\verb|A|\\phantom{\\verb!x!}\\verb|=| 3$$"
      ],
      "text/plain": [
       "'Rang A =' 3"
      ]
     },
     "metadata": {},
     "output_type": "display_data"
    },
    {
     "data": {
      "text/html": [
       "<html>\\[\\newcommand{\\Bold}[1]{\\mathbf{#1}}\\verb\"Rang\"\\phantom{\\verb!x!}\\verb\"A|b\"\\phantom{\\verb!x!}\\verb\"=\" 3\\]</html>"
      ],
      "text/latex": [
       "$$\\newcommand{\\Bold}[1]{\\mathbf{#1}}\\verb\"Rang\"\\phantom{\\verb!x!}\\verb\"A|b\"\\phantom{\\verb!x!}\\verb\"=\" 3$$"
      ],
      "text/plain": [
       "'Rang A|b = ' 3"
      ]
     },
     "metadata": {},
     "output_type": "display_data"
    }
   ],
   "source": [
    "show('Rang A =',GJ3.matrix_from_columns[0..2].rank())\n",
    "show('Rang A|b = ', GJ3.rank())"
   ]
  },
  {
   "cell_type": "markdown",
   "metadata": {},
   "source": [
    "Com que el rang de la matriu de coeficients és el mateix que el rang de la matriu ampliada, independentment del valor de paràmetre 'a' i es igual al nombre d'incognites. Aleshores, per el Tª de Rouché-Frobenious, el sistema es COMPATIBLE DETERMINAT"
   ]
  },
  {
   "cell_type": "markdown",
   "metadata": {},
   "source": [
    "## Problema 2"
   ]
  },
  {
   "cell_type": "code",
   "execution_count": 63,
   "metadata": {},
   "outputs": [
    {
     "data": {
      "text/plain": [
       "Vector space of degree 4 and dimension 3 over Rational Field\n",
       "Basis matrix:\n",
       "[ 1  0  0  0]\n",
       "[ 0  1  0 -1]\n",
       "[ 0  0  1 -2]"
      ]
     },
     "execution_count": 63,
     "metadata": {},
     "output_type": "execute_result"
    }
   ],
   "source": [
    "F=span(QQ,[[2,-1,0,1],[0,1,-1,1],[-2,3,-2,1],[-4,-4,2,0]])\n",
    "F"
   ]
  },
  {
   "cell_type": "code",
   "execution_count": 60,
   "metadata": {},
   "outputs": [
    {
     "data": {
      "text/html": [
       "<html>\\[\\newcommand{\\Bold}[1]{\\mathbf{#1}}\\left[6 \\, x + 2 \\, y + z = 0, -t + 6 \\, x + z = 0\\right]\\]</html>"
      ],
      "text/latex": [
       "$$\\newcommand{\\Bold}[1]{\\mathbf{#1}}\\left[6 \\, x + 2 \\, y + z = 0, -t + 6 \\, x + z = 0\\right]$$"
      ],
      "text/plain": [
       "[6*x + 2*y + z == 0, -t + 6*x + z == 0]"
      ]
     },
     "metadata": {},
     "output_type": "display_data"
    },
    {
     "data": {
      "text/html": [
       "<html>\\[\\newcommand{\\Bold}[1]{\\mathbf{#1}}\\left[\\left[6, 2, 1, 0\\right], \\left[6, 0, 1, -1\\right]\\right]\\]</html>"
      ],
      "text/latex": [
       "$$\\newcommand{\\Bold}[1]{\\mathbf{#1}}\\left[\\left[6, 2, 1, 0\\right], \\left[6, 0, 1, -1\\right]\\right]$$"
      ],
      "text/plain": [
       "[[6, 2, 1, 0], [6, 0, 1, -1]]"
      ]
     },
     "metadata": {},
     "output_type": "display_data"
    },
    {
     "data": {
      "text/html": [
       "<html>\\[\\newcommand{\\Bold}[1]{\\mathbf{#1}}\\left(\\begin{array}{rrrr}\n",
       "6 & 2 & 1 & 0 \\\\\n",
       "6 & 0 & 1 & -1\n",
       "\\end{array}\\right)\\]</html>"
      ],
      "text/latex": [
       "$$\\newcommand{\\Bold}[1]{\\mathbf{#1}}\\left(\\begin{array}{rrrr}\n",
       "6 & 2 & 1 & 0 \\\\\n",
       "6 & 0 & 1 & -1\n",
       "\\end{array}\\right)$$"
      ],
      "text/plain": [
       "[ 6  2  1  0]\n",
       "[ 6  0  1 -1]"
      ]
     },
     "metadata": {},
     "output_type": "display_data"
    }
   ],
   "source": [
    "var('x y z t')\n",
    "\n",
    "equacions=[\n",
    "    6*x+2*y+z==0,\n",
    "    6*x+z-t==0\n",
    "]\n",
    "show(equacions)\n",
    "\n",
    "coeficients=[\n",
    "    [\n",
    "        eq.lhs().coefficient(v) for v in [x,y,z,t]\n",
    "    ]\n",
    "    for eq in equacions\n",
    "]\n",
    "show(coeficients)\n",
    "\n",
    "A=matrix(QQ,coeficients); show(A)"
   ]
  },
  {
   "cell_type": "code",
   "execution_count": 61,
   "metadata": {},
   "outputs": [
    {
     "data": {
      "text/plain": [
       "Vector space of degree 4 and dimension 2 over Rational Field\n",
       "Basis matrix:\n",
       "[ 1  0 -6  0]\n",
       "[ 0  1 -2 -2]"
      ]
     },
     "execution_count": 61,
     "metadata": {},
     "output_type": "execute_result"
    }
   ],
   "source": [
    "G=A.right_kernel()\n",
    "G"
   ]
  },
  {
   "cell_type": "code",
   "execution_count": 62,
   "metadata": {},
   "outputs": [
    {
     "data": {
      "text/html": [
       "<html>\\[\\newcommand{\\Bold}[1]{\\mathbf{#1}}\\verb|Base|\\phantom{\\verb!x!}\\verb|de|\\phantom{\\verb!x!}\\verb|F|\\phantom{\\verb!x!}\\verb|=| \\left[\\left(1,\\,0,\\,0,\\,0\\right), \\left(0,\\,1,\\,0,\\,-1\\right), \\left(0,\\,0,\\,1,\\,-2\\right)\\right]\\]</html>"
      ],
      "text/latex": [
       "$$\\newcommand{\\Bold}[1]{\\mathbf{#1}}\\verb|Base|\\phantom{\\verb!x!}\\verb|de|\\phantom{\\verb!x!}\\verb|F|\\phantom{\\verb!x!}\\verb|=| \\left[\\left(1,\\,0,\\,0,\\,0\\right), \\left(0,\\,1,\\,0,\\,-1\\right), \\left(0,\\,0,\\,1,\\,-2\\right)\\right]$$"
      ],
      "text/plain": [
       "'Base de F =' [\n",
       "(1, 0, 0, 0),\n",
       "(0, 1, 0, -1),\n",
       "(0, 0, 1, -2)\n",
       "]"
      ]
     },
     "metadata": {},
     "output_type": "display_data"
    },
    {
     "data": {
      "text/html": [
       "<html>\\[\\newcommand{\\Bold}[1]{\\mathbf{#1}}\\verb|Dimensió|\\phantom{\\verb!x!}\\verb|de|\\phantom{\\verb!x!}\\verb|F|\\phantom{\\verb!x!}\\verb|=| 3\\]</html>"
      ],
      "text/latex": [
       "$$\\newcommand{\\Bold}[1]{\\mathbf{#1}}\\verb|Dimensió|\\phantom{\\verb!x!}\\verb|de|\\phantom{\\verb!x!}\\verb|F|\\phantom{\\verb!x!}\\verb|=| 3$$"
      ],
      "text/plain": [
       "'Dimensió de F =' 3"
      ]
     },
     "metadata": {},
     "output_type": "display_data"
    }
   ],
   "source": [
    "F_base=F.basis() #dona la base reduïda\n",
    "show('Base de F =', F_base)\n",
    "show('Dimensió de F =', F.dimension())"
   ]
  },
  {
   "cell_type": "code",
   "execution_count": 64,
   "metadata": {},
   "outputs": [
    {
     "data": {
      "text/html": [
       "<html>\\[\\newcommand{\\Bold}[1]{\\mathbf{#1}}\\verb|Base|\\phantom{\\verb!x!}\\verb|de|\\phantom{\\verb!x!}\\verb|G|\\phantom{\\verb!x!}\\verb|=| \\left[\\left(1,\\,0,\\,-6,\\,0\\right), \\left(0,\\,1,\\,-2,\\,-2\\right)\\right]\\]</html>"
      ],
      "text/latex": [
       "$$\\newcommand{\\Bold}[1]{\\mathbf{#1}}\\verb|Base|\\phantom{\\verb!x!}\\verb|de|\\phantom{\\verb!x!}\\verb|G|\\phantom{\\verb!x!}\\verb|=| \\left[\\left(1,\\,0,\\,-6,\\,0\\right), \\left(0,\\,1,\\,-2,\\,-2\\right)\\right]$$"
      ],
      "text/plain": [
       "'Base de G =' [\n",
       "(1, 0, -6, 0),\n",
       "(0, 1, -2, -2)\n",
       "]"
      ]
     },
     "metadata": {},
     "output_type": "display_data"
    },
    {
     "data": {
      "text/html": [
       "<html>\\[\\newcommand{\\Bold}[1]{\\mathbf{#1}}\\verb|Dimensió|\\phantom{\\verb!x!}\\verb|de|\\phantom{\\verb!x!}\\verb|G|\\phantom{\\verb!x!}\\verb|=| 2\\]</html>"
      ],
      "text/latex": [
       "$$\\newcommand{\\Bold}[1]{\\mathbf{#1}}\\verb|Dimensió|\\phantom{\\verb!x!}\\verb|de|\\phantom{\\verb!x!}\\verb|G|\\phantom{\\verb!x!}\\verb|=| 2$$"
      ],
      "text/plain": [
       "'Dimensió de G =' 2"
      ]
     },
     "metadata": {},
     "output_type": "display_data"
    }
   ],
   "source": [
    "G_base=G.basis()\n",
    "show('Base de G =', G_base)\n",
    "show('Dimensió de G =', G.dimension())"
   ]
  },
  {
   "cell_type": "code",
   "execution_count": 66,
   "metadata": {
    "scrolled": true
   },
   "outputs": [
    {
     "data": {
      "text/plain": [
       "Vector space of degree 4 and dimension 4 over Rational Field\n",
       "Basis matrix:\n",
       "[1 0 0 0]\n",
       "[0 1 0 0]\n",
       "[0 0 1 0]\n",
       "[0 0 0 1]"
      ]
     },
     "execution_count": 66,
     "metadata": {},
     "output_type": "execute_result"
    }
   ],
   "source": [
    "FuG=span(QQ,[F.0,F.1,F.2,G.0,G.1])\n",
    "FuG"
   ]
  },
  {
   "cell_type": "code",
   "execution_count": 67,
   "metadata": {},
   "outputs": [
    {
     "data": {
      "text/html": [
       "<html>\\[\\newcommand{\\Bold}[1]{\\mathbf{#1}}\\verb|Base|\\phantom{\\verb!x!}\\verb|de|\\phantom{\\verb!x!}\\verb|FuG|\\phantom{\\verb!x!}\\verb|=| \\left[\\left(1,\\,0,\\,0,\\,0\\right), \\left(0,\\,1,\\,0,\\,0\\right), \\left(0,\\,0,\\,1,\\,0\\right), \\left(0,\\,0,\\,0,\\,1\\right)\\right]\\]</html>"
      ],
      "text/latex": [
       "$$\\newcommand{\\Bold}[1]{\\mathbf{#1}}\\verb|Base|\\phantom{\\verb!x!}\\verb|de|\\phantom{\\verb!x!}\\verb|FuG|\\phantom{\\verb!x!}\\verb|=| \\left[\\left(1,\\,0,\\,0,\\,0\\right), \\left(0,\\,1,\\,0,\\,0\\right), \\left(0,\\,0,\\,1,\\,0\\right), \\left(0,\\,0,\\,0,\\,1\\right)\\right]$$"
      ],
      "text/plain": [
       "'Base de FuG =' [\n",
       "(1, 0, 0, 0),\n",
       "(0, 1, 0, 0),\n",
       "(0, 0, 1, 0),\n",
       "(0, 0, 0, 1)\n",
       "]"
      ]
     },
     "metadata": {},
     "output_type": "display_data"
    },
    {
     "data": {
      "text/html": [
       "<html>\\[\\newcommand{\\Bold}[1]{\\mathbf{#1}}\\verb|Dimensió|\\phantom{\\verb!x!}\\verb|de|\\phantom{\\verb!x!}\\verb|FuG|\\phantom{\\verb!x!}\\verb|=| 4\\]</html>"
      ],
      "text/latex": [
       "$$\\newcommand{\\Bold}[1]{\\mathbf{#1}}\\verb|Dimensió|\\phantom{\\verb!x!}\\verb|de|\\phantom{\\verb!x!}\\verb|FuG|\\phantom{\\verb!x!}\\verb|=| 4$$"
      ],
      "text/plain": [
       "'Dimensió de FuG =' 4"
      ]
     },
     "metadata": {},
     "output_type": "display_data"
    }
   ],
   "source": [
    "FuG_base=FuG.basis() #genera tot el espai vectorial\n",
    "show('Base de FuG =', FuG_base)\n",
    "show('Dimensió de FuG =', FuG.dimension())"
   ]
  },
  {
   "cell_type": "markdown",
   "metadata": {},
   "source": [
    "En primer lloc, G estarà contingut en F si i només si tot vector de qualsevol base de G està contingut en el sev F. Per tant,"
   ]
  },
  {
   "cell_type": "code",
   "execution_count": 80,
   "metadata": {},
   "outputs": [
    {
     "data": {
      "text/html": [
       "<html>\\[\\newcommand{\\Bold}[1]{\\mathbf{#1}}\\verb|Base|\\phantom{\\verb!x!}\\verb|de|\\phantom{\\verb!x!}\\verb|G|\\phantom{\\verb!x!}\\verb|=| \\left[\\left(1,\\,0,\\,-6,\\,0\\right), \\left(0,\\,1,\\,-2,\\,-2\\right)\\right]\\]</html>"
      ],
      "text/latex": [
       "$$\\newcommand{\\Bold}[1]{\\mathbf{#1}}\\verb|Base|\\phantom{\\verb!x!}\\verb|de|\\phantom{\\verb!x!}\\verb|G|\\phantom{\\verb!x!}\\verb|=| \\left[\\left(1,\\,0,\\,-6,\\,0\\right), \\left(0,\\,1,\\,-2,\\,-2\\right)\\right]$$"
      ],
      "text/plain": [
       "'Base de G =' [\n",
       "(1, 0, -6, 0),\n",
       "(0, 1, -2, -2)\n",
       "]"
      ]
     },
     "metadata": {},
     "output_type": "display_data"
    },
    {
     "name": "stdout",
     "output_type": "stream",
     "text": [
      "(1, 0, -6, 0) pertany al subespai F?  False\n",
      "(0, 1, -2, -2) pertany al subespai F?  False\n"
     ]
    }
   ],
   "source": [
    "show('Base de G =', G_base)\n",
    "print(G.0, 'pertany al subespai F? ', G.0 in F)\n",
    "print(G.1, 'pertany al subespai F? ', G.1 in F)"
   ]
  },
  {
   "cell_type": "markdown",
   "metadata": {},
   "source": [
    "Per tant, com que ningun dels vectors d'una base de G estàn continguts en F, G NO està contingut en F. De manera anàloga per a F:"
   ]
  },
  {
   "cell_type": "code",
   "execution_count": 85,
   "metadata": {
    "scrolled": true
   },
   "outputs": [
    {
     "data": {
      "text/html": [
       "<html>\\[\\newcommand{\\Bold}[1]{\\mathbf{#1}}\\verb|Base|\\phantom{\\verb!x!}\\verb|de|\\phantom{\\verb!x!}\\verb|F|\\phantom{\\verb!x!}\\verb|=| \\left[\\left(1,\\,0,\\,0,\\,0\\right), \\left(0,\\,1,\\,0,\\,-1\\right), \\left(0,\\,0,\\,1,\\,-2\\right)\\right]\\]</html>"
      ],
      "text/latex": [
       "$$\\newcommand{\\Bold}[1]{\\mathbf{#1}}\\verb|Base|\\phantom{\\verb!x!}\\verb|de|\\phantom{\\verb!x!}\\verb|F|\\phantom{\\verb!x!}\\verb|=| \\left[\\left(1,\\,0,\\,0,\\,0\\right), \\left(0,\\,1,\\,0,\\,-1\\right), \\left(0,\\,0,\\,1,\\,-2\\right)\\right]$$"
      ],
      "text/plain": [
       "'Base de F =' [\n",
       "(1, 0, 0, 0),\n",
       "(0, 1, 0, -1),\n",
       "(0, 0, 1, -2)\n",
       "]"
      ]
     },
     "metadata": {},
     "output_type": "display_data"
    },
    {
     "name": "stdout",
     "output_type": "stream",
     "text": [
      "(1, 0, 0, 0) pertany al subespai G?  False\n",
      "(0, 1, 0, -1) pertany al subespai G?  False\n",
      "(0, 0, 1, -2) pertany al subespai G? False\n"
     ]
    }
   ],
   "source": [
    "show('Base de F =', F_base)\n",
    "print(F.0, 'pertany al subespai G? ', F.0 in G)\n",
    "print(F.1, 'pertany al subespai G? ', F.1 in G)\n",
    "print(F.2, 'pertany al subespai G?', F.2 in G)"
   ]
  },
  {
   "cell_type": "markdown",
   "metadata": {},
   "source": [
    "Per els mateixos raonaments que abans, F NO está contingut en G. Però fixeu-vos que la seua intersecció no es vuida:"
   ]
  },
  {
   "cell_type": "code",
   "execution_count": 84,
   "metadata": {},
   "outputs": [
    {
     "data": {
      "text/plain": [
       "Vector space of degree 4 and dimension 1 over Rational Field\n",
       "Basis matrix:\n",
       "[    1 -12/5  -6/5  24/5]"
      ]
     },
     "execution_count": 84,
     "metadata": {},
     "output_type": "execute_result"
    }
   ],
   "source": [
    "F.intersection(G)"
   ]
  },
  {
   "cell_type": "markdown",
   "metadata": {},
   "source": [
    "Açò significa que encara que encara que ningun dels vectors de les bases trobades no pertanyen al altre sev, no vol dir que no hi haguen vector de F o de G que estan continguts en el altre espai respectiu. \n",
    "\n",
    "El que pasa es que hi ha un combinació lineal de F que és igual a una combinació lineal de G i generen un recta (o subespai vectorial unidimensional)"
   ]
  },
  {
   "cell_type": "code",
   "execution_count": null,
   "metadata": {},
   "outputs": [],
   "source": []
  },
  {
   "cell_type": "markdown",
   "metadata": {},
   "source": [
    "### Problema 3"
   ]
  },
  {
   "cell_type": "code",
   "execution_count": 93,
   "metadata": {},
   "outputs": [],
   "source": [
    "A=matrix(QQ,[[1,0,2,4],[6,-1,-3,2],[-3,6,5,-2]])"
   ]
  },
  {
   "cell_type": "code",
   "execution_count": 94,
   "metadata": {},
   "outputs": [
    {
     "data": {
      "text/html": [
       "<html>\\[\\newcommand{\\Bold}[1]{\\mathbf{#1}}\\left(\\begin{array}{rrrrrrr}\n",
       "1 & 0 & 0 & \\frac{72}{79} & \\frac{13}{79} & \\frac{12}{79} & \\frac{2}{79} \\\\\n",
       "0 & 1 & 0 & -\\frac{92}{79} & -\\frac{21}{79} & \\frac{11}{79} & \\frac{15}{79} \\\\\n",
       "0 & 0 & 1 & \\frac{122}{79} & \\frac{33}{79} & -\\frac{6}{79} & -\\frac{1}{79}\n",
       "\\end{array}\\right)\\]</html>"
      ],
      "text/latex": [
       "$$\\newcommand{\\Bold}[1]{\\mathbf{#1}}\\left(\\begin{array}{rrrrrrr}\n",
       "1 & 0 & 0 & \\frac{72}{79} & \\frac{13}{79} & \\frac{12}{79} & \\frac{2}{79} \\\\\n",
       "0 & 1 & 0 & -\\frac{92}{79} & -\\frac{21}{79} & \\frac{11}{79} & \\frac{15}{79} \\\\\n",
       "0 & 0 & 1 & \\frac{122}{79} & \\frac{33}{79} & -\\frac{6}{79} & -\\frac{1}{79}\n",
       "\\end{array}\\right)$$"
      ],
      "text/plain": [
       "[     1      0      0  72/79  13/79  12/79   2/79]\n",
       "[     0      1      0 -92/79 -21/79  11/79  15/79]\n",
       "[     0      0      1 122/79  33/79  -6/79  -1/79]"
      ]
     },
     "metadata": {},
     "output_type": "display_data"
    }
   ],
   "source": [
    "A_rf=A.extended_echelon_form().matrix_from_columns([0..3])\n",
    "P=A.extended_echelon_form().matrix_from_columns([4..6])\n",
    "show(A.extended_echelon_form())"
   ]
  },
  {
   "cell_type": "code",
   "execution_count": 95,
   "metadata": {},
   "outputs": [],
   "source": [
    "PAQ=A_rf.transpose().extended_echelon_form().matrix_from_columns([0..2]).transpose()\n",
    "Q=A_rf.transpose().extended_echelon_form().matrix_from_columns([3..6]).transpose()"
   ]
  },
  {
   "cell_type": "code",
   "execution_count": 96,
   "metadata": {},
   "outputs": [
    {
     "data": {
      "text/plain": [
       "True"
      ]
     },
     "execution_count": 96,
     "metadata": {},
     "output_type": "execute_result"
    }
   ],
   "source": [
    "PAQ==P*A*Q"
   ]
  },
  {
   "cell_type": "code",
   "execution_count": 97,
   "metadata": {},
   "outputs": [
    {
     "data": {
      "text/html": [
       "<html>\\[\\newcommand{\\Bold}[1]{\\mathbf{#1}}\\verb|PAQ-reducció|\\phantom{\\verb!x!}\\verb|de|\\phantom{\\verb!x!}\\verb|A|\\phantom{\\verb!x!}\\verb|=| \\left(\\begin{array}{rrrr}\n",
       "1 & 0 & 0 & 0 \\\\\n",
       "0 & 1 & 0 & 0 \\\\\n",
       "0 & 0 & 1 & 0\n",
       "\\end{array}\\right)\\]</html>"
      ],
      "text/latex": [
       "$$\\newcommand{\\Bold}[1]{\\mathbf{#1}}\\verb|PAQ-reducció|\\phantom{\\verb!x!}\\verb|de|\\phantom{\\verb!x!}\\verb|A|\\phantom{\\verb!x!}\\verb|=| \\left(\\begin{array}{rrrr}\n",
       "1 & 0 & 0 & 0 \\\\\n",
       "0 & 1 & 0 & 0 \\\\\n",
       "0 & 0 & 1 & 0\n",
       "\\end{array}\\right)$$"
      ],
      "text/plain": [
       "'PAQ-reducció de A =' [1 0 0 0]\n",
       "[0 1 0 0]\n",
       "[0 0 1 0]"
      ]
     },
     "metadata": {},
     "output_type": "display_data"
    },
    {
     "data": {
      "text/html": [
       "<html>\\[\\newcommand{\\Bold}[1]{\\mathbf{#1}}\\verb|\t\t\t|\\phantom{\\verb!x!}\\verb|amb|\\phantom{\\verb!x!}\\verb|matriu|\\phantom{\\verb!x!}\\verb|invertible|\\phantom{\\verb!x!}\\verb|P|\\phantom{\\verb!x!}\\verb|=| \\left(\\begin{array}{rrr}\n",
       "\\frac{13}{79} & \\frac{12}{79} & \\frac{2}{79} \\\\\n",
       "-\\frac{21}{79} & \\frac{11}{79} & \\frac{15}{79} \\\\\n",
       "\\frac{33}{79} & -\\frac{6}{79} & -\\frac{1}{79}\n",
       "\\end{array}\\right)\\]</html>"
      ],
      "text/latex": [
       "$$\\newcommand{\\Bold}[1]{\\mathbf{#1}}\\verb|\t\t\t|\\phantom{\\verb!x!}\\verb|amb|\\phantom{\\verb!x!}\\verb|matriu|\\phantom{\\verb!x!}\\verb|invertible|\\phantom{\\verb!x!}\\verb|P|\\phantom{\\verb!x!}\\verb|=| \\left(\\begin{array}{rrr}\n",
       "\\frac{13}{79} & \\frac{12}{79} & \\frac{2}{79} \\\\\n",
       "-\\frac{21}{79} & \\frac{11}{79} & \\frac{15}{79} \\\\\n",
       "\\frac{33}{79} & -\\frac{6}{79} & -\\frac{1}{79}\n",
       "\\end{array}\\right)$$"
      ],
      "text/plain": [
       "'\\t\\t\\t amb matriu invertible P =' [ 13/79  12/79   2/79]\n",
       "[-21/79  11/79  15/79]\n",
       "[ 33/79  -6/79  -1/79]"
      ]
     },
     "metadata": {},
     "output_type": "display_data"
    },
    {
     "data": {
      "text/html": [
       "<html>\\[\\newcommand{\\Bold}[1]{\\mathbf{#1}}\\verb|\t\t\t|\\phantom{\\verb!x!}\\verb|i|\\phantom{\\verb!x!}\\verb|matriu|\\phantom{\\verb!x!}\\verb|invertible|\\phantom{\\verb!x!}\\verb|Q|\\phantom{\\verb!x!}\\verb|=| \\left(\\begin{array}{rrrr}\n",
       "0 & 0 & 0 & 1 \\\\\n",
       "\\frac{23}{18} & 1 & 0 & -\\frac{23}{18} \\\\\n",
       "-\\frac{61}{36} & 0 & 1 & \\frac{61}{36} \\\\\n",
       "\\frac{79}{72} & 0 & 0 & -\\frac{79}{72}\n",
       "\\end{array}\\right)\\]</html>"
      ],
      "text/latex": [
       "$$\\newcommand{\\Bold}[1]{\\mathbf{#1}}\\verb|\t\t\t|\\phantom{\\verb!x!}\\verb|i|\\phantom{\\verb!x!}\\verb|matriu|\\phantom{\\verb!x!}\\verb|invertible|\\phantom{\\verb!x!}\\verb|Q|\\phantom{\\verb!x!}\\verb|=| \\left(\\begin{array}{rrrr}\n",
       "0 & 0 & 0 & 1 \\\\\n",
       "\\frac{23}{18} & 1 & 0 & -\\frac{23}{18} \\\\\n",
       "-\\frac{61}{36} & 0 & 1 & \\frac{61}{36} \\\\\n",
       "\\frac{79}{72} & 0 & 0 & -\\frac{79}{72}\n",
       "\\end{array}\\right)$$"
      ],
      "text/plain": [
       "'\\t\\t\\t i matriu invertible Q = ' [     0      0      0      1]\n",
       "[ 23/18      1      0 -23/18]\n",
       "[-61/36      0      1  61/36]\n",
       "[ 79/72      0      0 -79/72]"
      ]
     },
     "metadata": {},
     "output_type": "display_data"
    }
   ],
   "source": [
    "show('PAQ-reducció de A =',PAQ)\n",
    "show('\\t\\t\\t amb matriu invertible P =', P)\n",
    "show('\\t\\t\\t i matriu invertible Q = ', Q)"
   ]
  },
  {
   "cell_type": "markdown",
   "metadata": {},
   "source": [
    "### Problema 4"
   ]
  },
  {
   "cell_type": "code",
   "execution_count": 98,
   "metadata": {},
   "outputs": [
    {
     "data": {
      "text/html": [
       "<html>\\[\\newcommand{\\Bold}[1]{\\mathbf{#1}}\\left(\\begin{array}{rrr}\n",
       "6 & 0 & 0 \\\\\n",
       "3 & b & 1 \\\\\n",
       "-1 & 0 & 2\n",
       "\\end{array}\\right)\\]</html>"
      ],
      "text/latex": [
       "$$\\newcommand{\\Bold}[1]{\\mathbf{#1}}\\left(\\begin{array}{rrr}\n",
       "6 & 0 & 0 \\\\\n",
       "3 & b & 1 \\\\\n",
       "-1 & 0 & 2\n",
       "\\end{array}\\right)$$"
      ],
      "text/plain": [
       "[ 6  0  0]\n",
       "[ 3  b  1]\n",
       "[-1  0  2]"
      ]
     },
     "metadata": {},
     "output_type": "display_data"
    }
   ],
   "source": [
    "var('b')\n",
    "M=matrix(SR,[[6,0,0],[3,b,1],[-1,0,2]])\n",
    "show(M)"
   ]
  },
  {
   "cell_type": "code",
   "execution_count": 106,
   "metadata": {},
   "outputs": [
    {
     "data": {
      "text/html": [
       "<html>\\[\\newcommand{\\Bold}[1]{\\mathbf{#1}}x^{3} + \\left(-b - 8\\right) x^{2} + \\left(8 \\, b + 12\\right) x - 12 \\, b\\]</html>"
      ],
      "text/latex": [
       "$$\\newcommand{\\Bold}[1]{\\mathbf{#1}}x^{3} + \\left(-b - 8\\right) x^{2} + \\left(8 \\, b + 12\\right) x - 12 \\, b$$"
      ],
      "text/plain": [
       "x^3 + (-b - 8)*x^2 + (8*b + 12)*x - 12*b"
      ]
     },
     "metadata": {},
     "output_type": "display_data"
    }
   ],
   "source": [
    "show(M.charpoly())"
   ]
  },
  {
   "cell_type": "code",
   "execution_count": 110,
   "metadata": {},
   "outputs": [
    {
     "data": {
      "text/plain": [
       "[b, 2, 6]"
      ]
     },
     "execution_count": 110,
     "metadata": {},
     "output_type": "execute_result"
    }
   ],
   "source": [
    "M.eigenvalues()"
   ]
  },
  {
   "cell_type": "code",
   "execution_count": 113,
   "metadata": {
    "scrolled": true
   },
   "outputs": [
    {
     "data": {
      "text/html": [
       "<html>\\[\\newcommand{\\Bold}[1]{\\mathbf{#1}}\\verb|Polinomi|\\phantom{\\verb!x!}\\verb|característic|\\phantom{\\verb!x!}\\verb|p(x)=| {\\left(b - x\\right)} {\\left(x - 2\\right)} {\\left(x - 6\\right)}\\]</html>"
      ],
      "text/latex": [
       "$$\\newcommand{\\Bold}[1]{\\mathbf{#1}}\\verb|Polinomi|\\phantom{\\verb!x!}\\verb|característic|\\phantom{\\verb!x!}\\verb|p(x)=| {\\left(b - x\\right)} {\\left(x - 2\\right)} {\\left(x - 6\\right)}$$"
      ],
      "text/plain": [
       "'Polinomi característic p(x)= ' (b - x)*(x - 2)*(x - 6)"
      ]
     },
     "metadata": {},
     "output_type": "display_data"
    }
   ],
   "source": [
    "#Comprovació manual\n",
    "\n",
    "p=det(M-x*identity_matrix(3))\n",
    "show('Polinomi característic p(x)= ', p)"
   ]
  },
  {
   "cell_type": "code",
   "execution_count": 116,
   "metadata": {},
   "outputs": [
    {
     "data": {
      "text/plain": [
       "[x == b, x == 2, x == 6]"
      ]
     },
     "execution_count": 116,
     "metadata": {},
     "output_type": "execute_result"
    }
   ],
   "source": [
    "solve(p,x)"
   ]
  },
  {
   "cell_type": "code",
   "execution_count": 117,
   "metadata": {},
   "outputs": [
    {
     "data": {
      "text/html": [
       "<html>\\[\\newcommand{\\Bold}[1]{\\mathbf{#1}}\\verb|Autovalors|\\phantom{\\verb!x!}\\verb|de|\\phantom{\\verb!x!}\\verb|M|\\phantom{\\verb!x!}\\verb|=| \\left[b, 2, 6\\right]\\]</html>"
      ],
      "text/latex": [
       "$$\\newcommand{\\Bold}[1]{\\mathbf{#1}}\\verb|Autovalors|\\phantom{\\verb!x!}\\verb|de|\\phantom{\\verb!x!}\\verb|M|\\phantom{\\verb!x!}\\verb|=| \\left[b, 2, 6\\right]$$"
      ],
      "text/plain": [
       "'Autovalors de M =' [b, 2, 6]"
      ]
     },
     "metadata": {},
     "output_type": "display_data"
    }
   ],
   "source": [
    "show('Autovalors de M =',M.eigenvalues())"
   ]
  },
  {
   "cell_type": "code",
   "execution_count": 119,
   "metadata": {
    "scrolled": true
   },
   "outputs": [
    {
     "data": {
      "text/plain": [
       "[(b, [(0, 1, 0)], 1),\n",
       " (2, [(0, 1, -b + 2)], 1),\n",
       " (6, [(1, -11/4/(b - 6), -1/4)], 1)]"
      ]
     },
     "execution_count": 119,
     "metadata": {},
     "output_type": "execute_result"
    }
   ],
   "source": [
    "M.eigenvectors_right()"
   ]
  },
  {
   "cell_type": "code",
   "execution_count": 120,
   "metadata": {},
   "outputs": [],
   "source": [
    "#Funció resumen:\n",
    "def estudi_propi(A):\n",
    "    show('Polinomi característic: p(x) = ', A.charpoly())\n",
    "    for i in range(len(A.eigenvectors_right())):\n",
    "        print('Autovalor ' , A.eigenvectors_right()[i][0], \n",
    "            'amb multiplicitat algebraica ' , A.eigenvectors_right()[i][2])\n",
    "        show('\\t\\t\\t Subespai propi associat :', A.eigenspaces_right()[i][1])"
   ]
  },
  {
   "cell_type": "markdown",
   "metadata": {},
   "source": [
    "Deurem de diferenciar per casos en funció dels valors que pren b:\n",
    "##### Cas I: b=2"
   ]
  },
  {
   "cell_type": "code",
   "execution_count": 132,
   "metadata": {},
   "outputs": [
    {
     "data": {
      "text/html": [
       "<html>\\[\\newcommand{\\Bold}[1]{\\mathbf{#1}}\\left(\\begin{array}{rrr}\n",
       "6 & 0 & 0 \\\\\n",
       "3 & 2 & 1 \\\\\n",
       "-1 & 0 & 2\n",
       "\\end{array}\\right)\\]</html>"
      ],
      "text/latex": [
       "$$\\newcommand{\\Bold}[1]{\\mathbf{#1}}\\left(\\begin{array}{rrr}\n",
       "6 & 0 & 0 \\\\\n",
       "3 & 2 & 1 \\\\\n",
       "-1 & 0 & 2\n",
       "\\end{array}\\right)$$"
      ],
      "text/plain": [
       "[ 6  0  0]\n",
       "[ 3  2  1]\n",
       "[-1  0  2]"
      ]
     },
     "metadata": {},
     "output_type": "display_data"
    },
    {
     "data": {
      "text/html": [
       "<html>\\[\\newcommand{\\Bold}[1]{\\mathbf{#1}}\\verb|Polinomi|\\phantom{\\verb!x!}\\verb|característic:|\\phantom{\\verb!x!}\\verb|p(x)|\\phantom{\\verb!x!}\\verb|=| x^{3} - 10 x^{2} + 28 x - 24\\]</html>"
      ],
      "text/latex": [
       "$$\\newcommand{\\Bold}[1]{\\mathbf{#1}}\\verb|Polinomi|\\phantom{\\verb!x!}\\verb|característic:|\\phantom{\\verb!x!}\\verb|p(x)|\\phantom{\\verb!x!}\\verb|=| x^{3} - 10 x^{2} + 28 x - 24$$"
      ],
      "text/plain": [
       "'Polinomi característic: p(x) = ' x^3 - 10*x^2 + 28*x - 24"
      ]
     },
     "metadata": {},
     "output_type": "display_data"
    },
    {
     "name": "stdout",
     "output_type": "stream",
     "text": [
      "Autovalor  6 amb multiplicitat algebraica  1\n"
     ]
    },
    {
     "data": {
      "text/html": [
       "<html>\\[\\newcommand{\\Bold}[1]{\\mathbf{#1}}\\verb|\t\t\t|\\phantom{\\verb!x!}\\verb|Subespai|\\phantom{\\verb!x!}\\verb|propi|\\phantom{\\verb!x!}\\verb|associat|\\phantom{\\verb!x!}\\verb|:| \\mathrm{RowSpan}_{\\Bold{Q}}\\left(\\begin{array}{rrr}\n",
       "1 & \\frac{11}{16} & -\\frac{1}{4}\n",
       "\\end{array}\\right)\\]</html>"
      ],
      "text/latex": [
       "$$\\newcommand{\\Bold}[1]{\\mathbf{#1}}\\verb|\t\t\t|\\phantom{\\verb!x!}\\verb|Subespai|\\phantom{\\verb!x!}\\verb|propi|\\phantom{\\verb!x!}\\verb|associat|\\phantom{\\verb!x!}\\verb|:| \\mathrm{RowSpan}_{\\Bold{Q}}\\left(\\begin{array}{rrr}\n",
       "1 & \\frac{11}{16} & -\\frac{1}{4}\n",
       "\\end{array}\\right)$$"
      ],
      "text/plain": [
       "'\\t\\t\\t Subespai propi associat :' Vector space of degree 3 and dimension 1 over Rational Field\n",
       "User basis matrix:\n",
       "[    1 11/16  -1/4]"
      ]
     },
     "metadata": {},
     "output_type": "display_data"
    },
    {
     "name": "stdout",
     "output_type": "stream",
     "text": [
      "Autovalor  2 amb multiplicitat algebraica  2\n"
     ]
    },
    {
     "data": {
      "text/html": [
       "<html>\\[\\newcommand{\\Bold}[1]{\\mathbf{#1}}\\verb|\t\t\t|\\phantom{\\verb!x!}\\verb|Subespai|\\phantom{\\verb!x!}\\verb|propi|\\phantom{\\verb!x!}\\verb|associat|\\phantom{\\verb!x!}\\verb|:| \\mathrm{RowSpan}_{\\Bold{Q}}\\left(\\begin{array}{rrr}\n",
       "0 & 1 & 0\n",
       "\\end{array}\\right)\\]</html>"
      ],
      "text/latex": [
       "$$\\newcommand{\\Bold}[1]{\\mathbf{#1}}\\verb|\t\t\t|\\phantom{\\verb!x!}\\verb|Subespai|\\phantom{\\verb!x!}\\verb|propi|\\phantom{\\verb!x!}\\verb|associat|\\phantom{\\verb!x!}\\verb|:| \\mathrm{RowSpan}_{\\Bold{Q}}\\left(\\begin{array}{rrr}\n",
       "0 & 1 & 0\n",
       "\\end{array}\\right)$$"
      ],
      "text/plain": [
       "'\\t\\t\\t Subespai propi associat :' Vector space of degree 3 and dimension 1 over Rational Field\n",
       "User basis matrix:\n",
       "[0 1 0]"
      ]
     },
     "metadata": {},
     "output_type": "display_data"
    }
   ],
   "source": [
    "M1=matrix(QQ,M.subs(b=2))\n",
    "estudi_propi(M1)"
   ]
  },
  {
   "cell_type": "markdown",
   "metadata": {},
   "source": [
    "Recordem: Un condició necessaria per a que una matriu si diagonalitzable, es que totes les seues arrels amb les multiplicitats siguin igual a la dimensió del espai vectorial del endomorfisme\n",
    "\n",
    "Aleshores, una matriu es diagonalitzable si i només si:\n",
    "\n",
    "(1) Sumatoria de les multiplicitats algebaiques sigui la dimensió del espai\n",
    "\n",
    "(2) Les multiplicitats algebraiques siguin iguals a les multiplicitats geométriques (es a dir, igual a la dimensions dels subespais propis associats a cada autovalor)"
   ]
  },
  {
   "cell_type": "markdown",
   "metadata": {},
   "source": [
    "Per tant, en el Cas I, la matriu no es diagonalitzable"
   ]
  },
  {
   "cell_type": "code",
   "execution_count": 133,
   "metadata": {},
   "outputs": [
    {
     "data": {
      "text/plain": [
       "False"
      ]
     },
     "execution_count": 133,
     "metadata": {},
     "output_type": "execute_result"
    }
   ],
   "source": [
    "#Comprobació:\n",
    "M1.is_diagonalizable()"
   ]
  },
  {
   "cell_type": "markdown",
   "metadata": {},
   "source": [
    "##### Cas II: b = 6"
   ]
  },
  {
   "cell_type": "code",
   "execution_count": 134,
   "metadata": {},
   "outputs": [
    {
     "data": {
      "text/html": [
       "<html>\\[\\newcommand{\\Bold}[1]{\\mathbf{#1}}\\verb|Polinomi|\\phantom{\\verb!x!}\\verb|característic:|\\phantom{\\verb!x!}\\verb|p(x)|\\phantom{\\verb!x!}\\verb|=| x^{3} - 14 x^{2} + 60 x - 72\\]</html>"
      ],
      "text/latex": [
       "$$\\newcommand{\\Bold}[1]{\\mathbf{#1}}\\verb|Polinomi|\\phantom{\\verb!x!}\\verb|característic:|\\phantom{\\verb!x!}\\verb|p(x)|\\phantom{\\verb!x!}\\verb|=| x^{3} - 14 x^{2} + 60 x - 72$$"
      ],
      "text/plain": [
       "'Polinomi característic: p(x) = ' x^3 - 14*x^2 + 60*x - 72"
      ]
     },
     "metadata": {},
     "output_type": "display_data"
    },
    {
     "name": "stdout",
     "output_type": "stream",
     "text": [
      "Autovalor  2 amb multiplicitat algebraica  1\n"
     ]
    },
    {
     "data": {
      "text/html": [
       "<html>\\[\\newcommand{\\Bold}[1]{\\mathbf{#1}}\\verb|\t\t\t|\\phantom{\\verb!x!}\\verb|Subespai|\\phantom{\\verb!x!}\\verb|propi|\\phantom{\\verb!x!}\\verb|associat|\\phantom{\\verb!x!}\\verb|:| \\mathrm{RowSpan}_{\\Bold{Q}}\\left(\\begin{array}{rrr}\n",
       "0 & 1 & -4\n",
       "\\end{array}\\right)\\]</html>"
      ],
      "text/latex": [
       "$$\\newcommand{\\Bold}[1]{\\mathbf{#1}}\\verb|\t\t\t|\\phantom{\\verb!x!}\\verb|Subespai|\\phantom{\\verb!x!}\\verb|propi|\\phantom{\\verb!x!}\\verb|associat|\\phantom{\\verb!x!}\\verb|:| \\mathrm{RowSpan}_{\\Bold{Q}}\\left(\\begin{array}{rrr}\n",
       "0 & 1 & -4\n",
       "\\end{array}\\right)$$"
      ],
      "text/plain": [
       "'\\t\\t\\t Subespai propi associat :' Vector space of degree 3 and dimension 1 over Rational Field\n",
       "User basis matrix:\n",
       "[ 0  1 -4]"
      ]
     },
     "metadata": {},
     "output_type": "display_data"
    },
    {
     "name": "stdout",
     "output_type": "stream",
     "text": [
      "Autovalor  6 amb multiplicitat algebraica  2\n"
     ]
    },
    {
     "data": {
      "text/html": [
       "<html>\\[\\newcommand{\\Bold}[1]{\\mathbf{#1}}\\verb|\t\t\t|\\phantom{\\verb!x!}\\verb|Subespai|\\phantom{\\verb!x!}\\verb|propi|\\phantom{\\verb!x!}\\verb|associat|\\phantom{\\verb!x!}\\verb|:| \\mathrm{RowSpan}_{\\Bold{Q}}\\left(\\begin{array}{rrr}\n",
       "0 & 1 & 0\n",
       "\\end{array}\\right)\\]</html>"
      ],
      "text/latex": [
       "$$\\newcommand{\\Bold}[1]{\\mathbf{#1}}\\verb|\t\t\t|\\phantom{\\verb!x!}\\verb|Subespai|\\phantom{\\verb!x!}\\verb|propi|\\phantom{\\verb!x!}\\verb|associat|\\phantom{\\verb!x!}\\verb|:| \\mathrm{RowSpan}_{\\Bold{Q}}\\left(\\begin{array}{rrr}\n",
       "0 & 1 & 0\n",
       "\\end{array}\\right)$$"
      ],
      "text/plain": [
       "'\\t\\t\\t Subespai propi associat :' Vector space of degree 3 and dimension 1 over Rational Field\n",
       "User basis matrix:\n",
       "[0 1 0]"
      ]
     },
     "metadata": {},
     "output_type": "display_data"
    }
   ],
   "source": [
    "M2=matrix(QQ,M.subs(b=6))\n",
    "estudi_propi(M2)"
   ]
  },
  {
   "cell_type": "markdown",
   "metadata": {},
   "source": [
    "Per el Criteri de Diagonalització abans comentat, la matriu no és diagonalitble degut a que la multiplicitat algebraica del autovalor 6 és 2 i la geomètrica és 1."
   ]
  },
  {
   "cell_type": "code",
   "execution_count": 135,
   "metadata": {},
   "outputs": [
    {
     "data": {
      "text/plain": [
       "False"
      ]
     },
     "execution_count": 135,
     "metadata": {},
     "output_type": "execute_result"
    }
   ],
   "source": [
    "#Comprovació:\n",
    "M2.is_diagonalizable()"
   ]
  },
  {
   "cell_type": "markdown",
   "metadata": {},
   "source": [
    "##### Cas III: b != 2, 6"
   ]
  },
  {
   "cell_type": "code",
   "execution_count": 138,
   "metadata": {},
   "outputs": [],
   "source": [
    "# Funció resum modificada per treballar amb paràmetres en espais vectorials\n",
    "def estudi_propi(A):\n",
    "    show('Polinomi característic: p(x) = ', A.charpoly())\n",
    "    for i in range(len(A.eigenvectors_right())):\n",
    "        print('Autovalor ' , A.eigenvectors_right()[i][0], \n",
    "            'amb multiplicitat algebraica ' , A.eigenvectors_right()[i][2])\n",
    "        show('\\t\\t\\t Subespai propi associat :', span(SR,A.eigenvectors_right()[i][1]))"
   ]
  },
  {
   "cell_type": "code",
   "execution_count": 139,
   "metadata": {},
   "outputs": [
    {
     "data": {
      "text/html": [
       "<html>\\[\\newcommand{\\Bold}[1]{\\mathbf{#1}}\\verb|Polinomi|\\phantom{\\verb!x!}\\verb|característic:|\\phantom{\\verb!x!}\\verb|p(x)|\\phantom{\\verb!x!}\\verb|=| x^{3} + \\left(-b - 8\\right) x^{2} + \\left(8 \\, b + 12\\right) x - 12 \\, b\\]</html>"
      ],
      "text/latex": [
       "$$\\newcommand{\\Bold}[1]{\\mathbf{#1}}\\verb|Polinomi|\\phantom{\\verb!x!}\\verb|característic:|\\phantom{\\verb!x!}\\verb|p(x)|\\phantom{\\verb!x!}\\verb|=| x^{3} + \\left(-b - 8\\right) x^{2} + \\left(8 \\, b + 12\\right) x - 12 \\, b$$"
      ],
      "text/plain": [
       "'Polinomi característic: p(x) = ' x^3 + (-b - 8)*x^2 + (8*b + 12)*x - 12*b"
      ]
     },
     "metadata": {},
     "output_type": "display_data"
    },
    {
     "name": "stdout",
     "output_type": "stream",
     "text": [
      "Autovalor  b amb multiplicitat algebraica  1\n"
     ]
    },
    {
     "data": {
      "text/html": [
       "<html>\\[\\newcommand{\\Bold}[1]{\\mathbf{#1}}\\verb|\t\t\t|\\phantom{\\verb!x!}\\verb|Subespai|\\phantom{\\verb!x!}\\verb|propi|\\phantom{\\verb!x!}\\verb|associat|\\phantom{\\verb!x!}\\verb|:| \\mathrm{RowSpan}_{\\text{SR}}\\left(\\begin{array}{rrr}\n",
       "0 & 1 & 0\n",
       "\\end{array}\\right)\\]</html>"
      ],
      "text/latex": [
       "$$\\newcommand{\\Bold}[1]{\\mathbf{#1}}\\verb|\t\t\t|\\phantom{\\verb!x!}\\verb|Subespai|\\phantom{\\verb!x!}\\verb|propi|\\phantom{\\verb!x!}\\verb|associat|\\phantom{\\verb!x!}\\verb|:| \\mathrm{RowSpan}_{\\text{SR}}\\left(\\begin{array}{rrr}\n",
       "0 & 1 & 0\n",
       "\\end{array}\\right)$$"
      ],
      "text/plain": [
       "'\\t\\t\\t Subespai propi associat :' Vector space of degree 3 and dimension 1 over Symbolic Ring\n",
       "Basis matrix:\n",
       "[0 1 0]"
      ]
     },
     "metadata": {},
     "output_type": "display_data"
    },
    {
     "name": "stdout",
     "output_type": "stream",
     "text": [
      "Autovalor  2 amb multiplicitat algebraica  1\n"
     ]
    },
    {
     "data": {
      "text/html": [
       "<html>\\[\\newcommand{\\Bold}[1]{\\mathbf{#1}}\\verb|\t\t\t|\\phantom{\\verb!x!}\\verb|Subespai|\\phantom{\\verb!x!}\\verb|propi|\\phantom{\\verb!x!}\\verb|associat|\\phantom{\\verb!x!}\\verb|:| \\mathrm{RowSpan}_{\\text{SR}}\\left(\\begin{array}{rrr}\n",
       "0 & 1 & -b + 2\n",
       "\\end{array}\\right)\\]</html>"
      ],
      "text/latex": [
       "$$\\newcommand{\\Bold}[1]{\\mathbf{#1}}\\verb|\t\t\t|\\phantom{\\verb!x!}\\verb|Subespai|\\phantom{\\verb!x!}\\verb|propi|\\phantom{\\verb!x!}\\verb|associat|\\phantom{\\verb!x!}\\verb|:| \\mathrm{RowSpan}_{\\text{SR}}\\left(\\begin{array}{rrr}\n",
       "0 & 1 & -b + 2\n",
       "\\end{array}\\right)$$"
      ],
      "text/plain": [
       "'\\t\\t\\t Subespai propi associat :' Vector space of degree 3 and dimension 1 over Symbolic Ring\n",
       "Basis matrix:\n",
       "[     0      1 -b + 2]"
      ]
     },
     "metadata": {},
     "output_type": "display_data"
    },
    {
     "name": "stdout",
     "output_type": "stream",
     "text": [
      "Autovalor  6 amb multiplicitat algebraica  1\n"
     ]
    },
    {
     "data": {
      "text/html": [
       "<html>\\[\\newcommand{\\Bold}[1]{\\mathbf{#1}}\\verb|\t\t\t|\\phantom{\\verb!x!}\\verb|Subespai|\\phantom{\\verb!x!}\\verb|propi|\\phantom{\\verb!x!}\\verb|associat|\\phantom{\\verb!x!}\\verb|:| \\mathrm{RowSpan}_{\\text{SR}}\\left(\\begin{array}{rrr}\n",
       "1 & -\\frac{11}{4 \\, {\\left(b - 6\\right)}} & -\\frac{1}{4}\n",
       "\\end{array}\\right)\\]</html>"
      ],
      "text/latex": [
       "$$\\newcommand{\\Bold}[1]{\\mathbf{#1}}\\verb|\t\t\t|\\phantom{\\verb!x!}\\verb|Subespai|\\phantom{\\verb!x!}\\verb|propi|\\phantom{\\verb!x!}\\verb|associat|\\phantom{\\verb!x!}\\verb|:| \\mathrm{RowSpan}_{\\text{SR}}\\left(\\begin{array}{rrr}\n",
       "1 & -\\frac{11}{4 \\, {\\left(b - 6\\right)}} & -\\frac{1}{4}\n",
       "\\end{array}\\right)$$"
      ],
      "text/plain": [
       "'\\t\\t\\t Subespai propi associat :' Vector space of degree 3 and dimension 1 over Symbolic Ring\n",
       "Basis matrix:\n",
       "[            1 -11/4/(b - 6)          -1/4]"
      ]
     },
     "metadata": {},
     "output_type": "display_data"
    }
   ],
   "source": [
    "estudi_propi(M)"
   ]
  },
  {
   "cell_type": "markdown",
   "metadata": {},
   "source": [
    "Per el Criteri de Diagonalització, en aquest cas la matriu M SÍ es diagonalitzable"
   ]
  },
  {
   "cell_type": "code",
   "execution_count": null,
   "metadata": {},
   "outputs": [],
   "source": []
  },
  {
   "cell_type": "code",
   "execution_count": null,
   "metadata": {},
   "outputs": [],
   "source": []
  },
  {
   "cell_type": "code",
   "execution_count": null,
   "metadata": {},
   "outputs": [],
   "source": []
  },
  {
   "cell_type": "code",
   "execution_count": null,
   "metadata": {},
   "outputs": [],
   "source": []
  },
  {
   "cell_type": "code",
   "execution_count": null,
   "metadata": {},
   "outputs": [],
   "source": []
  },
  {
   "cell_type": "code",
   "execution_count": null,
   "metadata": {},
   "outputs": [],
   "source": []
  },
  {
   "cell_type": "code",
   "execution_count": null,
   "metadata": {},
   "outputs": [],
   "source": []
  },
  {
   "cell_type": "code",
   "execution_count": null,
   "metadata": {},
   "outputs": [],
   "source": []
  },
  {
   "cell_type": "code",
   "execution_count": null,
   "metadata": {},
   "outputs": [],
   "source": []
  },
  {
   "cell_type": "code",
   "execution_count": null,
   "metadata": {},
   "outputs": [],
   "source": []
  },
  {
   "cell_type": "code",
   "execution_count": null,
   "metadata": {},
   "outputs": [],
   "source": []
  },
  {
   "cell_type": "code",
   "execution_count": null,
   "metadata": {},
   "outputs": [],
   "source": []
  },
  {
   "cell_type": "code",
   "execution_count": null,
   "metadata": {},
   "outputs": [],
   "source": []
  },
  {
   "cell_type": "code",
   "execution_count": null,
   "metadata": {},
   "outputs": [],
   "source": []
  },
  {
   "cell_type": "code",
   "execution_count": null,
   "metadata": {},
   "outputs": [],
   "source": []
  },
  {
   "cell_type": "code",
   "execution_count": null,
   "metadata": {},
   "outputs": [],
   "source": []
  },
  {
   "cell_type": "code",
   "execution_count": null,
   "metadata": {},
   "outputs": [],
   "source": []
  },
  {
   "cell_type": "code",
   "execution_count": null,
   "metadata": {},
   "outputs": [],
   "source": []
  },
  {
   "cell_type": "code",
   "execution_count": null,
   "metadata": {},
   "outputs": [],
   "source": []
  },
  {
   "cell_type": "code",
   "execution_count": 101,
   "metadata": {},
   "outputs": [
    {
     "data": {
      "text/plain": [
       "[b, 2, 6]"
      ]
     },
     "execution_count": 101,
     "metadata": {},
     "output_type": "execute_result"
    }
   ],
   "source": []
  },
  {
   "cell_type": "code",
   "execution_count": 105,
   "metadata": {},
   "outputs": [
    {
     "data": {
      "text/plain": [
       "(t^3 == b^3) + (4*(2*b + 3)*t == 4*(2*b + 3)*b) + (-12*b == -12*b) + (-(b + 8)*t^2 == -(b + 8)*b^2)"
      ]
     },
     "execution_count": 105,
     "metadata": {},
     "output_type": "execute_result"
    }
   ],
   "source": [
    "M.charpoly('t').subs(t==b)"
   ]
  },
  {
   "cell_type": "code",
   "execution_count": null,
   "metadata": {},
   "outputs": [],
   "source": []
  },
  {
   "cell_type": "code",
   "execution_count": null,
   "metadata": {},
   "outputs": [],
   "source": []
  },
  {
   "cell_type": "code",
   "execution_count": null,
   "metadata": {},
   "outputs": [],
   "source": []
  },
  {
   "cell_type": "code",
   "execution_count": null,
   "metadata": {},
   "outputs": [],
   "source": []
  },
  {
   "cell_type": "code",
   "execution_count": null,
   "metadata": {},
   "outputs": [],
   "source": []
  },
  {
   "cell_type": "code",
   "execution_count": null,
   "metadata": {},
   "outputs": [],
   "source": []
  },
  {
   "cell_type": "code",
   "execution_count": null,
   "metadata": {},
   "outputs": [],
   "source": []
  },
  {
   "cell_type": "code",
   "execution_count": null,
   "metadata": {},
   "outputs": [],
   "source": []
  },
  {
   "cell_type": "markdown",
   "metadata": {},
   "source": [
    "Per tant, cap vector que genera a G pertany a "
   ]
  },
  {
   "cell_type": "code",
   "execution_count": null,
   "metadata": {},
   "outputs": [],
   "source": []
  },
  {
   "cell_type": "code",
   "execution_count": null,
   "metadata": {},
   "outputs": [],
   "source": []
  },
  {
   "cell_type": "code",
   "execution_count": null,
   "metadata": {},
   "outputs": [],
   "source": []
  },
  {
   "cell_type": "code",
   "execution_count": null,
   "metadata": {},
   "outputs": [],
   "source": []
  },
  {
   "cell_type": "code",
   "execution_count": null,
   "metadata": {},
   "outputs": [],
   "source": []
  },
  {
   "cell_type": "code",
   "execution_count": null,
   "metadata": {},
   "outputs": [],
   "source": []
  },
  {
   "cell_type": "code",
   "execution_count": null,
   "metadata": {},
   "outputs": [],
   "source": []
  },
  {
   "cell_type": "code",
   "execution_count": null,
   "metadata": {},
   "outputs": [],
   "source": []
  },
  {
   "cell_type": "code",
   "execution_count": null,
   "metadata": {},
   "outputs": [],
   "source": []
  },
  {
   "cell_type": "code",
   "execution_count": null,
   "metadata": {},
   "outputs": [],
   "source": []
  },
  {
   "cell_type": "code",
   "execution_count": null,
   "metadata": {},
   "outputs": [],
   "source": []
  },
  {
   "cell_type": "code",
   "execution_count": null,
   "metadata": {},
   "outputs": [],
   "source": []
  },
  {
   "cell_type": "code",
   "execution_count": null,
   "metadata": {},
   "outputs": [],
   "source": []
  },
  {
   "cell_type": "code",
   "execution_count": null,
   "metadata": {},
   "outputs": [],
   "source": []
  },
  {
   "cell_type": "code",
   "execution_count": null,
   "metadata": {},
   "outputs": [],
   "source": []
  },
  {
   "cell_type": "code",
   "execution_count": null,
   "metadata": {},
   "outputs": [],
   "source": []
  },
  {
   "cell_type": "code",
   "execution_count": null,
   "metadata": {},
   "outputs": [],
   "source": []
  },
  {
   "cell_type": "code",
   "execution_count": null,
   "metadata": {},
   "outputs": [],
   "source": []
  },
  {
   "cell_type": "code",
   "execution_count": null,
   "metadata": {},
   "outputs": [],
   "source": []
  },
  {
   "cell_type": "code",
   "execution_count": null,
   "metadata": {},
   "outputs": [],
   "source": []
  },
  {
   "cell_type": "code",
   "execution_count": null,
   "metadata": {},
   "outputs": [],
   "source": []
  },
  {
   "cell_type": "code",
   "execution_count": null,
   "metadata": {},
   "outputs": [],
   "source": []
  },
  {
   "cell_type": "code",
   "execution_count": null,
   "metadata": {},
   "outputs": [],
   "source": []
  },
  {
   "cell_type": "code",
   "execution_count": null,
   "metadata": {},
   "outputs": [],
   "source": []
  },
  {
   "cell_type": "code",
   "execution_count": null,
   "metadata": {},
   "outputs": [],
   "source": []
  },
  {
   "cell_type": "code",
   "execution_count": null,
   "metadata": {},
   "outputs": [],
   "source": []
  },
  {
   "cell_type": "code",
   "execution_count": null,
   "metadata": {},
   "outputs": [],
   "source": []
  },
  {
   "cell_type": "code",
   "execution_count": null,
   "metadata": {},
   "outputs": [],
   "source": []
  },
  {
   "cell_type": "code",
   "execution_count": null,
   "metadata": {},
   "outputs": [],
   "source": []
  },
  {
   "cell_type": "code",
   "execution_count": null,
   "metadata": {},
   "outputs": [],
   "source": []
  },
  {
   "cell_type": "code",
   "execution_count": null,
   "metadata": {},
   "outputs": [],
   "source": []
  },
  {
   "cell_type": "code",
   "execution_count": null,
   "metadata": {},
   "outputs": [],
   "source": []
  },
  {
   "cell_type": "code",
   "execution_count": null,
   "metadata": {},
   "outputs": [],
   "source": []
  },
  {
   "cell_type": "code",
   "execution_count": null,
   "metadata": {},
   "outputs": [],
   "source": []
  },
  {
   "cell_type": "code",
   "execution_count": 4,
   "metadata": {},
   "outputs": [
    {
     "data": {
      "text/plain": [
       "'6'"
      ]
     },
     "execution_count": 4,
     "metadata": {},
     "output_type": "execute_result"
    }
   ],
   "source": []
  },
  {
   "cell_type": "code",
   "execution_count": null,
   "metadata": {},
   "outputs": [],
   "source": []
  },
  {
   "cell_type": "code",
   "execution_count": null,
   "metadata": {},
   "outputs": [],
   "source": []
  },
  {
   "cell_type": "code",
   "execution_count": null,
   "metadata": {},
   "outputs": [],
   "source": []
  },
  {
   "cell_type": "code",
   "execution_count": null,
   "metadata": {},
   "outputs": [],
   "source": []
  }
 ],
 "metadata": {
  "kernelspec": {
   "display_name": "SageMath 9.4",
   "language": "sage",
   "name": "sagemath-9.4"
  },
  "language_info": {
   "codemirror_mode": {
    "name": "ipython",
    "version": 3
   },
   "file_extension": ".py",
   "mimetype": "text/x-python",
   "name": "python",
   "nbconvert_exporter": "python",
   "pygments_lexer": "ipython3",
   "version": "3.9.5"
  }
 },
 "nbformat": 4,
 "nbformat_minor": 4
}
