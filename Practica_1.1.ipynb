{
 "cells": [
  {
   "cell_type": "markdown",
   "metadata": {},
   "source": [
    "### Problema 1"
   ]
  },
  {
   "cell_type": "code",
   "execution_count": 17,
   "metadata": {},
   "outputs": [],
   "source": [
    "A=matrix(ZZ,[[2,2],[3,-4]])\n",
    "B=matrix(ZZ,[[-1,-4,5],[3,12,0]])\n",
    "C=matrix(ZZ,[[0,0,1],[0,1,0],[1,0,0]])\n",
    "D=matrix(ZZ,[[1,1,1],[1,0,1],[0,1,-1]])\n",
    "E=matrix(ZZ,[[3,-7,5],[1,-3,2],[2,-5,4]])\n",
    "F=matrix(ZZ,[[1,0,0,1],[1,2,0,0],[0,1,3,0],[0,0,1,-1]])\n",
    "G=matrix(ZZ,[[1,0,1],[2,1,1],[1,2,-1]])\n",
    "var('a'); H=matrix(SR,[[1,0,4,4],[1,2,0,3],[0,1,-2,-1],[1,1,a,3]])"
   ]
  },
  {
   "cell_type": "code",
   "execution_count": 5,
   "metadata": {
    "scrolled": true
   },
   "outputs": [
    {
     "data": {
      "text/plain": [
       "2"
      ]
     },
     "execution_count": 5,
     "metadata": {},
     "output_type": "execute_result"
    }
   ],
   "source": [
    "A.rank()"
   ]
  },
  {
   "cell_type": "code",
   "execution_count": 28,
   "metadata": {},
   "outputs": [
    {
     "data": {
      "text/plain": [
       "-14"
      ]
     },
     "execution_count": 28,
     "metadata": {},
     "output_type": "execute_result"
    }
   ],
   "source": [
    "A.determinant()"
   ]
  },
  {
   "cell_type": "code",
   "execution_count": 9,
   "metadata": {},
   "outputs": [
    {
     "data": {
      "text/html": [
       "<html>\\[\\newcommand{\\Bold}[1]{\\mathbf{#1}}\\left(\\begin{array}{rr}\n",
       "\\frac{2}{7} & \\frac{1}{7} \\\\\n",
       "\\frac{3}{14} & -\\frac{1}{7}\n",
       "\\end{array}\\right)\\]</html>"
      ],
      "text/latex": [
       "$$\\newcommand{\\Bold}[1]{\\mathbf{#1}}\\left(\\begin{array}{rr}\n",
       "\\frac{2}{7} & \\frac{1}{7} \\\\\n",
       "\\frac{3}{14} & -\\frac{1}{7}\n",
       "\\end{array}\\right)$$"
      ],
      "text/plain": [
       "[ 2/7  1/7]\n",
       "[3/14 -1/7]"
      ]
     },
     "metadata": {},
     "output_type": "display_data"
    }
   ],
   "source": [
    "show(A.inverse())"
   ]
  },
  {
   "cell_type": "code",
   "execution_count": 10,
   "metadata": {},
   "outputs": [
    {
     "data": {
      "text/plain": [
       "2"
      ]
     },
     "execution_count": 10,
     "metadata": {},
     "output_type": "execute_result"
    }
   ],
   "source": [
    "B.rank()"
   ]
  },
  {
   "cell_type": "code",
   "execution_count": 29,
   "metadata": {},
   "outputs": [
    {
     "ename": "ValueError",
     "evalue": "self must be a square matrix",
     "output_type": "error",
     "traceback": [
      "\u001b[0;31m---------------------------------------------------------------------------\u001b[0m",
      "\u001b[0;31mValueError\u001b[0m                                Traceback (most recent call last)",
      "\u001b[0;32m<ipython-input-29-7f4092259661>\u001b[0m in \u001b[0;36m<module>\u001b[0;34m\u001b[0m\n\u001b[0;32m----> 1\u001b[0;31m \u001b[0mB\u001b[0m\u001b[0;34m.\u001b[0m\u001b[0mdeterminant\u001b[0m\u001b[0;34m(\u001b[0m\u001b[0;34m)\u001b[0m\u001b[0;34m\u001b[0m\u001b[0;34m\u001b[0m\u001b[0m\n\u001b[0m",
      "\u001b[0;32m/var/tmp/sage-9.4-current/local/lib/python3.9/site-packages/sage/matrix/matrix_integer_dense.pyx\u001b[0m in \u001b[0;36msage.matrix.matrix_integer_dense.Matrix_integer_dense.determinant (build/cythonized/sage/matrix/matrix_integer_dense.cpp:31164)\u001b[0;34m()\u001b[0m\n\u001b[1;32m   3745\u001b[0m             \u001b[0;32mreturn\u001b[0m \u001b[0md\u001b[0m\u001b[0;34m\u001b[0m\u001b[0;34m\u001b[0m\u001b[0m\n\u001b[1;32m   3746\u001b[0m         \u001b[0;32mif\u001b[0m \u001b[0;32mnot\u001b[0m \u001b[0mself\u001b[0m\u001b[0;34m.\u001b[0m\u001b[0mis_square\u001b[0m\u001b[0;34m(\u001b[0m\u001b[0;34m)\u001b[0m\u001b[0;34m:\u001b[0m\u001b[0;34m\u001b[0m\u001b[0;34m\u001b[0m\u001b[0m\n\u001b[0;32m-> 3747\u001b[0;31m             \u001b[0;32mraise\u001b[0m \u001b[0mValueError\u001b[0m\u001b[0;34m(\u001b[0m\u001b[0;34m\"self must be a square matrix\"\u001b[0m\u001b[0;34m)\u001b[0m\u001b[0;34m\u001b[0m\u001b[0;34m\u001b[0m\u001b[0m\n\u001b[0m\u001b[1;32m   3748\u001b[0m \u001b[0;34m\u001b[0m\u001b[0m\n\u001b[1;32m   3749\u001b[0m         \u001b[0mcdef\u001b[0m \u001b[0mPy_ssize_t\u001b[0m \u001b[0mn\u001b[0m \u001b[0;34m=\u001b[0m \u001b[0mself\u001b[0m\u001b[0;34m.\u001b[0m\u001b[0mnrows\u001b[0m\u001b[0;34m(\u001b[0m\u001b[0;34m)\u001b[0m\u001b[0;34m\u001b[0m\u001b[0;34m\u001b[0m\u001b[0m\n",
      "\u001b[0;31mValueError\u001b[0m: self must be a square matrix"
     ]
    }
   ],
   "source": [
    "B.determinant()"
   ]
  },
  {
   "cell_type": "code",
   "execution_count": 25,
   "metadata": {},
   "outputs": [
    {
     "ename": "ArithmeticError",
     "evalue": "self must be a square matrix.",
     "output_type": "error",
     "traceback": [
      "\u001b[0;31m---------------------------------------------------------------------------\u001b[0m",
      "\u001b[0;31mArithmeticError\u001b[0m                           Traceback (most recent call last)",
      "\u001b[0;32m<ipython-input-25-3b738c2b5a86>\u001b[0m in \u001b[0;36m<module>\u001b[0;34m\u001b[0m\n\u001b[0;32m----> 1\u001b[0;31m \u001b[0mshow\u001b[0m\u001b[0;34m(\u001b[0m\u001b[0mB\u001b[0m\u001b[0;34m.\u001b[0m\u001b[0minverse\u001b[0m\u001b[0;34m(\u001b[0m\u001b[0;34m)\u001b[0m\u001b[0;34m)\u001b[0m\u001b[0;34m\u001b[0m\u001b[0;34m\u001b[0m\u001b[0m\n\u001b[0m",
      "\u001b[0;32m/var/tmp/sage-9.4-current/local/lib/python3.9/site-packages/sage/matrix/matrix2.pyx\u001b[0m in \u001b[0;36msage.matrix.matrix2.Matrix.inverse (build/cythonized/sage/matrix/matrix2.c:70025)\u001b[0;34m()\u001b[0m\n\u001b[1;32m   9724\u001b[0m \u001b[0;34m\u001b[0m\u001b[0m\n\u001b[1;32m   9725\u001b[0m         \"\"\"\n\u001b[0;32m-> 9726\u001b[0;31m         \u001b[0;32mreturn\u001b[0m \u001b[0;34m~\u001b[0m\u001b[0mself\u001b[0m\u001b[0;34m\u001b[0m\u001b[0;34m\u001b[0m\u001b[0m\n\u001b[0m\u001b[1;32m   9727\u001b[0m \u001b[0;34m\u001b[0m\u001b[0m\n\u001b[1;32m   9728\u001b[0m     \u001b[0;32mdef\u001b[0m \u001b[0madjugate\u001b[0m\u001b[0;34m(\u001b[0m\u001b[0mself\u001b[0m\u001b[0;34m)\u001b[0m\u001b[0;34m:\u001b[0m\u001b[0;34m\u001b[0m\u001b[0;34m\u001b[0m\u001b[0m\n",
      "\u001b[0;32m/var/tmp/sage-9.4-current/local/lib/python3.9/site-packages/sage/matrix/matrix_integer_dense.pyx\u001b[0m in \u001b[0;36msage.matrix.matrix_integer_dense.Matrix_integer_dense.__invert__ (build/cythonized/sage/matrix/matrix_integer_dense.cpp:33896)\u001b[0;34m()\u001b[0m\n\u001b[1;32m   4097\u001b[0m             \u001b[0mZeroDivisionError\u001b[0m\u001b[0;34m:\u001b[0m \u001b[0mmatrix\u001b[0m \u001b[0mmust\u001b[0m \u001b[0mbe\u001b[0m \u001b[0mnonsingular\u001b[0m\u001b[0;34m\u001b[0m\u001b[0;34m\u001b[0m\u001b[0m\n\u001b[1;32m   4098\u001b[0m         \"\"\"\n\u001b[0;32m-> 4099\u001b[0;31m         \u001b[0mA\u001b[0m\u001b[0;34m,\u001b[0m \u001b[0md\u001b[0m \u001b[0;34m=\u001b[0m \u001b[0mself\u001b[0m\u001b[0;34m.\u001b[0m\u001b[0m_invert_flint\u001b[0m\u001b[0;34m(\u001b[0m\u001b[0;34m)\u001b[0m\u001b[0;34m\u001b[0m\u001b[0;34m\u001b[0m\u001b[0m\n\u001b[0m\u001b[1;32m   4100\u001b[0m         \u001b[0;32mreturn\u001b[0m \u001b[0mA\u001b[0m \u001b[0;34m/\u001b[0m \u001b[0md\u001b[0m\u001b[0;34m\u001b[0m\u001b[0;34m\u001b[0m\u001b[0m\n\u001b[1;32m   4101\u001b[0m \u001b[0;34m\u001b[0m\u001b[0m\n",
      "\u001b[0;32m/var/tmp/sage-9.4-current/local/lib/python3.9/site-packages/sage/matrix/matrix_integer_dense.pyx\u001b[0m in \u001b[0;36msage.matrix.matrix_integer_dense.Matrix_integer_dense._invert_flint (build/cythonized/sage/matrix/matrix_integer_dense.cpp:33580)\u001b[0;34m()\u001b[0m\n\u001b[1;32m   4043\u001b[0m         \"\"\"\n\u001b[1;32m   4044\u001b[0m         \u001b[0;32mif\u001b[0m \u001b[0mself\u001b[0m\u001b[0;34m.\u001b[0m\u001b[0m_nrows\u001b[0m \u001b[0;34m!=\u001b[0m \u001b[0mself\u001b[0m\u001b[0;34m.\u001b[0m\u001b[0m_ncols\u001b[0m\u001b[0;34m:\u001b[0m\u001b[0;34m\u001b[0m\u001b[0;34m\u001b[0m\u001b[0m\n\u001b[0;32m-> 4045\u001b[0;31m             \u001b[0;32mraise\u001b[0m \u001b[0mArithmeticError\u001b[0m\u001b[0;34m(\u001b[0m\u001b[0;34m\"self must be a square matrix.\"\u001b[0m\u001b[0;34m)\u001b[0m\u001b[0;34m\u001b[0m\u001b[0;34m\u001b[0m\u001b[0m\n\u001b[0m\u001b[1;32m   4046\u001b[0m \u001b[0;34m\u001b[0m\u001b[0m\n\u001b[1;32m   4047\u001b[0m         \u001b[0mcdef\u001b[0m \u001b[0mMatrix_integer_dense\u001b[0m \u001b[0mM\u001b[0m\u001b[0;34m\u001b[0m\u001b[0;34m\u001b[0m\u001b[0m\n",
      "\u001b[0;31mArithmeticError\u001b[0m: self must be a square matrix."
     ]
    }
   ],
   "source": [
    "show(B.inverse())"
   ]
  },
  {
   "cell_type": "code",
   "execution_count": 11,
   "metadata": {},
   "outputs": [
    {
     "data": {
      "text/plain": [
       "3"
      ]
     },
     "execution_count": 11,
     "metadata": {},
     "output_type": "execute_result"
    }
   ],
   "source": [
    "C.rank()"
   ]
  },
  {
   "cell_type": "code",
   "execution_count": 30,
   "metadata": {},
   "outputs": [
    {
     "data": {
      "text/plain": [
       "-1"
      ]
     },
     "execution_count": 30,
     "metadata": {},
     "output_type": "execute_result"
    }
   ],
   "source": [
    "C.determinant()"
   ]
  },
  {
   "cell_type": "code",
   "execution_count": 13,
   "metadata": {},
   "outputs": [
    {
     "data": {
      "text/html": [
       "<html>\\[\\newcommand{\\Bold}[1]{\\mathbf{#1}}\\left(\\begin{array}{rrr}\n",
       "0 & 0 & 1 \\\\\n",
       "0 & 1 & 0 \\\\\n",
       "1 & 0 & 0\n",
       "\\end{array}\\right)\\]</html>"
      ],
      "text/latex": [
       "$$\\newcommand{\\Bold}[1]{\\mathbf{#1}}\\left(\\begin{array}{rrr}\n",
       "0 & 0 & 1 \\\\\n",
       "0 & 1 & 0 \\\\\n",
       "1 & 0 & 0\n",
       "\\end{array}\\right)$$"
      ],
      "text/plain": [
       "[0 0 1]\n",
       "[0 1 0]\n",
       "[1 0 0]"
      ]
     },
     "metadata": {},
     "output_type": "display_data"
    }
   ],
   "source": [
    "show(C.inverse())"
   ]
  },
  {
   "cell_type": "code",
   "execution_count": 14,
   "metadata": {},
   "outputs": [
    {
     "data": {
      "text/plain": [
       "3"
      ]
     },
     "execution_count": 14,
     "metadata": {},
     "output_type": "execute_result"
    }
   ],
   "source": [
    "D.rank()"
   ]
  },
  {
   "cell_type": "code",
   "execution_count": 31,
   "metadata": {},
   "outputs": [
    {
     "data": {
      "text/plain": [
       "1"
      ]
     },
     "execution_count": 31,
     "metadata": {},
     "output_type": "execute_result"
    }
   ],
   "source": [
    "D.determinant()"
   ]
  },
  {
   "cell_type": "code",
   "execution_count": 15,
   "metadata": {},
   "outputs": [
    {
     "data": {
      "text/html": [
       "<html>\\[\\newcommand{\\Bold}[1]{\\mathbf{#1}}\\left(\\begin{array}{rrr}\n",
       "-1 & 2 & 1 \\\\\n",
       "1 & -1 & 0 \\\\\n",
       "1 & -1 & -1\n",
       "\\end{array}\\right)\\]</html>"
      ],
      "text/latex": [
       "$$\\newcommand{\\Bold}[1]{\\mathbf{#1}}\\left(\\begin{array}{rrr}\n",
       "-1 & 2 & 1 \\\\\n",
       "1 & -1 & 0 \\\\\n",
       "1 & -1 & -1\n",
       "\\end{array}\\right)$$"
      ],
      "text/plain": [
       "[-1  2  1]\n",
       "[ 1 -1  0]\n",
       "[ 1 -1 -1]"
      ]
     },
     "metadata": {},
     "output_type": "display_data"
    }
   ],
   "source": [
    "show(D.inverse())"
   ]
  },
  {
   "cell_type": "code",
   "execution_count": 17,
   "metadata": {
    "scrolled": true
   },
   "outputs": [
    {
     "data": {
      "text/plain": [
       "3"
      ]
     },
     "execution_count": 17,
     "metadata": {},
     "output_type": "execute_result"
    }
   ],
   "source": [
    "E.rank()"
   ]
  },
  {
   "cell_type": "code",
   "execution_count": 32,
   "metadata": {},
   "outputs": [
    {
     "data": {
      "text/plain": [
       "-1"
      ]
     },
     "execution_count": 32,
     "metadata": {},
     "output_type": "execute_result"
    }
   ],
   "source": [
    "E.determinant()"
   ]
  },
  {
   "cell_type": "code",
   "execution_count": 18,
   "metadata": {},
   "outputs": [
    {
     "data": {
      "text/html": [
       "<html>\\[\\newcommand{\\Bold}[1]{\\mathbf{#1}}\\left(\\begin{array}{rrr}\n",
       "2 & -3 & -1 \\\\\n",
       "0 & -2 & 1 \\\\\n",
       "-1 & -1 & 2\n",
       "\\end{array}\\right)\\]</html>"
      ],
      "text/latex": [
       "$$\\newcommand{\\Bold}[1]{\\mathbf{#1}}\\left(\\begin{array}{rrr}\n",
       "2 & -3 & -1 \\\\\n",
       "0 & -2 & 1 \\\\\n",
       "-1 & -1 & 2\n",
       "\\end{array}\\right)$$"
      ],
      "text/plain": [
       "[ 2 -3 -1]\n",
       "[ 0 -2  1]\n",
       "[-1 -1  2]"
      ]
     },
     "metadata": {},
     "output_type": "display_data"
    }
   ],
   "source": [
    "show(E.inverse())"
   ]
  },
  {
   "cell_type": "code",
   "execution_count": 19,
   "metadata": {
    "scrolled": true
   },
   "outputs": [
    {
     "data": {
      "text/plain": [
       "4"
      ]
     },
     "execution_count": 19,
     "metadata": {},
     "output_type": "execute_result"
    }
   ],
   "source": [
    "F.rank()"
   ]
  },
  {
   "cell_type": "code",
   "execution_count": 33,
   "metadata": {},
   "outputs": [
    {
     "data": {
      "text/plain": [
       "-7"
      ]
     },
     "execution_count": 33,
     "metadata": {},
     "output_type": "execute_result"
    }
   ],
   "source": [
    "F.determinant()"
   ]
  },
  {
   "cell_type": "code",
   "execution_count": 21,
   "metadata": {},
   "outputs": [
    {
     "data": {
      "text/html": [
       "<html>\\[\\newcommand{\\Bold}[1]{\\mathbf{#1}}\\left(\\begin{array}{rrrr}\n",
       "\\frac{6}{7} & \\frac{1}{7} & -\\frac{2}{7} & \\frac{6}{7} \\\\\n",
       "-\\frac{3}{7} & \\frac{3}{7} & \\frac{1}{7} & -\\frac{3}{7} \\\\\n",
       "\\frac{1}{7} & -\\frac{1}{7} & \\frac{2}{7} & \\frac{1}{7} \\\\\n",
       "\\frac{1}{7} & -\\frac{1}{7} & \\frac{2}{7} & -\\frac{6}{7}\n",
       "\\end{array}\\right)\\]</html>"
      ],
      "text/latex": [
       "$$\\newcommand{\\Bold}[1]{\\mathbf{#1}}\\left(\\begin{array}{rrrr}\n",
       "\\frac{6}{7} & \\frac{1}{7} & -\\frac{2}{7} & \\frac{6}{7} \\\\\n",
       "-\\frac{3}{7} & \\frac{3}{7} & \\frac{1}{7} & -\\frac{3}{7} \\\\\n",
       "\\frac{1}{7} & -\\frac{1}{7} & \\frac{2}{7} & \\frac{1}{7} \\\\\n",
       "\\frac{1}{7} & -\\frac{1}{7} & \\frac{2}{7} & -\\frac{6}{7}\n",
       "\\end{array}\\right)$$"
      ],
      "text/plain": [
       "[ 6/7  1/7 -2/7  6/7]\n",
       "[-3/7  3/7  1/7 -3/7]\n",
       "[ 1/7 -1/7  2/7  1/7]\n",
       "[ 1/7 -1/7  2/7 -6/7]"
      ]
     },
     "metadata": {},
     "output_type": "display_data"
    }
   ],
   "source": [
    "show(F.inverse())"
   ]
  },
  {
   "cell_type": "code",
   "execution_count": 22,
   "metadata": {},
   "outputs": [
    {
     "data": {
      "text/plain": [
       "2"
      ]
     },
     "execution_count": 22,
     "metadata": {},
     "output_type": "execute_result"
    }
   ],
   "source": [
    "G.rank()"
   ]
  },
  {
   "cell_type": "code",
   "execution_count": 34,
   "metadata": {},
   "outputs": [
    {
     "data": {
      "text/plain": [
       "0"
      ]
     },
     "execution_count": 34,
     "metadata": {},
     "output_type": "execute_result"
    }
   ],
   "source": [
    "G.determinant()"
   ]
  },
  {
   "cell_type": "code",
   "execution_count": 24,
   "metadata": {},
   "outputs": [
    {
     "ename": "ZeroDivisionError",
     "evalue": "matrix must be nonsingular",
     "output_type": "error",
     "traceback": [
      "\u001b[0;31m---------------------------------------------------------------------------\u001b[0m",
      "\u001b[0;31mZeroDivisionError\u001b[0m                         Traceback (most recent call last)",
      "\u001b[0;32m<ipython-input-24-104346b32f8c>\u001b[0m in \u001b[0;36m<module>\u001b[0;34m\u001b[0m\n\u001b[0;32m----> 1\u001b[0;31m \u001b[0mshow\u001b[0m\u001b[0;34m(\u001b[0m\u001b[0mG\u001b[0m\u001b[0;34m.\u001b[0m\u001b[0minverse\u001b[0m\u001b[0;34m(\u001b[0m\u001b[0;34m)\u001b[0m\u001b[0;34m)\u001b[0m\u001b[0;34m\u001b[0m\u001b[0;34m\u001b[0m\u001b[0m\n\u001b[0m",
      "\u001b[0;32m/var/tmp/sage-9.4-current/local/lib/python3.9/site-packages/sage/matrix/matrix2.pyx\u001b[0m in \u001b[0;36msage.matrix.matrix2.Matrix.inverse (build/cythonized/sage/matrix/matrix2.c:70025)\u001b[0;34m()\u001b[0m\n\u001b[1;32m   9724\u001b[0m \u001b[0;34m\u001b[0m\u001b[0m\n\u001b[1;32m   9725\u001b[0m         \"\"\"\n\u001b[0;32m-> 9726\u001b[0;31m         \u001b[0;32mreturn\u001b[0m \u001b[0;34m~\u001b[0m\u001b[0mself\u001b[0m\u001b[0;34m\u001b[0m\u001b[0;34m\u001b[0m\u001b[0m\n\u001b[0m\u001b[1;32m   9727\u001b[0m \u001b[0;34m\u001b[0m\u001b[0m\n\u001b[1;32m   9728\u001b[0m     \u001b[0;32mdef\u001b[0m \u001b[0madjugate\u001b[0m\u001b[0;34m(\u001b[0m\u001b[0mself\u001b[0m\u001b[0;34m)\u001b[0m\u001b[0;34m:\u001b[0m\u001b[0;34m\u001b[0m\u001b[0;34m\u001b[0m\u001b[0m\n",
      "\u001b[0;32m/var/tmp/sage-9.4-current/local/lib/python3.9/site-packages/sage/matrix/matrix_integer_dense.pyx\u001b[0m in \u001b[0;36msage.matrix.matrix_integer_dense.Matrix_integer_dense.__invert__ (build/cythonized/sage/matrix/matrix_integer_dense.cpp:33896)\u001b[0;34m()\u001b[0m\n\u001b[1;32m   4097\u001b[0m             \u001b[0mZeroDivisionError\u001b[0m\u001b[0;34m:\u001b[0m \u001b[0mmatrix\u001b[0m \u001b[0mmust\u001b[0m \u001b[0mbe\u001b[0m \u001b[0mnonsingular\u001b[0m\u001b[0;34m\u001b[0m\u001b[0;34m\u001b[0m\u001b[0m\n\u001b[1;32m   4098\u001b[0m         \"\"\"\n\u001b[0;32m-> 4099\u001b[0;31m         \u001b[0mA\u001b[0m\u001b[0;34m,\u001b[0m \u001b[0md\u001b[0m \u001b[0;34m=\u001b[0m \u001b[0mself\u001b[0m\u001b[0;34m.\u001b[0m\u001b[0m_invert_flint\u001b[0m\u001b[0;34m(\u001b[0m\u001b[0;34m)\u001b[0m\u001b[0;34m\u001b[0m\u001b[0;34m\u001b[0m\u001b[0m\n\u001b[0m\u001b[1;32m   4100\u001b[0m         \u001b[0;32mreturn\u001b[0m \u001b[0mA\u001b[0m \u001b[0;34m/\u001b[0m \u001b[0md\u001b[0m\u001b[0;34m\u001b[0m\u001b[0;34m\u001b[0m\u001b[0m\n\u001b[1;32m   4101\u001b[0m \u001b[0;34m\u001b[0m\u001b[0m\n",
      "\u001b[0;32m/var/tmp/sage-9.4-current/local/lib/python3.9/site-packages/sage/matrix/matrix_integer_dense.pyx\u001b[0m in \u001b[0;36msage.matrix.matrix_integer_dense.Matrix_integer_dense._invert_flint (build/cythonized/sage/matrix/matrix_integer_dense.cpp:33732)\u001b[0;34m()\u001b[0m\n\u001b[1;32m   4058\u001b[0m         \u001b[0mfmpz_clear\u001b[0m\u001b[0;34m(\u001b[0m\u001b[0mfden\u001b[0m\u001b[0;34m)\u001b[0m\u001b[0;34m\u001b[0m\u001b[0;34m\u001b[0m\u001b[0m\n\u001b[1;32m   4059\u001b[0m         \u001b[0;32mif\u001b[0m \u001b[0mres\u001b[0m \u001b[0;34m==\u001b[0m \u001b[0;36m0\u001b[0m\u001b[0;34m:\u001b[0m\u001b[0;34m\u001b[0m\u001b[0;34m\u001b[0m\u001b[0m\n\u001b[0;32m-> 4060\u001b[0;31m             \u001b[0;32mraise\u001b[0m \u001b[0mZeroDivisionError\u001b[0m\u001b[0;34m(\u001b[0m\u001b[0;34m'matrix must be nonsingular'\u001b[0m\u001b[0;34m)\u001b[0m\u001b[0;34m\u001b[0m\u001b[0;34m\u001b[0m\u001b[0m\n\u001b[0m\u001b[1;32m   4061\u001b[0m         \u001b[0;32mif\u001b[0m \u001b[0mden\u001b[0m \u001b[0;34m<\u001b[0m \u001b[0;36m0\u001b[0m\u001b[0;34m:\u001b[0m\u001b[0;34m\u001b[0m\u001b[0;34m\u001b[0m\u001b[0m\n\u001b[1;32m   4062\u001b[0m             \u001b[0;32mreturn\u001b[0m \u001b[0;34m-\u001b[0m\u001b[0mM\u001b[0m\u001b[0;34m,\u001b[0m \u001b[0;34m-\u001b[0m\u001b[0mden\u001b[0m\u001b[0;34m\u001b[0m\u001b[0;34m\u001b[0m\u001b[0m\n",
      "\u001b[0;31mZeroDivisionError\u001b[0m: matrix must be nonsingular"
     ]
    }
   ],
   "source": [
    "show(G.inverse())"
   ]
  },
  {
   "cell_type": "code",
   "execution_count": 35,
   "metadata": {
    "scrolled": true
   },
   "outputs": [
    {
     "data": {
      "text/plain": [
       "a - 2"
      ]
     },
     "execution_count": 35,
     "metadata": {},
     "output_type": "execute_result"
    }
   ],
   "source": [
    "H.determinant()"
   ]
  },
  {
   "cell_type": "code",
   "execution_count": 38,
   "metadata": {},
   "outputs": [
    {
     "data": {
      "text/plain": [
       "4"
      ]
     },
     "execution_count": 38,
     "metadata": {},
     "output_type": "execute_result"
    }
   ],
   "source": [
    "H.rank()"
   ]
  },
  {
   "cell_type": "code",
   "execution_count": 36,
   "metadata": {},
   "outputs": [
    {
     "data": {
      "text/plain": [
       "3"
      ]
     },
     "execution_count": 36,
     "metadata": {},
     "output_type": "execute_result"
    }
   ],
   "source": [
    "H(a=2).rank()"
   ]
  },
  {
   "cell_type": "code",
   "execution_count": 39,
   "metadata": {},
   "outputs": [
    {
     "data": {
      "text/html": [
       "<html>\\[\\newcommand{\\Bold}[1]{\\mathbf{#1}}\\left(\\begin{array}{rrrr}\n",
       "\\frac{4}{a - 2} + 5 & -4 & \\frac{4}{a - 2} + 8 & -\\frac{4}{a - 2} \\\\\n",
       "-\\frac{2}{a - 2} - 1 & 1 & -\\frac{2}{a - 2} - 1 & \\frac{2}{a - 2} \\\\\n",
       "-\\frac{1}{a - 2} & 0 & -\\frac{1}{a - 2} & \\frac{1}{a - 2} \\\\\n",
       "-1 & 1 & -2 & 0\n",
       "\\end{array}\\right)\\]</html>"
      ],
      "text/latex": [
       "$$\\newcommand{\\Bold}[1]{\\mathbf{#1}}\\left(\\begin{array}{rrrr}\n",
       "\\frac{4}{a - 2} + 5 & -4 & \\frac{4}{a - 2} + 8 & -\\frac{4}{a - 2} \\\\\n",
       "-\\frac{2}{a - 2} - 1 & 1 & -\\frac{2}{a - 2} - 1 & \\frac{2}{a - 2} \\\\\n",
       "-\\frac{1}{a - 2} & 0 & -\\frac{1}{a - 2} & \\frac{1}{a - 2} \\\\\n",
       "-1 & 1 & -2 & 0\n",
       "\\end{array}\\right)$$"
      ],
      "text/plain": [
       "[ 4/(a - 2) + 5             -4  4/(a - 2) + 8     -4/(a - 2)]\n",
       "[-2/(a - 2) - 1              1 -2/(a - 2) - 1      2/(a - 2)]\n",
       "[    -1/(a - 2)              0     -1/(a - 2)      1/(a - 2)]\n",
       "[            -1              1             -2              0]"
      ]
     },
     "metadata": {},
     "output_type": "display_data"
    }
   ],
   "source": [
    "show(H.inverse()) #si a!=2"
   ]
  },
  {
   "cell_type": "markdown",
   "metadata": {},
   "source": [
    "### Problema 2"
   ]
  },
  {
   "cell_type": "code",
   "execution_count": 18,
   "metadata": {},
   "outputs": [],
   "source": [
    "A=H; I=matrix(SR,[[1],[0],[a-1],[a]])"
   ]
  },
  {
   "cell_type": "code",
   "execution_count": 52,
   "metadata": {},
   "outputs": [
    {
     "data": {
      "text/html": [
       "<html>\\[\\newcommand{\\Bold}[1]{\\mathbf{#1}}\\left(\\begin{array}{rrrr|r}\n",
       "1 & 0 & 4 & 4 & 1 \\\\\n",
       "1 & 2 & 0 & 3 & 0 \\\\\n",
       "0 & 1 & -2 & -1 & a - 1 \\\\\n",
       "1 & 1 & a & 3 & a\n",
       "\\end{array}\\right)\\]</html>"
      ],
      "text/latex": [
       "$$\\newcommand{\\Bold}[1]{\\mathbf{#1}}\\left(\\begin{array}{rrrr|r}\n",
       "1 & 0 & 4 & 4 & 1 \\\\\n",
       "1 & 2 & 0 & 3 & 0 \\\\\n",
       "0 & 1 & -2 & -1 & a - 1 \\\\\n",
       "1 & 1 & a & 3 & a\n",
       "\\end{array}\\right)$$"
      ],
      "text/plain": [
       "[    1     0     4     4|    1]\n",
       "[    1     2     0     3|    0]\n",
       "[    0     1    -2    -1|a - 1]\n",
       "[    1     1     a     3|    a]"
      ]
     },
     "metadata": {},
     "output_type": "display_data"
    }
   ],
   "source": [
    "Aa=block_matrix([[A,I]]); show(Aa)"
   ]
  },
  {
   "cell_type": "code",
   "execution_count": 53,
   "metadata": {},
   "outputs": [
    {
     "data": {
      "text/html": [
       "<html>\\[\\newcommand{\\Bold}[1]{\\mathbf{#1}}\\left(\\begin{array}{rrrr|r}\n",
       "1 & 0 & 4 & 4 & 1 \\\\\n",
       "0 & 2 & -4 & -1 & -1 \\\\\n",
       "0 & 1 & -2 & -1 & a - 1 \\\\\n",
       "1 & 1 & a & 3 & a\n",
       "\\end{array}\\right)\\]</html>"
      ],
      "text/latex": [
       "$$\\newcommand{\\Bold}[1]{\\mathbf{#1}}\\left(\\begin{array}{rrrr|r}\n",
       "1 & 0 & 4 & 4 & 1 \\\\\n",
       "0 & 2 & -4 & -1 & -1 \\\\\n",
       "0 & 1 & -2 & -1 & a - 1 \\\\\n",
       "1 & 1 & a & 3 & a\n",
       "\\end{array}\\right)$$"
      ],
      "text/plain": [
       "[    1     0     4     4|    1]\n",
       "[    0     2    -4    -1|   -1]\n",
       "[    0     1    -2    -1|a - 1]\n",
       "[    1     1     a     3|    a]"
      ]
     },
     "metadata": {},
     "output_type": "display_data"
    }
   ],
   "source": [
    "Aa.add_multiple_of_row(1,0,-1); show(Aa)"
   ]
  },
  {
   "cell_type": "code",
   "execution_count": 54,
   "metadata": {},
   "outputs": [
    {
     "data": {
      "text/html": [
       "<html>\\[\\newcommand{\\Bold}[1]{\\mathbf{#1}}\\left(\\begin{array}{rrrr|r}\n",
       "1 & 0 & 4 & 4 & 1 \\\\\n",
       "0 & 2 & -4 & -1 & -1 \\\\\n",
       "0 & 1 & -2 & -1 & a - 1 \\\\\n",
       "0 & 1 & a - 4 & -1 & a - 1\n",
       "\\end{array}\\right)\\]</html>"
      ],
      "text/latex": [
       "$$\\newcommand{\\Bold}[1]{\\mathbf{#1}}\\left(\\begin{array}{rrrr|r}\n",
       "1 & 0 & 4 & 4 & 1 \\\\\n",
       "0 & 2 & -4 & -1 & -1 \\\\\n",
       "0 & 1 & -2 & -1 & a - 1 \\\\\n",
       "0 & 1 & a - 4 & -1 & a - 1\n",
       "\\end{array}\\right)$$"
      ],
      "text/plain": [
       "[    1     0     4     4|    1]\n",
       "[    0     2    -4    -1|   -1]\n",
       "[    0     1    -2    -1|a - 1]\n",
       "[    0     1 a - 4    -1|a - 1]"
      ]
     },
     "metadata": {},
     "output_type": "display_data"
    }
   ],
   "source": [
    "Aa.add_multiple_of_row(3,0,-1); show(Aa)"
   ]
  },
  {
   "cell_type": "code",
   "execution_count": 55,
   "metadata": {},
   "outputs": [
    {
     "data": {
      "text/html": [
       "<html>\\[\\newcommand{\\Bold}[1]{\\mathbf{#1}}\\left(\\begin{array}{rrrr|r}\n",
       "1 & 0 & 4 & 4 & 1 \\\\\n",
       "0 & 1 & -2 & -1 & a - 1 \\\\\n",
       "0 & 2 & -4 & -1 & -1 \\\\\n",
       "0 & 1 & a - 4 & -1 & a - 1\n",
       "\\end{array}\\right)\\]</html>"
      ],
      "text/latex": [
       "$$\\newcommand{\\Bold}[1]{\\mathbf{#1}}\\left(\\begin{array}{rrrr|r}\n",
       "1 & 0 & 4 & 4 & 1 \\\\\n",
       "0 & 1 & -2 & -1 & a - 1 \\\\\n",
       "0 & 2 & -4 & -1 & -1 \\\\\n",
       "0 & 1 & a - 4 & -1 & a - 1\n",
       "\\end{array}\\right)$$"
      ],
      "text/plain": [
       "[    1     0     4     4|    1]\n",
       "[    0     1    -2    -1|a - 1]\n",
       "[    0     2    -4    -1|   -1]\n",
       "[    0     1 a - 4    -1|a - 1]"
      ]
     },
     "metadata": {},
     "output_type": "display_data"
    }
   ],
   "source": [
    "Aa.swap_rows(1,2);show(Aa)"
   ]
  },
  {
   "cell_type": "code",
   "execution_count": 58,
   "metadata": {},
   "outputs": [
    {
     "data": {
      "text/html": [
       "<html>\\[\\newcommand{\\Bold}[1]{\\mathbf{#1}}\\left(\\begin{array}{rrrr|r}\n",
       "1 & 0 & 4 & 4 & 1 \\\\\n",
       "0 & 1 & -2 & -1 & a - 1 \\\\\n",
       "0 & 0 & 0 & 1 & -2 \\, a + 1 \\\\\n",
       "0 & 1 & a - 4 & -1 & a - 1\n",
       "\\end{array}\\right)\\]</html>"
      ],
      "text/latex": [
       "$$\\newcommand{\\Bold}[1]{\\mathbf{#1}}\\left(\\begin{array}{rrrr|r}\n",
       "1 & 0 & 4 & 4 & 1 \\\\\n",
       "0 & 1 & -2 & -1 & a - 1 \\\\\n",
       "0 & 0 & 0 & 1 & -2 \\, a + 1 \\\\\n",
       "0 & 1 & a - 4 & -1 & a - 1\n",
       "\\end{array}\\right)$$"
      ],
      "text/plain": [
       "[       1        0        4        4|       1]\n",
       "[       0        1       -2       -1|   a - 1]\n",
       "[       0        0        0        1|-2*a + 1]\n",
       "[       0        1    a - 4       -1|   a - 1]"
      ]
     },
     "metadata": {},
     "output_type": "display_data"
    }
   ],
   "source": [
    "Aa.add_multiple_of_row(2,1,-2); show(Aa)"
   ]
  },
  {
   "cell_type": "code",
   "execution_count": 59,
   "metadata": {},
   "outputs": [
    {
     "data": {
      "text/html": [
       "<html>\\[\\newcommand{\\Bold}[1]{\\mathbf{#1}}\\left(\\begin{array}{rrrr|r}\n",
       "1 & 0 & 4 & 4 & 1 \\\\\n",
       "0 & 1 & -2 & -1 & a - 1 \\\\\n",
       "0 & 0 & 0 & 1 & -2 \\, a + 1 \\\\\n",
       "0 & 0 & a - 2 & 0 & 0\n",
       "\\end{array}\\right)\\]</html>"
      ],
      "text/latex": [
       "$$\\newcommand{\\Bold}[1]{\\mathbf{#1}}\\left(\\begin{array}{rrrr|r}\n",
       "1 & 0 & 4 & 4 & 1 \\\\\n",
       "0 & 1 & -2 & -1 & a - 1 \\\\\n",
       "0 & 0 & 0 & 1 & -2 \\, a + 1 \\\\\n",
       "0 & 0 & a - 2 & 0 & 0\n",
       "\\end{array}\\right)$$"
      ],
      "text/plain": [
       "[       1        0        4        4|       1]\n",
       "[       0        1       -2       -1|   a - 1]\n",
       "[       0        0        0        1|-2*a + 1]\n",
       "[       0        0    a - 2        0|       0]"
      ]
     },
     "metadata": {},
     "output_type": "display_data"
    }
   ],
   "source": [
    "Aa.add_multiple_of_row(3,1,-1);show(Aa)"
   ]
  },
  {
   "cell_type": "code",
   "execution_count": 60,
   "metadata": {},
   "outputs": [],
   "source": [
    "Aa.swap_rows(2,3)"
   ]
  },
  {
   "cell_type": "code",
   "execution_count": 61,
   "metadata": {},
   "outputs": [
    {
     "data": {
      "text/html": [
       "<html>\\[\\newcommand{\\Bold}[1]{\\mathbf{#1}}\\left(\\begin{array}{rrrr|r}\n",
       "1 & 0 & 4 & 4 & 1 \\\\\n",
       "0 & 1 & -2 & -1 & a - 1 \\\\\n",
       "0 & 0 & a - 2 & 0 & 0 \\\\\n",
       "0 & 0 & 0 & 1 & -2 \\, a + 1\n",
       "\\end{array}\\right)\\]</html>"
      ],
      "text/latex": [
       "$$\\newcommand{\\Bold}[1]{\\mathbf{#1}}\\left(\\begin{array}{rrrr|r}\n",
       "1 & 0 & 4 & 4 & 1 \\\\\n",
       "0 & 1 & -2 & -1 & a - 1 \\\\\n",
       "0 & 0 & a - 2 & 0 & 0 \\\\\n",
       "0 & 0 & 0 & 1 & -2 \\, a + 1\n",
       "\\end{array}\\right)$$"
      ],
      "text/plain": [
       "[       1        0        4        4|       1]\n",
       "[       0        1       -2       -1|   a - 1]\n",
       "[       0        0    a - 2        0|       0]\n",
       "[       0        0        0        1|-2*a + 1]"
      ]
     },
     "metadata": {},
     "output_type": "display_data"
    }
   ],
   "source": [
    "show(Aa)"
   ]
  },
  {
   "cell_type": "markdown",
   "metadata": {},
   "source": [
    "Si a!=2, llavors rang(A)=4=rang(Aa)=nº d'incognites (columnes), per el Tº de Rouchè-Frobenious és un SCD.\n",
    "Si a=2, llavors rang(A)=3=rang(Aa)<nº d'incognites (columnes), per el Tº de Rouchè-Frobenious és un SCI."
   ]
  },
  {
   "cell_type": "code",
   "execution_count": 19,
   "metadata": {},
   "outputs": [],
   "source": [
    "A=H; I=matrix(SR,[[1],[0],[a-1],[a]])"
   ]
  },
  {
   "cell_type": "code",
   "execution_count": 20,
   "metadata": {},
   "outputs": [
    {
     "data": {
      "text/html": [
       "<html>\\[\\newcommand{\\Bold}[1]{\\mathbf{#1}}\\left(\\begin{array}{rrrr|r}\n",
       "1 & 0 & 4 & 4 & 1 \\\\\n",
       "1 & 2 & 0 & 3 & 0 \\\\\n",
       "0 & 1 & -2 & -1 & a - 1 \\\\\n",
       "1 & 1 & a & 3 & a\n",
       "\\end{array}\\right)\\]</html>"
      ],
      "text/latex": [
       "$$\\newcommand{\\Bold}[1]{\\mathbf{#1}}\\left(\\begin{array}{rrrr|r}\n",
       "1 & 0 & 4 & 4 & 1 \\\\\n",
       "1 & 2 & 0 & 3 & 0 \\\\\n",
       "0 & 1 & -2 & -1 & a - 1 \\\\\n",
       "1 & 1 & a & 3 & a\n",
       "\\end{array}\\right)$$"
      ],
      "text/plain": [
       "[    1     0     4     4|    1]\n",
       "[    1     2     0     3|    0]\n",
       "[    0     1    -2    -1|a - 1]\n",
       "[    1     1     a     3|    a]"
      ]
     },
     "metadata": {},
     "output_type": "display_data"
    }
   ],
   "source": [
    "Aa=block_matrix([[A,I]]); show(Aa)"
   ]
  },
  {
   "cell_type": "code",
   "execution_count": 21,
   "metadata": {},
   "outputs": [
    {
     "data": {
      "text/html": [
       "<html>\\[\\newcommand{\\Bold}[1]{\\mathbf{#1}}\\left(\\begin{array}{rrrrr}\n",
       "1 & 0 & 4 & 0 & 13 \\\\\n",
       "0 & 1 & -2 & 0 & -2 \\\\\n",
       "0 & 0 & 0 & 1 & -3 \\\\\n",
       "0 & 0 & 0 & 0 & 0\n",
       "\\end{array}\\right)\\]</html>"
      ],
      "text/latex": [
       "$$\\newcommand{\\Bold}[1]{\\mathbf{#1}}\\left(\\begin{array}{rrrrr}\n",
       "1 & 0 & 4 & 0 & 13 \\\\\n",
       "0 & 1 & -2 & 0 & -2 \\\\\n",
       "0 & 0 & 0 & 1 & -3 \\\\\n",
       "0 & 0 & 0 & 0 & 0\n",
       "\\end{array}\\right)$$"
      ],
      "text/plain": [
       "[ 1  0  4  0 13]\n",
       "[ 0  1 -2  0 -2]\n",
       "[ 0  0  0  1 -3]\n",
       "[ 0  0  0  0  0]"
      ]
     },
     "metadata": {},
     "output_type": "display_data"
    }
   ],
   "source": [
    "show(Aa(a=2).echelon_form())"
   ]
  },
  {
   "cell_type": "code",
   "execution_count": 22,
   "metadata": {},
   "outputs": [
    {
     "data": {
      "text/html": [
       "<html>\\[\\newcommand{\\Bold}[1]{\\mathbf{#1}}\\left(\\begin{array}{rrrrrrrrr}\n",
       "1 & 0 & 0 & 0 & 2 \\, {\\left(2 \\, a - 1\\right)} {\\left(\\frac{1}{a - 2} + 2\\right)} - \\frac{2 \\, {\\left(2 \\, a - 1\\right)}}{a - 2} + 1 & \\frac{4}{a - 2} + 5 & -4 & \\frac{4}{a - 2} + 8 & -\\frac{4}{a - 2} \\\\\n",
       "0 & 1 & 0 & 0 & -\\frac{1}{2} \\, {\\left(2 \\, a - 1\\right)} {\\left(\\frac{2}{a - 2} + 1\\right)} + \\frac{2 \\, a - 1}{a - 2} - \\frac{1}{2} & -\\frac{2}{a - 2} - 1 & 1 & -\\frac{2}{a - 2} - 1 & \\frac{2}{a - 2} \\\\\n",
       "0 & 0 & 1 & 0 & 0 & -\\frac{1}{a - 2} & 0 & -\\frac{1}{a - 2} & \\frac{1}{a - 2} \\\\\n",
       "0 & 0 & 0 & 1 & -2 \\, a + 1 & -1 & 1 & -2 & 0\n",
       "\\end{array}\\right)\\]</html>"
      ],
      "text/latex": [
       "$$\\newcommand{\\Bold}[1]{\\mathbf{#1}}\\left(\\begin{array}{rrrrrrrrr}\n",
       "1 & 0 & 0 & 0 & 2 \\, {\\left(2 \\, a - 1\\right)} {\\left(\\frac{1}{a - 2} + 2\\right)} - \\frac{2 \\, {\\left(2 \\, a - 1\\right)}}{a - 2} + 1 & \\frac{4}{a - 2} + 5 & -4 & \\frac{4}{a - 2} + 8 & -\\frac{4}{a - 2} \\\\\n",
       "0 & 1 & 0 & 0 & -\\frac{1}{2} \\, {\\left(2 \\, a - 1\\right)} {\\left(\\frac{2}{a - 2} + 1\\right)} + \\frac{2 \\, a - 1}{a - 2} - \\frac{1}{2} & -\\frac{2}{a - 2} - 1 & 1 & -\\frac{2}{a - 2} - 1 & \\frac{2}{a - 2} \\\\\n",
       "0 & 0 & 1 & 0 & 0 & -\\frac{1}{a - 2} & 0 & -\\frac{1}{a - 2} & \\frac{1}{a - 2} \\\\\n",
       "0 & 0 & 0 & 1 & -2 \\, a + 1 & -1 & 1 & -2 & 0\n",
       "\\end{array}\\right)$$"
      ],
      "text/plain": [
       "[                                                       1                                                        0                                                        0                                                        0    2*(2*a - 1)*(1/(a - 2) + 2) - 2*(2*a - 1)/(a - 2) + 1                                            4/(a - 2) + 5                                                       -4                                            4/(a - 2) + 8                                               -4/(a - 2)]\n",
       "[                                                       0                                                        1                                                        0                                                        0 -1/2*(2*a - 1)*(2/(a - 2) + 1) + (2*a - 1)/(a - 2) - 1/2                                           -2/(a - 2) - 1                                                        1                                           -2/(a - 2) - 1                                                2/(a - 2)]\n",
       "[                                                       0                                                        0                                                        1                                                        0                                                        0                                               -1/(a - 2)                                                        0                                               -1/(a - 2)                                                1/(a - 2)]\n",
       "[                                                       0                                                        0                                                        0                                                        1                                                 -2*a + 1                                                       -1                                                        1                                                       -2                                                        0]"
      ]
     },
     "metadata": {},
     "output_type": "display_data"
    }
   ],
   "source": [
    "show(Aa.extended_echelon_form())"
   ]
  },
  {
   "cell_type": "code",
   "execution_count": 27,
   "metadata": {},
   "outputs": [
    {
     "data": {
      "text/html": [
       "<html>\\[\\newcommand{\\Bold}[1]{\\mathbf{#1}}\\left(\\begin{array}{rrrr}\n",
       "\\frac{4}{a - 2} + 5 & -4 & \\frac{4}{a - 2} + 8 & -\\frac{4}{a - 2} \\\\\n",
       "-\\frac{2}{a - 2} - 1 & 1 & -\\frac{2}{a - 2} - 1 & \\frac{2}{a - 2} \\\\\n",
       "-\\frac{1}{a - 2} & 0 & -\\frac{1}{a - 2} & \\frac{1}{a - 2} \\\\\n",
       "-1 & 1 & -2 & 0\n",
       "\\end{array}\\right)\\]</html>"
      ],
      "text/latex": [
       "$$\\newcommand{\\Bold}[1]{\\mathbf{#1}}\\left(\\begin{array}{rrrr}\n",
       "\\frac{4}{a - 2} + 5 & -4 & \\frac{4}{a - 2} + 8 & -\\frac{4}{a - 2} \\\\\n",
       "-\\frac{2}{a - 2} - 1 & 1 & -\\frac{2}{a - 2} - 1 & \\frac{2}{a - 2} \\\\\n",
       "-\\frac{1}{a - 2} & 0 & -\\frac{1}{a - 2} & \\frac{1}{a - 2} \\\\\n",
       "-1 & 1 & -2 & 0\n",
       "\\end{array}\\right)$$"
      ],
      "text/plain": [
       "[ 4/(a - 2) + 5             -4  4/(a - 2) + 8     -4/(a - 2)]\n",
       "[-2/(a - 2) - 1              1 -2/(a - 2) - 1      2/(a - 2)]\n",
       "[    -1/(a - 2)              0     -1/(a - 2)      1/(a - 2)]\n",
       "[            -1              1             -2              0]"
      ]
     },
     "metadata": {},
     "output_type": "display_data"
    }
   ],
   "source": [
    "P=(Aa.extended_echelon_form()).matrix_from_columns([5,6,7,8]); show(P)"
   ]
  },
  {
   "cell_type": "code",
   "execution_count": 24,
   "metadata": {},
   "outputs": [
    {
     "data": {
      "text/html": [
       "<html>\\[\\newcommand{\\Bold}[1]{\\mathbf{#1}}\\left(\\begin{array}{rrrr|r}\n",
       "1 & 0 & -\\frac{4 \\, a}{a - 2} + \\frac{8}{a - 2} + 4 & 0 & 4 \\, {\\left(a - 1\\right)} {\\left(\\frac{1}{a - 2} + 2\\right)} - \\frac{4 \\, a}{a - 2} + \\frac{4}{a - 2} + 5 \\\\\n",
       "0 & 1 & \\frac{2 \\, a}{a - 2} - \\frac{4}{a - 2} - 2 & 0 & -{\\left(a - 1\\right)} {\\left(\\frac{2}{a - 2} + 1\\right)} + \\frac{2 \\, a}{a - 2} - \\frac{2}{a - 2} - 1 \\\\\n",
       "0 & 0 & \\frac{a}{a - 2} - \\frac{2}{a - 2} & 0 & -\\frac{a - 1}{a - 2} + \\frac{a}{a - 2} - \\frac{1}{a - 2} \\\\\n",
       "0 & 0 & 0 & 1 & -2 \\, a + 1\n",
       "\\end{array}\\right)\\]</html>"
      ],
      "text/latex": [
       "$$\\newcommand{\\Bold}[1]{\\mathbf{#1}}\\left(\\begin{array}{rrrr|r}\n",
       "1 & 0 & -\\frac{4 \\, a}{a - 2} + \\frac{8}{a - 2} + 4 & 0 & 4 \\, {\\left(a - 1\\right)} {\\left(\\frac{1}{a - 2} + 2\\right)} - \\frac{4 \\, a}{a - 2} + \\frac{4}{a - 2} + 5 \\\\\n",
       "0 & 1 & \\frac{2 \\, a}{a - 2} - \\frac{4}{a - 2} - 2 & 0 & -{\\left(a - 1\\right)} {\\left(\\frac{2}{a - 2} + 1\\right)} + \\frac{2 \\, a}{a - 2} - \\frac{2}{a - 2} - 1 \\\\\n",
       "0 & 0 & \\frac{a}{a - 2} - \\frac{2}{a - 2} & 0 & -\\frac{a - 1}{a - 2} + \\frac{a}{a - 2} - \\frac{1}{a - 2} \\\\\n",
       "0 & 0 & 0 & 1 & -2 \\, a + 1\n",
       "\\end{array}\\right)$$"
      ],
      "text/plain": [
       "[                                                      1                                                       0                            -4*a/(a - 2) + 8/(a - 2) + 4                                                       0|4*(a - 1)*(1/(a - 2) + 2) - 4*a/(a - 2) + 4/(a - 2) + 5]\n",
       "[                                                      0                                                       1                             2*a/(a - 2) - 4/(a - 2) - 2                                                       0| -(a - 1)*(2/(a - 2) + 1) + 2*a/(a - 2) - 2/(a - 2) - 1]\n",
       "[                                                      0                                                       0                                   a/(a - 2) - 2/(a - 2)                                                       0|               -(a - 1)/(a - 2) + a/(a - 2) - 1/(a - 2)]\n",
       "[                                                      0                                                       0                                                       0                                                       1|                                               -2*a + 1]"
      ]
     },
     "metadata": {},
     "output_type": "display_data"
    }
   ],
   "source": [
    "PAa=P*Aa; show(PAa)"
   ]
  },
  {
   "cell_type": "markdown",
   "metadata": {},
   "source": [
    "Les 4 primeres columnes no donen la indentitat perque pot no ser la identitat quant el rang no es 4, aço passa amb a==2"
   ]
  },
  {
   "cell_type": "code",
   "execution_count": 29,
   "metadata": {
    "scrolled": true
   },
   "outputs": [
    {
     "data": {
      "text/html": [
       "<html>\\[\\newcommand{\\Bold}[1]{\\mathbf{#1}}\\left(\\begin{array}{rrrrr}\n",
       "1 & 0 & 4 & 0 & 13 \\\\\n",
       "0 & 1 & -2 & 0 & -2 \\\\\n",
       "0 & 0 & 0 & 0 & 0 \\\\\n",
       "0 & 0 & 0 & 1 & -3\n",
       "\\end{array}\\right)\\]</html>"
      ],
      "text/latex": [
       "$$\\newcommand{\\Bold}[1]{\\mathbf{#1}}\\left(\\begin{array}{rrrrr}\n",
       "1 & 0 & 4 & 0 & 13 \\\\\n",
       "0 & 1 & -2 & 0 & -2 \\\\\n",
       "0 & 0 & 0 & 0 & 0 \\\\\n",
       "0 & 0 & 0 & 1 & -3\n",
       "\\end{array}\\right)$$"
      ],
      "text/plain": [
       "[ 1  0  4  0 13]\n",
       "[ 0  1 -2  0 -2]\n",
       "[ 0  0  0  0  0]\n",
       "[ 0  0  0  1 -3]"
      ]
     },
     "metadata": {},
     "output_type": "display_data"
    }
   ],
   "source": [
    "PAa=P(a=2)*Aa(a=2); show(PAa)"
   ]
  },
  {
   "cell_type": "code",
   "execution_count": 30,
   "metadata": {},
   "outputs": [
    {
     "data": {
      "text/html": [
       "<html>\\[\\newcommand{\\Bold}[1]{\\mathbf{#1}}\\left(\\begin{array}{rrrr}\n",
       "\\frac{4}{a - 2} + 5 & -4 & \\frac{4}{a - 2} + 8 & -\\frac{4}{a - 2} \\\\\n",
       "-\\frac{2}{a - 2} - 1 & 1 & -\\frac{2}{a - 2} - 1 & \\frac{2}{a - 2} \\\\\n",
       "-\\frac{1}{a - 2} & 0 & -\\frac{1}{a - 2} & \\frac{1}{a - 2} \\\\\n",
       "-1 & 1 & -2 & 0\n",
       "\\end{array}\\right)\\]</html>"
      ],
      "text/latex": [
       "$$\\newcommand{\\Bold}[1]{\\mathbf{#1}}\\left(\\begin{array}{rrrr}\n",
       "\\frac{4}{a - 2} + 5 & -4 & \\frac{4}{a - 2} + 8 & -\\frac{4}{a - 2} \\\\\n",
       "-\\frac{2}{a - 2} - 1 & 1 & -\\frac{2}{a - 2} - 1 & \\frac{2}{a - 2} \\\\\n",
       "-\\frac{1}{a - 2} & 0 & -\\frac{1}{a - 2} & \\frac{1}{a - 2} \\\\\n",
       "-1 & 1 & -2 & 0\n",
       "\\end{array}\\right)$$"
      ],
      "text/plain": [
       "[ 4/(a - 2) + 5             -4  4/(a - 2) + 8     -4/(a - 2)]\n",
       "[-2/(a - 2) - 1              1 -2/(a - 2) - 1      2/(a - 2)]\n",
       "[    -1/(a - 2)              0     -1/(a - 2)      1/(a - 2)]\n",
       "[            -1              1             -2              0]"
      ]
     },
     "metadata": {},
     "output_type": "display_data"
    }
   ],
   "source": [
    "show(P(a=2))"
   ]
  },
  {
   "cell_type": "code",
   "execution_count": null,
   "metadata": {},
   "outputs": [],
   "source": []
  },
  {
   "cell_type": "code",
   "execution_count": null,
   "metadata": {},
   "outputs": [],
   "source": []
  },
  {
   "cell_type": "code",
   "execution_count": null,
   "metadata": {},
   "outputs": [],
   "source": []
  },
  {
   "cell_type": "code",
   "execution_count": null,
   "metadata": {},
   "outputs": [],
   "source": []
  },
  {
   "cell_type": "code",
   "execution_count": null,
   "metadata": {},
   "outputs": [],
   "source": []
  },
  {
   "cell_type": "code",
   "execution_count": null,
   "metadata": {},
   "outputs": [],
   "source": []
  },
  {
   "cell_type": "code",
   "execution_count": null,
   "metadata": {},
   "outputs": [],
   "source": []
  },
  {
   "cell_type": "code",
   "execution_count": null,
   "metadata": {},
   "outputs": [],
   "source": []
  },
  {
   "cell_type": "code",
   "execution_count": null,
   "metadata": {},
   "outputs": [],
   "source": []
  },
  {
   "cell_type": "code",
   "execution_count": null,
   "metadata": {},
   "outputs": [],
   "source": []
  },
  {
   "cell_type": "code",
   "execution_count": null,
   "metadata": {},
   "outputs": [],
   "source": []
  },
  {
   "cell_type": "code",
   "execution_count": null,
   "metadata": {},
   "outputs": [],
   "source": []
  },
  {
   "cell_type": "code",
   "execution_count": null,
   "metadata": {},
   "outputs": [],
   "source": []
  },
  {
   "cell_type": "code",
   "execution_count": null,
   "metadata": {},
   "outputs": [],
   "source": []
  },
  {
   "cell_type": "code",
   "execution_count": null,
   "metadata": {},
   "outputs": [],
   "source": []
  },
  {
   "cell_type": "code",
   "execution_count": null,
   "metadata": {},
   "outputs": [],
   "source": []
  },
  {
   "cell_type": "code",
   "execution_count": null,
   "metadata": {},
   "outputs": [],
   "source": []
  },
  {
   "cell_type": "code",
   "execution_count": null,
   "metadata": {},
   "outputs": [],
   "source": []
  },
  {
   "cell_type": "code",
   "execution_count": null,
   "metadata": {},
   "outputs": [],
   "source": []
  },
  {
   "cell_type": "code",
   "execution_count": null,
   "metadata": {},
   "outputs": [],
   "source": []
  },
  {
   "cell_type": "code",
   "execution_count": null,
   "metadata": {},
   "outputs": [],
   "source": []
  },
  {
   "cell_type": "code",
   "execution_count": null,
   "metadata": {},
   "outputs": [],
   "source": []
  },
  {
   "cell_type": "code",
   "execution_count": null,
   "metadata": {},
   "outputs": [],
   "source": []
  },
  {
   "cell_type": "code",
   "execution_count": null,
   "metadata": {},
   "outputs": [],
   "source": []
  },
  {
   "cell_type": "code",
   "execution_count": null,
   "metadata": {},
   "outputs": [],
   "source": []
  },
  {
   "cell_type": "code",
   "execution_count": null,
   "metadata": {},
   "outputs": [],
   "source": []
  },
  {
   "cell_type": "code",
   "execution_count": null,
   "metadata": {},
   "outputs": [],
   "source": []
  },
  {
   "cell_type": "code",
   "execution_count": null,
   "metadata": {},
   "outputs": [],
   "source": []
  },
  {
   "cell_type": "code",
   "execution_count": null,
   "metadata": {},
   "outputs": [],
   "source": []
  },
  {
   "cell_type": "code",
   "execution_count": null,
   "metadata": {},
   "outputs": [],
   "source": []
  },
  {
   "cell_type": "code",
   "execution_count": null,
   "metadata": {},
   "outputs": [],
   "source": []
  },
  {
   "cell_type": "code",
   "execution_count": null,
   "metadata": {},
   "outputs": [],
   "source": []
  }
 ],
 "metadata": {
  "kernelspec": {
   "display_name": "SageMath 9.4",
   "language": "sage",
   "name": "sagemath-9.4"
  },
  "language_info": {
   "codemirror_mode": {
    "name": "ipython",
    "version": 3
   },
   "file_extension": ".py",
   "mimetype": "text/x-python",
   "name": "python",
   "nbconvert_exporter": "python",
   "pygments_lexer": "ipython3",
   "version": "3.9.5"
  }
 },
 "nbformat": 4,
 "nbformat_minor": 4
}
