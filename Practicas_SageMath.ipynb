{
 "cells": [
  {
   "cell_type": "markdown",
   "metadata": {},
   "source": [
    "# Algebra Lineal\n",
    "## Pràctica 1.1.   Sistemes d'equacions lineals i matrius\n",
    "### Problema 1"
   ]
  },
  {
   "cell_type": "markdown",
   "metadata": {},
   "source": [
    "Recordem que per a que una matriu sigui invertible té que complir que sigui quadrada i que compleisca les següents condicions equivalents:\n",
    "\n",
    "(1) Determinant diferent de zero\n",
    "\n",
    "(2) Rang igual al nombre de files (columnes) de la matriu"
   ]
  },
  {
   "cell_type": "code",
   "execution_count": 27,
   "metadata": {},
   "outputs": [],
   "source": [
    "A=matrix(ZZ,[[2,2],[3,-4]])\n",
    "B=matrix(ZZ,2,[-1,-4,5,3,12,0])\n",
    "C=matrix(ZZ,[[0,0,1],[0,1,0],[1,0,0]])\n",
    "D=matrix(ZZ,[[1,1,1],[1,0,1],[0,1,-1]])\n",
    "E=matrix(ZZ,3,3,[3,-7,5,1,-3,2,2,-5,4])\n",
    "F=matrix(ZZ, [[1,0,0,1],[1,2,0,0],[0,1,3,0],[0,0,1,-1]])\n",
    "G=matrix(ZZ, [[1,0,1],[2,1,1],[1,2,-1]])\n",
    "var('a'); H=matrix(SR, [[1,0,4,4],[1,2,0,3],[0,1,-2,-1],[1,1,a,3]])"
   ]
  },
  {
   "cell_type": "code",
   "execution_count": 28,
   "metadata": {},
   "outputs": [
    {
     "data": {
      "text/html": [
       "<html>\\[\\newcommand{\\Bold}[1]{\\mathbf{#1}}\\left(\\begin{array}{rr}\n",
       "2 & 2 \\\\\n",
       "3 & -4\n",
       "\\end{array}\\right)\\]</html>"
      ],
      "text/latex": [
       "$$\\newcommand{\\Bold}[1]{\\mathbf{#1}}\\left(\\begin{array}{rr}\n",
       "2 & 2 \\\\\n",
       "3 & -4\n",
       "\\end{array}\\right)$$"
      ],
      "text/plain": [
       "[ 2  2]\n",
       "[ 3 -4]"
      ]
     },
     "metadata": {},
     "output_type": "display_data"
    },
    {
     "data": {
      "text/plain": [
       "2"
      ]
     },
     "execution_count": 28,
     "metadata": {},
     "output_type": "execute_result"
    }
   ],
   "source": [
    "show(A)\n",
    "A.rank()"
   ]
  },
  {
   "cell_type": "code",
   "execution_count": 29,
   "metadata": {},
   "outputs": [
    {
     "data": {
      "text/html": [
       "<html>\\[\\newcommand{\\Bold}[1]{\\mathbf{#1}}\\left(\\begin{array}{rr}\n",
       "\\frac{2}{7} & \\frac{1}{7} \\\\\n",
       "\\frac{3}{14} & -\\frac{1}{7}\n",
       "\\end{array}\\right)\\]</html>"
      ],
      "text/latex": [
       "$$\\newcommand{\\Bold}[1]{\\mathbf{#1}}\\left(\\begin{array}{rr}\n",
       "\\frac{2}{7} & \\frac{1}{7} \\\\\n",
       "\\frac{3}{14} & -\\frac{1}{7}\n",
       "\\end{array}\\right)$$"
      ],
      "text/plain": [
       "[ 2/7  1/7]\n",
       "[3/14 -1/7]"
      ]
     },
     "metadata": {},
     "output_type": "display_data"
    }
   ],
   "source": [
    "A_inv=A.inverse(); show(A_inv)"
   ]
  },
  {
   "cell_type": "code",
   "execution_count": 30,
   "metadata": {},
   "outputs": [
    {
     "data": {
      "text/html": [
       "<html>\\[\\newcommand{\\Bold}[1]{\\mathbf{#1}}\\left(\\begin{array}{rr}\n",
       "1 & 0 \\\\\n",
       "0 & 1\n",
       "\\end{array}\\right)\\]</html>"
      ],
      "text/latex": [
       "$$\\newcommand{\\Bold}[1]{\\mathbf{#1}}\\left(\\begin{array}{rr}\n",
       "1 & 0 \\\\\n",
       "0 & 1\n",
       "\\end{array}\\right)$$"
      ],
      "text/plain": [
       "[1 0]\n",
       "[0 1]"
      ]
     },
     "metadata": {},
     "output_type": "display_data"
    }
   ],
   "source": [
    "show(A*A_inv)"
   ]
  },
  {
   "cell_type": "code",
   "execution_count": 31,
   "metadata": {},
   "outputs": [
    {
     "data": {
      "text/html": [
       "<html>\\[\\newcommand{\\Bold}[1]{\\mathbf{#1}}\\left(\\begin{array}{rrr}\n",
       "-1 & -4 & 5 \\\\\n",
       "3 & 12 & 0\n",
       "\\end{array}\\right)\\]</html>"
      ],
      "text/latex": [
       "$$\\newcommand{\\Bold}[1]{\\mathbf{#1}}\\left(\\begin{array}{rrr}\n",
       "-1 & -4 & 5 \\\\\n",
       "3 & 12 & 0\n",
       "\\end{array}\\right)$$"
      ],
      "text/plain": [
       "[-1 -4  5]\n",
       "[ 3 12  0]"
      ]
     },
     "metadata": {},
     "output_type": "display_data"
    },
    {
     "data": {
      "text/plain": [
       "2"
      ]
     },
     "execution_count": 31,
     "metadata": {},
     "output_type": "execute_result"
    }
   ],
   "source": [
    "show(B)\n",
    "B.rank()"
   ]
  },
  {
   "cell_type": "code",
   "execution_count": 32,
   "metadata": {},
   "outputs": [
    {
     "ename": "ValueError",
     "evalue": "self must be a square matrix",
     "output_type": "error",
     "traceback": [
      "\u001b[0;31m---------------------------------------------------------------------------\u001b[0m",
      "\u001b[0;31mValueError\u001b[0m                                Traceback (most recent call last)",
      "\u001b[0;32m<ipython-input-32-7f4092259661>\u001b[0m in \u001b[0;36m<module>\u001b[0;34m\u001b[0m\n\u001b[0;32m----> 1\u001b[0;31m \u001b[0mB\u001b[0m\u001b[0;34m.\u001b[0m\u001b[0mdeterminant\u001b[0m\u001b[0;34m(\u001b[0m\u001b[0;34m)\u001b[0m\u001b[0;34m\u001b[0m\u001b[0;34m\u001b[0m\u001b[0m\n\u001b[0m",
      "\u001b[0;32m/var/tmp/sage-9.4-current/local/lib/python3.9/site-packages/sage/matrix/matrix_integer_dense.pyx\u001b[0m in \u001b[0;36msage.matrix.matrix_integer_dense.Matrix_integer_dense.determinant (build/cythonized/sage/matrix/matrix_integer_dense.cpp:31164)\u001b[0;34m()\u001b[0m\n\u001b[1;32m   3745\u001b[0m             \u001b[0;32mreturn\u001b[0m \u001b[0md\u001b[0m\u001b[0;34m\u001b[0m\u001b[0;34m\u001b[0m\u001b[0m\n\u001b[1;32m   3746\u001b[0m         \u001b[0;32mif\u001b[0m \u001b[0;32mnot\u001b[0m \u001b[0mself\u001b[0m\u001b[0;34m.\u001b[0m\u001b[0mis_square\u001b[0m\u001b[0;34m(\u001b[0m\u001b[0;34m)\u001b[0m\u001b[0;34m:\u001b[0m\u001b[0;34m\u001b[0m\u001b[0;34m\u001b[0m\u001b[0m\n\u001b[0;32m-> 3747\u001b[0;31m             \u001b[0;32mraise\u001b[0m \u001b[0mValueError\u001b[0m\u001b[0;34m(\u001b[0m\u001b[0;34m\"self must be a square matrix\"\u001b[0m\u001b[0;34m)\u001b[0m\u001b[0;34m\u001b[0m\u001b[0;34m\u001b[0m\u001b[0m\n\u001b[0m\u001b[1;32m   3748\u001b[0m \u001b[0;34m\u001b[0m\u001b[0m\n\u001b[1;32m   3749\u001b[0m         \u001b[0mcdef\u001b[0m \u001b[0mPy_ssize_t\u001b[0m \u001b[0mn\u001b[0m \u001b[0;34m=\u001b[0m \u001b[0mself\u001b[0m\u001b[0;34m.\u001b[0m\u001b[0mnrows\u001b[0m\u001b[0;34m(\u001b[0m\u001b[0;34m)\u001b[0m\u001b[0;34m\u001b[0m\u001b[0;34m\u001b[0m\u001b[0m\n",
      "\u001b[0;31mValueError\u001b[0m: self must be a square matrix"
     ]
    }
   ],
   "source": [
    "B.determinant()"
   ]
  },
  {
   "cell_type": "code",
   "execution_count": 35,
   "metadata": {},
   "outputs": [
    {
     "data": {
      "text/html": [
       "<html>\\[\\newcommand{\\Bold}[1]{\\mathbf{#1}}\\left(\\begin{array}{rrr}\n",
       "0 & 0 & 1 \\\\\n",
       "0 & 1 & 0 \\\\\n",
       "1 & 0 & 0\n",
       "\\end{array}\\right)\\]</html>"
      ],
      "text/latex": [
       "$$\\newcommand{\\Bold}[1]{\\mathbf{#1}}\\left(\\begin{array}{rrr}\n",
       "0 & 0 & 1 \\\\\n",
       "0 & 1 & 0 \\\\\n",
       "1 & 0 & 0\n",
       "\\end{array}\\right)$$"
      ],
      "text/plain": [
       "[0 0 1]\n",
       "[0 1 0]\n",
       "[1 0 0]"
      ]
     },
     "metadata": {},
     "output_type": "display_data"
    },
    {
     "data": {
      "text/plain": [
       "3"
      ]
     },
     "execution_count": 35,
     "metadata": {},
     "output_type": "execute_result"
    }
   ],
   "source": [
    "show(C)\n",
    "C.rank()"
   ]
  },
  {
   "cell_type": "code",
   "execution_count": 36,
   "metadata": {},
   "outputs": [
    {
     "data": {
      "text/plain": [
       "-1"
      ]
     },
     "execution_count": 36,
     "metadata": {},
     "output_type": "execute_result"
    }
   ],
   "source": [
    "C.determinant()"
   ]
  },
  {
   "cell_type": "code",
   "execution_count": 37,
   "metadata": {},
   "outputs": [],
   "source": [
    "C_inv=C.inverse()"
   ]
  },
  {
   "cell_type": "code",
   "execution_count": 38,
   "metadata": {},
   "outputs": [
    {
     "data": {
      "text/html": [
       "<html>\\[\\newcommand{\\Bold}[1]{\\mathbf{#1}}\\left(\\begin{array}{rrr}\n",
       "1 & 0 & 0 \\\\\n",
       "0 & 1 & 0 \\\\\n",
       "0 & 0 & 1\n",
       "\\end{array}\\right)\\]</html>"
      ],
      "text/latex": [
       "$$\\newcommand{\\Bold}[1]{\\mathbf{#1}}\\left(\\begin{array}{rrr}\n",
       "1 & 0 & 0 \\\\\n",
       "0 & 1 & 0 \\\\\n",
       "0 & 0 & 1\n",
       "\\end{array}\\right)$$"
      ],
      "text/plain": [
       "[1 0 0]\n",
       "[0 1 0]\n",
       "[0 0 1]"
      ]
     },
     "metadata": {},
     "output_type": "display_data"
    }
   ],
   "source": [
    "show(C_inv*C)"
   ]
  },
  {
   "cell_type": "code",
   "execution_count": 39,
   "metadata": {},
   "outputs": [
    {
     "data": {
      "text/html": [
       "<html>\\[\\newcommand{\\Bold}[1]{\\mathbf{#1}}\\left(\\begin{array}{rrr}\n",
       "1 & 1 & 1 \\\\\n",
       "1 & 0 & 1 \\\\\n",
       "0 & 1 & -1\n",
       "\\end{array}\\right)\\]</html>"
      ],
      "text/latex": [
       "$$\\newcommand{\\Bold}[1]{\\mathbf{#1}}\\left(\\begin{array}{rrr}\n",
       "1 & 1 & 1 \\\\\n",
       "1 & 0 & 1 \\\\\n",
       "0 & 1 & -1\n",
       "\\end{array}\\right)$$"
      ],
      "text/plain": [
       "[ 1  1  1]\n",
       "[ 1  0  1]\n",
       "[ 0  1 -1]"
      ]
     },
     "metadata": {},
     "output_type": "display_data"
    },
    {
     "data": {
      "text/plain": [
       "3"
      ]
     },
     "execution_count": 39,
     "metadata": {},
     "output_type": "execute_result"
    }
   ],
   "source": [
    "show(D)\n",
    "D.rank()"
   ]
  },
  {
   "cell_type": "code",
   "execution_count": 40,
   "metadata": {},
   "outputs": [
    {
     "data": {
      "text/plain": [
       "1"
      ]
     },
     "execution_count": 40,
     "metadata": {},
     "output_type": "execute_result"
    }
   ],
   "source": [
    "D.determinant()"
   ]
  },
  {
   "cell_type": "code",
   "execution_count": 41,
   "metadata": {},
   "outputs": [
    {
     "data": {
      "text/html": [
       "<html>\\[\\newcommand{\\Bold}[1]{\\mathbf{#1}}\\left(\\begin{array}{rrr}\n",
       "1 & 0 & 0 \\\\\n",
       "0 & 1 & 0 \\\\\n",
       "0 & 0 & 1\n",
       "\\end{array}\\right)\\]</html>"
      ],
      "text/latex": [
       "$$\\newcommand{\\Bold}[1]{\\mathbf{#1}}\\left(\\begin{array}{rrr}\n",
       "1 & 0 & 0 \\\\\n",
       "0 & 1 & 0 \\\\\n",
       "0 & 0 & 1\n",
       "\\end{array}\\right)$$"
      ],
      "text/plain": [
       "[1 0 0]\n",
       "[0 1 0]\n",
       "[0 0 1]"
      ]
     },
     "metadata": {},
     "output_type": "display_data"
    }
   ],
   "source": [
    "D_inv=D.inverse()\n",
    "show(D*D_inv)"
   ]
  },
  {
   "cell_type": "code",
   "execution_count": 42,
   "metadata": {},
   "outputs": [
    {
     "data": {
      "text/html": [
       "<html>\\[\\newcommand{\\Bold}[1]{\\mathbf{#1}}\\left(\\begin{array}{rrr}\n",
       "3 & -7 & 5 \\\\\n",
       "1 & -3 & 2 \\\\\n",
       "2 & -5 & 4\n",
       "\\end{array}\\right)\\]</html>"
      ],
      "text/latex": [
       "$$\\newcommand{\\Bold}[1]{\\mathbf{#1}}\\left(\\begin{array}{rrr}\n",
       "3 & -7 & 5 \\\\\n",
       "1 & -3 & 2 \\\\\n",
       "2 & -5 & 4\n",
       "\\end{array}\\right)$$"
      ],
      "text/plain": [
       "[ 3 -7  5]\n",
       "[ 1 -3  2]\n",
       "[ 2 -5  4]"
      ]
     },
     "metadata": {},
     "output_type": "display_data"
    },
    {
     "data": {
      "text/plain": [
       "3"
      ]
     },
     "execution_count": 42,
     "metadata": {},
     "output_type": "execute_result"
    }
   ],
   "source": [
    "show(E)\n",
    "E.rank()"
   ]
  },
  {
   "cell_type": "code",
   "execution_count": 43,
   "metadata": {},
   "outputs": [
    {
     "data": {
      "text/plain": [
       "-1"
      ]
     },
     "execution_count": 43,
     "metadata": {},
     "output_type": "execute_result"
    }
   ],
   "source": [
    "E.determinant()"
   ]
  },
  {
   "cell_type": "code",
   "execution_count": 44,
   "metadata": {},
   "outputs": [
    {
     "data": {
      "text/html": [
       "<html>\\[\\newcommand{\\Bold}[1]{\\mathbf{#1}}\\left(\\begin{array}{rrr}\n",
       "1 & 0 & 0 \\\\\n",
       "0 & 1 & 0 \\\\\n",
       "0 & 0 & 1\n",
       "\\end{array}\\right)\\]</html>"
      ],
      "text/latex": [
       "$$\\newcommand{\\Bold}[1]{\\mathbf{#1}}\\left(\\begin{array}{rrr}\n",
       "1 & 0 & 0 \\\\\n",
       "0 & 1 & 0 \\\\\n",
       "0 & 0 & 1\n",
       "\\end{array}\\right)$$"
      ],
      "text/plain": [
       "[1 0 0]\n",
       "[0 1 0]\n",
       "[0 0 1]"
      ]
     },
     "metadata": {},
     "output_type": "display_data"
    }
   ],
   "source": [
    "E_inv=E.inverse()\n",
    "show(E_inv*E)"
   ]
  },
  {
   "cell_type": "code",
   "execution_count": 45,
   "metadata": {},
   "outputs": [
    {
     "data": {
      "text/html": [
       "<html>\\[\\newcommand{\\Bold}[1]{\\mathbf{#1}}\\left(\\begin{array}{rrrr}\n",
       "1 & 0 & 0 & 1 \\\\\n",
       "1 & 2 & 0 & 0 \\\\\n",
       "0 & 1 & 3 & 0 \\\\\n",
       "0 & 0 & 1 & -1\n",
       "\\end{array}\\right)\\]</html>"
      ],
      "text/latex": [
       "$$\\newcommand{\\Bold}[1]{\\mathbf{#1}}\\left(\\begin{array}{rrrr}\n",
       "1 & 0 & 0 & 1 \\\\\n",
       "1 & 2 & 0 & 0 \\\\\n",
       "0 & 1 & 3 & 0 \\\\\n",
       "0 & 0 & 1 & -1\n",
       "\\end{array}\\right)$$"
      ],
      "text/plain": [
       "[ 1  0  0  1]\n",
       "[ 1  2  0  0]\n",
       "[ 0  1  3  0]\n",
       "[ 0  0  1 -1]"
      ]
     },
     "metadata": {},
     "output_type": "display_data"
    },
    {
     "data": {
      "text/plain": [
       "4"
      ]
     },
     "execution_count": 45,
     "metadata": {},
     "output_type": "execute_result"
    }
   ],
   "source": [
    "show(F)\n",
    "F.rank()"
   ]
  },
  {
   "cell_type": "code",
   "execution_count": 46,
   "metadata": {},
   "outputs": [
    {
     "data": {
      "text/plain": [
       "-7"
      ]
     },
     "execution_count": 46,
     "metadata": {},
     "output_type": "execute_result"
    }
   ],
   "source": [
    "F.determinant()"
   ]
  },
  {
   "cell_type": "code",
   "execution_count": 47,
   "metadata": {},
   "outputs": [
    {
     "data": {
      "text/html": [
       "<html>\\[\\newcommand{\\Bold}[1]{\\mathbf{#1}}\\left(\\begin{array}{rrrr}\n",
       "1 & 0 & 0 & 0 \\\\\n",
       "0 & 1 & 0 & 0 \\\\\n",
       "0 & 0 & 1 & 0 \\\\\n",
       "0 & 0 & 0 & 1\n",
       "\\end{array}\\right)\\]</html>"
      ],
      "text/latex": [
       "$$\\newcommand{\\Bold}[1]{\\mathbf{#1}}\\left(\\begin{array}{rrrr}\n",
       "1 & 0 & 0 & 0 \\\\\n",
       "0 & 1 & 0 & 0 \\\\\n",
       "0 & 0 & 1 & 0 \\\\\n",
       "0 & 0 & 0 & 1\n",
       "\\end{array}\\right)$$"
      ],
      "text/plain": [
       "[1 0 0 0]\n",
       "[0 1 0 0]\n",
       "[0 0 1 0]\n",
       "[0 0 0 1]"
      ]
     },
     "metadata": {},
     "output_type": "display_data"
    }
   ],
   "source": [
    "F_inv=F.inverse()\n",
    "show(F*F_inv)"
   ]
  },
  {
   "cell_type": "code",
   "execution_count": 48,
   "metadata": {},
   "outputs": [
    {
     "data": {
      "text/html": [
       "<html>\\[\\newcommand{\\Bold}[1]{\\mathbf{#1}}\\left(\\begin{array}{rrr}\n",
       "1 & 0 & 1 \\\\\n",
       "2 & 1 & 1 \\\\\n",
       "1 & 2 & -1\n",
       "\\end{array}\\right)\\]</html>"
      ],
      "text/latex": [
       "$$\\newcommand{\\Bold}[1]{\\mathbf{#1}}\\left(\\begin{array}{rrr}\n",
       "1 & 0 & 1 \\\\\n",
       "2 & 1 & 1 \\\\\n",
       "1 & 2 & -1\n",
       "\\end{array}\\right)$$"
      ],
      "text/plain": [
       "[ 1  0  1]\n",
       "[ 2  1  1]\n",
       "[ 1  2 -1]"
      ]
     },
     "metadata": {},
     "output_type": "display_data"
    },
    {
     "data": {
      "text/plain": [
       "2"
      ]
     },
     "execution_count": 48,
     "metadata": {},
     "output_type": "execute_result"
    }
   ],
   "source": [
    "show(G)\n",
    "G.rank()"
   ]
  },
  {
   "cell_type": "code",
   "execution_count": 49,
   "metadata": {},
   "outputs": [
    {
     "data": {
      "text/plain": [
       "0"
      ]
     },
     "execution_count": 49,
     "metadata": {},
     "output_type": "execute_result"
    }
   ],
   "source": [
    "G.determinant()"
   ]
  },
  {
   "cell_type": "code",
   "execution_count": 50,
   "metadata": {},
   "outputs": [
    {
     "ename": "ZeroDivisionError",
     "evalue": "matrix must be nonsingular",
     "output_type": "error",
     "traceback": [
      "\u001b[0;31m---------------------------------------------------------------------------\u001b[0m",
      "\u001b[0;31mZeroDivisionError\u001b[0m                         Traceback (most recent call last)",
      "\u001b[0;32m<ipython-input-50-ed78d6503b3d>\u001b[0m in \u001b[0;36m<module>\u001b[0;34m\u001b[0m\n\u001b[0;32m----> 1\u001b[0;31m \u001b[0mG\u001b[0m\u001b[0;34m.\u001b[0m\u001b[0minverse\u001b[0m\u001b[0;34m(\u001b[0m\u001b[0;34m)\u001b[0m\u001b[0;34m\u001b[0m\u001b[0;34m\u001b[0m\u001b[0m\n\u001b[0m",
      "\u001b[0;32m/var/tmp/sage-9.4-current/local/lib/python3.9/site-packages/sage/matrix/matrix2.pyx\u001b[0m in \u001b[0;36msage.matrix.matrix2.Matrix.inverse (build/cythonized/sage/matrix/matrix2.c:70025)\u001b[0;34m()\u001b[0m\n\u001b[1;32m   9724\u001b[0m \u001b[0;34m\u001b[0m\u001b[0m\n\u001b[1;32m   9725\u001b[0m         \"\"\"\n\u001b[0;32m-> 9726\u001b[0;31m         \u001b[0;32mreturn\u001b[0m \u001b[0;34m~\u001b[0m\u001b[0mself\u001b[0m\u001b[0;34m\u001b[0m\u001b[0;34m\u001b[0m\u001b[0m\n\u001b[0m\u001b[1;32m   9727\u001b[0m \u001b[0;34m\u001b[0m\u001b[0m\n\u001b[1;32m   9728\u001b[0m     \u001b[0;32mdef\u001b[0m \u001b[0madjugate\u001b[0m\u001b[0;34m(\u001b[0m\u001b[0mself\u001b[0m\u001b[0;34m)\u001b[0m\u001b[0;34m:\u001b[0m\u001b[0;34m\u001b[0m\u001b[0;34m\u001b[0m\u001b[0m\n",
      "\u001b[0;32m/var/tmp/sage-9.4-current/local/lib/python3.9/site-packages/sage/matrix/matrix_integer_dense.pyx\u001b[0m in \u001b[0;36msage.matrix.matrix_integer_dense.Matrix_integer_dense.__invert__ (build/cythonized/sage/matrix/matrix_integer_dense.cpp:33896)\u001b[0;34m()\u001b[0m\n\u001b[1;32m   4097\u001b[0m             \u001b[0mZeroDivisionError\u001b[0m\u001b[0;34m:\u001b[0m \u001b[0mmatrix\u001b[0m \u001b[0mmust\u001b[0m \u001b[0mbe\u001b[0m \u001b[0mnonsingular\u001b[0m\u001b[0;34m\u001b[0m\u001b[0;34m\u001b[0m\u001b[0m\n\u001b[1;32m   4098\u001b[0m         \"\"\"\n\u001b[0;32m-> 4099\u001b[0;31m         \u001b[0mA\u001b[0m\u001b[0;34m,\u001b[0m \u001b[0md\u001b[0m \u001b[0;34m=\u001b[0m \u001b[0mself\u001b[0m\u001b[0;34m.\u001b[0m\u001b[0m_invert_flint\u001b[0m\u001b[0;34m(\u001b[0m\u001b[0;34m)\u001b[0m\u001b[0;34m\u001b[0m\u001b[0;34m\u001b[0m\u001b[0m\n\u001b[0m\u001b[1;32m   4100\u001b[0m         \u001b[0;32mreturn\u001b[0m \u001b[0mA\u001b[0m \u001b[0;34m/\u001b[0m \u001b[0md\u001b[0m\u001b[0;34m\u001b[0m\u001b[0;34m\u001b[0m\u001b[0m\n\u001b[1;32m   4101\u001b[0m \u001b[0;34m\u001b[0m\u001b[0m\n",
      "\u001b[0;32m/var/tmp/sage-9.4-current/local/lib/python3.9/site-packages/sage/matrix/matrix_integer_dense.pyx\u001b[0m in \u001b[0;36msage.matrix.matrix_integer_dense.Matrix_integer_dense._invert_flint (build/cythonized/sage/matrix/matrix_integer_dense.cpp:33732)\u001b[0;34m()\u001b[0m\n\u001b[1;32m   4058\u001b[0m         \u001b[0mfmpz_clear\u001b[0m\u001b[0;34m(\u001b[0m\u001b[0mfden\u001b[0m\u001b[0;34m)\u001b[0m\u001b[0;34m\u001b[0m\u001b[0;34m\u001b[0m\u001b[0m\n\u001b[1;32m   4059\u001b[0m         \u001b[0;32mif\u001b[0m \u001b[0mres\u001b[0m \u001b[0;34m==\u001b[0m \u001b[0;36m0\u001b[0m\u001b[0;34m:\u001b[0m\u001b[0;34m\u001b[0m\u001b[0;34m\u001b[0m\u001b[0m\n\u001b[0;32m-> 4060\u001b[0;31m             \u001b[0;32mraise\u001b[0m \u001b[0mZeroDivisionError\u001b[0m\u001b[0;34m(\u001b[0m\u001b[0;34m'matrix must be nonsingular'\u001b[0m\u001b[0;34m)\u001b[0m\u001b[0;34m\u001b[0m\u001b[0;34m\u001b[0m\u001b[0m\n\u001b[0m\u001b[1;32m   4061\u001b[0m         \u001b[0;32mif\u001b[0m \u001b[0mden\u001b[0m \u001b[0;34m<\u001b[0m \u001b[0;36m0\u001b[0m\u001b[0;34m:\u001b[0m\u001b[0;34m\u001b[0m\u001b[0;34m\u001b[0m\u001b[0m\n\u001b[1;32m   4062\u001b[0m             \u001b[0;32mreturn\u001b[0m \u001b[0;34m-\u001b[0m\u001b[0mM\u001b[0m\u001b[0;34m,\u001b[0m \u001b[0;34m-\u001b[0m\u001b[0mden\u001b[0m\u001b[0;34m\u001b[0m\u001b[0;34m\u001b[0m\u001b[0m\n",
      "\u001b[0;31mZeroDivisionError\u001b[0m: matrix must be nonsingular"
     ]
    }
   ],
   "source": [
    "G.inverse()"
   ]
  },
  {
   "cell_type": "code",
   "execution_count": 51,
   "metadata": {},
   "outputs": [
    {
     "data": {
      "text/html": [
       "<html>\\[\\newcommand{\\Bold}[1]{\\mathbf{#1}}\\left(\\begin{array}{rrrr}\n",
       "1 & 0 & 4 & 4 \\\\\n",
       "1 & 2 & 0 & 3 \\\\\n",
       "0 & 1 & -2 & -1 \\\\\n",
       "1 & 1 & a & 3\n",
       "\\end{array}\\right)\\]</html>"
      ],
      "text/latex": [
       "$$\\newcommand{\\Bold}[1]{\\mathbf{#1}}\\left(\\begin{array}{rrrr}\n",
       "1 & 0 & 4 & 4 \\\\\n",
       "1 & 2 & 0 & 3 \\\\\n",
       "0 & 1 & -2 & -1 \\\\\n",
       "1 & 1 & a & 3\n",
       "\\end{array}\\right)$$"
      ],
      "text/plain": [
       "[ 1  0  4  4]\n",
       "[ 1  2  0  3]\n",
       "[ 0  1 -2 -1]\n",
       "[ 1  1  a  3]"
      ]
     },
     "metadata": {},
     "output_type": "display_data"
    },
    {
     "data": {
      "text/plain": [
       "4"
      ]
     },
     "execution_count": 51,
     "metadata": {},
     "output_type": "execute_result"
    }
   ],
   "source": [
    "show(H)\n",
    "H.rank()"
   ]
  },
  {
   "cell_type": "code",
   "execution_count": 52,
   "metadata": {},
   "outputs": [
    {
     "data": {
      "text/plain": [
       "a - 2"
      ]
     },
     "execution_count": 52,
     "metadata": {},
     "output_type": "execute_result"
    }
   ],
   "source": [
    "H.determinant()"
   ]
  },
  {
   "cell_type": "code",
   "execution_count": 53,
   "metadata": {},
   "outputs": [
    {
     "data": {
      "text/plain": [
       "3"
      ]
     },
     "execution_count": 53,
     "metadata": {},
     "output_type": "execute_result"
    }
   ],
   "source": [
    "H(a=2).rank()"
   ]
  },
  {
   "cell_type": "markdown",
   "metadata": {},
   "source": [
    "<code>Observació</code>: Si una matriu depen d'uns certs paràmetres, aleshores quan li apliquem la funció rank() ens donarà el rang màxim que pot prendre la matriu, però no ens indica si la matriu pot tindre un rang inferior per a certs valors dels paràmetres. En aquest casos, cal utilitzar la funció determinant()."
   ]
  },
  {
   "cell_type": "code",
   "execution_count": 54,
   "metadata": {},
   "outputs": [
    {
     "data": {
      "text/html": [
       "<html>\\[\\newcommand{\\Bold}[1]{\\mathbf{#1}}\\left(\\begin{array}{rrrr}\n",
       "\\frac{4}{a - 2} + 5 & -4 & \\frac{4}{a - 2} + 8 & -\\frac{4}{a - 2} \\\\\n",
       "-\\frac{2}{a - 2} - 1 & 1 & -\\frac{2}{a - 2} - 1 & \\frac{2}{a - 2} \\\\\n",
       "-\\frac{1}{a - 2} & 0 & -\\frac{1}{a - 2} & \\frac{1}{a - 2} \\\\\n",
       "-1 & 1 & -2 & 0\n",
       "\\end{array}\\right)\\]</html>"
      ],
      "text/latex": [
       "$$\\newcommand{\\Bold}[1]{\\mathbf{#1}}\\left(\\begin{array}{rrrr}\n",
       "\\frac{4}{a - 2} + 5 & -4 & \\frac{4}{a - 2} + 8 & -\\frac{4}{a - 2} \\\\\n",
       "-\\frac{2}{a - 2} - 1 & 1 & -\\frac{2}{a - 2} - 1 & \\frac{2}{a - 2} \\\\\n",
       "-\\frac{1}{a - 2} & 0 & -\\frac{1}{a - 2} & \\frac{1}{a - 2} \\\\\n",
       "-1 & 1 & -2 & 0\n",
       "\\end{array}\\right)$$"
      ],
      "text/plain": [
       "[ 4/(a - 2) + 5             -4  4/(a - 2) + 8     -4/(a - 2)]\n",
       "[-2/(a - 2) - 1              1 -2/(a - 2) - 1      2/(a - 2)]\n",
       "[    -1/(a - 2)              0     -1/(a - 2)      1/(a - 2)]\n",
       "[            -1              1             -2              0]"
      ]
     },
     "metadata": {},
     "output_type": "display_data"
    }
   ],
   "source": [
    "H_inv=H.inverse()\n",
    "show(H_inv) #Atenció ¡: només si a!=2, de lo contrari no tindria sentit"
   ]
  },
  {
   "cell_type": "markdown",
   "metadata": {},
   "source": [
    "Veiem que, en aquest cas particular, SÍ es pot calcular la inversa però és una inversa que depen del paràmetre 'a' i només existeix en els casos en que el det(H)!=0, ie, quan a!=2\n",
    "\n",
    "### Problema 2"
   ]
  },
  {
   "cell_type": "code",
   "execution_count": 55,
   "metadata": {},
   "outputs": [
    {
     "data": {
      "text/html": [
       "<html>\\[\\newcommand{\\Bold}[1]{\\mathbf{#1}}\\left(\\begin{array}{r}\n",
       "1 \\\\\n",
       "0 \\\\\n",
       "a - 1 \\\\\n",
       "a\n",
       "\\end{array}\\right)\\]</html>"
      ],
      "text/latex": [
       "$$\\newcommand{\\Bold}[1]{\\mathbf{#1}}\\left(\\begin{array}{r}\n",
       "1 \\\\\n",
       "0 \\\\\n",
       "a - 1 \\\\\n",
       "a\n",
       "\\end{array}\\right)$$"
      ],
      "text/plain": [
       "[    1]\n",
       "[    0]\n",
       "[a - 1]\n",
       "[    a]"
      ]
     },
     "metadata": {},
     "output_type": "display_data"
    }
   ],
   "source": [
    "h=column_matrix(SR,[1,0,a-1,a]); show(h)"
   ]
  },
  {
   "cell_type": "code",
   "execution_count": 56,
   "metadata": {
    "scrolled": true
   },
   "outputs": [
    {
     "data": {
      "text/html": [
       "<html>\\[\\newcommand{\\Bold}[1]{\\mathbf{#1}}\\left(\\begin{array}{rrrr|r}\n",
       "1 & 0 & 4 & 4 & 1 \\\\\n",
       "1 & 2 & 0 & 3 & 0 \\\\\n",
       "0 & 1 & -2 & -1 & a - 1 \\\\\n",
       "1 & 1 & a & 3 & a\n",
       "\\end{array}\\right)\\]</html>"
      ],
      "text/latex": [
       "$$\\newcommand{\\Bold}[1]{\\mathbf{#1}}\\left(\\begin{array}{rrrr|r}\n",
       "1 & 0 & 4 & 4 & 1 \\\\\n",
       "1 & 2 & 0 & 3 & 0 \\\\\n",
       "0 & 1 & -2 & -1 & a - 1 \\\\\n",
       "1 & 1 & a & 3 & a\n",
       "\\end{array}\\right)$$"
      ],
      "text/plain": [
       "[    1     0     4     4|    1]\n",
       "[    1     2     0     3|    0]\n",
       "[    0     1    -2    -1|a - 1]\n",
       "[    1     1     a     3|    a]"
      ]
     },
     "metadata": {},
     "output_type": "display_data"
    }
   ],
   "source": [
    "Hh=block_matrix([[H,h]]); show(Hh)"
   ]
  },
  {
   "cell_type": "code",
   "execution_count": 57,
   "metadata": {},
   "outputs": [
    {
     "data": {
      "text/html": [
       "<html>\\[\\newcommand{\\Bold}[1]{\\mathbf{#1}}\\left(\\begin{array}{rrrr|r}\n",
       "1 & 0 & 4 & 4 & 1 \\\\\n",
       "0 & 2 & -4 & -1 & -1 \\\\\n",
       "0 & 1 & -2 & -1 & a - 1 \\\\\n",
       "0 & 1 & a - 4 & -1 & a - 1\n",
       "\\end{array}\\right)\\]</html>"
      ],
      "text/latex": [
       "$$\\newcommand{\\Bold}[1]{\\mathbf{#1}}\\left(\\begin{array}{rrrr|r}\n",
       "1 & 0 & 4 & 4 & 1 \\\\\n",
       "0 & 2 & -4 & -1 & -1 \\\\\n",
       "0 & 1 & -2 & -1 & a - 1 \\\\\n",
       "0 & 1 & a - 4 & -1 & a - 1\n",
       "\\end{array}\\right)$$"
      ],
      "text/plain": [
       "[    1     0     4     4|    1]\n",
       "[    0     2    -4    -1|   -1]\n",
       "[    0     1    -2    -1|a - 1]\n",
       "[    0     1 a - 4    -1|a - 1]"
      ]
     },
     "metadata": {},
     "output_type": "display_data"
    }
   ],
   "source": [
    "Hh.add_multiple_of_row(1,0,-1)\n",
    "Hh.add_multiple_of_row(3,0,-1)\n",
    "show(Hh)"
   ]
  },
  {
   "cell_type": "code",
   "execution_count": 58,
   "metadata": {
    "scrolled": false
   },
   "outputs": [
    {
     "data": {
      "text/html": [
       "<html>\\[\\newcommand{\\Bold}[1]{\\mathbf{#1}}\\left(\\begin{array}{rrrr|r}\n",
       "1 & 0 & 4 & 4 & 1 \\\\\n",
       "0 & 1 & -2 & -1 & a - 1 \\\\\n",
       "0 & 2 & -4 & -1 & -1 \\\\\n",
       "0 & 1 & a - 4 & -1 & a - 1\n",
       "\\end{array}\\right)\\]</html>"
      ],
      "text/latex": [
       "$$\\newcommand{\\Bold}[1]{\\mathbf{#1}}\\left(\\begin{array}{rrrr|r}\n",
       "1 & 0 & 4 & 4 & 1 \\\\\n",
       "0 & 1 & -2 & -1 & a - 1 \\\\\n",
       "0 & 2 & -4 & -1 & -1 \\\\\n",
       "0 & 1 & a - 4 & -1 & a - 1\n",
       "\\end{array}\\right)$$"
      ],
      "text/plain": [
       "[    1     0     4     4|    1]\n",
       "[    0     1    -2    -1|a - 1]\n",
       "[    0     2    -4    -1|   -1]\n",
       "[    0     1 a - 4    -1|a - 1]"
      ]
     },
     "metadata": {},
     "output_type": "display_data"
    }
   ],
   "source": [
    "Hh.swap_rows(1,2)\n",
    "show(Hh)"
   ]
  },
  {
   "cell_type": "code",
   "execution_count": 59,
   "metadata": {
    "scrolled": true
   },
   "outputs": [
    {
     "data": {
      "text/html": [
       "<html>\\[\\newcommand{\\Bold}[1]{\\mathbf{#1}}\\left(\\begin{array}{rrrr|r}\n",
       "1 & 0 & 4 & 4 & 1 \\\\\n",
       "0 & 1 & -2 & -1 & a - 1 \\\\\n",
       "0 & 0 & 0 & 1 & -2 \\, a + 1 \\\\\n",
       "0 & 0 & a - 2 & 0 & 0\n",
       "\\end{array}\\right)\\]</html>"
      ],
      "text/latex": [
       "$$\\newcommand{\\Bold}[1]{\\mathbf{#1}}\\left(\\begin{array}{rrrr|r}\n",
       "1 & 0 & 4 & 4 & 1 \\\\\n",
       "0 & 1 & -2 & -1 & a - 1 \\\\\n",
       "0 & 0 & 0 & 1 & -2 \\, a + 1 \\\\\n",
       "0 & 0 & a - 2 & 0 & 0\n",
       "\\end{array}\\right)$$"
      ],
      "text/plain": [
       "[       1        0        4        4|       1]\n",
       "[       0        1       -2       -1|   a - 1]\n",
       "[       0        0        0        1|-2*a + 1]\n",
       "[       0        0    a - 2        0|       0]"
      ]
     },
     "metadata": {},
     "output_type": "display_data"
    }
   ],
   "source": [
    "Hh.add_multiple_of_row(2,1,-2)\n",
    "Hh.add_multiple_of_row(3,1,-1)\n",
    "show(Hh)"
   ]
  },
  {
   "cell_type": "code",
   "execution_count": 60,
   "metadata": {},
   "outputs": [
    {
     "data": {
      "text/html": [
       "<html>\\[\\newcommand{\\Bold}[1]{\\mathbf{#1}}\\left(\\begin{array}{rrrr|r}\n",
       "1 & 0 & 4 & 4 & 1 \\\\\n",
       "0 & 1 & -2 & -1 & a - 1 \\\\\n",
       "0 & 0 & a - 2 & 0 & 0 \\\\\n",
       "0 & 0 & 0 & 1 & -2 \\, a + 1\n",
       "\\end{array}\\right)\\]</html>"
      ],
      "text/latex": [
       "$$\\newcommand{\\Bold}[1]{\\mathbf{#1}}\\left(\\begin{array}{rrrr|r}\n",
       "1 & 0 & 4 & 4 & 1 \\\\\n",
       "0 & 1 & -2 & -1 & a - 1 \\\\\n",
       "0 & 0 & a - 2 & 0 & 0 \\\\\n",
       "0 & 0 & 0 & 1 & -2 \\, a + 1\n",
       "\\end{array}\\right)$$"
      ],
      "text/plain": [
       "[       1        0        4        4|       1]\n",
       "[       0        1       -2       -1|   a - 1]\n",
       "[       0        0    a - 2        0|       0]\n",
       "[       0        0        0        1|-2*a + 1]"
      ]
     },
     "metadata": {},
     "output_type": "display_data"
    }
   ],
   "source": [
    "Hh.swap_rows(2,3)\n",
    "show(Hh)"
   ]
  },
  {
   "cell_type": "markdown",
   "metadata": {},
   "source": [
    "Si a!=2, el rang(H)=rang(Hh)=4=nº d'incognites, pel Tª de Rouché-Frobenious, és un SCD. \n",
    "\n",
    "Si a=2, el rang(H)=rang(Hh)=3<nº d'incognites, pel Tª de Rouché-Frobenious, es un SCI\n",
    "\n",
    "Mai és un SI."
   ]
  },
  {
   "cell_type": "code",
   "execution_count": 61,
   "metadata": {},
   "outputs": [
    {
     "data": {
      "text/html": [
       "<html>\\[\\newcommand{\\Bold}[1]{\\mathbf{#1}}\\left(\\begin{array}{rrrr|r}\n",
       "1 & 0 & 4 & 4 & 1 \\\\\n",
       "1 & 2 & 0 & 3 & 0 \\\\\n",
       "0 & 1 & -2 & -1 & a - 1 \\\\\n",
       "1 & 1 & a & 3 & a\n",
       "\\end{array}\\right)\\]</html>"
      ],
      "text/latex": [
       "$$\\newcommand{\\Bold}[1]{\\mathbf{#1}}\\left(\\begin{array}{rrrr|r}\n",
       "1 & 0 & 4 & 4 & 1 \\\\\n",
       "1 & 2 & 0 & 3 & 0 \\\\\n",
       "0 & 1 & -2 & -1 & a - 1 \\\\\n",
       "1 & 1 & a & 3 & a\n",
       "\\end{array}\\right)$$"
      ],
      "text/plain": [
       "[    1     0     4     4|    1]\n",
       "[    1     2     0     3|    0]\n",
       "[    0     1    -2    -1|a - 1]\n",
       "[    1     1     a     3|    a]"
      ]
     },
     "metadata": {},
     "output_type": "display_data"
    }
   ],
   "source": [
    "Hh=block_matrix([[H,h]]); show(Hh)"
   ]
  },
  {
   "cell_type": "code",
   "execution_count": 62,
   "metadata": {},
   "outputs": [
    {
     "data": {
      "text/html": [
       "<html>\\[\\newcommand{\\Bold}[1]{\\mathbf{#1}}\\left(\\begin{array}{rrrrr}\n",
       "1 & 0 & 4 & 0 & 13 \\\\\n",
       "0 & 1 & -2 & 0 & -2 \\\\\n",
       "0 & 0 & 0 & 1 & -3 \\\\\n",
       "0 & 0 & 0 & 0 & 0\n",
       "\\end{array}\\right)\\]</html>"
      ],
      "text/latex": [
       "$$\\newcommand{\\Bold}[1]{\\mathbf{#1}}\\left(\\begin{array}{rrrrr}\n",
       "1 & 0 & 4 & 0 & 13 \\\\\n",
       "0 & 1 & -2 & 0 & -2 \\\\\n",
       "0 & 0 & 0 & 1 & -3 \\\\\n",
       "0 & 0 & 0 & 0 & 0\n",
       "\\end{array}\\right)$$"
      ],
      "text/plain": [
       "[ 1  0  4  0 13]\n",
       "[ 0  1 -2  0 -2]\n",
       "[ 0  0  0  1 -3]\n",
       "[ 0  0  0  0  0]"
      ]
     },
     "metadata": {},
     "output_type": "display_data"
    }
   ],
   "source": [
    "show(Hh(a=2).echelon_form())"
   ]
  },
  {
   "cell_type": "code",
   "execution_count": 63,
   "metadata": {
    "scrolled": true
   },
   "outputs": [
    {
     "data": {
      "text/html": [
       "<html>\\[\\newcommand{\\Bold}[1]{\\mathbf{#1}}\\left(\\begin{array}{rrrrrrrrr}\n",
       "1 & 0 & 4 & 0 & 13 & 0 & -4 & 3 & 5 \\\\\n",
       "0 & 1 & -2 & 0 & -2 & 0 & 1 & 0 & -1 \\\\\n",
       "0 & 0 & 0 & 1 & -3 & 0 & 1 & -1 & -1 \\\\\n",
       "0 & 0 & 0 & 0 & 0 & 1 & 0 & 1 & -1\n",
       "\\end{array}\\right)\\]</html>"
      ],
      "text/latex": [
       "$$\\newcommand{\\Bold}[1]{\\mathbf{#1}}\\left(\\begin{array}{rrrrrrrrr}\n",
       "1 & 0 & 4 & 0 & 13 & 0 & -4 & 3 & 5 \\\\\n",
       "0 & 1 & -2 & 0 & -2 & 0 & 1 & 0 & -1 \\\\\n",
       "0 & 0 & 0 & 1 & -3 & 0 & 1 & -1 & -1 \\\\\n",
       "0 & 0 & 0 & 0 & 0 & 1 & 0 & 1 & -1\n",
       "\\end{array}\\right)$$"
      ],
      "text/plain": [
       "[ 1  0  4  0 13  0 -4  3  5]\n",
       "[ 0  1 -2  0 -2  0  1  0 -1]\n",
       "[ 0  0  0  1 -3  0  1 -1 -1]\n",
       "[ 0  0  0  0  0  1  0  1 -1]"
      ]
     },
     "metadata": {},
     "output_type": "display_data"
    }
   ],
   "source": [
    "Hh_P=Hh(a=2).extended_echelon_form()\n",
    "show(Hh_P)"
   ]
  },
  {
   "cell_type": "code",
   "execution_count": 64,
   "metadata": {},
   "outputs": [
    {
     "data": {
      "text/html": [
       "<html>\\[\\newcommand{\\Bold}[1]{\\mathbf{#1}}\\left(\\begin{array}{rrrr}\n",
       "0 & -4 & 3 & 5 \\\\\n",
       "0 & 1 & 0 & -1 \\\\\n",
       "0 & 1 & -1 & -1 \\\\\n",
       "1 & 0 & 1 & -1\n",
       "\\end{array}\\right)\\]</html>"
      ],
      "text/latex": [
       "$$\\newcommand{\\Bold}[1]{\\mathbf{#1}}\\left(\\begin{array}{rrrr}\n",
       "0 & -4 & 3 & 5 \\\\\n",
       "0 & 1 & 0 & -1 \\\\\n",
       "0 & 1 & -1 & -1 \\\\\n",
       "1 & 0 & 1 & -1\n",
       "\\end{array}\\right)$$"
      ],
      "text/plain": [
       "[ 0 -4  3  5]\n",
       "[ 0  1  0 -1]\n",
       "[ 0  1 -1 -1]\n",
       "[ 1  0  1 -1]"
      ]
     },
     "metadata": {},
     "output_type": "display_data"
    }
   ],
   "source": [
    "P=Hh_P.matrix_from_columns([5,6,7,8])\n",
    "show(P)"
   ]
  },
  {
   "cell_type": "code",
   "execution_count": 65,
   "metadata": {
    "scrolled": true
   },
   "outputs": [
    {
     "data": {
      "text/html": [
       "<html>\\[\\newcommand{\\Bold}[1]{\\mathbf{#1}}\\left(\\begin{array}{rrrrr}\n",
       "1 & 0 & 4 & 0 & 13 \\\\\n",
       "0 & 1 & -2 & 0 & -2 \\\\\n",
       "0 & 0 & 0 & 1 & -3 \\\\\n",
       "0 & 0 & 0 & 0 & 0\n",
       "\\end{array}\\right)\\]</html>"
      ],
      "text/latex": [
       "$$\\newcommand{\\Bold}[1]{\\mathbf{#1}}\\left(\\begin{array}{rrrrr}\n",
       "1 & 0 & 4 & 0 & 13 \\\\\n",
       "0 & 1 & -2 & 0 & -2 \\\\\n",
       "0 & 0 & 0 & 1 & -3 \\\\\n",
       "0 & 0 & 0 & 0 & 0\n",
       "\\end{array}\\right)$$"
      ],
      "text/plain": [
       "[ 1  0  4  0 13]\n",
       "[ 0  1 -2  0 -2]\n",
       "[ 0  0  0  1 -3]\n",
       "[ 0  0  0  0  0]"
      ]
     },
     "metadata": {},
     "output_type": "display_data"
    }
   ],
   "source": [
    "show(P*Hh(a=2))"
   ]
  },
  {
   "cell_type": "markdown",
   "metadata": {},
   "source": [
    "## Pràctica 1.2.   Inverses generalitzades\n",
    "### Problema 1"
   ]
  },
  {
   "cell_type": "code",
   "execution_count": 108,
   "metadata": {},
   "outputs": [
    {
     "data": {
      "text/html": [
       "<html>\\[\\newcommand{\\Bold}[1]{\\mathbf{#1}}\\left(\\begin{array}{rrrrr}\n",
       "1 & 0 & -1 & 0 & 1 \\\\\n",
       "0 & 1 & 0 & 0 & 0 \\\\\n",
       "0 & -1 & 0 & 1 & 0 \\\\\n",
       "0 & 0 & -1 & 0 & -1 \\\\\n",
       "0 & 1 & 0 & -1 & 0\n",
       "\\end{array}\\right)\\]</html>"
      ],
      "text/latex": [
       "$$\\newcommand{\\Bold}[1]{\\mathbf{#1}}\\left(\\begin{array}{rrrrr}\n",
       "1 & 0 & -1 & 0 & 1 \\\\\n",
       "0 & 1 & 0 & 0 & 0 \\\\\n",
       "0 & -1 & 0 & 1 & 0 \\\\\n",
       "0 & 0 & -1 & 0 & -1 \\\\\n",
       "0 & 1 & 0 & -1 & 0\n",
       "\\end{array}\\right)$$"
      ],
      "text/plain": [
       "[ 1  0 -1  0  1]\n",
       "[ 0  1  0  0  0]\n",
       "[ 0 -1  0  1  0]\n",
       "[ 0  0 -1  0 -1]\n",
       "[ 0  1  0 -1  0]"
      ]
     },
     "metadata": {},
     "output_type": "display_data"
    }
   ],
   "source": [
    "A=matrix(ZZ,5,5,[1,0,-1,0,1,0,1,0,0,0,0,-1,0,1,0,0,0,-1,0,-1,0,1,0,-1,0]); show(A)"
   ]
  },
  {
   "cell_type": "code",
   "execution_count": 67,
   "metadata": {},
   "outputs": [
    {
     "data": {
      "text/plain": [
       "4"
      ]
     },
     "execution_count": 67,
     "metadata": {},
     "output_type": "execute_result"
    }
   ],
   "source": [
    "A.rank()"
   ]
  },
  {
   "cell_type": "code",
   "execution_count": 68,
   "metadata": {},
   "outputs": [
    {
     "data": {
      "text/html": [
       "<html>\\[\\newcommand{\\Bold}[1]{\\mathbf{#1}}\\left(\\begin{array}{rrrrr}\n",
       "\\frac{1}{3} & 0 & 0 & 0 & 0 \\\\\n",
       "0 & 1 & 0 & 0 & 0 \\\\\n",
       "-\\frac{1}{3} & 0 & 0 & -\\frac{1}{2} & 0 \\\\\n",
       "0 & 1 & \\frac{1}{2} & 0 & -\\frac{1}{2} \\\\\n",
       "\\frac{1}{3} & 0 & 0 & -\\frac{1}{2} & 0\n",
       "\\end{array}\\right)\\]</html>"
      ],
      "text/latex": [
       "$$\\newcommand{\\Bold}[1]{\\mathbf{#1}}\\left(\\begin{array}{rrrrr}\n",
       "\\frac{1}{3} & 0 & 0 & 0 & 0 \\\\\n",
       "0 & 1 & 0 & 0 & 0 \\\\\n",
       "-\\frac{1}{3} & 0 & 0 & -\\frac{1}{2} & 0 \\\\\n",
       "0 & 1 & \\frac{1}{2} & 0 & -\\frac{1}{2} \\\\\n",
       "\\frac{1}{3} & 0 & 0 & -\\frac{1}{2} & 0\n",
       "\\end{array}\\right)$$"
      ],
      "text/plain": [
       "[ 1/3    0    0    0    0]\n",
       "[   0    1    0    0    0]\n",
       "[-1/3    0    0 -1/2    0]\n",
       "[   0    1  1/2    0 -1/2]\n",
       "[ 1/3    0    0 -1/2    0]"
      ]
     },
     "metadata": {},
     "output_type": "display_data"
    }
   ],
   "source": [
    "G=A.pseudoinverse(); show(G)"
   ]
  },
  {
   "cell_type": "code",
   "execution_count": 69,
   "metadata": {},
   "outputs": [
    {
     "data": {
      "text/html": [
       "<html>\\[\\newcommand{\\Bold}[1]{\\mathbf{#1}}\\left(\\begin{array}{rrrrr}\n",
       "1 & 0 & -1 & 0 & 1 \\\\\n",
       "0 & 1 & 0 & 0 & 0 \\\\\n",
       "0 & -1 & 0 & 1 & 0 \\\\\n",
       "0 & 0 & -1 & 0 & -1 \\\\\n",
       "0 & 1 & 0 & -1 & 0\n",
       "\\end{array}\\right)\\]</html>"
      ],
      "text/latex": [
       "$$\\newcommand{\\Bold}[1]{\\mathbf{#1}}\\left(\\begin{array}{rrrrr}\n",
       "1 & 0 & -1 & 0 & 1 \\\\\n",
       "0 & 1 & 0 & 0 & 0 \\\\\n",
       "0 & -1 & 0 & 1 & 0 \\\\\n",
       "0 & 0 & -1 & 0 & -1 \\\\\n",
       "0 & 1 & 0 & -1 & 0\n",
       "\\end{array}\\right)$$"
      ],
      "text/plain": [
       "[ 1  0 -1  0  1]\n",
       "[ 0  1  0  0  0]\n",
       "[ 0 -1  0  1  0]\n",
       "[ 0  0 -1  0 -1]\n",
       "[ 0  1  0 -1  0]"
      ]
     },
     "metadata": {},
     "output_type": "display_data"
    }
   ],
   "source": [
    "show(A*G*A)"
   ]
  },
  {
   "cell_type": "code",
   "execution_count": 70,
   "metadata": {},
   "outputs": [
    {
     "data": {
      "text/plain": [
       "True"
      ]
     },
     "execution_count": 70,
     "metadata": {},
     "output_type": "execute_result"
    }
   ],
   "source": [
    "A==A*G*A"
   ]
  },
  {
   "cell_type": "code",
   "execution_count": 71,
   "metadata": {},
   "outputs": [
    {
     "data": {
      "text/html": [
       "<html>\\[\\newcommand{\\Bold}[1]{\\mathbf{#1}}\\left(\\begin{array}{rrrrr}\n",
       "1 & 0 & 0 & 0 & 2 \\\\\n",
       "0 & 1 & 0 & 0 & 0 \\\\\n",
       "0 & 0 & 1 & 0 & 1 \\\\\n",
       "0 & 0 & 0 & 1 & 0 \\\\\n",
       "0 & 0 & 0 & 0 & 0\n",
       "\\end{array}\\right) \\left(\\begin{array}{rrrrr}\n",
       "1 & 0 & 0 & -1 & 0 \\\\\n",
       "0 & 1 & 0 & 0 & 0 \\\\\n",
       "0 & 0 & 0 & -1 & 0 \\\\\n",
       "0 & 1 & 0 & 0 & -1 \\\\\n",
       "0 & 0 & 1 & 0 & 1\n",
       "\\end{array}\\right)\\]</html>"
      ],
      "text/latex": [
       "$$\\newcommand{\\Bold}[1]{\\mathbf{#1}}\\left(\\begin{array}{rrrrr}\n",
       "1 & 0 & 0 & 0 & 2 \\\\\n",
       "0 & 1 & 0 & 0 & 0 \\\\\n",
       "0 & 0 & 1 & 0 & 1 \\\\\n",
       "0 & 0 & 0 & 1 & 0 \\\\\n",
       "0 & 0 & 0 & 0 & 0\n",
       "\\end{array}\\right) \\left(\\begin{array}{rrrrr}\n",
       "1 & 0 & 0 & -1 & 0 \\\\\n",
       "0 & 1 & 0 & 0 & 0 \\\\\n",
       "0 & 0 & 0 & -1 & 0 \\\\\n",
       "0 & 1 & 0 & 0 & -1 \\\\\n",
       "0 & 0 & 1 & 0 & 1\n",
       "\\end{array}\\right)$$"
      ],
      "text/plain": [
       "[1 0 0 0 2]\n",
       "[0 1 0 0 0]\n",
       "[0 0 1 0 1]\n",
       "[0 0 0 1 0]\n",
       "[0 0 0 0 0] [ 1  0  0 -1  0]\n",
       "[ 0  1  0  0  0]\n",
       "[ 0  0  0 -1  0]\n",
       "[ 0  1  0  0 -1]\n",
       "[ 0  0  1  0  1]"
      ]
     },
     "metadata": {},
     "output_type": "display_data"
    }
   ],
   "source": [
    "A_rf=A.extended_echelon_form().matrix_from_columns([0..4])\n",
    "P=A.extended_echelon_form().matrix_from_columns([5..9])\n",
    "show(A_rf,P)"
   ]
  },
  {
   "cell_type": "code",
   "execution_count": 72,
   "metadata": {},
   "outputs": [
    {
     "data": {
      "text/html": [
       "<html>\\[\\newcommand{\\Bold}[1]{\\mathbf{#1}}\\left(\\begin{array}{rrrrr}\n",
       "1 & 0 & 0 & 0 & 0 \\\\\n",
       "0 & 1 & 0 & 0 & 0 \\\\\n",
       "0 & 0 & 1 & 0 & 0 \\\\\n",
       "0 & 0 & 0 & 1 & 0 \\\\\n",
       "0 & 0 & 0 & 0 & 0\n",
       "\\end{array}\\right) \\left(\\begin{array}{rrrrr}\n",
       "1 & 0 & 0 & 0 & 2 \\\\\n",
       "0 & 1 & 0 & 0 & 0 \\\\\n",
       "0 & 0 & 1 & 0 & 1 \\\\\n",
       "0 & 0 & 0 & 1 & 0 \\\\\n",
       "0 & 0 & 0 & 0 & -1\n",
       "\\end{array}\\right)\\]</html>"
      ],
      "text/latex": [
       "$$\\newcommand{\\Bold}[1]{\\mathbf{#1}}\\left(\\begin{array}{rrrrr}\n",
       "1 & 0 & 0 & 0 & 0 \\\\\n",
       "0 & 1 & 0 & 0 & 0 \\\\\n",
       "0 & 0 & 1 & 0 & 0 \\\\\n",
       "0 & 0 & 0 & 1 & 0 \\\\\n",
       "0 & 0 & 0 & 0 & 0\n",
       "\\end{array}\\right) \\left(\\begin{array}{rrrrr}\n",
       "1 & 0 & 0 & 0 & 2 \\\\\n",
       "0 & 1 & 0 & 0 & 0 \\\\\n",
       "0 & 0 & 1 & 0 & 1 \\\\\n",
       "0 & 0 & 0 & 1 & 0 \\\\\n",
       "0 & 0 & 0 & 0 & -1\n",
       "\\end{array}\\right)$$"
      ],
      "text/plain": [
       "[1 0 0 0 0]\n",
       "[0 1 0 0 0]\n",
       "[0 0 1 0 0]\n",
       "[0 0 0 1 0]\n",
       "[0 0 0 0 0] [ 1  0  0  0  2]\n",
       "[ 0  1  0  0  0]\n",
       "[ 0  0  1  0  1]\n",
       "[ 0  0  0  1  0]\n",
       "[ 0  0  0  0 -1]"
      ]
     },
     "metadata": {},
     "output_type": "display_data"
    }
   ],
   "source": [
    "A_rfc=((A_rf.transpose()).extended_echelon_form().matrix_from_columns([0..4])).transpose()\n",
    "Q=((A_rf.transpose()).extended_echelon_form().matrix_from_columns([5..9])).transpose()\n",
    "show(A_rfc,Q)"
   ]
  },
  {
   "cell_type": "code",
   "execution_count": 73,
   "metadata": {},
   "outputs": [
    {
     "data": {
      "text/html": [
       "<html>\\[\\newcommand{\\Bold}[1]{\\mathbf{#1}}\\left(\\begin{array}{rrrrr}\n",
       "1 & 0 & 0 & 0 & 0 \\\\\n",
       "0 & 1 & 0 & 0 & 0 \\\\\n",
       "0 & 0 & 1 & 0 & 0 \\\\\n",
       "0 & 0 & 0 & 1 & 0 \\\\\n",
       "0 & 0 & 0 & 0 & 0\n",
       "\\end{array}\\right)\\]</html>"
      ],
      "text/latex": [
       "$$\\newcommand{\\Bold}[1]{\\mathbf{#1}}\\left(\\begin{array}{rrrrr}\n",
       "1 & 0 & 0 & 0 & 0 \\\\\n",
       "0 & 1 & 0 & 0 & 0 \\\\\n",
       "0 & 0 & 1 & 0 & 0 \\\\\n",
       "0 & 0 & 0 & 1 & 0 \\\\\n",
       "0 & 0 & 0 & 0 & 0\n",
       "\\end{array}\\right)$$"
      ],
      "text/plain": [
       "[1 0 0 0 0]\n",
       "[0 1 0 0 0]\n",
       "[0 0 1 0 0]\n",
       "[0 0 0 1 0]\n",
       "[0 0 0 0 0]"
      ]
     },
     "metadata": {},
     "output_type": "display_data"
    },
    {
     "data": {
      "text/plain": [
       "True"
      ]
     },
     "execution_count": 73,
     "metadata": {},
     "output_type": "execute_result"
    }
   ],
   "source": [
    "show(P*A*Q)\n",
    "A_rfc==P*A*Q"
   ]
  },
  {
   "cell_type": "code",
   "execution_count": 74,
   "metadata": {},
   "outputs": [
    {
     "data": {
      "text/html": [
       "<html>\\[\\newcommand{\\Bold}[1]{\\mathbf{#1}}\\left(\\begin{array}{rrrrr}\n",
       "1 & 0 & 0 & 0 & 2 \\\\\n",
       "0 & 1 & 0 & 0 & 0 \\\\\n",
       "0 & 0 & 1 & 0 & 1 \\\\\n",
       "0 & 0 & 0 & 1 & 0 \\\\\n",
       "0 & 0 & 0 & 0 & 0 \\\\\n",
       "\\hline\n",
       " 1 & 0 & 0 & 0 & 0 \\\\\n",
       "0 & 1 & 0 & 0 & 0 \\\\\n",
       "0 & 0 & 1 & 0 & 0 \\\\\n",
       "0 & 0 & 0 & 1 & 0 \\\\\n",
       "0 & 0 & 0 & 0 & 1\n",
       "\\end{array}\\right)\\]</html>"
      ],
      "text/latex": [
       "$$\\newcommand{\\Bold}[1]{\\mathbf{#1}}\\left(\\begin{array}{rrrrr}\n",
       "1 & 0 & 0 & 0 & 2 \\\\\n",
       "0 & 1 & 0 & 0 & 0 \\\\\n",
       "0 & 0 & 1 & 0 & 1 \\\\\n",
       "0 & 0 & 0 & 1 & 0 \\\\\n",
       "0 & 0 & 0 & 0 & 0 \\\\\n",
       "\\hline\n",
       " 1 & 0 & 0 & 0 & 0 \\\\\n",
       "0 & 1 & 0 & 0 & 0 \\\\\n",
       "0 & 0 & 1 & 0 & 0 \\\\\n",
       "0 & 0 & 0 & 1 & 0 \\\\\n",
       "0 & 0 & 0 & 0 & 1\n",
       "\\end{array}\\right)$$"
      ],
      "text/plain": [
       "[1 0 0 0 2]\n",
       "[0 1 0 0 0]\n",
       "[0 0 1 0 1]\n",
       "[0 0 0 1 0]\n",
       "[0 0 0 0 0]\n",
       "[---------]\n",
       "[1 0 0 0 0]\n",
       "[0 1 0 0 0]\n",
       "[0 0 1 0 0]\n",
       "[0 0 0 1 0]\n",
       "[0 0 0 0 1]"
      ]
     },
     "metadata": {},
     "output_type": "display_data"
    }
   ],
   "source": [
    "AI=block_matrix(2,1,[A_rf,identity_matrix(5)]); show(AI)"
   ]
  },
  {
   "cell_type": "code",
   "execution_count": 75,
   "metadata": {},
   "outputs": [
    {
     "data": {
      "text/html": [
       "<html>\\[\\newcommand{\\Bold}[1]{\\mathbf{#1}}\\left(\\begin{array}{rrrrr}\n",
       "1 & 0 & 0 & 0 & 0 \\\\\n",
       "0 & 1 & 0 & 0 & 0 \\\\\n",
       "0 & 0 & 1 & 0 & 0 \\\\\n",
       "0 & 0 & 0 & 1 & 0 \\\\\n",
       "0 & 0 & 0 & 0 & 0 \\\\\n",
       "\\hline\n",
       " 1 & 0 & 0 & 0 & -2 \\\\\n",
       "0 & 1 & 0 & 0 & 0 \\\\\n",
       "0 & 0 & 1 & 0 & -1 \\\\\n",
       "0 & 0 & 0 & 1 & 0 \\\\\n",
       "0 & 0 & 0 & 0 & 1\n",
       "\\end{array}\\right)\\]</html>"
      ],
      "text/latex": [
       "$$\\newcommand{\\Bold}[1]{\\mathbf{#1}}\\left(\\begin{array}{rrrrr}\n",
       "1 & 0 & 0 & 0 & 0 \\\\\n",
       "0 & 1 & 0 & 0 & 0 \\\\\n",
       "0 & 0 & 1 & 0 & 0 \\\\\n",
       "0 & 0 & 0 & 1 & 0 \\\\\n",
       "0 & 0 & 0 & 0 & 0 \\\\\n",
       "\\hline\n",
       " 1 & 0 & 0 & 0 & -2 \\\\\n",
       "0 & 1 & 0 & 0 & 0 \\\\\n",
       "0 & 0 & 1 & 0 & -1 \\\\\n",
       "0 & 0 & 0 & 1 & 0 \\\\\n",
       "0 & 0 & 0 & 0 & 1\n",
       "\\end{array}\\right)$$"
      ],
      "text/plain": [
       "[ 1  0  0  0  0]\n",
       "[ 0  1  0  0  0]\n",
       "[ 0  0  1  0  0]\n",
       "[ 0  0  0  1  0]\n",
       "[ 0  0  0  0  0]\n",
       "[--------------]\n",
       "[ 1  0  0  0 -2]\n",
       "[ 0  1  0  0  0]\n",
       "[ 0  0  1  0 -1]\n",
       "[ 0  0  0  1  0]\n",
       "[ 0  0  0  0  1]"
      ]
     },
     "metadata": {},
     "output_type": "display_data"
    }
   ],
   "source": [
    "AI.add_multiple_of_column(4,0,-2)\n",
    "AI.add_multiple_of_column(4,2,-1)\n",
    "show(AI)"
   ]
  },
  {
   "cell_type": "code",
   "execution_count": 77,
   "metadata": {},
   "outputs": [],
   "source": [
    "A_rfc2=AI.matrix_from_rows([0..4])\n",
    "Q2=AI.matrix_from_rows([5..9])"
   ]
  },
  {
   "cell_type": "code",
   "execution_count": 78,
   "metadata": {},
   "outputs": [
    {
     "data": {
      "text/html": [
       "<html>\\[\\newcommand{\\Bold}[1]{\\mathbf{#1}}\\mathrm{True}\\]</html>"
      ],
      "text/latex": [
       "$$\\newcommand{\\Bold}[1]{\\mathbf{#1}}\\mathrm{True}$$"
      ],
      "text/plain": [
       "True"
      ]
     },
     "metadata": {},
     "output_type": "display_data"
    },
    {
     "data": {
      "text/html": [
       "<html>\\[\\newcommand{\\Bold}[1]{\\mathbf{#1}}\\mathrm{True}\\]</html>"
      ],
      "text/latex": [
       "$$\\newcommand{\\Bold}[1]{\\mathbf{#1}}\\mathrm{True}$$"
      ],
      "text/plain": [
       "True"
      ]
     },
     "metadata": {},
     "output_type": "display_data"
    },
    {
     "data": {
      "text/html": [
       "<html>\\[\\newcommand{\\Bold}[1]{\\mathbf{#1}}\\mathrm{True}\\]</html>"
      ],
      "text/latex": [
       "$$\\newcommand{\\Bold}[1]{\\mathbf{#1}}\\mathrm{True}$$"
      ],
      "text/plain": [
       "True"
      ]
     },
     "metadata": {},
     "output_type": "display_data"
    },
    {
     "data": {
      "text/html": [
       "<html>\\[\\newcommand{\\Bold}[1]{\\mathbf{#1}}\\mathrm{False}\\]</html>"
      ],
      "text/latex": [
       "$$\\newcommand{\\Bold}[1]{\\mathbf{#1}}\\mathrm{False}$$"
      ],
      "text/plain": [
       "False"
      ]
     },
     "metadata": {},
     "output_type": "display_data"
    }
   ],
   "source": [
    "show(A_rfc==A_rfc2)\n",
    "show(A_rfc==P*A*Q)\n",
    "show(A_rfc==P*A*Q2)\n",
    "show(Q==Q2)"
   ]
  },
  {
   "cell_type": "code",
   "execution_count": 79,
   "metadata": {},
   "outputs": [
    {
     "data": {
      "text/html": [
       "<html>\\[\\newcommand{\\Bold}[1]{\\mathbf{#1}}\\left(\\begin{array}{rrrrr}\n",
       "1 & 0 & 0 & -1 & 0 \\\\\n",
       "0 & 1 & 0 & 0 & 0 \\\\\n",
       "0 & 0 & 0 & -1 & 0 \\\\\n",
       "0 & 1 & 0 & 0 & -1 \\\\\n",
       "0 & 0 & 0 & 0 & 0\n",
       "\\end{array}\\right) \\left(\\begin{array}{rrrrr}\n",
       "1 & 0 & 0 & -1 & 0 \\\\\n",
       "0 & 1 & 0 & 0 & 0 \\\\\n",
       "0 & 0 & 0 & -1 & 0 \\\\\n",
       "0 & 1 & 0 & 0 & -1 \\\\\n",
       "0 & 0 & 0 & 0 & 0\n",
       "\\end{array}\\right)\\]</html>"
      ],
      "text/latex": [
       "$$\\newcommand{\\Bold}[1]{\\mathbf{#1}}\\left(\\begin{array}{rrrrr}\n",
       "1 & 0 & 0 & -1 & 0 \\\\\n",
       "0 & 1 & 0 & 0 & 0 \\\\\n",
       "0 & 0 & 0 & -1 & 0 \\\\\n",
       "0 & 1 & 0 & 0 & -1 \\\\\n",
       "0 & 0 & 0 & 0 & 0\n",
       "\\end{array}\\right) \\left(\\begin{array}{rrrrr}\n",
       "1 & 0 & 0 & -1 & 0 \\\\\n",
       "0 & 1 & 0 & 0 & 0 \\\\\n",
       "0 & 0 & 0 & -1 & 0 \\\\\n",
       "0 & 1 & 0 & 0 & -1 \\\\\n",
       "0 & 0 & 0 & 0 & 0\n",
       "\\end{array}\\right)$$"
      ],
      "text/plain": [
       "[ 1  0  0 -1  0]\n",
       "[ 0  1  0  0  0]\n",
       "[ 0  0  0 -1  0]\n",
       "[ 0  1  0  0 -1]\n",
       "[ 0  0  0  0  0] [ 1  0  0 -1  0]\n",
       "[ 0  1  0  0  0]\n",
       "[ 0  0  0 -1  0]\n",
       "[ 0  1  0  0 -1]\n",
       "[ 0  0  0  0  0]"
      ]
     },
     "metadata": {},
     "output_type": "display_data"
    }
   ],
   "source": [
    "G_r1=Q*A_rfc*P\n",
    "G_r2=Q2*A_rfc2*P\n",
    "show(G_r1,G_r2)"
   ]
  },
  {
   "cell_type": "code",
   "execution_count": 80,
   "metadata": {},
   "outputs": [],
   "source": [
    "G_r=G_r1"
   ]
  },
  {
   "cell_type": "code",
   "execution_count": 81,
   "metadata": {},
   "outputs": [
    {
     "data": {
      "text/plain": [
       "True"
      ]
     },
     "execution_count": 81,
     "metadata": {},
     "output_type": "execute_result"
    }
   ],
   "source": [
    "A==A*G_r*A"
   ]
  },
  {
   "cell_type": "markdown",
   "metadata": {},
   "source": [
    "### Problema 2"
   ]
  },
  {
   "cell_type": "code",
   "execution_count": 83,
   "metadata": {},
   "outputs": [
    {
     "data": {
      "text/html": [
       "<html>\\[\\newcommand{\\Bold}[1]{\\mathbf{#1}}\\left(\\begin{array}{rrrr}\n",
       "2 & -8 & 1 & -1 \\\\\n",
       "5 & -20 & -4 & -22 \\\\\n",
       "-3 & 12 & 5 & 21\n",
       "\\end{array}\\right) \\left(\\begin{array}{rrr}\n",
       "1 & 2 & 3 \\\\\n",
       "0 & 4 & 6 \\\\\n",
       "-1 & 0 & 0\n",
       "\\end{array}\\right) \\left(\\begin{array}{rrrr}\n",
       "2 & 3 & 2 & -1 \\\\\n",
       "5 & 8 & 0 & 1 \\\\\n",
       "1 & 2 & -2 & 3\n",
       "\\end{array}\\right)\\]</html>"
      ],
      "text/latex": [
       "$$\\newcommand{\\Bold}[1]{\\mathbf{#1}}\\left(\\begin{array}{rrrr}\n",
       "2 & -8 & 1 & -1 \\\\\n",
       "5 & -20 & -4 & -22 \\\\\n",
       "-3 & 12 & 5 & 21\n",
       "\\end{array}\\right) \\left(\\begin{array}{rrr}\n",
       "1 & 2 & 3 \\\\\n",
       "0 & 4 & 6 \\\\\n",
       "-1 & 0 & 0\n",
       "\\end{array}\\right) \\left(\\begin{array}{rrrr}\n",
       "2 & 3 & 2 & -1 \\\\\n",
       "5 & 8 & 0 & 1 \\\\\n",
       "1 & 2 & -2 & 3\n",
       "\\end{array}\\right)$$"
      ],
      "text/plain": [
       "[  2  -8   1  -1]\n",
       "[  5 -20  -4 -22]\n",
       "[ -3  12   5  21] [ 1  2  3]\n",
       "[ 0  4  6]\n",
       "[-1  0  0] [ 2  3  2 -1]\n",
       "[ 5  8  0  1]\n",
       "[ 1  2 -2  3]"
      ]
     },
     "metadata": {},
     "output_type": "display_data"
    }
   ],
   "source": [
    "A=column_matrix(QQ,[[2,5,-3],[-8,-20,12],[1,-4,5],[-1,-22,21]])\n",
    "B=matrix(QQ,[[1,2,3],[0,4,6],[-1,0,0]])\n",
    "C=matrix(QQ,3,4,[2,3,2,-1,5,8,0,1,1,2,-2,3])\n",
    "show(A,B,C)"
   ]
  },
  {
   "cell_type": "markdown",
   "metadata": {},
   "source": [
    "##### PAQ reducció de A,B,C simultàneament: "
   ]
  },
  {
   "cell_type": "code",
   "execution_count": 84,
   "metadata": {},
   "outputs": [
    {
     "data": {
      "text/html": [
       "<html>\\[\\newcommand{\\Bold}[1]{\\mathbf{#1}}\\left(\\begin{array}{rrrrrrr}\n",
       "1 & -4 & 0 & -2 & 0 & \\frac{5}{13} & \\frac{4}{13} \\\\\n",
       "0 & 0 & 1 & 3 & 0 & \\frac{3}{13} & \\frac{5}{13} \\\\\n",
       "0 & 0 & 0 & 0 & 1 & -1 & -1\n",
       "\\end{array}\\right)\\]</html>"
      ],
      "text/latex": [
       "$$\\newcommand{\\Bold}[1]{\\mathbf{#1}}\\left(\\begin{array}{rrrrrrr}\n",
       "1 & -4 & 0 & -2 & 0 & \\frac{5}{13} & \\frac{4}{13} \\\\\n",
       "0 & 0 & 1 & 3 & 0 & \\frac{3}{13} & \\frac{5}{13} \\\\\n",
       "0 & 0 & 0 & 0 & 1 & -1 & -1\n",
       "\\end{array}\\right)$$"
      ],
      "text/plain": [
       "[   1   -4    0   -2    0 5/13 4/13]\n",
       "[   0    0    1    3    0 3/13 5/13]\n",
       "[   0    0    0    0    1   -1   -1]"
      ]
     },
     "metadata": {},
     "output_type": "display_data"
    },
    {
     "data": {
      "text/html": [
       "<html>\\[\\newcommand{\\Bold}[1]{\\mathbf{#1}}\\left(\\begin{array}{rrrrrr}\n",
       "1 & 0 & 0 & 0 & 0 & -1 \\\\\n",
       "0 & 1 & \\frac{3}{2} & 0 & \\frac{1}{4} & 0 \\\\\n",
       "0 & 0 & 0 & 1 & -\\frac{1}{2} & 1\n",
       "\\end{array}\\right)\\]</html>"
      ],
      "text/latex": [
       "$$\\newcommand{\\Bold}[1]{\\mathbf{#1}}\\left(\\begin{array}{rrrrrr}\n",
       "1 & 0 & 0 & 0 & 0 & -1 \\\\\n",
       "0 & 1 & \\frac{3}{2} & 0 & \\frac{1}{4} & 0 \\\\\n",
       "0 & 0 & 0 & 1 & -\\frac{1}{2} & 1\n",
       "\\end{array}\\right)$$"
      ],
      "text/plain": [
       "[   1    0    0    0    0   -1]\n",
       "[   0    1  3/2    0  1/4    0]\n",
       "[   0    0    0    1 -1/2    1]"
      ]
     },
     "metadata": {},
     "output_type": "display_data"
    },
    {
     "data": {
      "text/html": [
       "<html>\\[\\newcommand{\\Bold}[1]{\\mathbf{#1}}\\left(\\begin{array}{rrrrrrr}\n",
       "1 & 0 & 0 & -11 & -8 & 5 & -8 \\\\\n",
       "0 & 1 & 0 & 7 & 5 & -3 & 5 \\\\\n",
       "0 & 0 & 1 & 0 & 1 & -\\frac{1}{2} & \\frac{1}{2}\n",
       "\\end{array}\\right)\\]</html>"
      ],
      "text/latex": [
       "$$\\newcommand{\\Bold}[1]{\\mathbf{#1}}\\left(\\begin{array}{rrrrrrr}\n",
       "1 & 0 & 0 & -11 & -8 & 5 & -8 \\\\\n",
       "0 & 1 & 0 & 7 & 5 & -3 & 5 \\\\\n",
       "0 & 0 & 1 & 0 & 1 & -\\frac{1}{2} & \\frac{1}{2}\n",
       "\\end{array}\\right)$$"
      ],
      "text/plain": [
       "[   1    0    0  -11   -8    5   -8]\n",
       "[   0    1    0    7    5   -3    5]\n",
       "[   0    0    1    0    1 -1/2  1/2]"
      ]
     },
     "metadata": {},
     "output_type": "display_data"
    }
   ],
   "source": [
    "A_rf=A.extended_echelon_form().matrix_from_columns([0..3])\n",
    "Pa=A.extended_echelon_form().matrix_from_columns([4..6])\n",
    "show(A.extended_echelon_form())\n",
    "\n",
    "B_rf=B.extended_echelon_form().matrix_from_columns([0..2])\n",
    "Pb=B.extended_echelon_form().matrix_from_columns([3..5])\n",
    "show(B.extended_echelon_form())\n",
    "\n",
    "C_rf=C.extended_echelon_form().matrix_from_columns([0..3])\n",
    "Pc=C.extended_echelon_form().matrix_from_columns([4..6])\n",
    "show(C.extended_echelon_form())"
   ]
  },
  {
   "cell_type": "code",
   "execution_count": 85,
   "metadata": {},
   "outputs": [],
   "source": [
    "A_rfc=A_rf.transpose().extended_echelon_form().matrix_from_columns([0..2]).transpose()\n",
    "Qa=A_rf.transpose().extended_echelon_form().matrix_from_columns([3..6]).transpose()\n",
    "\n",
    "B_rfc=B_rf.transpose().extended_echelon_form().matrix_from_columns([0..2]).transpose()\n",
    "Qb=B_rf.transpose().extended_echelon_form().matrix_from_columns([3..5]).transpose()\n",
    "\n",
    "C_rfc=C_rf.transpose().extended_echelon_form().matrix_from_columns([0..2]).transpose()\n",
    "Qc=C_rf.transpose().extended_echelon_form().matrix_from_columns([3..6]).transpose()"
   ]
  },
  {
   "cell_type": "code",
   "execution_count": 86,
   "metadata": {},
   "outputs": [
    {
     "data": {
      "text/html": [
       "<html>\\[\\newcommand{\\Bold}[1]{\\mathbf{#1}}\\left(\\begin{array}{rrrr}\n",
       "1 & 0 & 0 & 0 \\\\\n",
       "0 & 1 & 0 & 0 \\\\\n",
       "0 & 0 & 0 & 0\n",
       "\\end{array}\\right)\\]</html>"
      ],
      "text/latex": [
       "$$\\newcommand{\\Bold}[1]{\\mathbf{#1}}\\left(\\begin{array}{rrrr}\n",
       "1 & 0 & 0 & 0 \\\\\n",
       "0 & 1 & 0 & 0 \\\\\n",
       "0 & 0 & 0 & 0\n",
       "\\end{array}\\right)$$"
      ],
      "text/plain": [
       "[1 0 0 0]\n",
       "[0 1 0 0]\n",
       "[0 0 0 0]"
      ]
     },
     "metadata": {},
     "output_type": "display_data"
    },
    {
     "data": {
      "text/html": [
       "<html>\\[\\newcommand{\\Bold}[1]{\\mathbf{#1}}\\left(\\begin{array}{rrr}\n",
       "0 & 0 & 0 \\\\\n",
       "0 & 0 & 0 \\\\\n",
       "0 & \\frac{21}{26} & \\frac{11}{13} \\\\\n",
       "0 & -\\frac{5}{26} & -\\frac{2}{13}\n",
       "\\end{array}\\right)\\]</html>"
      ],
      "text/latex": [
       "$$\\newcommand{\\Bold}[1]{\\mathbf{#1}}\\left(\\begin{array}{rrr}\n",
       "0 & 0 & 0 \\\\\n",
       "0 & 0 & 0 \\\\\n",
       "0 & \\frac{21}{26} & \\frac{11}{13} \\\\\n",
       "0 & -\\frac{5}{26} & -\\frac{2}{13}\n",
       "\\end{array}\\right)$$"
      ],
      "text/plain": [
       "[    0     0     0]\n",
       "[    0     0     0]\n",
       "[    0 21/26 11/13]\n",
       "[    0 -5/26 -2/13]"
      ]
     },
     "metadata": {},
     "output_type": "display_data"
    },
    {
     "data": {
      "text/html": [
       "<html>\\[\\newcommand{\\Bold}[1]{\\mathbf{#1}}\\left(\\begin{array}{rrrr}\n",
       "2 & -8 & 1 & -1 \\\\\n",
       "5 & -20 & -4 & -22 \\\\\n",
       "-3 & 12 & 5 & 21\n",
       "\\end{array}\\right)\\]</html>"
      ],
      "text/latex": [
       "$$\\newcommand{\\Bold}[1]{\\mathbf{#1}}\\left(\\begin{array}{rrrr}\n",
       "2 & -8 & 1 & -1 \\\\\n",
       "5 & -20 & -4 & -22 \\\\\n",
       "-3 & 12 & 5 & 21\n",
       "\\end{array}\\right)$$"
      ],
      "text/plain": [
       "[  2  -8   1  -1]\n",
       "[  5 -20  -4 -22]\n",
       "[ -3  12   5  21]"
      ]
     },
     "metadata": {},
     "output_type": "display_data"
    },
    {
     "data": {
      "text/plain": [
       "True"
      ]
     },
     "execution_count": 86,
     "metadata": {},
     "output_type": "execute_result"
    }
   ],
   "source": [
    "PAQ=Pa*A*Qa; show(PAQ)\n",
    "Ga=Qa*PAQ.transpose()*Pa; show(Ga)\n",
    "show(A*Ga*A)\n",
    "A*Ga*A==A"
   ]
  },
  {
   "cell_type": "code",
   "execution_count": 87,
   "metadata": {},
   "outputs": [
    {
     "data": {
      "text/html": [
       "<html>\\[\\newcommand{\\Bold}[1]{\\mathbf{#1}}\\left(\\begin{array}{rrr}\n",
       "1 & 0 & 0 \\\\\n",
       "0 & 1 & 0 \\\\\n",
       "0 & 0 & 0\n",
       "\\end{array}\\right)\\]</html>"
      ],
      "text/latex": [
       "$$\\newcommand{\\Bold}[1]{\\mathbf{#1}}\\left(\\begin{array}{rrr}\n",
       "1 & 0 & 0 \\\\\n",
       "0 & 1 & 0 \\\\\n",
       "0 & 0 & 0\n",
       "\\end{array}\\right)$$"
      ],
      "text/plain": [
       "[1 0 0]\n",
       "[0 1 0]\n",
       "[0 0 0]"
      ]
     },
     "metadata": {},
     "output_type": "display_data"
    },
    {
     "data": {
      "text/html": [
       "<html>\\[\\newcommand{\\Bold}[1]{\\mathbf{#1}}\\left(\\begin{array}{rrr}\n",
       "0 & 0 & -1 \\\\\n",
       "0 & 0 & 0 \\\\\n",
       "0 & \\frac{1}{6} & 0\n",
       "\\end{array}\\right)\\]</html>"
      ],
      "text/latex": [
       "$$\\newcommand{\\Bold}[1]{\\mathbf{#1}}\\left(\\begin{array}{rrr}\n",
       "0 & 0 & -1 \\\\\n",
       "0 & 0 & 0 \\\\\n",
       "0 & \\frac{1}{6} & 0\n",
       "\\end{array}\\right)$$"
      ],
      "text/plain": [
       "[  0   0  -1]\n",
       "[  0   0   0]\n",
       "[  0 1/6   0]"
      ]
     },
     "metadata": {},
     "output_type": "display_data"
    },
    {
     "data": {
      "text/html": [
       "<html>\\[\\newcommand{\\Bold}[1]{\\mathbf{#1}}\\left(\\begin{array}{rrr}\n",
       "1 & 2 & 3 \\\\\n",
       "0 & 4 & 6 \\\\\n",
       "-1 & 0 & 0\n",
       "\\end{array}\\right)\\]</html>"
      ],
      "text/latex": [
       "$$\\newcommand{\\Bold}[1]{\\mathbf{#1}}\\left(\\begin{array}{rrr}\n",
       "1 & 2 & 3 \\\\\n",
       "0 & 4 & 6 \\\\\n",
       "-1 & 0 & 0\n",
       "\\end{array}\\right)$$"
      ],
      "text/plain": [
       "[ 1  2  3]\n",
       "[ 0  4  6]\n",
       "[-1  0  0]"
      ]
     },
     "metadata": {},
     "output_type": "display_data"
    },
    {
     "data": {
      "text/plain": [
       "True"
      ]
     },
     "execution_count": 87,
     "metadata": {},
     "output_type": "execute_result"
    }
   ],
   "source": [
    "PBQ=Pb*B*Qb; show(PBQ)\n",
    "Gb=Qb*PBQ.transpose()*Pb; show(Gb)\n",
    "show(B*Gb*B)\n",
    "B*Gb*B==B"
   ]
  },
  {
   "cell_type": "code",
   "execution_count": 88,
   "metadata": {},
   "outputs": [
    {
     "data": {
      "text/html": [
       "<html>\\[\\newcommand{\\Bold}[1]{\\mathbf{#1}}\\left(\\begin{array}{rrrr}\n",
       "1 & 0 & 0 & 0 \\\\\n",
       "0 & 1 & 0 & 0 \\\\\n",
       "0 & 0 & 1 & 0\n",
       "\\end{array}\\right)\\]</html>"
      ],
      "text/latex": [
       "$$\\newcommand{\\Bold}[1]{\\mathbf{#1}}\\left(\\begin{array}{rrrr}\n",
       "1 & 0 & 0 & 0 \\\\\n",
       "0 & 1 & 0 & 0 \\\\\n",
       "0 & 0 & 1 & 0\n",
       "\\end{array}\\right)$$"
      ],
      "text/plain": [
       "[1 0 0 0]\n",
       "[0 1 0 0]\n",
       "[0 0 1 0]"
      ]
     },
     "metadata": {},
     "output_type": "display_data"
    },
    {
     "data": {
      "text/html": [
       "<html>\\[\\newcommand{\\Bold}[1]{\\mathbf{#1}}\\left(\\begin{array}{rrr}\n",
       "0 & 0 & 0 \\\\\n",
       "-\\frac{1}{11} & \\frac{2}{11} & -\\frac{1}{11} \\\\\n",
       "1 & -\\frac{1}{2} & \\frac{1}{2} \\\\\n",
       "\\frac{8}{11} & -\\frac{5}{11} & \\frac{8}{11}\n",
       "\\end{array}\\right)\\]</html>"
      ],
      "text/latex": [
       "$$\\newcommand{\\Bold}[1]{\\mathbf{#1}}\\left(\\begin{array}{rrr}\n",
       "0 & 0 & 0 \\\\\n",
       "-\\frac{1}{11} & \\frac{2}{11} & -\\frac{1}{11} \\\\\n",
       "1 & -\\frac{1}{2} & \\frac{1}{2} \\\\\n",
       "\\frac{8}{11} & -\\frac{5}{11} & \\frac{8}{11}\n",
       "\\end{array}\\right)$$"
      ],
      "text/plain": [
       "[    0     0     0]\n",
       "[-1/11  2/11 -1/11]\n",
       "[    1  -1/2   1/2]\n",
       "[ 8/11 -5/11  8/11]"
      ]
     },
     "metadata": {},
     "output_type": "display_data"
    },
    {
     "data": {
      "text/html": [
       "<html>\\[\\newcommand{\\Bold}[1]{\\mathbf{#1}}\\left(\\begin{array}{rrrr}\n",
       "2 & 3 & 2 & -1 \\\\\n",
       "5 & 8 & 0 & 1 \\\\\n",
       "1 & 2 & -2 & 3\n",
       "\\end{array}\\right)\\]</html>"
      ],
      "text/latex": [
       "$$\\newcommand{\\Bold}[1]{\\mathbf{#1}}\\left(\\begin{array}{rrrr}\n",
       "2 & 3 & 2 & -1 \\\\\n",
       "5 & 8 & 0 & 1 \\\\\n",
       "1 & 2 & -2 & 3\n",
       "\\end{array}\\right)$$"
      ],
      "text/plain": [
       "[ 2  3  2 -1]\n",
       "[ 5  8  0  1]\n",
       "[ 1  2 -2  3]"
      ]
     },
     "metadata": {},
     "output_type": "display_data"
    },
    {
     "data": {
      "text/plain": [
       "True"
      ]
     },
     "execution_count": 88,
     "metadata": {},
     "output_type": "execute_result"
    }
   ],
   "source": [
    "PCQ=Pc*C*Qc; show(PCQ)\n",
    "Gc=Qc*PCQ.transpose()*Pc; show(Gc)\n",
    "show(C*Gc*C)\n",
    "C*Gc*C==C"
   ]
  },
  {
   "cell_type": "markdown",
   "metadata": {},
   "source": [
    "### Problema 3\n",
    "Pel Tª de Rouché-Frobenious, un sistema lineal té solució (compatible) si el rang de A és igual al rang de A|b. Tenint açò en compte, es donaràn les solución del sistema demanat."
   ]
  },
  {
   "cell_type": "code",
   "execution_count": 89,
   "metadata": {},
   "outputs": [
    {
     "data": {
      "text/html": [
       "<html>\\[\\newcommand{\\Bold}[1]{\\mathbf{#1}}\\left(\\begin{array}{rrrr|r}\n",
       "2 & -8 & 1 & -1 & 9 \\\\\n",
       "5 & -20 & -4 & -22 & 3 \\\\\n",
       "-3 & 12 & 5 & 21 & 6\n",
       "\\end{array}\\right)\\]</html>"
      ],
      "text/latex": [
       "$$\\newcommand{\\Bold}[1]{\\mathbf{#1}}\\left(\\begin{array}{rrrr|r}\n",
       "2 & -8 & 1 & -1 & 9 \\\\\n",
       "5 & -20 & -4 & -22 & 3 \\\\\n",
       "-3 & 12 & 5 & 21 & 6\n",
       "\\end{array}\\right)$$"
      ],
      "text/plain": [
       "[  2  -8   1  -1|  9]\n",
       "[  5 -20  -4 -22|  3]\n",
       "[ -3  12   5  21|  6]"
      ]
     },
     "metadata": {},
     "output_type": "display_data"
    }
   ],
   "source": [
    "b=column_matrix([9,3,6])\n",
    "Ab=block_matrix(1,2,[A,b])\n",
    "show(Ab)"
   ]
  },
  {
   "cell_type": "code",
   "execution_count": 90,
   "metadata": {},
   "outputs": [
    {
     "data": {
      "text/plain": [
       "2"
      ]
     },
     "execution_count": 90,
     "metadata": {},
     "output_type": "execute_result"
    }
   ],
   "source": [
    "A.rank()"
   ]
  },
  {
   "cell_type": "code",
   "execution_count": 91,
   "metadata": {},
   "outputs": [
    {
     "data": {
      "text/plain": [
       "2"
      ]
     },
     "execution_count": 91,
     "metadata": {},
     "output_type": "execute_result"
    }
   ],
   "source": [
    "Ab.rank()"
   ]
  },
  {
   "cell_type": "markdown",
   "metadata": {},
   "source": [
    "Llavors, pel TªR-F, és un SC. Aleshores, s'aplicarà la resolució de sistemes lineals per la generalització de la Regla de Cramer;"
   ]
  },
  {
   "cell_type": "code",
   "execution_count": 93,
   "metadata": {},
   "outputs": [
    {
     "data": {
      "text/html": [
       "<html>\\[\\newcommand{\\Bold}[1]{\\mathbf{#1}}\\left(\\begin{array}{r}\n",
       "x_{1} \\\\\n",
       "x_{2} \\\\\n",
       "x_{3} \\\\\n",
       "x_{4}\n",
       "\\end{array}\\right) \\left(\\begin{array}{r}\n",
       "a_{1} \\\\\n",
       "a_{2} \\\\\n",
       "a_{3} \\\\\n",
       "a_{4}\n",
       "\\end{array}\\right)\\]</html>"
      ],
      "text/latex": [
       "$$\\newcommand{\\Bold}[1]{\\mathbf{#1}}\\left(\\begin{array}{r}\n",
       "x_{1} \\\\\n",
       "x_{2} \\\\\n",
       "x_{3} \\\\\n",
       "x_{4}\n",
       "\\end{array}\\right) \\left(\\begin{array}{r}\n",
       "a_{1} \\\\\n",
       "a_{2} \\\\\n",
       "a_{3} \\\\\n",
       "a_{4}\n",
       "\\end{array}\\right)$$"
      ],
      "text/plain": [
       "[x1]\n",
       "[x2]\n",
       "[x3]\n",
       "[x4] [a1]\n",
       "[a2]\n",
       "[a3]\n",
       "[a4]"
      ]
     },
     "metadata": {},
     "output_type": "display_data"
    }
   ],
   "source": [
    "var('a1 a2 a3 a4')\n",
    "var('x1 x2 x3 x4')\n",
    "x=column_matrix([x1,x2,x3,x4])\n",
    "p=column_matrix([a1,a2,a3,a4])\n",
    "show(x,p)"
   ]
  },
  {
   "cell_type": "code",
   "execution_count": 94,
   "metadata": {},
   "outputs": [
    {
     "data": {
      "text/html": [
       "<html>\\[\\newcommand{\\Bold}[1]{\\mathbf{#1}}\\left(\\begin{array}{r}\n",
       "x_{1} \\\\\n",
       "x_{2} \\\\\n",
       "x_{3} \\\\\n",
       "x_{4}\n",
       "\\end{array}\\right) \\verb|=| \\left(\\begin{array}{r}\n",
       "-a_{1} \\\\\n",
       "-a_{2} \\\\\n",
       "\\frac{3}{2} \\, a_{1} - 6 \\, a_{2} + \\frac{15}{2} \\\\\n",
       "-\\frac{1}{2} \\, a_{1} + 2 \\, a_{2} - \\frac{3}{2}\n",
       "\\end{array}\\right)\\]</html>"
      ],
      "text/latex": [
       "$$\\newcommand{\\Bold}[1]{\\mathbf{#1}}\\left(\\begin{array}{r}\n",
       "x_{1} \\\\\n",
       "x_{2} \\\\\n",
       "x_{3} \\\\\n",
       "x_{4}\n",
       "\\end{array}\\right) \\verb|=| \\left(\\begin{array}{r}\n",
       "-a_{1} \\\\\n",
       "-a_{2} \\\\\n",
       "\\frac{3}{2} \\, a_{1} - 6 \\, a_{2} + \\frac{15}{2} \\\\\n",
       "-\\frac{1}{2} \\, a_{1} + 2 \\, a_{2} - \\frac{3}{2}\n",
       "\\end{array}\\right)$$"
      ],
      "text/plain": [
       "[x1]\n",
       "[x2]\n",
       "[x3]\n",
       "[x4] '=' [                 -a1]\n",
       "[                 -a2]\n",
       "[3/2*a1 - 6*a2 + 15/2]\n",
       "[-1/2*a1 + 2*a2 - 3/2]"
      ]
     },
     "metadata": {},
     "output_type": "display_data"
    }
   ],
   "source": [
    "show(x,'=',Ga*b+(Ga*A-identity_matrix(4))*p)\n",
    "x=Ga*b+(Ga*A-identity_matrix(4))*p"
   ]
  },
  {
   "cell_type": "markdown",
   "metadata": {},
   "source": [
    "Comprobació: si a1=1, a2=0"
   ]
  },
  {
   "cell_type": "code",
   "execution_count": 95,
   "metadata": {},
   "outputs": [
    {
     "data": {
      "text/html": [
       "<html>\\[\\newcommand{\\Bold}[1]{\\mathbf{#1}}\\left(\\begin{array}{r}\n",
       "9 \\\\\n",
       "3 \\\\\n",
       "6\n",
       "\\end{array}\\right)\\]</html>"
      ],
      "text/latex": [
       "$$\\newcommand{\\Bold}[1]{\\mathbf{#1}}\\left(\\begin{array}{r}\n",
       "9 \\\\\n",
       "3 \\\\\n",
       "6\n",
       "\\end{array}\\right)$$"
      ],
      "text/plain": [
       "[9]\n",
       "[3]\n",
       "[6]"
      ]
     },
     "metadata": {},
     "output_type": "display_data"
    }
   ],
   "source": [
    "show(A*x.subs(a1=1,a2=0))"
   ]
  },
  {
   "cell_type": "markdown",
   "metadata": {},
   "source": [
    "### Problema 3"
   ]
  },
  {
   "cell_type": "markdown",
   "metadata": {},
   "source": [
    "Per què, si apliqueu el matrix mètode al sistema "
   ]
  },
  {
   "cell_type": "code",
   "execution_count": 96,
   "metadata": {},
   "outputs": [
    {
     "data": {
      "text/html": [
       "<html>\\[\\newcommand{\\Bold}[1]{\\mathbf{#1}}\\left(\\begin{array}{rrrr}\n",
       "2 & -8 & 1 & -1 \\\\\n",
       "5 & -20 & -4 & -22 \\\\\n",
       "-3 & 12 & 5 & 21\n",
       "\\end{array}\\right) \\verb|·| \\left(\\begin{array}{r}\n",
       "-a_{1} \\\\\n",
       "-a_{2} \\\\\n",
       "\\frac{3}{2} \\, a_{1} - 6 \\, a_{2} + \\frac{15}{2} \\\\\n",
       "-\\frac{1}{2} \\, a_{1} + 2 \\, a_{2} - \\frac{3}{2}\n",
       "\\end{array}\\right) \\verb|=| \\left(\\begin{array}{r}\n",
       "3 \\\\\n",
       "-3 \\\\\n",
       "1\n",
       "\\end{array}\\right)\\]</html>"
      ],
      "text/latex": [
       "$$\\newcommand{\\Bold}[1]{\\mathbf{#1}}\\left(\\begin{array}{rrrr}\n",
       "2 & -8 & 1 & -1 \\\\\n",
       "5 & -20 & -4 & -22 \\\\\n",
       "-3 & 12 & 5 & 21\n",
       "\\end{array}\\right) \\verb|·| \\left(\\begin{array}{r}\n",
       "-a_{1} \\\\\n",
       "-a_{2} \\\\\n",
       "\\frac{3}{2} \\, a_{1} - 6 \\, a_{2} + \\frac{15}{2} \\\\\n",
       "-\\frac{1}{2} \\, a_{1} + 2 \\, a_{2} - \\frac{3}{2}\n",
       "\\end{array}\\right) \\verb|=| \\left(\\begin{array}{r}\n",
       "3 \\\\\n",
       "-3 \\\\\n",
       "1\n",
       "\\end{array}\\right)$$"
      ],
      "text/plain": [
       "[  2  -8   1  -1]\n",
       "[  5 -20  -4 -22]\n",
       "[ -3  12   5  21] '·' [                 -a1]\n",
       "[                 -a2]\n",
       "[3/2*a1 - 6*a2 + 15/2]\n",
       "[-1/2*a1 + 2*a2 - 3/2] '=' [ 3]\n",
       "[-3]\n",
       "[ 1]"
      ]
     },
     "metadata": {},
     "output_type": "display_data"
    }
   ],
   "source": [
    "c=column_matrix([3,-3,1])\n",
    "show(A,'·',x,'=',c)"
   ]
  },
  {
   "cell_type": "code",
   "execution_count": 97,
   "metadata": {},
   "outputs": [
    {
     "data": {
      "text/plain": [
       "2"
      ]
     },
     "execution_count": 97,
     "metadata": {},
     "output_type": "execute_result"
    }
   ],
   "source": [
    "A.rank()"
   ]
  },
  {
   "cell_type": "code",
   "execution_count": 98,
   "metadata": {},
   "outputs": [
    {
     "data": {
      "text/plain": [
       "3"
      ]
     },
     "execution_count": 98,
     "metadata": {},
     "output_type": "execute_result"
    }
   ],
   "source": [
    "block_matrix([[A,c]]).rank()"
   ]
  },
  {
   "cell_type": "markdown",
   "metadata": {},
   "source": [
    "El mètode no es pot aplicar, i per això no dóna solucions correctes, perque el sistema és SI pel Tª-RF ja que el rang de A és diferent de A ampliada per c."
   ]
  },
  {
   "cell_type": "markdown",
   "metadata": {},
   "source": [
    "## Pràctica 2.1.   Espais vectorials\n",
    "### Consideracions inicials"
   ]
  },
  {
   "cell_type": "code",
   "execution_count": 110,
   "metadata": {},
   "outputs": [
    {
     "data": {
      "text/html": [
       "<html>\\[\\newcommand{\\Bold}[1]{\\mathbf{#1}}\\left(1,\\,0,\\,2,\\,-1,\\,2\\right)\\]</html>"
      ],
      "text/latex": [
       "$$\\newcommand{\\Bold}[1]{\\mathbf{#1}}\\left(1,\\,0,\\,2,\\,-1,\\,2\\right)$$"
      ],
      "text/plain": [
       "(1, 0, 2, -1, 2)"
      ]
     },
     "metadata": {},
     "output_type": "display_data"
    },
    {
     "data": {
      "text/html": [
       "<html>\\[\\newcommand{\\Bold}[1]{\\mathbf{#1}}\\left(0,\\,-1,\\,1,\\,2,\\,1\\right)\\]</html>"
      ],
      "text/latex": [
       "$$\\newcommand{\\Bold}[1]{\\mathbf{#1}}\\left(0,\\,-1,\\,1,\\,2,\\,1\\right)$$"
      ],
      "text/plain": [
       "(0, -1, 1, 2, 1)"
      ]
     },
     "metadata": {},
     "output_type": "display_data"
    },
    {
     "name": "stdout",
     "output_type": "stream",
     "text": [
      "(1, 0, 2, -1, 2) és un element de: Vector space of dimension 5 over Rational Field\n"
     ]
    },
    {
     "data": {
      "text/html": [
       "<html>\\[\\newcommand{\\Bold}[1]{\\mathbf{#1}}\\Bold{Q}^{5}\\]</html>"
      ],
      "text/latex": [
       "$$\\newcommand{\\Bold}[1]{\\mathbf{#1}}\\Bold{Q}^{5}$$"
      ],
      "text/plain": [
       "Vector space of dimension 5 over Rational Field"
      ]
     },
     "metadata": {},
     "output_type": "display_data"
    }
   ],
   "source": [
    "v=vector(QQ,[1,0,2,-1,2])\n",
    "w=vector(QQ,[0,-1,1,2,1])\n",
    "\n",
    "show(v)\n",
    "show(w)\n",
    "print(v, \"és un element de:\", v.parent())\n",
    "show(v.parent())"
   ]
  },
  {
   "cell_type": "markdown",
   "metadata": {},
   "source": [
    "v.parent() retorna l'espai vectorial al que pertany el vector v."
   ]
  },
  {
   "cell_type": "code",
   "execution_count": 100,
   "metadata": {},
   "outputs": [
    {
     "data": {
      "text/plain": [
       "(1, -1, 3, 1, 3)"
      ]
     },
     "execution_count": 100,
     "metadata": {},
     "output_type": "execute_result"
    }
   ],
   "source": [
    "v+w #Suma vectorial "
   ]
  },
  {
   "cell_type": "code",
   "execution_count": 101,
   "metadata": {},
   "outputs": [
    {
     "data": {
      "text/plain": [
       "(2, 0, 4, -2, 4)"
      ]
     },
     "execution_count": 101,
     "metadata": {},
     "output_type": "execute_result"
    }
   ],
   "source": [
    "2*v #Producte per un escalar"
   ]
  },
  {
   "cell_type": "code",
   "execution_count": 102,
   "metadata": {},
   "outputs": [
    {
     "data": {
      "text/plain": [
       "(0, 1, -1, -2, -1)"
      ]
     },
     "execution_count": 102,
     "metadata": {},
     "output_type": "execute_result"
    }
   ],
   "source": [
    "-w"
   ]
  },
  {
   "cell_type": "code",
   "execution_count": 103,
   "metadata": {},
   "outputs": [
    {
     "data": {
      "text/plain": [
       "(2, 3, 1, -8, 1)"
      ]
     },
     "execution_count": 103,
     "metadata": {},
     "output_type": "execute_result"
    }
   ],
   "source": [
    "2*v-3*w"
   ]
  },
  {
   "cell_type": "markdown",
   "metadata": {},
   "source": [
    "##### Observació: \n",
    "els vectors es representen com a files. Això no és cap incovenient ni necessita manipulacions especials quan es volen fer multiplicacions per matrius ja que el programa tindrà em compte com cal interpretar cada objecte segons quina operació es plantegi (si és el cas)."
   ]
  },
  {
   "cell_type": "code",
   "execution_count": 113,
   "metadata": {},
   "outputs": [
    {
     "data": {
      "text/html": [
       "<html>\\[\\newcommand{\\Bold}[1]{\\mathbf{#1}}\\left(a,\\,b\\right)\\]</html>"
      ],
      "text/latex": [
       "$$\\newcommand{\\Bold}[1]{\\mathbf{#1}}\\left(a,\\,b\\right)$$"
      ],
      "text/plain": [
       "(a, b)"
      ]
     },
     "metadata": {},
     "output_type": "display_data"
    },
    {
     "data": {
      "text/html": [
       "<html>\\[\\newcommand{\\Bold}[1]{\\mathbf{#1}}\\left(\\begin{array}{rr}\n",
       "4 & 1 \\\\\n",
       "-2 & 3\n",
       "\\end{array}\\right)\\]</html>"
      ],
      "text/latex": [
       "$$\\newcommand{\\Bold}[1]{\\mathbf{#1}}\\left(\\begin{array}{rr}\n",
       "4 & 1 \\\\\n",
       "-2 & 3\n",
       "\\end{array}\\right)$$"
      ],
      "text/plain": [
       "[ 4  1]\n",
       "[-2  3]"
      ]
     },
     "metadata": {},
     "output_type": "display_data"
    },
    {
     "data": {
      "text/html": [
       "<html>\\[\\newcommand{\\Bold}[1]{\\mathbf{#1}}\\left(4 \\, a + b,\\,-2 \\, a + 3 \\, b\\right)\\]</html>"
      ],
      "text/latex": [
       "$$\\newcommand{\\Bold}[1]{\\mathbf{#1}}\\left(4 \\, a + b,\\,-2 \\, a + 3 \\, b\\right)$$"
      ],
      "text/plain": [
       "(4*a + b, -2*a + 3*b)"
      ]
     },
     "metadata": {},
     "output_type": "display_data"
    },
    {
     "data": {
      "text/html": [
       "<html>\\[\\newcommand{\\Bold}[1]{\\mathbf{#1}}\\left(4 \\, a - 2 \\, b,\\,a + 3 \\, b\\right)\\]</html>"
      ],
      "text/latex": [
       "$$\\newcommand{\\Bold}[1]{\\mathbf{#1}}\\left(4 \\, a - 2 \\, b,\\,a + 3 \\, b\\right)$$"
      ],
      "text/plain": [
       "(4*a - 2*b, a + 3*b)"
      ]
     },
     "metadata": {},
     "output_type": "display_data"
    },
    {
     "data": {
      "text/html": [
       "<html>\\[\\newcommand{\\Bold}[1]{\\mathbf{#1}}\\left(\\begin{array}{rrr}\n",
       "1 & 2 & 3 \\\\\n",
       "3 & 2 & 1\n",
       "\\end{array}\\right)\\]</html>"
      ],
      "text/latex": [
       "$$\\newcommand{\\Bold}[1]{\\mathbf{#1}}\\left(\\begin{array}{rrr}\n",
       "1 & 2 & 3 \\\\\n",
       "3 & 2 & 1\n",
       "\\end{array}\\right)$$"
      ],
      "text/plain": [
       "[1 2 3]\n",
       "[3 2 1]"
      ]
     },
     "metadata": {},
     "output_type": "display_data"
    },
    {
     "data": {
      "text/html": [
       "<html>\\[\\newcommand{\\Bold}[1]{\\mathbf{#1}}\\left(a + 3 \\, b,\\,2 \\, a + 2 \\, b,\\,3 \\, a + b\\right)\\]</html>"
      ],
      "text/latex": [
       "$$\\newcommand{\\Bold}[1]{\\mathbf{#1}}\\left(a + 3 \\, b,\\,2 \\, a + 2 \\, b,\\,3 \\, a + b\\right)$$"
      ],
      "text/plain": [
       "(a + 3*b, 2*a + 2*b, 3*a + b)"
      ]
     },
     "metadata": {},
     "output_type": "display_data"
    }
   ],
   "source": [
    "A=matrix(QQ,2,2,[4,1,-2,3])\n",
    "var('a b')\n",
    "v=vector([a,b])\n",
    "show(v)\n",
    "show(A)\n",
    "show(A*v)\n",
    "show(v*A)\n",
    "B=matrix(QQ,2,3,[1,2,3,3,2,1])\n",
    "show(B)\n",
    "show(v*B)"
   ]
  },
  {
   "cell_type": "markdown",
   "metadata": {},
   "source": [
    "El vector v es converteix a matriu columna o fila quan es multiplica per una matriu. Es col·laca de manera determinanda per a que el producte es puga fer en A*v per exemple el posa com matriu columna. En el cas següent es posa com matriu fila (v*A). Es veu que no te sentit fer B*v ja que no té sentit\n",
    "\n",
    "###### Important: \n",
    "Quan es fa el producte d'una matriu per un vector, el resultat és un vector"
   ]
  },
  {
   "cell_type": "code",
   "execution_count": null,
   "metadata": {},
   "outputs": [],
   "source": [
    "B*v #no té sentit. v només té 2 coeficients i en caldria 3"
   ]
  },
  {
   "cell_type": "markdown",
   "metadata": {},
   "source": [
    "### Espai generat per una família de vectors\n",
    "Si es vol treballar amb l'espia vectorial generat per uns quants vectors, la instrucció que construeix el subespai vectorial corresponent és span(). Un cop definit un espai vectorial d'aquesta manera es pot comrpovar directament si un vector en forma part o no."
   ]
  },
  {
   "cell_type": "code",
   "execution_count": 114,
   "metadata": {
    "scrolled": true
   },
   "outputs": [
    {
     "data": {
      "text/html": [
       "<html>\\[\\newcommand{\\Bold}[1]{\\mathbf{#1}}\\mathrm{RowSpan}_{\\Bold{Q}}\\left(\\begin{array}{rrr}\n",
       "1 & 0 & \\frac{1}{2} \\\\\n",
       "0 & 1 & \\frac{1}{4}\n",
       "\\end{array}\\right)\\]</html>"
      ],
      "text/latex": [
       "$$\\newcommand{\\Bold}[1]{\\mathbf{#1}}\\mathrm{RowSpan}_{\\Bold{Q}}\\left(\\begin{array}{rrr}\n",
       "1 & 0 & \\frac{1}{2} \\\\\n",
       "0 & 1 & \\frac{1}{4}\n",
       "\\end{array}\\right)$$"
      ],
      "text/plain": [
       "Vector space of degree 3 and dimension 2 over Rational Field\n",
       "Basis matrix:\n",
       "[  1   0 1/2]\n",
       "[  0   1 1/4]"
      ]
     },
     "metadata": {},
     "output_type": "display_data"
    }
   ],
   "source": [
    "V=span(QQ,[[1,2,1],[2,0,1],[-1,2,0],[3,2,2]]); V\n",
    "show(V) #En el moment de definir V ja s'eliminen els generadors innecesaris"
   ]
  },
  {
   "cell_type": "markdown",
   "metadata": {},
   "source": [
    "V=span(QQ,[[1,2,3],[2,0,1]]) = subespai generat per eixos vector en Q = <(1,2,3),(2,0,1)>.\n",
    "\n",
    "##### IMPORTANT:\n",
    "Si span pren per fer el subespai generat una família de vector no l.i., aleshores, automàticament ho redueix a una base."
   ]
  },
  {
   "cell_type": "code",
   "execution_count": 115,
   "metadata": {},
   "outputs": [
    {
     "data": {
      "text/html": [
       "<html>\\[\\newcommand{\\Bold}[1]{\\mathbf{#1}}\\left(1,\\,2,\\,3\\right)\\]</html>"
      ],
      "text/latex": [
       "$$\\newcommand{\\Bold}[1]{\\mathbf{#1}}\\left(1,\\,2,\\,3\\right)$$"
      ],
      "text/plain": [
       "(1, 2, 3)"
      ]
     },
     "metadata": {},
     "output_type": "display_data"
    }
   ],
   "source": [
    "v=vector(QQ,[1,2,3])\n",
    "show(v)"
   ]
  },
  {
   "cell_type": "code",
   "execution_count": 116,
   "metadata": {},
   "outputs": [
    {
     "data": {
      "text/plain": [
       "False"
      ]
     },
     "execution_count": 116,
     "metadata": {},
     "output_type": "execute_result"
    }
   ],
   "source": [
    "v in V"
   ]
  },
  {
   "cell_type": "code",
   "execution_count": 117,
   "metadata": {},
   "outputs": [
    {
     "data": {
      "text/html": [
       "<html>\\[\\newcommand{\\Bold}[1]{\\mathbf{#1}}\\left(20,\\,-4,\\,9\\right)\\]</html>"
      ],
      "text/latex": [
       "$$\\newcommand{\\Bold}[1]{\\mathbf{#1}}\\left(20,\\,-4,\\,9\\right)$$"
      ],
      "text/plain": [
       "(20, -4, 9)"
      ]
     },
     "metadata": {},
     "output_type": "display_data"
    }
   ],
   "source": [
    "w=vector(QQ,[20,-4,9])\n",
    "show(w)"
   ]
  },
  {
   "cell_type": "code",
   "execution_count": 118,
   "metadata": {},
   "outputs": [
    {
     "data": {
      "text/plain": [
       "True"
      ]
     },
     "execution_count": 118,
     "metadata": {},
     "output_type": "execute_result"
    }
   ],
   "source": [
    "w in V"
   ]
  },
  {
   "cell_type": "markdown",
   "metadata": {},
   "source": [
    "### Solucions d'un sistema d'equacions homogeni\n",
    "Alternativament, també es pot determinar un (sub)espai vectorial com la solució d'un cert sistema d'equacions lineals. Utilitzant la matriu del sistema podem obtenir fàcilment, com objecte de tipus espai vectorial, l'espai vectorial corresponent. A continuació hi ha un exemple simple"
   ]
  },
  {
   "cell_type": "code",
   "execution_count": 119,
   "metadata": {},
   "outputs": [
    {
     "data": {
      "text/html": [
       "<html>\\[\\newcommand{\\Bold}[1]{\\mathbf{#1}}\\left[t + x - y = 0, t + x + y + z = 0\\right]\\]</html>"
      ],
      "text/latex": [
       "$$\\newcommand{\\Bold}[1]{\\mathbf{#1}}\\left[t + x - y = 0, t + x + y + z = 0\\right]$$"
      ],
      "text/plain": [
       "[t + x - y == 0, t + x + y + z == 0]"
      ]
     },
     "metadata": {},
     "output_type": "display_data"
    },
    {
     "data": {
      "text/html": [
       "<html>\\[\\newcommand{\\Bold}[1]{\\mathbf{#1}}\\left[\\left[1, -1, 0, 1\\right], \\left[1, 1, 1, 1\\right]\\right]\\]</html>"
      ],
      "text/latex": [
       "$$\\newcommand{\\Bold}[1]{\\mathbf{#1}}\\left[\\left[1, -1, 0, 1\\right], \\left[1, 1, 1, 1\\right]\\right]$$"
      ],
      "text/plain": [
       "[[1, -1, 0, 1], [1, 1, 1, 1]]"
      ]
     },
     "metadata": {},
     "output_type": "display_data"
    },
    {
     "data": {
      "text/html": [
       "<html>\\[\\newcommand{\\Bold}[1]{\\mathbf{#1}}\\left(\\begin{array}{rrrr}\n",
       "1 & -1 & 0 & 1 \\\\\n",
       "1 & 1 & 1 & 1\n",
       "\\end{array}\\right)\\]</html>"
      ],
      "text/latex": [
       "$$\\newcommand{\\Bold}[1]{\\mathbf{#1}}\\left(\\begin{array}{rrrr}\n",
       "1 & -1 & 0 & 1 \\\\\n",
       "1 & 1 & 1 & 1\n",
       "\\end{array}\\right)$$"
      ],
      "text/plain": [
       "[ 1 -1  0  1]\n",
       "[ 1  1  1  1]"
      ]
     },
     "metadata": {},
     "output_type": "display_data"
    }
   ],
   "source": [
    "var('x y z t')\n",
    "\n",
    "equacions=[\n",
    "    x-y+t==0,\n",
    "    x+y+z+t==0\n",
    "]\n",
    "show(equacions)\n",
    "\n",
    "coeficients=[\n",
    "    [\n",
    "        eq.lhs().coefficient(v) for v in [x,y,z,t]\n",
    "    ]\n",
    "    for eq in equacions\n",
    "]\n",
    "show(coeficients)\n",
    "\n",
    "A=matrix(QQ,coeficients); show(A)"
   ]
  },
  {
   "cell_type": "code",
   "execution_count": 120,
   "metadata": {},
   "outputs": [
    {
     "data": {
      "text/html": [
       "<html>\\[\\newcommand{\\Bold}[1]{\\mathbf{#1}}\\mathrm{RowSpan}_{\\Bold{Q}}\\left(\\begin{array}{rrrr}\n",
       "1 & 0 & 0 & -1 \\\\\n",
       "0 & 1 & -2 & 1\n",
       "\\end{array}\\right)\\]</html>"
      ],
      "text/latex": [
       "$$\\newcommand{\\Bold}[1]{\\mathbf{#1}}\\mathrm{RowSpan}_{\\Bold{Q}}\\left(\\begin{array}{rrrr}\n",
       "1 & 0 & 0 & -1 \\\\\n",
       "0 & 1 & -2 & 1\n",
       "\\end{array}\\right)$$"
      ],
      "text/plain": [
       "Vector space of degree 4 and dimension 2 over Rational Field\n",
       "Basis matrix:\n",
       "[ 1  0  0 -1]\n",
       "[ 0  1 -2  1]"
      ]
     },
     "metadata": {},
     "output_type": "display_data"
    },
    {
     "data": {
      "text/plain": [
       "Vector space of degree 4 and dimension 2 over Rational Field\n",
       "Basis matrix:\n",
       "[ 1  0  0 -1]\n",
       "[ 0  1 -2  1]"
      ]
     },
     "execution_count": 120,
     "metadata": {},
     "output_type": "execute_result"
    }
   ],
   "source": [
    "W=A.right_kernel()\n",
    "show(W)\n",
    "W"
   ]
  },
  {
   "cell_type": "markdown",
   "metadata": {},
   "source": [
    "En aquest cas, la instrucció right_kernel() calcula el nucli de l'aplicació lineal que té associada la matriu A. La matriu A defineix de manera natural una aplicació lineal T que agafa un vector ö i li dona la seua imatge TA(ö)=A·ö. Com que els coeficients de la matriu son QQ, aleshores, agafa un vector dels racionals i, a més, la seua mida ve donada per l' aplicació que té que ser 4: ö=(x,y,z,t).\n",
    "\n",
    "Li demanem el nucli, perque recordant la seua definicio ker(A)={x| A·x=0} \n",
    "\n",
    "En aquest cas, posa right per la matriu columna (x,y,z,t) multiplica per la dreta a A.\n",
    "\n",
    "Aixina en mostra, el nucli es un subespai vectorial de dimensió 2 de Q^4"
   ]
  },
  {
   "cell_type": "code",
   "execution_count": 121,
   "metadata": {},
   "outputs": [
    {
     "data": {
      "text/html": [
       "<html>\\[\\newcommand{\\Bold}[1]{\\mathbf{#1}}\\left[\\left(1,\\,0,\\,0,\\,-1\\right), \\left(0,\\,1,\\,-2,\\,1\\right)\\right]\\]</html>"
      ],
      "text/latex": [
       "$$\\newcommand{\\Bold}[1]{\\mathbf{#1}}\\left[\\left(1,\\,0,\\,0,\\,-1\\right), \\left(0,\\,1,\\,-2,\\,1\\right)\\right]$$"
      ],
      "text/plain": [
       "[\n",
       "(1, 0, 0, -1),\n",
       "(0, 1, -2, 1)\n",
       "]"
      ]
     },
     "metadata": {},
     "output_type": "display_data"
    }
   ],
   "source": [
    "G=W.basis() #basis() dona una família independent de generadors\n",
    "show(G)"
   ]
  },
  {
   "cell_type": "code",
   "execution_count": 122,
   "metadata": {},
   "outputs": [
    {
     "data": {
      "text/html": [
       "<html>\\[\\newcommand{\\Bold}[1]{\\mathbf{#1}}\\left(0,\\,0\\right)\\]</html>"
      ],
      "text/latex": [
       "$$\\newcommand{\\Bold}[1]{\\mathbf{#1}}\\left(0,\\,0\\right)$$"
      ],
      "text/plain": [
       "(0, 0)"
      ]
     },
     "metadata": {},
     "output_type": "display_data"
    },
    {
     "data": {
      "text/html": [
       "<html>\\[\\newcommand{\\Bold}[1]{\\mathbf{#1}}\\left(0,\\,0\\right)\\]</html>"
      ],
      "text/latex": [
       "$$\\newcommand{\\Bold}[1]{\\mathbf{#1}}\\left(0,\\,0\\right)$$"
      ],
      "text/plain": [
       "(0, 0)"
      ]
     },
     "metadata": {},
     "output_type": "display_data"
    }
   ],
   "source": [
    "show(A*G[0]) # Les multiplicacions permeten comprovar que els dos vectors de la llista\n",
    "show(A*G[1]) # G són de l'espai vectorial que s'està construint"
   ]
  },
  {
   "cell_type": "markdown",
   "metadata": {},
   "source": [
    "#### Problema 1\n",
    "\n",
    "Comproveu si els vectors\n",
    "\n",
    "v⃗1 = (− 1,− 1,0,1);  \n",
    "v⃗2 = (1,− 3,− 4,11);  \n",
    "v⃗3 = (1,− 1,− 2,5);  \n",
    "v⃗4 = (0,1,1,− 3) \n",
    "\n",
    "són linealment independents entre si o no. Com que resulta que no ho són, expresseu cada un d'ells com una combinació lineal dels altres. (Probablement, la millor estrtègia consisteix a\n",
    "trobar com són les combinacions lineals de la família que donen com a resultat el vector 0⃗)."
   ]
  },
  {
   "cell_type": "code",
   "execution_count": 123,
   "metadata": {},
   "outputs": [
    {
     "data": {
      "text/plain": [
       "Vector space of degree 4 and dimension 2 over Rational Field\n",
       "Basis matrix:\n",
       "[ 1  0 -1  2]\n",
       "[ 0  1  1 -3]"
      ]
     },
     "execution_count": 123,
     "metadata": {},
     "output_type": "execute_result"
    }
   ],
   "source": [
    "v1=vector(QQ,[-1,-1,0,1])\n",
    "v2=vector(QQ,[1,-3,-4,11])\n",
    "v3=vector(QQ,[1,-1,-2,5])\n",
    "v4=vector(QQ,[0,1,1,-3])\n",
    "\n",
    "E=span(QQ,[v1,v2,v3,v4]);\n",
    "E"
   ]
  },
  {
   "cell_type": "markdown",
   "metadata": {},
   "source": [
    "E és el subespai vectorial de Q^4 generat per 4 vectors, com que la seua dimensió és 2 vol dir que NO són linealment independents.\n",
    "\n",
    "Tal i com es comenta en l'enunciat, la millor manera seria trobar les solucions (x,y,z,t)tal que x·v1+y·v2+z·v3+t·v4==(0,0,0,0), que és equivalenta trobar el nucli de l'aplicació lineal generada per la matriu."
   ]
  },
  {
   "cell_type": "code",
   "execution_count": 124,
   "metadata": {},
   "outputs": [
    {
     "data": {
      "text/html": [
       "<html>\\[\\newcommand{\\Bold}[1]{\\mathbf{#1}}\\left(-x + y + z,\\,t - x - 3 \\, y - z,\\,t - 4 \\, y - 2 \\, z,\\,-3 \\, t + x + 11 \\, y + 5 \\, z\\right)\\]</html>"
      ],
      "text/latex": [
       "$$\\newcommand{\\Bold}[1]{\\mathbf{#1}}\\left(-x + y + z,\\,t - x - 3 \\, y - z,\\,t - 4 \\, y - 2 \\, z,\\,-3 \\, t + x + 11 \\, y + 5 \\, z\\right)$$"
      ],
      "text/plain": [
       "(-x + y + z, t - x - 3*y - z, t - 4*y - 2*z, -3*t + x + 11*y + 5*z)"
      ]
     },
     "metadata": {},
     "output_type": "display_data"
    },
    {
     "data": {
      "text/html": [
       "<html>\\[\\newcommand{\\Bold}[1]{\\mathbf{#1}}\\left[\\left[-1, 1, 1, 0\\right], \\left[-1, -3, -1, 1\\right], \\left[0, -4, -2, 1\\right], \\left[1, 11, 5, -3\\right]\\right]\\]</html>"
      ],
      "text/latex": [
       "$$\\newcommand{\\Bold}[1]{\\mathbf{#1}}\\left[\\left[-1, 1, 1, 0\\right], \\left[-1, -3, -1, 1\\right], \\left[0, -4, -2, 1\\right], \\left[1, 11, 5, -3\\right]\\right]$$"
      ],
      "text/plain": [
       "[[-1, 1, 1, 0], [-1, -3, -1, 1], [0, -4, -2, 1], [1, 11, 5, -3]]"
      ]
     },
     "metadata": {},
     "output_type": "display_data"
    },
    {
     "data": {
      "text/html": [
       "<html>\\[\\newcommand{\\Bold}[1]{\\mathbf{#1}}\\left(\\begin{array}{rrrr}\n",
       "-1 & 1 & 1 & 0 \\\\\n",
       "-1 & -3 & -1 & 1 \\\\\n",
       "0 & -4 & -2 & 1 \\\\\n",
       "1 & 11 & 5 & -3\n",
       "\\end{array}\\right)\\]</html>"
      ],
      "text/latex": [
       "$$\\newcommand{\\Bold}[1]{\\mathbf{#1}}\\left(\\begin{array}{rrrr}\n",
       "-1 & 1 & 1 & 0 \\\\\n",
       "-1 & -3 & -1 & 1 \\\\\n",
       "0 & -4 & -2 & 1 \\\\\n",
       "1 & 11 & 5 & -3\n",
       "\\end{array}\\right)$$"
      ],
      "text/plain": [
       "[-1  1  1  0]\n",
       "[-1 -3 -1  1]\n",
       "[ 0 -4 -2  1]\n",
       "[ 1 11  5 -3]"
      ]
     },
     "metadata": {},
     "output_type": "display_data"
    }
   ],
   "source": [
    "v=x*v1+y*v2+z*v3+t*v4\n",
    "show(v)\n",
    "\n",
    "coeficients=[\n",
    "    [\n",
    "       v[k].coefficient(j) for j in [x,y,z,t] \n",
    "    ]\n",
    "    for k in [0,1,2,3] \n",
    "]\n",
    "show(coeficients)\n",
    "\n",
    "B=matrix(QQ,coeficients)\n",
    "show(B)"
   ]
  },
  {
   "cell_type": "code",
   "execution_count": 125,
   "metadata": {
    "scrolled": true
   },
   "outputs": [
    {
     "data": {
      "text/plain": [
       "Vector space of degree 4 and dimension 2 over Rational Field\n",
       "Basis matrix:\n",
       "[ 1  0  1  2]\n",
       "[ 0  1 -1  2]"
      ]
     },
     "execution_count": 125,
     "metadata": {},
     "output_type": "execute_result"
    }
   ],
   "source": [
    "P=B.right_kernel()\n",
    "P"
   ]
  },
  {
   "cell_type": "markdown",
   "metadata": {},
   "source": [
    "El subespai vectorial P és el conjunt de les combinacions lineals de v1,..,v4 que fan que s'anul·le o dit en termes d'aplicacions, que fan que la seua imatge sigui el neutre."
   ]
  },
  {
   "cell_type": "code",
   "execution_count": 126,
   "metadata": {},
   "outputs": [
    {
     "data": {
      "text/plain": [
       "(0, 0, 0, 0)"
      ]
     },
     "execution_count": 126,
     "metadata": {},
     "output_type": "execute_result"
    }
   ],
   "source": [
    "v1+v3+2*v4"
   ]
  },
  {
   "cell_type": "code",
   "execution_count": 127,
   "metadata": {},
   "outputs": [
    {
     "data": {
      "text/plain": [
       "(0, 0, 0, 0)"
      ]
     },
     "execution_count": 127,
     "metadata": {},
     "output_type": "execute_result"
    }
   ],
   "source": [
    "v2-v3+2*v4"
   ]
  },
  {
   "cell_type": "markdown",
   "metadata": {},
   "source": [
    "En aquest casos es té que v1+v3+2·v4=0 -> v1=-v3-2·v4 ; v3=-v1-2·v4 ; v4=-v1/2-v3/2\n",
    "\n",
    "I, per una altra banda, v2-v3+2·v4=0 -> v2=v3-2·v4"
   ]
  },
  {
   "cell_type": "markdown",
   "metadata": {},
   "source": [
    "#### Problema 2\n",
    "Considereu l'espai vectorial V que generen els vectors v⃗1, v⃗2, v⃗3, v⃗4, v⃗5 fabricats amb les instruccions"
   ]
  },
  {
   "cell_type": "code",
   "execution_count": 128,
   "metadata": {},
   "outputs": [],
   "source": [
    "w1 =vector(QQ, [7, 4, -16, 5, -35] ) \n",
    "w2 =vector(QQ, [-2, -1, 5, -2, 10] ) \n",
    "w3 =vector(QQ, [4, 4, -5, -3, -21] ) \n",
    "w4 =vector(QQ, [-3, -5, -1, 9, 17] )\n",
    "w5 =vector(QQ, [1, 2, 1, -4, -6] )"
   ]
  },
  {
   "cell_type": "markdown",
   "metadata": {},
   "source": [
    "Comproveu que el vector v⃗ = (− 4,1,9,− 6,10) és un vector de V i, a més, doneu una\n",
    "combinació lineal de v⃗1, v⃗2, v⃗3, v⃗4, v⃗5 que doni com a resultat aquest vector."
   ]
  },
  {
   "cell_type": "code",
   "execution_count": 129,
   "metadata": {},
   "outputs": [
    {
     "data": {
      "text/plain": [
       "Vector space of degree 5 and dimension 3 over Rational Field\n",
       "Basis matrix:\n",
       "[ 1  0  0 -1 -1]\n",
       "[ 0  1  0 -1 -3]\n",
       "[ 0  0  1 -1  1]"
      ]
     },
     "execution_count": 129,
     "metadata": {},
     "output_type": "execute_result"
    }
   ],
   "source": [
    "W=span(QQ,[w1,w2,w3,w4,w5]); W"
   ]
  },
  {
   "cell_type": "code",
   "execution_count": 130,
   "metadata": {},
   "outputs": [],
   "source": [
    "w=vector(QQ,[-4,1,9,-6,10])"
   ]
  },
  {
   "cell_type": "code",
   "execution_count": 131,
   "metadata": {},
   "outputs": [
    {
     "data": {
      "text/plain": [
       "True"
      ]
     },
     "execution_count": 131,
     "metadata": {},
     "output_type": "execute_result"
    }
   ],
   "source": [
    "w in W"
   ]
  },
  {
   "cell_type": "code",
   "execution_count": 132,
   "metadata": {
    "scrolled": true
   },
   "outputs": [
    {
     "data": {
      "text/html": [
       "<html>\\[\\newcommand{\\Bold}[1]{\\mathbf{#1}}\\left(\\begin{array}{rrrrr}\n",
       "7 & -2 & 4 & -3 & 1 \\\\\n",
       "4 & -1 & 4 & -5 & 2 \\\\\n",
       "-16 & 5 & -5 & -1 & 1 \\\\\n",
       "5 & -2 & -3 & 9 & -4 \\\\\n",
       "-35 & 10 & -21 & 17 & -6\n",
       "\\end{array}\\right)\\]</html>"
      ],
      "text/latex": [
       "$$\\newcommand{\\Bold}[1]{\\mathbf{#1}}\\left(\\begin{array}{rrrrr}\n",
       "7 & -2 & 4 & -3 & 1 \\\\\n",
       "4 & -1 & 4 & -5 & 2 \\\\\n",
       "-16 & 5 & -5 & -1 & 1 \\\\\n",
       "5 & -2 & -3 & 9 & -4 \\\\\n",
       "-35 & 10 & -21 & 17 & -6\n",
       "\\end{array}\\right)$$"
      ],
      "text/plain": [
       "[  7  -2   4  -3   1]\n",
       "[  4  -1   4  -5   2]\n",
       "[-16   5  -5  -1   1]\n",
       "[  5  -2  -3   9  -4]\n",
       "[-35  10 -21  17  -6]"
      ]
     },
     "metadata": {},
     "output_type": "display_data"
    }
   ],
   "source": [
    "var('s')\n",
    "v=x*w1+y*w2+z*w3+t*w4+s*w5\n",
    "\n",
    "coeficients=[\n",
    "    [\n",
    "       v[k].coefficient(j) for j in [x,y,z,t,s] \n",
    "    ]\n",
    "    for k in [0,1,2,3,4] \n",
    "]\n",
    "\n",
    "B=matrix(QQ,coeficients)\n",
    "show(B)"
   ]
  },
  {
   "cell_type": "code",
   "execution_count": 133,
   "metadata": {},
   "outputs": [
    {
     "data": {
      "text/plain": [
       "[-34]\n",
       "[-97]\n",
       "[ 10]\n",
       "[  0]\n",
       "[  0]"
      ]
     },
     "execution_count": 133,
     "metadata": {},
     "output_type": "execute_result"
    }
   ],
   "source": [
    "B.solve_right(matrix(w).transpose())"
   ]
  },
  {
   "cell_type": "code",
   "execution_count": 134,
   "metadata": {},
   "outputs": [
    {
     "data": {
      "text/plain": [
       "(-4, 1, 9, -6, 10)"
      ]
     },
     "execution_count": 134,
     "metadata": {},
     "output_type": "execute_result"
    }
   ],
   "source": [
    "-34*w1-97*w2+10*w3"
   ]
  },
  {
   "cell_type": "markdown",
   "metadata": {},
   "source": [
    "Veiem que d'aquesta forma s'obté una combinanció lineal de w1,...,w5 per a w"
   ]
  },
  {
   "cell_type": "markdown",
   "metadata": {},
   "source": [
    "#### Problema 3\n",
    "\n",
    "Sigui V l'espai vectorial formats pels x ⃗ = (x1 , x2 , x3 , x4 ) tals, que \n",
    "\n",
    "x1− 2x3+x4=0\n",
    "−3x+x+4x−x=0\n",
    "x2− 2x3+2x4=0\n",
    "x−x−x=0 \n",
    "− 3x1 + 2x2 + 2x3 + x4 = 0\n",
    "\n",
    "Comproveu que el vector v⃗ = (− 2,6,− 5,− 8) és de V i que w⃗ = (1,1,3,− 1) no. Doneu un sistema de generadors de V."
   ]
  },
  {
   "cell_type": "code",
   "execution_count": 135,
   "metadata": {},
   "outputs": [
    {
     "data": {
      "text/html": [
       "<html>\\[\\newcommand{\\Bold}[1]{\\mathbf{#1}}\\left(\\begin{array}{rrrr}\n",
       "1 & 0 & -2 & 1 \\\\\n",
       "-3 & 1 & 4 & -1 \\\\\n",
       "0 & 1 & -2 & 2 \\\\\n",
       "1 & -1 & 0 & -1 \\\\\n",
       "-3 & 2 & 2 & 1\n",
       "\\end{array}\\right)\\]</html>"
      ],
      "text/latex": [
       "$$\\newcommand{\\Bold}[1]{\\mathbf{#1}}\\left(\\begin{array}{rrrr}\n",
       "1 & 0 & -2 & 1 \\\\\n",
       "-3 & 1 & 4 & -1 \\\\\n",
       "0 & 1 & -2 & 2 \\\\\n",
       "1 & -1 & 0 & -1 \\\\\n",
       "-3 & 2 & 2 & 1\n",
       "\\end{array}\\right)$$"
      ],
      "text/plain": [
       "[ 1  0 -2  1]\n",
       "[-3  1  4 -1]\n",
       "[ 0  1 -2  2]\n",
       "[ 1 -1  0 -1]\n",
       "[-3  2  2  1]"
      ]
     },
     "metadata": {},
     "output_type": "display_data"
    }
   ],
   "source": [
    "var('x1 x2 x3 x4 x4')\n",
    "\n",
    "equacions=[\n",
    "    x1-2*x3+x4==0,\n",
    "    -3*x1+x2+4*x3-x4==0,\n",
    "    x2-2*x3+2*x4==0,\n",
    "    x1-x2-x4==0,\n",
    "    -3*x1+2*x2+2*x3+x4==0\n",
    "]\n",
    "\n",
    "coeficients=[\n",
    "    [\n",
    "        eq.lhs().coefficient(v) for v in [x1,x2,x3,x4]\n",
    "    ]\n",
    "    for eq in equacions\n",
    "]\n",
    "\n",
    "M=matrix(QQ,coeficients)\n",
    "show(M)"
   ]
  },
  {
   "cell_type": "code",
   "execution_count": 136,
   "metadata": {},
   "outputs": [
    {
     "data": {
      "text/plain": [
       "Vector space of degree 4 and dimension 2 over Rational Field\n",
       "Basis matrix:\n",
       "[   1    0    1    1]\n",
       "[   0    1 -1/2   -1]"
      ]
     },
     "execution_count": 136,
     "metadata": {},
     "output_type": "execute_result"
    }
   ],
   "source": [
    "V=M.right_kernel();\n",
    "V"
   ]
  },
  {
   "cell_type": "code",
   "execution_count": 137,
   "metadata": {},
   "outputs": [],
   "source": [
    "v=vector(QQ,[-2,6,-5,-8])\n",
    "w=vector(QQ,[1,1,3,-1])"
   ]
  },
  {
   "cell_type": "code",
   "execution_count": 138,
   "metadata": {},
   "outputs": [
    {
     "data": {
      "text/plain": [
       "True"
      ]
     },
     "execution_count": 138,
     "metadata": {},
     "output_type": "execute_result"
    }
   ],
   "source": [
    "v in V"
   ]
  },
  {
   "cell_type": "code",
   "execution_count": 139,
   "metadata": {},
   "outputs": [
    {
     "data": {
      "text/plain": [
       "False"
      ]
     },
     "execution_count": 139,
     "metadata": {},
     "output_type": "execute_result"
    }
   ],
   "source": [
    "w in V"
   ]
  },
  {
   "cell_type": "code",
   "execution_count": 140,
   "metadata": {},
   "outputs": [
    {
     "data": {
      "text/html": [
       "<html>\\[\\newcommand{\\Bold}[1]{\\mathbf{#1}}\\left[\\left(1,\\,0,\\,1,\\,1\\right), \\left(0,\\,1,\\,-\\frac{1}{2},\\,-1\\right)\\right]\\]</html>"
      ],
      "text/latex": [
       "$$\\newcommand{\\Bold}[1]{\\mathbf{#1}}\\left[\\left(1,\\,0,\\,1,\\,1\\right), \\left(0,\\,1,\\,-\\frac{1}{2},\\,-1\\right)\\right]$$"
      ],
      "text/plain": [
       "[\n",
       "(1, 0, 1, 1),\n",
       "(0, 1, -1/2, -1)\n",
       "]"
      ]
     },
     "metadata": {},
     "output_type": "display_data"
    }
   ],
   "source": [
    "show(V.basis())"
   ]
  },
  {
   "cell_type": "markdown",
   "metadata": {},
   "source": [
    "Aquesta és una base de V i, per tant, un sistema generador de V. A més, també es un sistema generador el composat per aquest vectors i qualsevol vector que sigui combinació lineal d'aquest dos."
   ]
  },
  {
   "cell_type": "markdown",
   "metadata": {},
   "source": [
    "## Pràctica 2.2.   \n",
    "### 1. Sumes i interseccions de subespais vectorials\n",
    "#### Exemple"
   ]
  },
  {
   "cell_type": "code",
   "execution_count": 141,
   "metadata": {},
   "outputs": [
    {
     "data": {
      "text/html": [
       "<html>\\[\\newcommand{\\Bold}[1]{\\mathbf{#1}}\\mathrm{RowSpan}_{\\Bold{Q}}\\left(\\begin{array}{rrr}\n",
       "1 & 0 & -\\frac{1}{2} \\\\\n",
       "0 & 1 & -\\frac{1}{2}\n",
       "\\end{array}\\right)\\]</html>"
      ],
      "text/latex": [
       "$$\\newcommand{\\Bold}[1]{\\mathbf{#1}}\\mathrm{RowSpan}_{\\Bold{Q}}\\left(\\begin{array}{rrr}\n",
       "1 & 0 & -\\frac{1}{2} \\\\\n",
       "0 & 1 & -\\frac{1}{2}\n",
       "\\end{array}\\right)$$"
      ],
      "text/plain": [
       "Vector space of degree 3 and dimension 2 over Rational Field\n",
       "Basis matrix:\n",
       "[   1    0 -1/2]\n",
       "[   0    1 -1/2]"
      ]
     },
     "metadata": {},
     "output_type": "display_data"
    },
    {
     "data": {
      "text/html": [
       "<html>\\[\\newcommand{\\Bold}[1]{\\mathbf{#1}}\\mathrm{RowSpan}_{\\Bold{Q}}\\left(\\begin{array}{rrr}\n",
       "1 & 0 & -1 \\\\\n",
       "0 & 1 & \\frac{2}{3}\n",
       "\\end{array}\\right)\\]</html>"
      ],
      "text/latex": [
       "$$\\newcommand{\\Bold}[1]{\\mathbf{#1}}\\mathrm{RowSpan}_{\\Bold{Q}}\\left(\\begin{array}{rrr}\n",
       "1 & 0 & -1 \\\\\n",
       "0 & 1 & \\frac{2}{3}\n",
       "\\end{array}\\right)$$"
      ],
      "text/plain": [
       "Vector space of degree 3 and dimension 2 over Rational Field\n",
       "Basis matrix:\n",
       "[  1   0  -1]\n",
       "[  0   1 2/3]"
      ]
     },
     "metadata": {},
     "output_type": "display_data"
    }
   ],
   "source": [
    "v1=vector(QQ,[1,1,-1])\n",
    "v2=vector(QQ,[2,0,-1])\n",
    "w1=vector(QQ,[1,0,-1])\n",
    "w2=vector(QQ,[2,3,0])\n",
    "w3=vector(QQ,[4,3,-2])\n",
    "\n",
    "F=span([v1,v2])\n",
    "G=span([w1,w2,w3])\n",
    "\n",
    "show(F)\n",
    "show(G)"
   ]
  },
  {
   "cell_type": "code",
   "execution_count": 142,
   "metadata": {},
   "outputs": [
    {
     "data": {
      "text/html": [
       "<html>\\[\\newcommand{\\Bold}[1]{\\mathbf{#1}}\\mathrm{RowSpan}_{\\Bold{Q}}\\left(\\begin{array}{rrr}\n",
       "1 & 0 & 0 \\\\\n",
       "0 & 1 & 0 \\\\\n",
       "0 & 0 & 1\n",
       "\\end{array}\\right)\\]</html>"
      ],
      "text/latex": [
       "$$\\newcommand{\\Bold}[1]{\\mathbf{#1}}\\mathrm{RowSpan}_{\\Bold{Q}}\\left(\\begin{array}{rrr}\n",
       "1 & 0 & 0 \\\\\n",
       "0 & 1 & 0 \\\\\n",
       "0 & 0 & 1\n",
       "\\end{array}\\right)$$"
      ],
      "text/plain": [
       "Vector space of degree 3 and dimension 3 over Rational Field\n",
       "Basis matrix:\n",
       "[1 0 0]\n",
       "[0 1 0]\n",
       "[0 0 1]"
      ]
     },
     "metadata": {},
     "output_type": "display_data"
    },
    {
     "data": {
      "text/html": [
       "<html>\\[\\newcommand{\\Bold}[1]{\\mathbf{#1}}3\\]</html>"
      ],
      "text/latex": [
       "$$\\newcommand{\\Bold}[1]{\\mathbf{#1}}3$$"
      ],
      "text/plain": [
       "3"
      ]
     },
     "metadata": {},
     "output_type": "display_data"
    }
   ],
   "source": [
    "S=F+G\n",
    "show(S)\n",
    "show(S.dimension())"
   ]
  },
  {
   "cell_type": "code",
   "execution_count": 143,
   "metadata": {},
   "outputs": [
    {
     "data": {
      "text/html": [
       "<html>\\[\\newcommand{\\Bold}[1]{\\mathbf{#1}}\\left[\\left(1,\\,\\frac{3}{7},\\,-\\frac{5}{7}\\right)\\right]\\]</html>"
      ],
      "text/latex": [
       "$$\\newcommand{\\Bold}[1]{\\mathbf{#1}}\\left[\\left(1,\\,\\frac{3}{7},\\,-\\frac{5}{7}\\right)\\right]$$"
      ],
      "text/plain": [
       "[\n",
       "(1, 3/7, -5/7)\n",
       "]"
      ]
     },
     "metadata": {},
     "output_type": "display_data"
    },
    {
     "data": {
      "text/html": [
       "<html>\\[\\newcommand{\\Bold}[1]{\\mathbf{#1}}1\\]</html>"
      ],
      "text/latex": [
       "$$\\newcommand{\\Bold}[1]{\\mathbf{#1}}1$$"
      ],
      "text/plain": [
       "1"
      ]
     },
     "metadata": {},
     "output_type": "display_data"
    }
   ],
   "source": [
    "Intrs=F.intersection(G)\n",
    "show(Intrs.basis())\n",
    "show(Intrs.dimension())"
   ]
  },
  {
   "cell_type": "markdown",
   "metadata": {},
   "source": [
    "#### Problema 1"
   ]
  },
  {
   "cell_type": "code",
   "execution_count": 144,
   "metadata": {},
   "outputs": [
    {
     "data": {
      "text/html": [
       "<html>\\[\\newcommand{\\Bold}[1]{\\mathbf{#1}}\\left(\\begin{array}{rrrrr}\n",
       "-1 & 1 & 1 & 0 & -5 \\\\\n",
       "-1 & 0 & 1 & -2 & -2 \\\\\n",
       "0 & 1 & 0 & 2 & -3 \\\\\n",
       "1 & 1 & -1 & 4 & -1\n",
       "\\end{array}\\right)\\]</html>"
      ],
      "text/latex": [
       "$$\\newcommand{\\Bold}[1]{\\mathbf{#1}}\\left(\\begin{array}{rrrrr}\n",
       "-1 & 1 & 1 & 0 & -5 \\\\\n",
       "-1 & 0 & 1 & -2 & -2 \\\\\n",
       "0 & 1 & 0 & 2 & -3 \\\\\n",
       "1 & 1 & -1 & 4 & -1\n",
       "\\end{array}\\right)$$"
      ],
      "text/plain": [
       "[-1  1  1  0 -5]\n",
       "[-1  0  1 -2 -2]\n",
       "[ 0  1  0  2 -3]\n",
       "[ 1  1 -1  4 -1]"
      ]
     },
     "metadata": {},
     "output_type": "display_data"
    }
   ],
   "source": [
    "var('x1 x2 x3 x4 x5')\n",
    "\n",
    "equacions=[\n",
    "    -x1+x2+x3-5*x5==0,\n",
    "    -x1+x3-2*x4-2*x5==0,\n",
    "    x2+2*x4-3*x5==0,\n",
    "    x1+x2-x3+4*x4-x5==0\n",
    "]\n",
    "\n",
    "coeficients=[\n",
    "    [\n",
    "        eq.lhs().coefficient(v) for v in [x1,x2,x3,x4,x5]\n",
    "    ]\n",
    "    for eq in equacions\n",
    "]\n",
    "\n",
    "matriu_coef=matrix(QQ,coeficients)\n",
    "show(matriu_coef)"
   ]
  },
  {
   "cell_type": "code",
   "execution_count": 145,
   "metadata": {},
   "outputs": [
    {
     "data": {
      "text/plain": [
       "Vector space of degree 5 and dimension 3 over Rational Field\n",
       "Basis matrix:\n",
       "[    1     0     0 -3/10  -1/5]\n",
       "[    0     1     0  -1/5   1/5]\n",
       "[    0     0     1  3/10   1/5]"
      ]
     },
     "execution_count": 145,
     "metadata": {},
     "output_type": "execute_result"
    }
   ],
   "source": [
    "E=matriu_coef.right_kernel()\n",
    "E"
   ]
  },
  {
   "cell_type": "code",
   "execution_count": 146,
   "metadata": {},
   "outputs": [
    {
     "data": {
      "text/html": [
       "<html>\\[\\newcommand{\\Bold}[1]{\\mathbf{#1}}\\left(0,\\,0,\\,0,\\,0\\right)\\]</html>"
      ],
      "text/latex": [
       "$$\\newcommand{\\Bold}[1]{\\mathbf{#1}}\\left(0,\\,0,\\,0,\\,0\\right)$$"
      ],
      "text/plain": [
       "(0, 0, 0, 0)"
      ]
     },
     "metadata": {},
     "output_type": "display_data"
    },
    {
     "data": {
      "text/html": [
       "<html>\\[\\newcommand{\\Bold}[1]{\\mathbf{#1}}\\left(0,\\,0,\\,0,\\,0\\right)\\]</html>"
      ],
      "text/latex": [
       "$$\\newcommand{\\Bold}[1]{\\mathbf{#1}}\\left(0,\\,0,\\,0,\\,0\\right)$$"
      ],
      "text/plain": [
       "(0, 0, 0, 0)"
      ]
     },
     "metadata": {},
     "output_type": "display_data"
    },
    {
     "data": {
      "text/html": [
       "<html>\\[\\newcommand{\\Bold}[1]{\\mathbf{#1}}\\left(0,\\,0,\\,0,\\,0\\right)\\]</html>"
      ],
      "text/latex": [
       "$$\\newcommand{\\Bold}[1]{\\mathbf{#1}}\\left(0,\\,0,\\,0,\\,0\\right)$$"
      ],
      "text/plain": [
       "(0, 0, 0, 0)"
      ]
     },
     "metadata": {},
     "output_type": "display_data"
    }
   ],
   "source": [
    "E_basis=E.basis()\n",
    "\n",
    "#Comprovacio que compleixen el sistema anterior:\n",
    "show(matriu_coef*E_basis[0])\n",
    "show(matriu_coef*E_basis[1])\n",
    "show(matriu_coef*E_basis[2])\n"
   ]
  },
  {
   "cell_type": "code",
   "execution_count": 147,
   "metadata": {},
   "outputs": [
    {
     "data": {
      "text/html": [
       "<html>\\[\\newcommand{\\Bold}[1]{\\mathbf{#1}}\\verb|Base|\\phantom{\\verb!x!}\\verb|E|\\phantom{\\verb!x!}\\verb|=| \\left[\\left(1,\\,0,\\,0,\\,-\\frac{3}{10},\\,-\\frac{1}{5}\\right), \\left(0,\\,1,\\,0,\\,-\\frac{1}{5},\\,\\frac{1}{5}\\right), \\left(0,\\,0,\\,1,\\,\\frac{3}{10},\\,\\frac{1}{5}\\right)\\right]\\]</html>"
      ],
      "text/latex": [
       "$$\\newcommand{\\Bold}[1]{\\mathbf{#1}}\\verb|Base|\\phantom{\\verb!x!}\\verb|E|\\phantom{\\verb!x!}\\verb|=| \\left[\\left(1,\\,0,\\,0,\\,-\\frac{3}{10},\\,-\\frac{1}{5}\\right), \\left(0,\\,1,\\,0,\\,-\\frac{1}{5},\\,\\frac{1}{5}\\right), \\left(0,\\,0,\\,1,\\,\\frac{3}{10},\\,\\frac{1}{5}\\right)\\right]$$"
      ],
      "text/plain": [
       "'Base E = ' [\n",
       "(1, 0, 0, -3/10, -1/5),\n",
       "(0, 1, 0, -1/5, 1/5),\n",
       "(0, 0, 1, 3/10, 1/5)\n",
       "]"
      ]
     },
     "metadata": {},
     "output_type": "display_data"
    },
    {
     "data": {
      "text/html": [
       "<html>\\[\\newcommand{\\Bold}[1]{\\mathbf{#1}}\\verb|Dimensió|\\phantom{\\verb!x!}\\verb|E|\\phantom{\\verb!x!}\\verb|=| 3\\]</html>"
      ],
      "text/latex": [
       "$$\\newcommand{\\Bold}[1]{\\mathbf{#1}}\\verb|Dimensió|\\phantom{\\verb!x!}\\verb|E|\\phantom{\\verb!x!}\\verb|=| 3$$"
      ],
      "text/plain": [
       "'Dimensió E = ' 3"
      ]
     },
     "metadata": {},
     "output_type": "display_data"
    }
   ],
   "source": [
    "show('Base E = ',E_basis)\n",
    "show('Dimensió E = ', E.dimension())"
   ]
  },
  {
   "cell_type": "code",
   "execution_count": 148,
   "metadata": {},
   "outputs": [
    {
     "data": {
      "text/plain": [
       "Vector space of degree 5 and dimension 3 over Rational Field\n",
       "Basis matrix:\n",
       "[     1      0      0  -7/25   2/25]\n",
       "[     0      1      0  -6/25  -9/25]\n",
       "[     0      0      1   6/25 -16/25]"
      ]
     },
     "execution_count": 148,
     "metadata": {},
     "output_type": "execute_result"
    }
   ],
   "source": [
    "F=span(QQ,[[-5,5,-5,-1,1],[-15,-15,5,9,1],[-5,35,-25,-13,3],[-15,1,-4,3,1]])\n",
    "F"
   ]
  },
  {
   "cell_type": "code",
   "execution_count": 149,
   "metadata": {},
   "outputs": [
    {
     "data": {
      "text/html": [
       "<html>\\[\\newcommand{\\Bold}[1]{\\mathbf{#1}}\\verb|Base|\\phantom{\\verb!x!}\\verb|F|\\phantom{\\verb!x!}\\verb|=| \\left[\\left(1,\\,0,\\,0,\\,-\\frac{7}{25},\\,\\frac{2}{25}\\right), \\left(0,\\,1,\\,0,\\,-\\frac{6}{25},\\,-\\frac{9}{25}\\right), \\left(0,\\,0,\\,1,\\,\\frac{6}{25},\\,-\\frac{16}{25}\\right)\\right]\\]</html>"
      ],
      "text/latex": [
       "$$\\newcommand{\\Bold}[1]{\\mathbf{#1}}\\verb|Base|\\phantom{\\verb!x!}\\verb|F|\\phantom{\\verb!x!}\\verb|=| \\left[\\left(1,\\,0,\\,0,\\,-\\frac{7}{25},\\,\\frac{2}{25}\\right), \\left(0,\\,1,\\,0,\\,-\\frac{6}{25},\\,-\\frac{9}{25}\\right), \\left(0,\\,0,\\,1,\\,\\frac{6}{25},\\,-\\frac{16}{25}\\right)\\right]$$"
      ],
      "text/plain": [
       "'Base F = ' [\n",
       "(1, 0, 0, -7/25, 2/25),\n",
       "(0, 1, 0, -6/25, -9/25),\n",
       "(0, 0, 1, 6/25, -16/25)\n",
       "]"
      ]
     },
     "metadata": {},
     "output_type": "display_data"
    },
    {
     "data": {
      "text/html": [
       "<html>\\[\\newcommand{\\Bold}[1]{\\mathbf{#1}}\\verb|Dimensió|\\phantom{\\verb!x!}\\verb|F|\\phantom{\\verb!x!}\\verb|=| 3\\]</html>"
      ],
      "text/latex": [
       "$$\\newcommand{\\Bold}[1]{\\mathbf{#1}}\\verb|Dimensió|\\phantom{\\verb!x!}\\verb|F|\\phantom{\\verb!x!}\\verb|=| 3$$"
      ],
      "text/plain": [
       "'Dimensió F = ' 3"
      ]
     },
     "metadata": {},
     "output_type": "display_data"
    }
   ],
   "source": [
    "show('Base F = ', F.basis())\n",
    "show('Dimensió F = ', F.dimension())"
   ]
  },
  {
   "cell_type": "code",
   "execution_count": 150,
   "metadata": {},
   "outputs": [],
   "source": [
    "G=E.intersection(F)\n",
    "S=E+F"
   ]
  },
  {
   "cell_type": "code",
   "execution_count": 151,
   "metadata": {},
   "outputs": [
    {
     "data": {
      "text/html": [
       "<html>\\[\\newcommand{\\Bold}[1]{\\mathbf{#1}}\\verb|Base|\\phantom{\\verb!x!}\\verb|E∩F|\\phantom{\\verb!x!}\\verb|=| \\left[\\left(1,\\,0,\\,\\frac{1}{3},\\,-\\frac{1}{5},\\,-\\frac{2}{15}\\right), \\left(0,\\,1,\\,-\\frac{2}{3},\\,-\\frac{2}{5},\\,\\frac{1}{15}\\right)\\right]\\]</html>"
      ],
      "text/latex": [
       "$$\\newcommand{\\Bold}[1]{\\mathbf{#1}}\\verb|Base|\\phantom{\\verb!x!}\\verb|E∩F|\\phantom{\\verb!x!}\\verb|=| \\left[\\left(1,\\,0,\\,\\frac{1}{3},\\,-\\frac{1}{5},\\,-\\frac{2}{15}\\right), \\left(0,\\,1,\\,-\\frac{2}{3},\\,-\\frac{2}{5},\\,\\frac{1}{15}\\right)\\right]$$"
      ],
      "text/plain": [
       "'Base E∩F = ' [\n",
       "(1, 0, 1/3, -1/5, -2/15),\n",
       "(0, 1, -2/3, -2/5, 1/15)\n",
       "]"
      ]
     },
     "metadata": {},
     "output_type": "display_data"
    },
    {
     "data": {
      "text/html": [
       "<html>\\[\\newcommand{\\Bold}[1]{\\mathbf{#1}}\\verb|Base|\\phantom{\\verb!x!}\\verb|E+F|\\phantom{\\verb!x!}\\verb|=| \\left[\\left(1,\\,0,\\,0,\\,0,\\,4\\right), \\left(0,\\,1,\\,0,\\,0,\\,3\\right), \\left(0,\\,0,\\,1,\\,0,\\,-4\\right), \\left(0,\\,0,\\,0,\\,1,\\,14\\right)\\right]\\]</html>"
      ],
      "text/latex": [
       "$$\\newcommand{\\Bold}[1]{\\mathbf{#1}}\\verb|Base|\\phantom{\\verb!x!}\\verb|E+F|\\phantom{\\verb!x!}\\verb|=| \\left[\\left(1,\\,0,\\,0,\\,0,\\,4\\right), \\left(0,\\,1,\\,0,\\,0,\\,3\\right), \\left(0,\\,0,\\,1,\\,0,\\,-4\\right), \\left(0,\\,0,\\,0,\\,1,\\,14\\right)\\right]$$"
      ],
      "text/plain": [
       "'Base E+F = ' [\n",
       "(1, 0, 0, 0, 4),\n",
       "(0, 1, 0, 0, 3),\n",
       "(0, 0, 1, 0, -4),\n",
       "(0, 0, 0, 1, 14)\n",
       "]"
      ]
     },
     "metadata": {},
     "output_type": "display_data"
    }
   ],
   "source": [
    "show('Base E∩F = ', G.basis())\n",
    "show('Base E+F = ', S.basis())"
   ]
  },
  {
   "cell_type": "code",
   "execution_count": 152,
   "metadata": {},
   "outputs": [
    {
     "data": {
      "text/plain": [
       "True"
      ]
     },
     "execution_count": 152,
     "metadata": {},
     "output_type": "execute_result"
    }
   ],
   "source": [
    "# Comprovació de la formula Grassmann:\n",
    "\n",
    "dim(S)==dim(E)+dim(F)-dim(G)"
   ]
  },
  {
   "cell_type": "markdown",
   "metadata": {},
   "source": [
    "### 2. Canvis de coordenades\n",
    "#### Exemple"
   ]
  },
  {
   "cell_type": "code",
   "execution_count": 156,
   "metadata": {},
   "outputs": [
    {
     "data": {
      "text/html": [
       "<html>\\[\\newcommand{\\Bold}[1]{\\mathbf{#1}}\\mathrm{RowSpan}_{\\Bold{Q}}\\left(\\begin{array}{rrr}\n",
       "1 & 0 & \\frac{2}{5} \\\\\n",
       "0 & 1 & -\\frac{3}{5}\n",
       "\\end{array}\\right)\\]</html>"
      ],
      "text/latex": [
       "$$\\newcommand{\\Bold}[1]{\\mathbf{#1}}\\mathrm{RowSpan}_{\\Bold{Q}}\\left(\\begin{array}{rrr}\n",
       "1 & 0 & \\frac{2}{5} \\\\\n",
       "0 & 1 & -\\frac{3}{5}\n",
       "\\end{array}\\right)$$"
      ],
      "text/plain": [
       "Vector space of degree 3 and dimension 2 over Rational Field\n",
       "Basis matrix:\n",
       "[   1    0  2/5]\n",
       "[   0    1 -3/5]"
      ]
     },
     "metadata": {},
     "output_type": "display_data"
    },
    {
     "data": {
      "text/html": [
       "<html>\\[\\newcommand{\\Bold}[1]{\\mathbf{#1}}\\mathrm{RowSpan}_{\\Bold{Q}}\\left(\\begin{array}{rrr}\n",
       "1 & -1 & 1 \\\\\n",
       "2 & 3 & -1\n",
       "\\end{array}\\right)\\]</html>"
      ],
      "text/latex": [
       "$$\\newcommand{\\Bold}[1]{\\mathbf{#1}}\\mathrm{RowSpan}_{\\Bold{Q}}\\left(\\begin{array}{rrr}\n",
       "1 & -1 & 1 \\\\\n",
       "2 & 3 & -1\n",
       "\\end{array}\\right)$$"
      ],
      "text/plain": [
       "Vector space of degree 3 and dimension 2 over Rational Field\n",
       "User basis matrix:\n",
       "[ 1 -1  1]\n",
       "[ 2  3 -1]"
      ]
     },
     "metadata": {},
     "output_type": "display_data"
    },
    {
     "data": {
      "text/html": [
       "<html>\\[\\newcommand{\\Bold}[1]{\\mathbf{#1}}\\verb|Són|\\phantom{\\verb!x!}\\verb|iguals?| \\mathrm{True}\\]</html>"
      ],
      "text/latex": [
       "$$\\newcommand{\\Bold}[1]{\\mathbf{#1}}\\verb|Són|\\phantom{\\verb!x!}\\verb|iguals?| \\mathrm{True}$$"
      ],
      "text/plain": [
       "'Són iguals? ' True"
      ]
     },
     "metadata": {},
     "output_type": "display_data"
    }
   ],
   "source": [
    "v1=vector(QQ,[1,-1,1])\n",
    "v2=vector(QQ,[2,3,-1])\n",
    "E=span(QQ,[v1,v2])\n",
    "Ev=(QQ^3).subspace_with_basis([v1,v2])\n",
    "show(E)\n",
    "show(Ev)\n",
    "show('Són iguals? ', E==Ev) # Es tracta del mateix subespai vectorial"
   ]
  },
  {
   "cell_type": "code",
   "execution_count": 157,
   "metadata": {},
   "outputs": [
    {
     "data": {
      "text/html": [
       "<html>\\[\\newcommand{\\Bold}[1]{\\mathbf{#1}}\\left(4,\\,1,\\,1\\right)\\]</html>"
      ],
      "text/latex": [
       "$$\\newcommand{\\Bold}[1]{\\mathbf{#1}}\\left(4,\\,1,\\,1\\right)$$"
      ],
      "text/plain": [
       "(4, 1, 1)"
      ]
     },
     "metadata": {},
     "output_type": "display_data"
    }
   ],
   "source": [
    "v=vector(QQ,[4,1,1])\n",
    "show(v)"
   ]
  },
  {
   "cell_type": "code",
   "execution_count": 158,
   "metadata": {},
   "outputs": [
    {
     "data": {
      "text/plain": [
       "True"
      ]
     },
     "execution_count": 158,
     "metadata": {},
     "output_type": "execute_result"
    }
   ],
   "source": [
    "# Es pot comprovar que v es de E\n",
    "v in E"
   ]
  },
  {
   "cell_type": "code",
   "execution_count": 159,
   "metadata": {},
   "outputs": [
    {
     "data": {
      "text/plain": [
       "True"
      ]
     },
     "execution_count": 159,
     "metadata": {},
     "output_type": "execute_result"
    }
   ],
   "source": [
    "# O fer-ho en la versió Ev que genera el mateix espai\n",
    "v in Ev"
   ]
  },
  {
   "cell_type": "code",
   "execution_count": 160,
   "metadata": {},
   "outputs": [
    {
     "data": {
      "text/plain": [
       "[2, 1]"
      ]
     },
     "execution_count": 160,
     "metadata": {},
     "output_type": "execute_result"
    }
   ],
   "source": [
    "Ev.coordinates(v)"
   ]
  },
  {
   "cell_type": "code",
   "execution_count": 161,
   "metadata": {},
   "outputs": [
    {
     "data": {
      "text/plain": [
       "((4, 1, 1), (4, 1, 1))"
      ]
     },
     "execution_count": 161,
     "metadata": {},
     "output_type": "execute_result"
    }
   ],
   "source": [
    "2*v1+v2, v"
   ]
  },
  {
   "cell_type": "code",
   "execution_count": 162,
   "metadata": {},
   "outputs": [
    {
     "data": {
      "text/plain": [
       "[4, 1]"
      ]
     },
     "execution_count": 162,
     "metadata": {},
     "output_type": "execute_result"
    }
   ],
   "source": [
    "E.coordinates(v)"
   ]
  },
  {
   "cell_type": "code",
   "execution_count": 163,
   "metadata": {},
   "outputs": [
    {
     "data": {
      "text/plain": [
       "(1, 0, 2/5)"
      ]
     },
     "execution_count": 163,
     "metadata": {},
     "output_type": "execute_result"
    }
   ],
   "source": [
    "E.0"
   ]
  },
  {
   "cell_type": "code",
   "execution_count": 164,
   "metadata": {},
   "outputs": [
    {
     "data": {
      "text/plain": [
       "(0, 1, -3/5)"
      ]
     },
     "execution_count": 164,
     "metadata": {},
     "output_type": "execute_result"
    }
   ],
   "source": [
    "E.1"
   ]
  },
  {
   "cell_type": "code",
   "execution_count": 166,
   "metadata": {},
   "outputs": [
    {
     "data": {
      "text/plain": [
       "((4, 1, 1), (4, 1, 1))"
      ]
     },
     "execution_count": 166,
     "metadata": {},
     "output_type": "execute_result"
    }
   ],
   "source": [
    "4*E.0+E.1, v"
   ]
  },
  {
   "cell_type": "markdown",
   "metadata": {},
   "source": [
    "#### Problema 2"
   ]
  },
  {
   "cell_type": "code",
   "execution_count": 168,
   "metadata": {},
   "outputs": [
    {
     "data": {
      "text/html": [
       "<html>\\[\\newcommand{\\Bold}[1]{\\mathbf{#1}}\\verb|Són|\\phantom{\\verb!x!}\\verb|iguals?| \\mathrm{True}\\]</html>"
      ],
      "text/latex": [
       "$$\\newcommand{\\Bold}[1]{\\mathbf{#1}}\\verb|Són|\\phantom{\\verb!x!}\\verb|iguals?| \\mathrm{True}$$"
      ],
      "text/plain": [
       "'Són iguals? ' True"
      ]
     },
     "metadata": {},
     "output_type": "display_data"
    }
   ],
   "source": [
    "v1=vector(QQ,[1,2,1])\n",
    "v2=vector(QQ,[2,1,2])\n",
    "w1=vector(QQ,[1,-1,1])\n",
    "w2=vector(QQ,[3,1,3])\n",
    "\n",
    "Ev=(QQ^3).subspace_with_basis([v1,v2])\n",
    "Ew=(QQ^3).subspace_with_basis([w1,w2])\n",
    "\n",
    "show('Són iguals? ', Ev==Ew) # És a dir, generen el mateix subespai vectorial"
   ]
  },
  {
   "cell_type": "code",
   "execution_count": 169,
   "metadata": {},
   "outputs": [
    {
     "data": {
      "text/html": [
       "<html>\\[\\newcommand{\\Bold}[1]{\\mathbf{#1}}\\verb|v1|\\phantom{\\verb!x!}\\verb|en|\\phantom{\\verb!x!}\\verb|Ew|\\phantom{\\verb!x!}\\verb|=| \\left[-\\frac{5}{4}, \\frac{3}{4}\\right]\\]</html>"
      ],
      "text/latex": [
       "$$\\newcommand{\\Bold}[1]{\\mathbf{#1}}\\verb|v1|\\phantom{\\verb!x!}\\verb|en|\\phantom{\\verb!x!}\\verb|Ew|\\phantom{\\verb!x!}\\verb|=| \\left[-\\frac{5}{4}, \\frac{3}{4}\\right]$$"
      ],
      "text/plain": [
       "'v1 en Ew = ' [-5/4, 3/4]"
      ]
     },
     "metadata": {},
     "output_type": "display_data"
    },
    {
     "data": {
      "text/html": [
       "<html>\\[\\newcommand{\\Bold}[1]{\\mathbf{#1}}\\verb|v2|\\phantom{\\verb!x!}\\verb|en|\\phantom{\\verb!x!}\\verb|Ew|\\phantom{\\verb!x!}\\verb|=| \\left[-\\frac{1}{4}, \\frac{3}{4}\\right]\\]</html>"
      ],
      "text/latex": [
       "$$\\newcommand{\\Bold}[1]{\\mathbf{#1}}\\verb|v2|\\phantom{\\verb!x!}\\verb|en|\\phantom{\\verb!x!}\\verb|Ew|\\phantom{\\verb!x!}\\verb|=| \\left[-\\frac{1}{4}, \\frac{3}{4}\\right]$$"
      ],
      "text/plain": [
       "'v2 en Ew = ' [-1/4, 3/4]"
      ]
     },
     "metadata": {},
     "output_type": "display_data"
    }
   ],
   "source": [
    "v1_Ew=Ew.coordinates(v1)\n",
    "v2_Ew=Ew.coordinates(v2)\n",
    "show('v1 en Ew = ',v1_Ew)\n",
    "show('v2 en Ew = ', v2_Ew)"
   ]
  },
  {
   "cell_type": "code",
   "execution_count": 170,
   "metadata": {},
   "outputs": [
    {
     "data": {
      "text/html": [
       "<html>\\[\\newcommand{\\Bold}[1]{\\mathbf{#1}}\\left(\\begin{array}{r|r}\n",
       "-\\frac{5}{4} & -\\frac{1}{4} \\\\\n",
       "\\frac{3}{4} & \\frac{3}{4}\n",
       "\\end{array}\\right)\\]</html>"
      ],
      "text/latex": [
       "$$\\newcommand{\\Bold}[1]{\\mathbf{#1}}\\left(\\begin{array}{r|r}\n",
       "-\\frac{5}{4} & -\\frac{1}{4} \\\\\n",
       "\\frac{3}{4} & \\frac{3}{4}\n",
       "\\end{array}\\right)$$"
      ],
      "text/plain": [
       "[-5/4|-1/4]\n",
       "[ 3/4| 3/4]"
      ]
     },
     "metadata": {},
     "output_type": "display_data"
    }
   ],
   "source": [
    "# Matriu canvi de base de Ev a Ew\n",
    "M=block_matrix(1,2,[column_matrix(v1_Ew),column_matrix(v2_Ew)]); show(M)"
   ]
  },
  {
   "cell_type": "code",
   "execution_count": 171,
   "metadata": {},
   "outputs": [
    {
     "data": {
      "text/plain": [
       "(1, -4, 1)"
      ]
     },
     "execution_count": 171,
     "metadata": {},
     "output_type": "execute_result"
    }
   ],
   "source": [
    "x=-3*v1+2*v2; x"
   ]
  },
  {
   "cell_type": "code",
   "execution_count": 172,
   "metadata": {},
   "outputs": [
    {
     "data": {
      "text/plain": [
       "[-3, 2]"
      ]
     },
     "execution_count": 172,
     "metadata": {},
     "output_type": "execute_result"
    }
   ],
   "source": [
    "Ev.coordinates(x)"
   ]
  },
  {
   "cell_type": "code",
   "execution_count": 173,
   "metadata": {},
   "outputs": [
    {
     "data": {
      "text/html": [
       "<html>\\[\\newcommand{\\Bold}[1]{\\mathbf{#1}}\\left(\\frac{13}{4},\\,-\\frac{3}{4}\\right)\\]</html>"
      ],
      "text/latex": [
       "$$\\newcommand{\\Bold}[1]{\\mathbf{#1}}\\left(\\frac{13}{4},\\,-\\frac{3}{4}\\right)$$"
      ],
      "text/plain": [
       "(13/4, -3/4)"
      ]
     },
     "metadata": {},
     "output_type": "display_data"
    }
   ],
   "source": [
    "coordx_Ew=vector(M*column_matrix(Ev.coordinates(x))) # Són les coordenades x resepcte Ew\n",
    "show(coordx_Ew)"
   ]
  },
  {
   "cell_type": "code",
   "execution_count": 174,
   "metadata": {},
   "outputs": [
    {
     "data": {
      "text/plain": [
       "((1, -4, 1), (1, -4, 1))"
      ]
     },
     "execution_count": 174,
     "metadata": {},
     "output_type": "execute_result"
    }
   ],
   "source": [
    "# En efecte;\n",
    "coordx_Ew[0]*w1+coordx_Ew[1]*w2, x"
   ]
  },
  {
   "cell_type": "markdown",
   "metadata": {},
   "source": [
    "#### Problema 3"
   ]
  },
  {
   "cell_type": "code",
   "execution_count": 175,
   "metadata": {},
   "outputs": [
    {
     "data": {
      "text/plain": [
       "4"
      ]
     },
     "execution_count": 175,
     "metadata": {},
     "output_type": "execute_result"
    }
   ],
   "source": [
    "v1=vector(QQ,[0,4,1,1])\n",
    "v2=vector(QQ,[-1,-2,-4,2])\n",
    "v3=vector(QQ,[0,4,1,2])\n",
    "v4=vector(QQ,[1,-1,3,-2])\n",
    "\n",
    "V=span([v1,v2,v3,v4])\n",
    "dim(V)"
   ]
  },
  {
   "cell_type": "code",
   "execution_count": 176,
   "metadata": {},
   "outputs": [
    {
     "data": {
      "text/html": [
       "<html>\\[\\newcommand{\\Bold}[1]{\\mathbf{#1}}\\left(\\begin{array}{rrrr}\n",
       "18 & 2 & -6 & -1 \\\\\n",
       "13 & 1 & -4 & 0 \\\\\n",
       "-8 & -1 & 3 & 1 \\\\\n",
       "14 & 1 & -4 & 0\n",
       "\\end{array}\\right)\\]</html>"
      ],
      "text/latex": [
       "$$\\newcommand{\\Bold}[1]{\\mathbf{#1}}\\left(\\begin{array}{rrrr}\n",
       "18 & 2 & -6 & -1 \\\\\n",
       "13 & 1 & -4 & 0 \\\\\n",
       "-8 & -1 & 3 & 1 \\\\\n",
       "14 & 1 & -4 & 0\n",
       "\\end{array}\\right)$$"
      ],
      "text/plain": [
       "[18  2 -6 -1]\n",
       "[13  1 -4  0]\n",
       "[-8 -1  3  1]\n",
       "[14  1 -4  0]"
      ]
     },
     "metadata": {},
     "output_type": "display_data"
    },
    {
     "data": {
      "text/html": [
       "<html>\\[\\newcommand{\\Bold}[1]{\\mathbf{#1}}\\left(\\begin{array}{r|r|r|r}\n",
       "18 & 2 & -6 & -1 \\\\\n",
       "13 & 1 & -4 & 0 \\\\\n",
       "-8 & -1 & 3 & 1 \\\\\n",
       "14 & 1 & -4 & 0\n",
       "\\end{array}\\right)\\]</html>"
      ],
      "text/latex": [
       "$$\\newcommand{\\Bold}[1]{\\mathbf{#1}}\\left(\\begin{array}{r|r|r|r}\n",
       "18 & 2 & -6 & -1 \\\\\n",
       "13 & 1 & -4 & 0 \\\\\n",
       "-8 & -1 & 3 & 1 \\\\\n",
       "14 & 1 & -4 & 0\n",
       "\\end{array}\\right)$$"
      ],
      "text/plain": [
       "[18| 2|-6|-1]\n",
       "[13| 1|-4| 0]\n",
       "[-8|-1| 3| 1]\n",
       "[14| 1|-4| 0]"
      ]
     },
     "metadata": {},
     "output_type": "display_data"
    }
   ],
   "source": [
    "# Aleshores, els vectors anteriors són independents i formen una base de QQ^4\n",
    "# Creem el seu subespai respecte d'una base fixada\n",
    "\n",
    "Vv=(QQ^4).subspace_with_basis([v1,v2,v3,v4])\n",
    "\n",
    "def vm(v):\n",
    "    return column_matrix(v)\n",
    "\n",
    "def vc(v,E):\n",
    "    return vector(QQ,E.coordinates(v))\n",
    "\n",
    "# Ens demanen calcular la matriu M de coordenades de canónica a 'v', on les columnes són \n",
    "# les coordenades dels vectores de la base canonica respecte la base 'v'.\n",
    "# Dos formes de fer-ho:\n",
    "\n",
    "M_c_v=block_matrix(1,4,[vm(v) for v in [v1,v2,v3,v4]]); \n",
    "M1=M_c_v.inverse()\n",
    "show(M1)\n",
    "\n",
    "M2=block_matrix(1,4,[vm(vc(x,Vv)) for x in [V.0,V.1,V.2,V.3]]); show(M2)"
   ]
  },
  {
   "cell_type": "code",
   "execution_count": 177,
   "metadata": {},
   "outputs": [
    {
     "data": {
      "text/plain": [
       "(75, 56, -32, 61)"
      ]
     },
     "execution_count": 177,
     "metadata": {},
     "output_type": "execute_result"
    }
   ],
   "source": [
    "x=vector(QQ,[5,-1,2,1])\n",
    "coordx=M1*x; coordx"
   ]
  },
  {
   "cell_type": "code",
   "execution_count": 178,
   "metadata": {},
   "outputs": [
    {
     "data": {
      "text/plain": [
       "((5, -1, 2, 1), (5, -1, 2, 1))"
      ]
     },
     "execution_count": 178,
     "metadata": {},
     "output_type": "execute_result"
    }
   ],
   "source": [
    "coordx[0]*v1+coordx[1]*v2+coordx[2]*v3+coordx[3]*v4, x"
   ]
  },
  {
   "cell_type": "markdown",
   "metadata": {},
   "source": [
    "#### Problema 4"
   ]
  },
  {
   "cell_type": "code",
   "execution_count": 180,
   "metadata": {},
   "outputs": [
    {
     "name": "stdout",
     "output_type": "stream",
     "text": [
      "Dimensió sev generat per v vectors:  4\n",
      "Dimensió sev generat per w vectors:  3\n"
     ]
    }
   ],
   "source": [
    "A=matrix(QQ,[[4,2,2,-2],[-1,2,0,-1],[-2,-1,4,4]])\n",
    "\n",
    "v1=vector(QQ,[-2,1,-1,-2])\n",
    "v2=vector(QQ,[-1,0,-1,-1])\n",
    "v3=vector(QQ,[0,-2,-1,2])\n",
    "v4=vector(QQ,[-1,1,-1,-2])\n",
    "\n",
    "w1=vector(QQ,[-2,1,-2])\n",
    "w2=vector(QQ,[0,1,-3])\n",
    "w3=vector(QQ,[3,-2,4])\n",
    "\n",
    "#Per veure que són una base \n",
    "print('Dimensió sev generat per v vectors: ', span(QQ,[v1,v2,v3,v4]).dimension()) \n",
    "print('Dimensió sev generat per w vectors: ', span(QQ,[w1,w2,w3]).dimension())\n",
    "\n",
    "V=(QQ^4).subspace_with_basis([v1,v2,v3,v4])\n",
    "W=(QQ^3).subspace_with_basis([w1,w2,w3])\n"
   ]
  },
  {
   "cell_type": "code",
   "execution_count": 182,
   "metadata": {},
   "outputs": [
    {
     "data": {
      "text/html": [
       "<html>\\[\\newcommand{\\Bold}[1]{\\mathbf{#1}}\\verb|P|\\phantom{\\verb!x!}\\verb|=| \\left(\\begin{array}{r|r|r|r}\n",
       "-2 & -1 & 0 & -1 \\\\\n",
       "1 & 0 & -2 & 1 \\\\\n",
       "-1 & -1 & -1 & -1 \\\\\n",
       "-2 & -1 & 2 & -2\n",
       "\\end{array}\\right)\\]</html>"
      ],
      "text/latex": [
       "$$\\newcommand{\\Bold}[1]{\\mathbf{#1}}\\verb|P|\\phantom{\\verb!x!}\\verb|=| \\left(\\begin{array}{r|r|r|r}\n",
       "-2 & -1 & 0 & -1 \\\\\n",
       "1 & 0 & -2 & 1 \\\\\n",
       "-1 & -1 & -1 & -1 \\\\\n",
       "-2 & -1 & 2 & -2\n",
       "\\end{array}\\right)$$"
      ],
      "text/plain": [
       "'P = ' [-2|-1| 0|-1]\n",
       "[ 1| 0|-2| 1]\n",
       "[-1|-1|-1|-1]\n",
       "[-2|-1| 2|-2]"
      ]
     },
     "metadata": {},
     "output_type": "display_data"
    },
    {
     "data": {
      "text/html": [
       "<html>\\[\\newcommand{\\Bold}[1]{\\mathbf{#1}}\\verb|Q|\\phantom{\\verb!x!}\\verb|=| \\left(\\begin{array}{rrr}\n",
       "-2 & -9 & -3 \\\\\n",
       "0 & -2 & -1 \\\\\n",
       "-1 & -6 & -2\n",
       "\\end{array}\\right)\\]</html>"
      ],
      "text/latex": [
       "$$\\newcommand{\\Bold}[1]{\\mathbf{#1}}\\verb|Q|\\phantom{\\verb!x!}\\verb|=| \\left(\\begin{array}{rrr}\n",
       "-2 & -9 & -3 \\\\\n",
       "0 & -2 & -1 \\\\\n",
       "-1 & -6 & -2\n",
       "\\end{array}\\right)$$"
      ],
      "text/plain": [
       "'Q = ' [-2 -9 -3]\n",
       "[ 0 -2 -1]\n",
       "[-1 -6 -2]"
      ]
     },
     "metadata": {},
     "output_type": "display_data"
    },
    {
     "data": {
      "text/html": [
       "<html>\\[\\newcommand{\\Bold}[1]{\\mathbf{#1}}\\verb|M|\\phantom{\\verb!x!}\\verb|=|\\phantom{\\verb!x!}\\verb|Q·A·P|\\phantom{\\verb!x!}\\verb|=| \\left(\\begin{array}{r|r|r|r}\n",
       "-19 & 8 & 56 & -12 \\\\\n",
       "-3 & 2 & 6 & 1 \\\\\n",
       "-14 & 4 & 34 & -8\n",
       "\\end{array}\\right)\\]</html>"
      ],
      "text/latex": [
       "$$\\newcommand{\\Bold}[1]{\\mathbf{#1}}\\verb|M|\\phantom{\\verb!x!}\\verb|=|\\phantom{\\verb!x!}\\verb|Q·A·P|\\phantom{\\verb!x!}\\verb|=| \\left(\\begin{array}{r|r|r|r}\n",
       "-19 & 8 & 56 & -12 \\\\\n",
       "-3 & 2 & 6 & 1 \\\\\n",
       "-14 & 4 & 34 & -8\n",
       "\\end{array}\\right)$$"
      ],
      "text/plain": [
       "'M = Q·A·P = ' [-19|  8| 56|-12]\n",
       "[ -3|  2|  6|  1]\n",
       "[-14|  4| 34| -8]"
      ]
     },
     "metadata": {},
     "output_type": "display_data"
    }
   ],
   "source": [
    "# La matriu buscada M(w<-(f)-v)=M(w<-c)·M(c<-(f)-c)·M(c<-v) <=> M = Q·A·P\n",
    "\n",
    "P=block_matrix(1,4,[vm(v) for v in [v1,v2,v3,v4]])\n",
    "show('P = ', P)\n",
    "\n",
    "Q=block_matrix(1,3,[vm(v) for v in [w1,w2,w3]]).inverse()\n",
    "show('Q = ', Q)\n",
    "\n",
    "M=Q*A*P\n",
    "show('M = Q·A·P = ',M)"
   ]
  },
  {
   "cell_type": "markdown",
   "metadata": {},
   "source": [
    "## Pràctica 3\n",
    "### 1. Polinomi característic"
   ]
  },
  {
   "cell_type": "code",
   "execution_count": 183,
   "metadata": {},
   "outputs": [
    {
     "data": {
      "text/html": [
       "<html>\\[\\newcommand{\\Bold}[1]{\\mathbf{#1}}\\left(\\begin{array}{rrrr}\n",
       "3 & -6 & -8 & 6 \\\\\n",
       "2 & -3 & -4 & 4 \\\\\n",
       "-2 & 3 & 3 & -3 \\\\\n",
       "-2 & 1 & -2 & 0\n",
       "\\end{array}\\right)\\]</html>"
      ],
      "text/latex": [
       "$$\\newcommand{\\Bold}[1]{\\mathbf{#1}}\\left(\\begin{array}{rrrr}\n",
       "3 & -6 & -8 & 6 \\\\\n",
       "2 & -3 & -4 & 4 \\\\\n",
       "-2 & 3 & 3 & -3 \\\\\n",
       "-2 & 1 & -2 & 0\n",
       "\\end{array}\\right)$$"
      ],
      "text/plain": [
       "[ 3 -6 -8  6]\n",
       "[ 2 -3 -4  4]\n",
       "[-2  3  3 -3]\n",
       "[-2  1 -2  0]"
      ]
     },
     "metadata": {},
     "output_type": "display_data"
    }
   ],
   "source": [
    "A=matrix(QQ,[[3,-6,-8,6],[2,-3,-4,4],[-2,3,3,-3],[-2,1,-2,0]])\n",
    "show(A)"
   ]
  },
  {
   "cell_type": "code",
   "execution_count": 184,
   "metadata": {
    "scrolled": true
   },
   "outputs": [
    {
     "data": {
      "text/html": [
       "<html>\\[\\newcommand{\\Bold}[1]{\\mathbf{#1}}x^{4} - 3 x^{3} + x^{2} + 3 x - 2\\]</html>"
      ],
      "text/latex": [
       "$$\\newcommand{\\Bold}[1]{\\mathbf{#1}}x^{4} - 3 x^{3} + x^{2} + 3 x - 2$$"
      ],
      "text/plain": [
       "x^4 - 3*x^3 + x^2 + 3*x - 2"
      ]
     },
     "metadata": {},
     "output_type": "display_data"
    }
   ],
   "source": [
    "show(A.charpoly())"
   ]
  },
  {
   "cell_type": "code",
   "execution_count": 185,
   "metadata": {},
   "outputs": [
    {
     "data": {
      "text/html": [
       "<html>\\[\\newcommand{\\Bold}[1]{\\mathbf{#1}}x^{4} - 3 \\, x^{3} + x^{2} + 3 \\, x - 2\\]</html>"
      ],
      "text/latex": [
       "$$\\newcommand{\\Bold}[1]{\\mathbf{#1}}x^{4} - 3 \\, x^{3} + x^{2} + 3 \\, x - 2$$"
      ],
      "text/plain": [
       "x^4 - 3*x^3 + x^2 + 3*x - 2"
      ]
     },
     "metadata": {},
     "output_type": "display_data"
    }
   ],
   "source": [
    "var('x')\n",
    "show((A-x*identity_matrix(4)).det())"
   ]
  },
  {
   "cell_type": "code",
   "execution_count": 186,
   "metadata": {},
   "outputs": [
    {
     "data": {
      "text/html": [
       "<html>\\[\\newcommand{\\Bold}[1]{\\mathbf{#1}}t^{4} - 3 t^{3} + t^{2} + 3 t - 2\\]</html>"
      ],
      "text/latex": [
       "$$\\newcommand{\\Bold}[1]{\\mathbf{#1}}t^{4} - 3 t^{3} + t^{2} + 3 t - 2$$"
      ],
      "text/plain": [
       "t^4 - 3*t^3 + t^2 + 3*t - 2"
      ]
     },
     "metadata": {},
     "output_type": "display_data"
    }
   ],
   "source": [
    "show(A.charpoly('t'))"
   ]
  },
  {
   "cell_type": "code",
   "execution_count": 187,
   "metadata": {},
   "outputs": [
    {
     "data": {
      "text/html": [
       "<html>\\[\\newcommand{\\Bold}[1]{\\mathbf{#1}}\\left(\\begin{array}{rrrr}\n",
       "x & -6 & x^{2} & 6 \\\\\n",
       "2 & -3 & -4 & 4 \\\\\n",
       "-2 & 3 & x - 1 & -3 \\\\\n",
       "-2 & 1 & -2 & 0\n",
       "\\end{array}\\right)\\]</html>"
      ],
      "text/latex": [
       "$$\\newcommand{\\Bold}[1]{\\mathbf{#1}}\\left(\\begin{array}{rrrr}\n",
       "x & -6 & x^{2} & 6 \\\\\n",
       "2 & -3 & -4 & 4 \\\\\n",
       "-2 & 3 & x - 1 & -3 \\\\\n",
       "-2 & 1 & -2 & 0\n",
       "\\end{array}\\right)$$"
      ],
      "text/plain": [
       "[    x    -6   x^2     6]\n",
       "[    2    -3    -4     4]\n",
       "[   -2     3 x - 1    -3]\n",
       "[   -2     1    -2     0]"
      ]
     },
     "metadata": {},
     "output_type": "display_data"
    }
   ],
   "source": [
    "B=matrix(4,4,[x, -6, x^2, 6,\n",
    "                 2, -3, -4, 4,\n",
    "                 -2, 3, x-1, -3,\n",
    "                 -2, 1, -2, 0])\n",
    "show(B)"
   ]
  },
  {
   "cell_type": "code",
   "execution_count": 188,
   "metadata": {},
   "outputs": [
    {
     "data": {
      "text/html": [
       "<html>\\[\\newcommand{\\Bold}[1]{\\mathbf{#1}}x^{4} + \\left(-2 \\, x + 4\\right) x^{3} + \\left(3 \\, x^{2} - 7 \\, x + 29\\right) x^{2} + \\left(-3 \\, x^{2} - 25 \\, x + 14\\right) x + 34 \\, x - 48\\]</html>"
      ],
      "text/latex": [
       "$$\\newcommand{\\Bold}[1]{\\mathbf{#1}}x^{4} + \\left(-2 \\, x + 4\\right) x^{3} + \\left(3 \\, x^{2} - 7 \\, x + 29\\right) x^{2} + \\left(-3 \\, x^{2} - 25 \\, x + 14\\right) x + 34 \\, x - 48$$"
      ],
      "text/plain": [
       "x^4 + (-2*x + 4)*x^3 + (3*x^2 - 7*x + 29)*x^2 + (-3*x^2 - 25*x + 14)*x + 34*x - 48"
      ]
     },
     "metadata": {},
     "output_type": "display_data"
    }
   ],
   "source": [
    "show(B.charpoly()) # La x té dos significats diferents"
   ]
  },
  {
   "cell_type": "code",
   "execution_count": 189,
   "metadata": {},
   "outputs": [
    {
     "data": {
      "text/html": [
       "<html>\\[\\newcommand{\\Bold}[1]{\\mathbf{#1}}\\lambda^{4} + \\left(-2 \\, x + 4\\right) \\lambda^{3} + \\left(3 \\, x^{2} - 7 \\, x + 29\\right) \\lambda^{2} + \\left(-3 \\, x^{2} - 25 \\, x + 14\\right) \\lambda + 34 \\, x - 48\\]</html>"
      ],
      "text/latex": [
       "$$\\newcommand{\\Bold}[1]{\\mathbf{#1}}\\lambda^{4} + \\left(-2 \\, x + 4\\right) \\lambda^{3} + \\left(3 \\, x^{2} - 7 \\, x + 29\\right) \\lambda^{2} + \\left(-3 \\, x^{2} - 25 \\, x + 14\\right) \\lambda + 34 \\, x - 48$$"
      ],
      "text/plain": [
       "lambda^4 + (-2*x + 4)*lambda^3 + (3*x^2 - 7*x + 29)*lambda^2 + (-3*x^2 - 25*x + 14)*lambda + 34*x - 48"
      ]
     },
     "metadata": {},
     "output_type": "display_data"
    }
   ],
   "source": [
    "show(B.charpoly('lambda')) # D'aquest forma desapareix la indetermianció"
   ]
  },
  {
   "cell_type": "markdown",
   "metadata": {},
   "source": [
    "##### Observació tècnica:\n",
    "El resultat de la funció charpoly és un objecte de la categoria polinomi que és un entremig d'un objecte amb variables simbòliques i una funció. Si proveu d'aplicar a aquest tipus d'objecte algunes de les funcions que esteu acostumats a utilitzar (com, per exemple, solve o expand) veureu que poden aparèixer problemes."
   ]
  },
  {
   "cell_type": "markdown",
   "metadata": {},
   "source": [
    "### 2. Valors propis"
   ]
  },
  {
   "cell_type": "code",
   "execution_count": 191,
   "metadata": {},
   "outputs": [
    {
     "data": {
      "text/html": [
       "<html>\\[\\newcommand{\\Bold}[1]{\\mathbf{#1}}\\left[2, -1, 1, 1\\right]\\]</html>"
      ],
      "text/latex": [
       "$$\\newcommand{\\Bold}[1]{\\mathbf{#1}}\\left[2, -1, 1, 1\\right]$$"
      ],
      "text/plain": [
       "[2, -1, 1, 1]"
      ]
     },
     "metadata": {},
     "output_type": "display_data"
    }
   ],
   "source": [
    "show(A.eigenvalues()) #Valors propis d'una matriu"
   ]
  },
  {
   "cell_type": "code",
   "execution_count": 192,
   "metadata": {},
   "outputs": [
    {
     "data": {
      "text/html": [
       "<html>\\[\\newcommand{\\Bold}[1]{\\mathbf{#1}}(x - 2) \\cdot (x + 1) \\cdot (x - 1)^{2}\\]</html>"
      ],
      "text/latex": [
       "$$\\newcommand{\\Bold}[1]{\\mathbf{#1}}(x - 2) \\cdot (x + 1) \\cdot (x - 1)^{2}$$"
      ],
      "text/plain": [
       "(x - 2) * (x + 1) * (x - 1)^2"
      ]
     },
     "metadata": {},
     "output_type": "display_data"
    }
   ],
   "source": [
    "show(A.charpoly().factor()) # Es pot veure que 1 és doble fent la factorització del polinomi característic"
   ]
  },
  {
   "cell_type": "code",
   "execution_count": 195,
   "metadata": {},
   "outputs": [
    {
     "data": {
      "text/html": [
       "<html>\\[\\newcommand{\\Bold}[1]{\\mathbf{#1}}(x - 2) \\cdot (x + 1) \\cdot (x - 1)^{2}\\]</html>"
      ],
      "text/latex": [
       "$$\\newcommand{\\Bold}[1]{\\mathbf{#1}}(x - 2) \\cdot (x + 1) \\cdot (x - 1)^{2}$$"
      ],
      "text/plain": [
       "(x - 2) * (x + 1) * (x - 1)^2"
      ]
     },
     "metadata": {},
     "output_type": "display_data"
    }
   ],
   "source": [
    "show(A.fcp()) #anàlogament"
   ]
  },
  {
   "cell_type": "markdown",
   "metadata": {},
   "source": [
    "### 3. Vectors propis"
   ]
  },
  {
   "cell_type": "markdown",
   "metadata": {},
   "source": [
    "Cada valor propi de la matriu A té associat el sev dels vectors propis corresponents. Que són els vector que compleixen A·v = µ·v. Podem obtenir aquestes dades amb eigenspaces_right() o eigenvectors_right()"
   ]
  },
  {
   "cell_type": "code",
   "execution_count": 196,
   "metadata": {
    "scrolled": true
   },
   "outputs": [
    {
     "data": {
      "text/html": [
       "<html>\\[\\newcommand{\\Bold}[1]{\\mathbf{#1}}\\left[\\left(2, \\mathrm{RowSpan}_{\\Bold{Q}}\\left(\\begin{array}{rrrr}\n",
       "1 & \\frac{2}{3} & -\\frac{1}{2} & -\\frac{1}{6}\n",
       "\\end{array}\\right)\\right), \\left(-1, \\mathrm{RowSpan}_{\\Bold{Q}}\\left(\\begin{array}{rrrr}\n",
       "1 & 1 & -1 & -1\n",
       "\\end{array}\\right)\\right), \\left(1, \\mathrm{RowSpan}_{\\Bold{Q}}\\left(\\begin{array}{rrrr}\n",
       "1 & 0 & -\\frac{1}{2} & -1 \\\\\n",
       "0 & 1 & 0 & 1\n",
       "\\end{array}\\right)\\right)\\right]\\]</html>"
      ],
      "text/latex": [
       "$$\\newcommand{\\Bold}[1]{\\mathbf{#1}}\\left[\\left(2, \\mathrm{RowSpan}_{\\Bold{Q}}\\left(\\begin{array}{rrrr}\n",
       "1 & \\frac{2}{3} & -\\frac{1}{2} & -\\frac{1}{6}\n",
       "\\end{array}\\right)\\right), \\left(-1, \\mathrm{RowSpan}_{\\Bold{Q}}\\left(\\begin{array}{rrrr}\n",
       "1 & 1 & -1 & -1\n",
       "\\end{array}\\right)\\right), \\left(1, \\mathrm{RowSpan}_{\\Bold{Q}}\\left(\\begin{array}{rrrr}\n",
       "1 & 0 & -\\frac{1}{2} & -1 \\\\\n",
       "0 & 1 & 0 & 1\n",
       "\\end{array}\\right)\\right)\\right]$$"
      ],
      "text/plain": [
       "[\n",
       "(2, Vector space of degree 4 and dimension 1 over Rational Field\n",
       "User basis matrix:\n",
       "[   1  2/3 -1/2 -1/6]),\n",
       "(-1, Vector space of degree 4 and dimension 1 over Rational Field\n",
       "User basis matrix:\n",
       "[ 1  1 -1 -1]),\n",
       "(1, Vector space of degree 4 and dimension 2 over Rational Field\n",
       "User basis matrix:\n",
       "[   1    0 -1/2   -1]\n",
       "[   0    1    0    1])\n",
       "]"
      ]
     },
     "metadata": {},
     "output_type": "display_data"
    }
   ],
   "source": [
    "show(A.eigenspaces_right())"
   ]
  },
  {
   "cell_type": "code",
   "execution_count": 197,
   "metadata": {},
   "outputs": [
    {
     "data": {
      "text/plain": [
       "Vector space of degree 4 and dimension 1 over Rational Field\n",
       "User basis matrix:\n",
       "[   1  2/3 -1/2 -1/6]"
      ]
     },
     "execution_count": 197,
     "metadata": {},
     "output_type": "execute_result"
    }
   ],
   "source": [
    "A.eigenspaces_right()[0][1]"
   ]
  },
  {
   "cell_type": "code",
   "execution_count": 198,
   "metadata": {
    "scrolled": true
   },
   "outputs": [
    {
     "data": {
      "text/html": [
       "<html>\\[\\newcommand{\\Bold}[1]{\\mathbf{#1}}\\left[\\left(2, \\left[\\left(1,\\,\\frac{2}{3},\\,-\\frac{1}{2},\\,-\\frac{1}{6}\\right)\\right], 1\\right), \\left(-1, \\left[\\left(1,\\,1,\\,-1,\\,-1\\right)\\right], 1\\right), \\left(1, \\left[\\left(1,\\,0,\\,-\\frac{1}{2},\\,-1\\right), \\left(0,\\,1,\\,0,\\,1\\right)\\right], 2\\right)\\right]\\]</html>"
      ],
      "text/latex": [
       "$$\\newcommand{\\Bold}[1]{\\mathbf{#1}}\\left[\\left(2, \\left[\\left(1,\\,\\frac{2}{3},\\,-\\frac{1}{2},\\,-\\frac{1}{6}\\right)\\right], 1\\right), \\left(-1, \\left[\\left(1,\\,1,\\,-1,\\,-1\\right)\\right], 1\\right), \\left(1, \\left[\\left(1,\\,0,\\,-\\frac{1}{2},\\,-1\\right), \\left(0,\\,1,\\,0,\\,1\\right)\\right], 2\\right)\\right]$$"
      ],
      "text/plain": [
       "[(2,\n",
       "  [\n",
       "  (1, 2/3, -1/2, -1/6)\n",
       "  ],\n",
       "  1),\n",
       " (-1,\n",
       "  [\n",
       "  (1, 1, -1, -1)\n",
       "  ],\n",
       "  1),\n",
       " (1,\n",
       "  [\n",
       "  (1, 0, -1/2, -1),\n",
       "  (0, 1, 0, 1)\n",
       "  ],\n",
       "  2)]"
      ]
     },
     "metadata": {},
     "output_type": "display_data"
    }
   ],
   "source": [
    "show(A.eigenvectors_right())"
   ]
  },
  {
   "cell_type": "code",
   "execution_count": 199,
   "metadata": {},
   "outputs": [
    {
     "data": {
      "text/plain": [
       "Vector space of degree 4 and dimension 1 over Rational Field\n",
       "Basis matrix:\n",
       "[   1  2/3 -1/2 -1/6]"
      ]
     },
     "execution_count": 199,
     "metadata": {},
     "output_type": "execute_result"
    }
   ],
   "source": [
    "span(QQ, A.eigenvectors_right()[0][1])"
   ]
  },
  {
   "cell_type": "markdown",
   "metadata": {},
   "source": [
    "Noteu que en el prime cas el resultat és una llista de parells formats per un dels valors propis i el subespai dels vectors propis associat. En canvi, en el segon exemple, el resultat és una llista de tripletes formades pel valor propi, una base de l'espai de vectors poropis associats i la multiplicitat"
   ]
  },
  {
   "cell_type": "markdown",
   "metadata": {},
   "source": [
    "#### Problema 1\n",
    "Calculeu, per a cada una de les matrius següents, el polinomi característi, els valors propis i els espais de vectors propis corresponents a cada un d'ell (donant una base de cada un d'ells)"
   ]
  },
  {
   "cell_type": "code",
   "execution_count": 1,
   "metadata": {},
   "outputs": [],
   "source": [
    "A1=matrix(QQ,3,3,[-8,-4,24, 8, 5, -20, -2, -1, 6])\n",
    "A2=matrix(QQ,[[-2,-1,-2,1],[1,1,1,0],[-1,-3,3,-1],[-2,-5,3,-2]])\n",
    "A3=matrix(QQ,5,5,[7,3,2,18,12,-2,0,0,-4,-4,5,3,2,12,10,-1,-1,0,0,-2,-2,0,-1,-9,-3])\n",
    "A4=matrix(QQ,4,4,[-4,2,-4,-2,-7,4,-5,-2,1,-2,-5,-4,1,2,11,8])\n",
    "A5=column_matrix(QQ,[[5,-2,-6,2],[2,0,-3,0],[3,-1,-4,1],[1,0,-2,0]])\n",
    "A6=matrix(QQ,[[-1,-3,-2,-1],[4,9,4,4],[-4,-9,-3,-5],[-4,-8,-4,-3]])\n"
   ]
  },
  {
   "cell_type": "code",
   "execution_count": 2,
   "metadata": {},
   "outputs": [],
   "source": [
    "def estudi_propi(A):\n",
    "    show('Polinomi característic: p(x) = ', A.charpoly())\n",
    "    for i in range(len(A.eigenvectors_right())):\n",
    "        print('Autovalor ' , A.eigenvectors_right()[i][0], \n",
    "            'amb multiplicitat algebraica ' , A.eigenvectors_right()[i][2])\n",
    "        show('\\t\\t\\t Subespai propi associat :', A.eigenspaces_right()[i][1])"
   ]
  },
  {
   "cell_type": "code",
   "execution_count": 3,
   "metadata": {},
   "outputs": [
    {
     "data": {
      "text/html": [
       "<html>\\[\\newcommand{\\Bold}[1]{\\mathbf{#1}}\\verb|Polinomi|\\phantom{\\verb!x!}\\verb|característic:|\\phantom{\\verb!x!}\\verb|p(x)|\\phantom{\\verb!x!}\\verb|=| x^{3} - 3 x^{2} + 2 x\\]</html>"
      ],
      "text/latex": [
       "$$\\newcommand{\\Bold}[1]{\\mathbf{#1}}\\verb|Polinomi|\\phantom{\\verb!x!}\\verb|característic:|\\phantom{\\verb!x!}\\verb|p(x)|\\phantom{\\verb!x!}\\verb|=| x^{3} - 3 x^{2} + 2 x$$"
      ],
      "text/plain": [
       "'Polinomi característic: p(x) = ' x^3 - 3*x^2 + 2*x"
      ]
     },
     "metadata": {},
     "output_type": "display_data"
    },
    {
     "name": "stdout",
     "output_type": "stream",
     "text": [
      "Autovalor  2 amb multiplicitat algebraica  1\n"
     ]
    },
    {
     "data": {
      "text/html": [
       "<html>\\[\\newcommand{\\Bold}[1]{\\mathbf{#1}}\\verb|\t\t\t|\\phantom{\\verb!x!}\\verb|Subespai|\\phantom{\\verb!x!}\\verb|propi|\\phantom{\\verb!x!}\\verb|associat|\\phantom{\\verb!x!}\\verb|:| \\mathrm{RowSpan}_{\\Bold{Q}}\\left(\\begin{array}{rrr}\n",
       "1 & -1 & \\frac{1}{4}\n",
       "\\end{array}\\right)\\]</html>"
      ],
      "text/latex": [
       "$$\\newcommand{\\Bold}[1]{\\mathbf{#1}}\\verb|\t\t\t|\\phantom{\\verb!x!}\\verb|Subespai|\\phantom{\\verb!x!}\\verb|propi|\\phantom{\\verb!x!}\\verb|associat|\\phantom{\\verb!x!}\\verb|:| \\mathrm{RowSpan}_{\\Bold{Q}}\\left(\\begin{array}{rrr}\n",
       "1 & -1 & \\frac{1}{4}\n",
       "\\end{array}\\right)$$"
      ],
      "text/plain": [
       "'\\t\\t\\t Subespai propi associat :' Vector space of degree 3 and dimension 1 over Rational Field\n",
       "User basis matrix:\n",
       "[  1  -1 1/4]"
      ]
     },
     "metadata": {},
     "output_type": "display_data"
    },
    {
     "name": "stdout",
     "output_type": "stream",
     "text": [
      "Autovalor  1 amb multiplicitat algebraica  1\n"
     ]
    },
    {
     "data": {
      "text/html": [
       "<html>\\[\\newcommand{\\Bold}[1]{\\mathbf{#1}}\\verb|\t\t\t|\\phantom{\\verb!x!}\\verb|Subespai|\\phantom{\\verb!x!}\\verb|propi|\\phantom{\\verb!x!}\\verb|associat|\\phantom{\\verb!x!}\\verb|:| \\mathrm{RowSpan}_{\\Bold{Q}}\\left(\\begin{array}{rrr}\n",
       "1 & -\\frac{3}{4} & \\frac{1}{4}\n",
       "\\end{array}\\right)\\]</html>"
      ],
      "text/latex": [
       "$$\\newcommand{\\Bold}[1]{\\mathbf{#1}}\\verb|\t\t\t|\\phantom{\\verb!x!}\\verb|Subespai|\\phantom{\\verb!x!}\\verb|propi|\\phantom{\\verb!x!}\\verb|associat|\\phantom{\\verb!x!}\\verb|:| \\mathrm{RowSpan}_{\\Bold{Q}}\\left(\\begin{array}{rrr}\n",
       "1 & -\\frac{3}{4} & \\frac{1}{4}\n",
       "\\end{array}\\right)$$"
      ],
      "text/plain": [
       "'\\t\\t\\t Subespai propi associat :' Vector space of degree 3 and dimension 1 over Rational Field\n",
       "User basis matrix:\n",
       "[   1 -3/4  1/4]"
      ]
     },
     "metadata": {},
     "output_type": "display_data"
    },
    {
     "name": "stdout",
     "output_type": "stream",
     "text": [
      "Autovalor  0 amb multiplicitat algebraica  1\n"
     ]
    },
    {
     "data": {
      "text/html": [
       "<html>\\[\\newcommand{\\Bold}[1]{\\mathbf{#1}}\\verb|\t\t\t|\\phantom{\\verb!x!}\\verb|Subespai|\\phantom{\\verb!x!}\\verb|propi|\\phantom{\\verb!x!}\\verb|associat|\\phantom{\\verb!x!}\\verb|:| \\mathrm{RowSpan}_{\\Bold{Q}}\\left(\\begin{array}{rrr}\n",
       "1 & -\\frac{4}{5} & \\frac{1}{5}\n",
       "\\end{array}\\right)\\]</html>"
      ],
      "text/latex": [
       "$$\\newcommand{\\Bold}[1]{\\mathbf{#1}}\\verb|\t\t\t|\\phantom{\\verb!x!}\\verb|Subespai|\\phantom{\\verb!x!}\\verb|propi|\\phantom{\\verb!x!}\\verb|associat|\\phantom{\\verb!x!}\\verb|:| \\mathrm{RowSpan}_{\\Bold{Q}}\\left(\\begin{array}{rrr}\n",
       "1 & -\\frac{4}{5} & \\frac{1}{5}\n",
       "\\end{array}\\right)$$"
      ],
      "text/plain": [
       "'\\t\\t\\t Subespai propi associat :' Vector space of degree 3 and dimension 1 over Rational Field\n",
       "User basis matrix:\n",
       "[   1 -4/5  1/5]"
      ]
     },
     "metadata": {},
     "output_type": "display_data"
    }
   ],
   "source": [
    "estudi_propi(A1)"
   ]
  },
  {
   "cell_type": "code",
   "execution_count": null,
   "metadata": {},
   "outputs": [],
   "source": []
  },
  {
   "cell_type": "code",
   "execution_count": null,
   "metadata": {},
   "outputs": [],
   "source": [
    "estudi_propi(A2)"
   ]
  },
  {
   "cell_type": "code",
   "execution_count": null,
   "metadata": {},
   "outputs": [],
   "source": [
    "estudi_propi(A3)"
   ]
  },
  {
   "cell_type": "code",
   "execution_count": null,
   "metadata": {},
   "outputs": [],
   "source": [
    "estudi_propi(A4)"
   ]
  },
  {
   "cell_type": "code",
   "execution_count": null,
   "metadata": {},
   "outputs": [],
   "source": [
    "estudi_propi(A5)"
   ]
  },
  {
   "cell_type": "code",
   "execution_count": null,
   "metadata": {},
   "outputs": [],
   "source": [
    "estudi_propi(A6)"
   ]
  },
  {
   "cell_type": "markdown",
   "metadata": {},
   "source": [
    "### 4. Diagonalització"
   ]
  },
  {
   "cell_type": "code",
   "execution_count": 203,
   "metadata": {},
   "outputs": [
    {
     "data": {
      "text/plain": [
       "True"
      ]
     },
     "execution_count": 203,
     "metadata": {},
     "output_type": "execute_result"
    }
   ],
   "source": [
    "A.is_diagonalizable()"
   ]
  },
  {
   "cell_type": "code",
   "execution_count": 204,
   "metadata": {},
   "outputs": [
    {
     "data": {
      "text/html": [
       "<html>\\[\\newcommand{\\Bold}[1]{\\mathbf{#1}}\\left(\\begin{array}{rrrr}\n",
       "2 & 0 & 0 & 0 \\\\\n",
       "0 & -1 & 0 & 0 \\\\\n",
       "0 & 0 & 1 & 0 \\\\\n",
       "0 & 0 & 0 & 1\n",
       "\\end{array}\\right)\\]</html>"
      ],
      "text/latex": [
       "$$\\newcommand{\\Bold}[1]{\\mathbf{#1}}\\left(\\begin{array}{rrrr}\n",
       "2 & 0 & 0 & 0 \\\\\n",
       "0 & -1 & 0 & 0 \\\\\n",
       "0 & 0 & 1 & 0 \\\\\n",
       "0 & 0 & 0 & 1\n",
       "\\end{array}\\right)$$"
      ],
      "text/plain": [
       "[ 2  0  0  0]\n",
       "[ 0 -1  0  0]\n",
       "[ 0  0  1  0]\n",
       "[ 0  0  0  1]"
      ]
     },
     "metadata": {},
     "output_type": "display_data"
    },
    {
     "data": {
      "text/html": [
       "<html>\\[\\newcommand{\\Bold}[1]{\\mathbf{#1}}\\left(\\begin{array}{rrrr}\n",
       "1 & 1 & 1 & 0 \\\\\n",
       "\\frac{2}{3} & 1 & 0 & 1 \\\\\n",
       "-\\frac{1}{2} & -1 & -\\frac{1}{2} & 0 \\\\\n",
       "-\\frac{1}{6} & -1 & -1 & 1\n",
       "\\end{array}\\right)\\]</html>"
      ],
      "text/latex": [
       "$$\\newcommand{\\Bold}[1]{\\mathbf{#1}}\\left(\\begin{array}{rrrr}\n",
       "1 & 1 & 1 & 0 \\\\\n",
       "\\frac{2}{3} & 1 & 0 & 1 \\\\\n",
       "-\\frac{1}{2} & -1 & -\\frac{1}{2} & 0 \\\\\n",
       "-\\frac{1}{6} & -1 & -1 & 1\n",
       "\\end{array}\\right)$$"
      ],
      "text/plain": [
       "[   1    1    1    0]\n",
       "[ 2/3    1    0    1]\n",
       "[-1/2   -1 -1/2    0]\n",
       "[-1/6   -1   -1    1]"
      ]
     },
     "metadata": {},
     "output_type": "display_data"
    }
   ],
   "source": [
    "[D,M]=A.eigenmatrix_right()\n",
    "show(D)\n",
    "show(M)"
   ]
  },
  {
   "cell_type": "code",
   "execution_count": 205,
   "metadata": {},
   "outputs": [
    {
     "data": {
      "text/html": [
       "<html>\\[\\newcommand{\\Bold}[1]{\\mathbf{#1}}\\left(\\begin{array}{rrrr}\n",
       "2 & 0 & 0 & 0 \\\\\n",
       "0 & -1 & 0 & 0 \\\\\n",
       "0 & 0 & 1 & 0 \\\\\n",
       "0 & 0 & 0 & 1\n",
       "\\end{array}\\right) \\left(\\begin{array}{rrrr}\n",
       "2 & 0 & 0 & 0 \\\\\n",
       "0 & -1 & 0 & 0 \\\\\n",
       "0 & 0 & 1 & 0 \\\\\n",
       "0 & 0 & 0 & 1\n",
       "\\end{array}\\right)\\]</html>"
      ],
      "text/latex": [
       "$$\\newcommand{\\Bold}[1]{\\mathbf{#1}}\\left(\\begin{array}{rrrr}\n",
       "2 & 0 & 0 & 0 \\\\\n",
       "0 & -1 & 0 & 0 \\\\\n",
       "0 & 0 & 1 & 0 \\\\\n",
       "0 & 0 & 0 & 1\n",
       "\\end{array}\\right) \\left(\\begin{array}{rrrr}\n",
       "2 & 0 & 0 & 0 \\\\\n",
       "0 & -1 & 0 & 0 \\\\\n",
       "0 & 0 & 1 & 0 \\\\\n",
       "0 & 0 & 0 & 1\n",
       "\\end{array}\\right)$$"
      ],
      "text/plain": [
       "[ 2  0  0  0]\n",
       "[ 0 -1  0  0]\n",
       "[ 0  0  1  0]\n",
       "[ 0  0  0  1] [ 2  0  0  0]\n",
       "[ 0 -1  0  0]\n",
       "[ 0  0  1  0]\n",
       "[ 0  0  0  1]"
      ]
     },
     "metadata": {},
     "output_type": "display_data"
    }
   ],
   "source": [
    "show(M.inverse()*A*M, D)"
   ]
  },
  {
   "cell_type": "code",
   "execution_count": 206,
   "metadata": {},
   "outputs": [
    {
     "data": {
      "text/html": [
       "<html>\\[\\newcommand{\\Bold}[1]{\\mathbf{#1}}\\left(\\begin{array}{rrrr}\n",
       "3 & -6 & -8 & 6 \\\\\n",
       "2 & -3 & -4 & 4 \\\\\n",
       "-2 & 3 & 3 & -3 \\\\\n",
       "-2 & 1 & -2 & 0\n",
       "\\end{array}\\right) \\left(\\begin{array}{rrrr}\n",
       "3 & -6 & -8 & 6 \\\\\n",
       "2 & -3 & -4 & 4 \\\\\n",
       "-2 & 3 & 3 & -3 \\\\\n",
       "-2 & 1 & -2 & 0\n",
       "\\end{array}\\right)\\]</html>"
      ],
      "text/latex": [
       "$$\\newcommand{\\Bold}[1]{\\mathbf{#1}}\\left(\\begin{array}{rrrr}\n",
       "3 & -6 & -8 & 6 \\\\\n",
       "2 & -3 & -4 & 4 \\\\\n",
       "-2 & 3 & 3 & -3 \\\\\n",
       "-2 & 1 & -2 & 0\n",
       "\\end{array}\\right) \\left(\\begin{array}{rrrr}\n",
       "3 & -6 & -8 & 6 \\\\\n",
       "2 & -3 & -4 & 4 \\\\\n",
       "-2 & 3 & 3 & -3 \\\\\n",
       "-2 & 1 & -2 & 0\n",
       "\\end{array}\\right)$$"
      ],
      "text/plain": [
       "[ 3 -6 -8  6]\n",
       "[ 2 -3 -4  4]\n",
       "[-2  3  3 -3]\n",
       "[-2  1 -2  0] [ 3 -6 -8  6]\n",
       "[ 2 -3 -4  4]\n",
       "[-2  3  3 -3]\n",
       "[-2  1 -2  0]"
      ]
     },
     "metadata": {},
     "output_type": "display_data"
    }
   ],
   "source": [
    "show(M*D*M.inverse(),A)"
   ]
  },
  {
   "cell_type": "markdown",
   "metadata": {},
   "source": [
    "#### Problema 2\n",
    "Determinenu quines de les matrius de l'apartat anterior són diagonalitzables. Doneu la matriu de canvi de base en aquest casos."
   ]
  },
  {
   "cell_type": "code",
   "execution_count": 207,
   "metadata": {},
   "outputs": [
    {
     "data": {
      "text/html": [
       "<html>\\[\\newcommand{\\Bold}[1]{\\mathbf{#1}}\\verb|La|\\phantom{\\verb!x!}\\verb|matriu| \\left(\\begin{array}{rrr}\n",
       "-8 & -4 & 24 \\\\\n",
       "8 & 5 & -20 \\\\\n",
       "-2 & -1 & 6\n",
       "\\end{array}\\right) \\verb|es|\\phantom{\\verb!x!}\\verb|diagonalitzable?| \\mathrm{True}\\]</html>"
      ],
      "text/latex": [
       "$$\\newcommand{\\Bold}[1]{\\mathbf{#1}}\\verb|La|\\phantom{\\verb!x!}\\verb|matriu| \\left(\\begin{array}{rrr}\n",
       "-8 & -4 & 24 \\\\\n",
       "8 & 5 & -20 \\\\\n",
       "-2 & -1 & 6\n",
       "\\end{array}\\right) \\verb|es|\\phantom{\\verb!x!}\\verb|diagonalitzable?| \\mathrm{True}$$"
      ],
      "text/plain": [
       "'La matriu ' [ -8  -4  24]\n",
       "[  8   5 -20]\n",
       "[ -2  -1   6] 'es diagonalitzable? ' True"
      ]
     },
     "metadata": {},
     "output_type": "display_data"
    },
    {
     "data": {
      "text/html": [
       "<html>\\[\\newcommand{\\Bold}[1]{\\mathbf{#1}}\\verb|\t\t\t|\\phantom{\\verb!x!}\\verb|amb|\\phantom{\\verb!x!}\\verb|matriu|\\phantom{\\verb!x!}\\verb|de|\\phantom{\\verb!x!}\\verb|canvi|\\phantom{\\verb!x!}\\verb|de|\\phantom{\\verb!x!}\\verb|base|\\phantom{\\verb!x!}\\verb|M|\\phantom{\\verb!x!}\\verb|=| \\left(\\begin{array}{rrr}\n",
       "1 & 1 & 1 \\\\\n",
       "-1 & -\\frac{3}{4} & -\\frac{4}{5} \\\\\n",
       "\\frac{1}{4} & \\frac{1}{4} & \\frac{1}{5}\n",
       "\\end{array}\\right)\\]</html>"
      ],
      "text/latex": [
       "$$\\newcommand{\\Bold}[1]{\\mathbf{#1}}\\verb|\t\t\t|\\phantom{\\verb!x!}\\verb|amb|\\phantom{\\verb!x!}\\verb|matriu|\\phantom{\\verb!x!}\\verb|de|\\phantom{\\verb!x!}\\verb|canvi|\\phantom{\\verb!x!}\\verb|de|\\phantom{\\verb!x!}\\verb|base|\\phantom{\\verb!x!}\\verb|M|\\phantom{\\verb!x!}\\verb|=| \\left(\\begin{array}{rrr}\n",
       "1 & 1 & 1 \\\\\n",
       "-1 & -\\frac{3}{4} & -\\frac{4}{5} \\\\\n",
       "\\frac{1}{4} & \\frac{1}{4} & \\frac{1}{5}\n",
       "\\end{array}\\right)$$"
      ],
      "text/plain": [
       "'\\t\\t\\t amb matriu de canvi de base M = ' [   1    1    1]\n",
       "[  -1 -3/4 -4/5]\n",
       "[ 1/4  1/4  1/5]"
      ]
     },
     "metadata": {},
     "output_type": "display_data"
    },
    {
     "data": {
      "text/html": [
       "<html>\\[\\newcommand{\\Bold}[1]{\\mathbf{#1}}\\verb|La|\\phantom{\\verb!x!}\\verb|matriu| \\left(\\begin{array}{rrrr}\n",
       "-2 & -1 & -2 & 1 \\\\\n",
       "1 & 1 & 1 & 0 \\\\\n",
       "-1 & -3 & 3 & -1 \\\\\n",
       "-2 & -5 & 3 & -2\n",
       "\\end{array}\\right) \\verb|es|\\phantom{\\verb!x!}\\verb|diagonalitzable?| \\mathrm{False}\\]</html>"
      ],
      "text/latex": [
       "$$\\newcommand{\\Bold}[1]{\\mathbf{#1}}\\verb|La|\\phantom{\\verb!x!}\\verb|matriu| \\left(\\begin{array}{rrrr}\n",
       "-2 & -1 & -2 & 1 \\\\\n",
       "1 & 1 & 1 & 0 \\\\\n",
       "-1 & -3 & 3 & -1 \\\\\n",
       "-2 & -5 & 3 & -2\n",
       "\\end{array}\\right) \\verb|es|\\phantom{\\verb!x!}\\verb|diagonalitzable?| \\mathrm{False}$$"
      ],
      "text/plain": [
       "'La matriu ' [-2 -1 -2  1]\n",
       "[ 1  1  1  0]\n",
       "[-1 -3  3 -1]\n",
       "[-2 -5  3 -2] 'es diagonalitzable? ' False"
      ]
     },
     "metadata": {},
     "output_type": "display_data"
    },
    {
     "data": {
      "text/html": [
       "<html>\\[\\newcommand{\\Bold}[1]{\\mathbf{#1}}\\verb|La|\\phantom{\\verb!x!}\\verb|matriu| \\left(\\begin{array}{rrrrr}\n",
       "7 & 3 & 2 & 18 & 12 \\\\\n",
       "-2 & 0 & 0 & -4 & -4 \\\\\n",
       "5 & 3 & 2 & 12 & 10 \\\\\n",
       "-1 & -1 & 0 & 0 & -2 \\\\\n",
       "-2 & 0 & -1 & -9 & -3\n",
       "\\end{array}\\right) \\verb|es|\\phantom{\\verb!x!}\\verb|diagonalitzable?| \\mathrm{True}\\]</html>"
      ],
      "text/latex": [
       "$$\\newcommand{\\Bold}[1]{\\mathbf{#1}}\\verb|La|\\phantom{\\verb!x!}\\verb|matriu| \\left(\\begin{array}{rrrrr}\n",
       "7 & 3 & 2 & 18 & 12 \\\\\n",
       "-2 & 0 & 0 & -4 & -4 \\\\\n",
       "5 & 3 & 2 & 12 & 10 \\\\\n",
       "-1 & -1 & 0 & 0 & -2 \\\\\n",
       "-2 & 0 & -1 & -9 & -3\n",
       "\\end{array}\\right) \\verb|es|\\phantom{\\verb!x!}\\verb|diagonalitzable?| \\mathrm{True}$$"
      ],
      "text/plain": [
       "'La matriu ' [ 7  3  2 18 12]\n",
       "[-2  0  0 -4 -4]\n",
       "[ 5  3  2 12 10]\n",
       "[-1 -1  0  0 -2]\n",
       "[-2  0 -1 -9 -3] 'es diagonalitzable? ' True"
      ]
     },
     "metadata": {},
     "output_type": "display_data"
    },
    {
     "data": {
      "text/html": [
       "<html>\\[\\newcommand{\\Bold}[1]{\\mathbf{#1}}\\verb|\t\t\t|\\phantom{\\verb!x!}\\verb|amb|\\phantom{\\verb!x!}\\verb|matriu|\\phantom{\\verb!x!}\\verb|de|\\phantom{\\verb!x!}\\verb|canvi|\\phantom{\\verb!x!}\\verb|de|\\phantom{\\verb!x!}\\verb|base|\\phantom{\\verb!x!}\\verb|M|\\phantom{\\verb!x!}\\verb|=| \\left(\\begin{array}{rrrrr}\n",
       "1 & 1 & 0 & 1 & 0 \\\\\n",
       "-\\frac{1}{2} & 0 & 1 & 0 & 1 \\\\\n",
       "1 & \\frac{1}{2} & -\\frac{3}{2} & 0 & -\\frac{3}{2} \\\\\n",
       "-\\frac{1}{4} & 0 & 1 & 0 & \\frac{1}{2} \\\\\n",
       "-\\frac{1}{4} & -\\frac{1}{2} & -\\frac{3}{2} & -\\frac{1}{2} & -\\frac{3}{4}\n",
       "\\end{array}\\right)\\]</html>"
      ],
      "text/latex": [
       "$$\\newcommand{\\Bold}[1]{\\mathbf{#1}}\\verb|\t\t\t|\\phantom{\\verb!x!}\\verb|amb|\\phantom{\\verb!x!}\\verb|matriu|\\phantom{\\verb!x!}\\verb|de|\\phantom{\\verb!x!}\\verb|canvi|\\phantom{\\verb!x!}\\verb|de|\\phantom{\\verb!x!}\\verb|base|\\phantom{\\verb!x!}\\verb|M|\\phantom{\\verb!x!}\\verb|=| \\left(\\begin{array}{rrrrr}\n",
       "1 & 1 & 0 & 1 & 0 \\\\\n",
       "-\\frac{1}{2} & 0 & 1 & 0 & 1 \\\\\n",
       "1 & \\frac{1}{2} & -\\frac{3}{2} & 0 & -\\frac{3}{2} \\\\\n",
       "-\\frac{1}{4} & 0 & 1 & 0 & \\frac{1}{2} \\\\\n",
       "-\\frac{1}{4} & -\\frac{1}{2} & -\\frac{3}{2} & -\\frac{1}{2} & -\\frac{3}{4}\n",
       "\\end{array}\\right)$$"
      ],
      "text/plain": [
       "'\\t\\t\\t amb matriu de canvi de base M = ' [   1    1    0    1    0]\n",
       "[-1/2    0    1    0    1]\n",
       "[   1  1/2 -3/2    0 -3/2]\n",
       "[-1/4    0    1    0  1/2]\n",
       "[-1/4 -1/2 -3/2 -1/2 -3/4]"
      ]
     },
     "metadata": {},
     "output_type": "display_data"
    },
    {
     "data": {
      "text/html": [
       "<html>\\[\\newcommand{\\Bold}[1]{\\mathbf{#1}}\\verb|La|\\phantom{\\verb!x!}\\verb|matriu| \\left(\\begin{array}{rrrr}\n",
       "-4 & 2 & -4 & -2 \\\\\n",
       "-7 & 4 & -5 & -2 \\\\\n",
       "1 & -2 & -5 & -4 \\\\\n",
       "1 & 2 & 11 & 8\n",
       "\\end{array}\\right) \\verb|es|\\phantom{\\verb!x!}\\verb|diagonalitzable?| \\mathrm{True}\\]</html>"
      ],
      "text/latex": [
       "$$\\newcommand{\\Bold}[1]{\\mathbf{#1}}\\verb|La|\\phantom{\\verb!x!}\\verb|matriu| \\left(\\begin{array}{rrrr}\n",
       "-4 & 2 & -4 & -2 \\\\\n",
       "-7 & 4 & -5 & -2 \\\\\n",
       "1 & -2 & -5 & -4 \\\\\n",
       "1 & 2 & 11 & 8\n",
       "\\end{array}\\right) \\verb|es|\\phantom{\\verb!x!}\\verb|diagonalitzable?| \\mathrm{True}$$"
      ],
      "text/plain": [
       "'La matriu ' [-4  2 -4 -2]\n",
       "[-7  4 -5 -2]\n",
       "[ 1 -2 -5 -4]\n",
       "[ 1  2 11  8] 'es diagonalitzable? ' True"
      ]
     },
     "metadata": {},
     "output_type": "display_data"
    },
    {
     "data": {
      "text/html": [
       "<html>\\[\\newcommand{\\Bold}[1]{\\mathbf{#1}}\\verb|\t\t\t|\\phantom{\\verb!x!}\\verb|amb|\\phantom{\\verb!x!}\\verb|matriu|\\phantom{\\verb!x!}\\verb|de|\\phantom{\\verb!x!}\\verb|canvi|\\phantom{\\verb!x!}\\verb|de|\\phantom{\\verb!x!}\\verb|base|\\phantom{\\verb!x!}\\verb|M|\\phantom{\\verb!x!}\\verb|=| \\left(\\begin{array}{rrrr}\n",
       "1 & 1 & 1 & 0 \\\\\n",
       "2 & \\frac{7}{4} & 0 & 1 \\\\\n",
       "-1 & -\\frac{1}{4} & -3 & 2 \\\\\n",
       "1 & -\\frac{1}{4} & 4 & -3\n",
       "\\end{array}\\right)\\]</html>"
      ],
      "text/latex": [
       "$$\\newcommand{\\Bold}[1]{\\mathbf{#1}}\\verb|\t\t\t|\\phantom{\\verb!x!}\\verb|amb|\\phantom{\\verb!x!}\\verb|matriu|\\phantom{\\verb!x!}\\verb|de|\\phantom{\\verb!x!}\\verb|canvi|\\phantom{\\verb!x!}\\verb|de|\\phantom{\\verb!x!}\\verb|base|\\phantom{\\verb!x!}\\verb|M|\\phantom{\\verb!x!}\\verb|=| \\left(\\begin{array}{rrrr}\n",
       "1 & 1 & 1 & 0 \\\\\n",
       "2 & \\frac{7}{4} & 0 & 1 \\\\\n",
       "-1 & -\\frac{1}{4} & -3 & 2 \\\\\n",
       "1 & -\\frac{1}{4} & 4 & -3\n",
       "\\end{array}\\right)$$"
      ],
      "text/plain": [
       "'\\t\\t\\t amb matriu de canvi de base M = ' [   1    1    1    0]\n",
       "[   2  7/4    0    1]\n",
       "[  -1 -1/4   -3    2]\n",
       "[   1 -1/4    4   -3]"
      ]
     },
     "metadata": {},
     "output_type": "display_data"
    },
    {
     "data": {
      "text/html": [
       "<html>\\[\\newcommand{\\Bold}[1]{\\mathbf{#1}}\\verb|La|\\phantom{\\verb!x!}\\verb|matriu| \\left(\\begin{array}{rrrr}\n",
       "5 & 2 & 3 & 1 \\\\\n",
       "-2 & 0 & -1 & 0 \\\\\n",
       "-6 & -3 & -4 & -2 \\\\\n",
       "2 & 0 & 1 & 0\n",
       "\\end{array}\\right) \\verb|es|\\phantom{\\verb!x!}\\verb|diagonalitzable?| \\mathrm{False}\\]</html>"
      ],
      "text/latex": [
       "$$\\newcommand{\\Bold}[1]{\\mathbf{#1}}\\verb|La|\\phantom{\\verb!x!}\\verb|matriu| \\left(\\begin{array}{rrrr}\n",
       "5 & 2 & 3 & 1 \\\\\n",
       "-2 & 0 & -1 & 0 \\\\\n",
       "-6 & -3 & -4 & -2 \\\\\n",
       "2 & 0 & 1 & 0\n",
       "\\end{array}\\right) \\verb|es|\\phantom{\\verb!x!}\\verb|diagonalitzable?| \\mathrm{False}$$"
      ],
      "text/plain": [
       "'La matriu ' [ 5  2  3  1]\n",
       "[-2  0 -1  0]\n",
       "[-6 -3 -4 -2]\n",
       "[ 2  0  1  0] 'es diagonalitzable? ' False"
      ]
     },
     "metadata": {},
     "output_type": "display_data"
    },
    {
     "data": {
      "text/html": [
       "<html>\\[\\newcommand{\\Bold}[1]{\\mathbf{#1}}\\verb|La|\\phantom{\\verb!x!}\\verb|matriu| \\left(\\begin{array}{rrrr}\n",
       "-1 & -3 & -2 & -1 \\\\\n",
       "4 & 9 & 4 & 4 \\\\\n",
       "-4 & -9 & -3 & -5 \\\\\n",
       "-4 & -8 & -4 & -3\n",
       "\\end{array}\\right) \\verb|es|\\phantom{\\verb!x!}\\verb|diagonalitzable?| \\mathrm{False}\\]</html>"
      ],
      "text/latex": [
       "$$\\newcommand{\\Bold}[1]{\\mathbf{#1}}\\verb|La|\\phantom{\\verb!x!}\\verb|matriu| \\left(\\begin{array}{rrrr}\n",
       "-1 & -3 & -2 & -1 \\\\\n",
       "4 & 9 & 4 & 4 \\\\\n",
       "-4 & -9 & -3 & -5 \\\\\n",
       "-4 & -8 & -4 & -3\n",
       "\\end{array}\\right) \\verb|es|\\phantom{\\verb!x!}\\verb|diagonalitzable?| \\mathrm{False}$$"
      ],
      "text/plain": [
       "'La matriu ' [-1 -3 -2 -1]\n",
       "[ 4  9  4  4]\n",
       "[-4 -9 -3 -5]\n",
       "[-4 -8 -4 -3] 'es diagonalitzable? ' False"
      ]
     },
     "metadata": {},
     "output_type": "display_data"
    }
   ],
   "source": [
    "matrius=[A1,A2,A3,A4,A5,A6]\n",
    "\n",
    "for i in range(len(matrius)):\n",
    "    show('La matriu ', matrius[i], 'es diagonalitzable? ', matrius[i].is_diagonalizable())\n",
    "    if matrius[i].is_diagonalizable()==True:\n",
    "        show('\\t\\t\\t amb matriu de canvi de base M = ', matrius[i].eigenmatrix_right()[1])"
   ]
  },
  {
   "cell_type": "markdown",
   "metadata": {},
   "source": [
    "#### Problema 3\n",
    "Considereu la matriu A. Comproveu que és diagonalitzable i calculeu matrius M (invertible) i D (diagonal) tals que M.inv()·A·M=D.\n",
    "\n",
    "Utilitzant les dades obtingudes a l'apartat anterior, determineu totes les matrius R que compleixen R^2=A que sigueu capaços."
   ]
  },
  {
   "cell_type": "code",
   "execution_count": 208,
   "metadata": {},
   "outputs": [
    {
     "data": {
      "text/html": [
       "<html>\\[\\newcommand{\\Bold}[1]{\\mathbf{#1}}\\left(\\begin{array}{rrr}\n",
       "4 & -6 & -6 \\\\\n",
       "-3 & 7 & 6 \\\\\n",
       "3 & -6 & -5\n",
       "\\end{array}\\right)\\]</html>"
      ],
      "text/latex": [
       "$$\\newcommand{\\Bold}[1]{\\mathbf{#1}}\\left(\\begin{array}{rrr}\n",
       "4 & -6 & -6 \\\\\n",
       "-3 & 7 & 6 \\\\\n",
       "3 & -6 & -5\n",
       "\\end{array}\\right)$$"
      ],
      "text/plain": [
       "[ 4 -6 -6]\n",
       "[-3  7  6]\n",
       "[ 3 -6 -5]"
      ]
     },
     "metadata": {},
     "output_type": "display_data"
    }
   ],
   "source": [
    "A=matrix(QQ,[[4,-6,-6],[-3,7,6],[3,-6,-5]])\n",
    "show(A)"
   ]
  },
  {
   "cell_type": "code",
   "execution_count": 209,
   "metadata": {},
   "outputs": [
    {
     "data": {
      "text/plain": [
       "True"
      ]
     },
     "execution_count": 209,
     "metadata": {},
     "output_type": "execute_result"
    }
   ],
   "source": [
    "A.is_diagonalizable()"
   ]
  },
  {
   "cell_type": "code",
   "execution_count": 210,
   "metadata": {},
   "outputs": [
    {
     "data": {
      "text/html": [
       "<html>\\[\\newcommand{\\Bold}[1]{\\mathbf{#1}}\\verb|D|\\phantom{\\verb!x!}\\verb|=| \\left(\\begin{array}{rrr}\n",
       "4 & 0 & 0 \\\\\n",
       "0 & 1 & 0 \\\\\n",
       "0 & 0 & 1\n",
       "\\end{array}\\right)\\]</html>"
      ],
      "text/latex": [
       "$$\\newcommand{\\Bold}[1]{\\mathbf{#1}}\\verb|D|\\phantom{\\verb!x!}\\verb|=| \\left(\\begin{array}{rrr}\n",
       "4 & 0 & 0 \\\\\n",
       "0 & 1 & 0 \\\\\n",
       "0 & 0 & 1\n",
       "\\end{array}\\right)$$"
      ],
      "text/plain": [
       "'D = ' [4 0 0]\n",
       "[0 1 0]\n",
       "[0 0 1]"
      ]
     },
     "metadata": {},
     "output_type": "display_data"
    },
    {
     "data": {
      "text/html": [
       "<html>\\[\\newcommand{\\Bold}[1]{\\mathbf{#1}}\\verb|M|\\phantom{\\verb!x!}\\verb|=|\\phantom{\\verb!x!}\\verb|=| \\left(\\begin{array}{rrr}\n",
       "1 & 1 & 0 \\\\\n",
       "-1 & 0 & 1 \\\\\n",
       "1 & \\frac{1}{2} & -1\n",
       "\\end{array}\\right)\\]</html>"
      ],
      "text/latex": [
       "$$\\newcommand{\\Bold}[1]{\\mathbf{#1}}\\verb|M|\\phantom{\\verb!x!}\\verb|=|\\phantom{\\verb!x!}\\verb|=| \\left(\\begin{array}{rrr}\n",
       "1 & 1 & 0 \\\\\n",
       "-1 & 0 & 1 \\\\\n",
       "1 & \\frac{1}{2} & -1\n",
       "\\end{array}\\right)$$"
      ],
      "text/plain": [
       "'M = =' [  1   1   0]\n",
       "[ -1   0   1]\n",
       "[  1 1/2  -1]"
      ]
     },
     "metadata": {},
     "output_type": "display_data"
    }
   ],
   "source": [
    "[D,M]=A.eigenmatrix_right()\n",
    "show('D = ', D)\n",
    "show('M = =', M)"
   ]
  },
  {
   "cell_type": "code",
   "execution_count": null,
   "metadata": {},
   "outputs": [],
   "source": []
  },
  {
   "cell_type": "code",
   "execution_count": null,
   "metadata": {},
   "outputs": [],
   "source": []
  },
  {
   "cell_type": "code",
   "execution_count": null,
   "metadata": {},
   "outputs": [],
   "source": []
  },
  {
   "cell_type": "code",
   "execution_count": null,
   "metadata": {},
   "outputs": [],
   "source": []
  },
  {
   "cell_type": "code",
   "execution_count": null,
   "metadata": {},
   "outputs": [],
   "source": []
  },
  {
   "cell_type": "code",
   "execution_count": null,
   "metadata": {},
   "outputs": [],
   "source": []
  },
  {
   "cell_type": "code",
   "execution_count": null,
   "metadata": {},
   "outputs": [],
   "source": []
  },
  {
   "cell_type": "code",
   "execution_count": null,
   "metadata": {},
   "outputs": [],
   "source": []
  },
  {
   "cell_type": "code",
   "execution_count": null,
   "metadata": {},
   "outputs": [],
   "source": []
  },
  {
   "cell_type": "code",
   "execution_count": null,
   "metadata": {},
   "outputs": [],
   "source": []
  },
  {
   "cell_type": "code",
   "execution_count": null,
   "metadata": {},
   "outputs": [],
   "source": []
  },
  {
   "cell_type": "code",
   "execution_count": null,
   "metadata": {},
   "outputs": [],
   "source": []
  },
  {
   "cell_type": "code",
   "execution_count": null,
   "metadata": {},
   "outputs": [],
   "source": []
  }
 ],
 "metadata": {
  "kernelspec": {
   "display_name": "SageMath 9.4",
   "language": "sage",
   "name": "sagemath-9.4"
  },
  "language_info": {
   "codemirror_mode": {
    "name": "ipython",
    "version": 3
   },
   "file_extension": ".py",
   "mimetype": "text/x-python",
   "name": "python",
   "nbconvert_exporter": "python",
   "pygments_lexer": "ipython3",
   "version": "3.9.5"
  }
 },
 "nbformat": 4,
 "nbformat_minor": 4
}
