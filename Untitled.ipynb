{
 "cells": [
  {
   "cell_type": "code",
   "execution_count": 3,
   "metadata": {
    "scrolled": true
   },
   "outputs": [
    {
     "data": {
      "text/plain": [
       "[2 0 0 2]\n",
       "[1 2 0 3]\n",
       "[0 0 2 2]"
      ]
     },
     "execution_count": 3,
     "metadata": {},
     "output_type": "execute_result"
    }
   ],
   "source": [
    "A.transpose()\n"
   ]
  },
  {
   "cell_type": "code",
   "execution_count": null,
   "metadata": {},
   "outputs": [],
   "source": []
  },
  {
   "cell_type": "code",
   "execution_count": 2,
   "metadata": {},
   "outputs": [
    {
     "data": {
      "text/plain": [
       "[ 8  8  4]\n",
       "[ 8 14  6]\n",
       "[ 4  6  8]"
      ]
     },
     "execution_count": 2,
     "metadata": {},
     "output_type": "execute_result"
    }
   ],
   "source": [
    "A=matrix(QQ,[[2,1,0],[0,2,0],[0,0,2],[2,3,2]])\n",
    "A2=A.transpose()*A\n",
    "A2"
   ]
  },
  {
   "cell_type": "code",
   "execution_count": null,
   "metadata": {},
   "outputs": [],
   "source": [
    "B=matrix(QQ,[[8,8,4,8],[8,14,6,12],[4,6,8,]])"
   ]
  },
  {
   "cell_type": "code",
   "execution_count": null,
   "metadata": {},
   "outputs": [],
   "source": []
  },
  {
   "cell_type": "code",
   "execution_count": null,
   "metadata": {},
   "outputs": [],
   "source": []
  },
  {
   "cell_type": "code",
   "execution_count": null,
   "metadata": {},
   "outputs": [],
   "source": []
  },
  {
   "cell_type": "code",
   "execution_count": null,
   "metadata": {},
   "outputs": [],
   "source": []
  },
  {
   "cell_type": "code",
   "execution_count": null,
   "metadata": {},
   "outputs": [],
   "source": []
  },
  {
   "cell_type": "code",
   "execution_count": null,
   "metadata": {},
   "outputs": [],
   "source": []
  },
  {
   "cell_type": "code",
   "execution_count": null,
   "metadata": {},
   "outputs": [],
   "source": []
  },
  {
   "cell_type": "code",
   "execution_count": null,
   "metadata": {},
   "outputs": [],
   "source": []
  },
  {
   "cell_type": "code",
   "execution_count": null,
   "metadata": {},
   "outputs": [],
   "source": []
  },
  {
   "cell_type": "code",
   "execution_count": null,
   "metadata": {},
   "outputs": [],
   "source": []
  },
  {
   "cell_type": "code",
   "execution_count": null,
   "metadata": {},
   "outputs": [],
   "source": []
  },
  {
   "cell_type": "code",
   "execution_count": null,
   "metadata": {},
   "outputs": [],
   "source": []
  },
  {
   "cell_type": "code",
   "execution_count": null,
   "metadata": {},
   "outputs": [],
   "source": []
  },
  {
   "cell_type": "code",
   "execution_count": null,
   "metadata": {},
   "outputs": [],
   "source": []
  },
  {
   "cell_type": "code",
   "execution_count": null,
   "metadata": {},
   "outputs": [],
   "source": []
  },
  {
   "cell_type": "code",
   "execution_count": null,
   "metadata": {},
   "outputs": [],
   "source": []
  },
  {
   "cell_type": "code",
   "execution_count": null,
   "metadata": {},
   "outputs": [],
   "source": []
  },
  {
   "cell_type": "code",
   "execution_count": null,
   "metadata": {},
   "outputs": [],
   "source": []
  },
  {
   "cell_type": "code",
   "execution_count": null,
   "metadata": {},
   "outputs": [],
   "source": []
  },
  {
   "cell_type": "code",
   "execution_count": null,
   "metadata": {},
   "outputs": [],
   "source": []
  },
  {
   "cell_type": "code",
   "execution_count": null,
   "metadata": {},
   "outputs": [],
   "source": []
  },
  {
   "cell_type": "code",
   "execution_count": null,
   "metadata": {},
   "outputs": [],
   "source": []
  },
  {
   "cell_type": "code",
   "execution_count": null,
   "metadata": {},
   "outputs": [],
   "source": []
  },
  {
   "cell_type": "code",
   "execution_count": null,
   "metadata": {},
   "outputs": [],
   "source": []
  },
  {
   "cell_type": "code",
   "execution_count": null,
   "metadata": {},
   "outputs": [],
   "source": []
  },
  {
   "cell_type": "code",
   "execution_count": null,
   "metadata": {},
   "outputs": [],
   "source": []
  },
  {
   "cell_type": "code",
   "execution_count": null,
   "metadata": {},
   "outputs": [],
   "source": []
  },
  {
   "cell_type": "code",
   "execution_count": null,
   "metadata": {},
   "outputs": [],
   "source": []
  },
  {
   "cell_type": "code",
   "execution_count": null,
   "metadata": {},
   "outputs": [],
   "source": []
  },
  {
   "cell_type": "code",
   "execution_count": 2,
   "metadata": {},
   "outputs": [
    {
     "data": {
      "text/plain": [
       "4"
      ]
     },
     "execution_count": 2,
     "metadata": {},
     "output_type": "execute_result"
    }
   ],
   "source": [
    "Q=matrix([[1,0,-1,-2],[0,1,2,3],[1,-2,1,0],[2,-3,0,1]])\n",
    "Q.rank()"
   ]
  },
  {
   "cell_type": "code",
   "execution_count": 3,
   "metadata": {},
   "outputs": [
    {
     "data": {
      "text/plain": [
       "[ 5 -3 -3]\n",
       "[ 3 -1 -3]\n",
       "[ 3 -3 -1]"
      ]
     },
     "execution_count": 3,
     "metadata": {},
     "output_type": "execute_result"
    }
   ],
   "source": [
    "P=matrix([[1,1,1],[1,0,1],[0,1,1]])\n",
    "D=matrix([[2,0,0],[0,2,0],[0,0,-1]])\n",
    "P*D*P.inverse()"
   ]
  },
  {
   "cell_type": "code",
   "execution_count": null,
   "metadata": {},
   "outputs": [],
   "source": []
  },
  {
   "cell_type": "code",
   "execution_count": 8,
   "metadata": {
    "scrolled": true
   },
   "outputs": [
    {
     "data": {
      "text/html": [
       "<html>\\[\\newcommand{\\Bold}[1]{\\mathbf{#1}}\\left(\\begin{array}{rrr}\n",
       "14 & 20 & 26 \\\\\n",
       "20 & 29 & 38 \\\\\n",
       "26 & 38 & 50\n",
       "\\end{array}\\right)\\]</html>"
      ],
      "text/latex": [
       "$$\\newcommand{\\Bold}[1]{\\mathbf{#1}}\\left(\\begin{array}{rrr}\n",
       "14 & 20 & 26 \\\\\n",
       "20 & 29 & 38 \\\\\n",
       "26 & 38 & 50\n",
       "\\end{array}\\right)$$"
      ],
      "text/plain": [
       "[14 20 26]\n",
       "[20 29 38]\n",
       "[26 38 50]"
      ]
     },
     "metadata": {},
     "output_type": "display_data"
    }
   ],
   "source": [
    "A=matrix(QQ,[[1,2,3],[2,3,4],[3,4,5]])\n",
    "M=A.transpose()*A\n",
    "show(M)"
   ]
  },
  {
   "cell_type": "code",
   "execution_count": 10,
   "metadata": {},
   "outputs": [],
   "source": [
    "x1=(93+9*sqrt(105))/2\n",
    "x2=(93-9*sqrt(105))/2\n",
    "x3=0"
   ]
  },
  {
   "cell_type": "code",
   "execution_count": 33,
   "metadata": {},
   "outputs": [
    {
     "data": {
      "text/html": [
       "<html>\\[\\newcommand{\\Bold}[1]{\\mathbf{#1}}\\mathrm{RowSpan}_{\\text{SR}}\\left(\\begin{array}{rrr}\n",
       "1 & \\frac{\\frac{520}{9 \\, \\sqrt{105} + 65} + 19}{{\\left(9 \\, \\sqrt{105} - \\frac{1600}{9 \\, \\sqrt{105} + 65} + 35\\right)} {\\left(\\frac{13}{9 \\, \\sqrt{105} + 65} + \\frac{40 \\, {\\left(\\frac{520}{9 \\, \\sqrt{105} + 65} + 19\\right)}}{{\\left(9 \\, \\sqrt{105} - \\frac{1600}{9 \\, \\sqrt{105} + 65} + 35\\right)} {\\left(9 \\, \\sqrt{105} + 65\\right)}}\\right)}} & \\frac{1}{4 \\, {\\left(\\frac{13}{9 \\, \\sqrt{105} + 65} + \\frac{40 \\, {\\left(\\frac{520}{9 \\, \\sqrt{105} + 65} + 19\\right)}}{{\\left(9 \\, \\sqrt{105} - \\frac{1600}{9 \\, \\sqrt{105} + 65} + 35\\right)} {\\left(9 \\, \\sqrt{105} + 65\\right)}}\\right)}}\n",
       "\\end{array}\\right)\\]</html>"
      ],
      "text/latex": [
       "$$\\newcommand{\\Bold}[1]{\\mathbf{#1}}\\mathrm{RowSpan}_{\\text{SR}}\\left(\\begin{array}{rrr}\n",
       "1 & \\frac{\\frac{520}{9 \\, \\sqrt{105} + 65} + 19}{{\\left(9 \\, \\sqrt{105} - \\frac{1600}{9 \\, \\sqrt{105} + 65} + 35\\right)} {\\left(\\frac{13}{9 \\, \\sqrt{105} + 65} + \\frac{40 \\, {\\left(\\frac{520}{9 \\, \\sqrt{105} + 65} + 19\\right)}}{{\\left(9 \\, \\sqrt{105} - \\frac{1600}{9 \\, \\sqrt{105} + 65} + 35\\right)} {\\left(9 \\, \\sqrt{105} + 65\\right)}}\\right)}} & \\frac{1}{4 \\, {\\left(\\frac{13}{9 \\, \\sqrt{105} + 65} + \\frac{40 \\, {\\left(\\frac{520}{9 \\, \\sqrt{105} + 65} + 19\\right)}}{{\\left(9 \\, \\sqrt{105} - \\frac{1600}{9 \\, \\sqrt{105} + 65} + 35\\right)} {\\left(9 \\, \\sqrt{105} + 65\\right)}}\\right)}}\n",
       "\\end{array}\\right)$$"
      ],
      "text/plain": [
       "Vector space of degree 3 and dimension 1 over Symbolic Ring\n",
       "Basis matrix:\n",
       "[                                                                                                                                                                                                        1 (520/(9*sqrt(105) + 65) + 19)/((9*sqrt(105) - 1600/(9*sqrt(105) + 65) + 35)*(13/(9*sqrt(105) + 65) + 40*(520/(9*sqrt(105) + 65) + 19)/((9*sqrt(105) - 1600/(9*sqrt(105) + 65) + 35)*(9*sqrt(105) + 65))))                                                                          1/4/(13/(9*sqrt(105) + 65) + 40*(520/(9*sqrt(105) + 65) + 19)/((9*sqrt(105) - 1600/(9*sqrt(105) + 65) + 35)*(9*sqrt(105) + 65)))]"
      ]
     },
     "metadata": {},
     "output_type": "display_data"
    },
    {
     "data": {
      "text/plain": [
       "(1, (520/(9*sqrt(105) + 65) + 19)/((9*sqrt(105) - 1600/(9*sqrt(105) + 65) + 35)*(13/(9*sqrt(105) + 65) + 40*(520/(9*sqrt(105) + 65) + 19)/((9*sqrt(105) - 1600/(9*sqrt(105) + 65) + 35)*(9*sqrt(105) + 65)))), 1/4/(13/(9*sqrt(105) + 65) + 40*(520/(9*sqrt(105) + 65) + 19)/((9*sqrt(105) - 1600/(9*sqrt(105) + 65) + 35)*(9*sqrt(105) + 65))))"
      ]
     },
     "execution_count": 33,
     "metadata": {},
     "output_type": "execute_result"
    }
   ],
   "source": [
    "show(((M-x1*identity_matrix(3)).rref()).right_kernel())\n",
    "(((M-x1*identity_matrix(3)).rref()).right_kernel()).basis()[0]"
   ]
  },
  {
   "cell_type": "code",
   "execution_count": 34,
   "metadata": {},
   "outputs": [
    {
     "data": {
      "text/html": [
       "<html>\\[\\newcommand{\\Bold}[1]{\\mathbf{#1}}\\left(\\begin{array}{rrr}\n",
       "1 & 0 & -\\frac{52}{9 \\, \\sqrt{105} + 65} - \\frac{160 \\, {\\left(\\frac{520}{9 \\, \\sqrt{105} + 65} + 19\\right)}}{{\\left(9 \\, \\sqrt{105} - \\frac{1600}{9 \\, \\sqrt{105} + 65} + 35\\right)} {\\left(9 \\, \\sqrt{105} + 65\\right)}} \\\\\n",
       "0 & 1 & -\\frac{4 \\, {\\left(\\frac{520}{9 \\, \\sqrt{105} + 65} + 19\\right)}}{9 \\, \\sqrt{105} - \\frac{1600}{9 \\, \\sqrt{105} + 65} + 35} \\\\\n",
       "0 & 0 & \\frac{8 \\, {\\left(\\frac{520}{9 \\, \\sqrt{105} + 65} + 19\\right)}^{2}}{9 \\, \\sqrt{105} - \\frac{1600}{9 \\, \\sqrt{105} + 65} + 35} - \\frac{9}{2} \\, \\sqrt{105} + \\frac{1352}{9 \\, \\sqrt{105} + 65} + \\frac{7}{2}\n",
       "\\end{array}\\right)\\]</html>"
      ],
      "text/latex": [
       "$$\\newcommand{\\Bold}[1]{\\mathbf{#1}}\\left(\\begin{array}{rrr}\n",
       "1 & 0 & -\\frac{52}{9 \\, \\sqrt{105} + 65} - \\frac{160 \\, {\\left(\\frac{520}{9 \\, \\sqrt{105} + 65} + 19\\right)}}{{\\left(9 \\, \\sqrt{105} - \\frac{1600}{9 \\, \\sqrt{105} + 65} + 35\\right)} {\\left(9 \\, \\sqrt{105} + 65\\right)}} \\\\\n",
       "0 & 1 & -\\frac{4 \\, {\\left(\\frac{520}{9 \\, \\sqrt{105} + 65} + 19\\right)}}{9 \\, \\sqrt{105} - \\frac{1600}{9 \\, \\sqrt{105} + 65} + 35} \\\\\n",
       "0 & 0 & \\frac{8 \\, {\\left(\\frac{520}{9 \\, \\sqrt{105} + 65} + 19\\right)}^{2}}{9 \\, \\sqrt{105} - \\frac{1600}{9 \\, \\sqrt{105} + 65} + 35} - \\frac{9}{2} \\, \\sqrt{105} + \\frac{1352}{9 \\, \\sqrt{105} + 65} + \\frac{7}{2}\n",
       "\\end{array}\\right)$$"
      ],
      "text/plain": [
       "[                                                                                                                             1                                                                                                                              0   -52/(9*sqrt(105) + 65) - 160*(520/(9*sqrt(105) + 65) + 19)/((9*sqrt(105) - 1600/(9*sqrt(105) + 65) + 35)*(9*sqrt(105) + 65))]\n",
       "[                                                                                                                             0                                                                                                                              1                                                  -4*(520/(9*sqrt(105) + 65) + 19)/(9*sqrt(105) - 1600/(9*sqrt(105) + 65) + 35)]\n",
       "[                                                                                                                             0                                                                                                                              0 8*(520/(9*sqrt(105) + 65) + 19)^2/(9*sqrt(105) - 1600/(9*sqrt(105) + 65) + 35) - 9/2*sqrt(105) + 1352/(9*sqrt(105) + 65) + 7/2]"
      ]
     },
     "metadata": {},
     "output_type": "display_data"
    }
   ],
   "source": [
    "show((M-x1*identity_matrix(3)).rref())"
   ]
  },
  {
   "cell_type": "code",
   "execution_count": null,
   "metadata": {},
   "outputs": [],
   "source": []
  },
  {
   "cell_type": "code",
   "execution_count": null,
   "metadata": {},
   "outputs": [],
   "source": []
  },
  {
   "cell_type": "code",
   "execution_count": null,
   "metadata": {},
   "outputs": [],
   "source": [
    "v_x1"
   ]
  },
  {
   "cell_type": "code",
   "execution_count": null,
   "metadata": {},
   "outputs": [],
   "source": []
  },
  {
   "cell_type": "code",
   "execution_count": null,
   "metadata": {},
   "outputs": [],
   "source": []
  },
  {
   "cell_type": "code",
   "execution_count": null,
   "metadata": {},
   "outputs": [],
   "source": []
  },
  {
   "cell_type": "code",
   "execution_count": 37,
   "metadata": {},
   "outputs": [
    {
     "data": {
      "text/plain": [
       "x^3 - 5*x^2 + 5*x - 1"
      ]
     },
     "execution_count": 37,
     "metadata": {},
     "output_type": "execute_result"
    }
   ],
   "source": [
    "B=matrix(QQ,[[1,1,1],[1,2,1],[1,1,2]])\n",
    "B.charpoly()"
   ]
  },
  {
   "cell_type": "code",
   "execution_count": 40,
   "metadata": {},
   "outputs": [
    {
     "data": {
      "text/html": [
       "<html>\\[\\newcommand{\\Bold}[1]{\\mathbf{#1}}\\left(\\begin{array}{rrr}\n",
       "0 & 1 & 1 \\\\\n",
       "1 & 1 & 0\n",
       "\\end{array}\\right)\\]</html>"
      ],
      "text/latex": [
       "$$\\newcommand{\\Bold}[1]{\\mathbf{#1}}\\left(\\begin{array}{rrr}\n",
       "0 & 1 & 1 \\\\\n",
       "1 & 1 & 0\n",
       "\\end{array}\\right)$$"
      ],
      "text/plain": [
       "[0 1 1]\n",
       "[1 1 0]"
      ]
     },
     "metadata": {},
     "output_type": "display_data"
    }
   ],
   "source": [
    "D=matrix([[sqrt(3),0,0],[0,1,0]])\n",
    "U=matrix([[sqrt(3)/sqrt(14),1/sqrt(2)],[5/(sqrt(14)*sqrt(3)),-1/sqrt(2)]])\n",
    "V=matrix([[3/sqrt(14),-1/sqrt(2),1/sqrt(3)],[2/sqrt(14),0,-1/sqrt(3)],[1/sqrt(14),1/sqrt(2),1/sqrt(3)]])\n",
    "show(U*D*V.inverse())"
   ]
  },
  {
   "cell_type": "code",
   "execution_count": 44,
   "metadata": {},
   "outputs": [
    {
     "data": {
      "text/plain": [
       "[31/21  2/21  1/21]\n",
       "[ 2/21 13/21 -4/21]\n",
       "[ 1/21 -4/21 19/21]"
      ]
     },
     "execution_count": 44,
     "metadata": {},
     "output_type": "execute_result"
    }
   ],
   "source": [
    "V*V.transpose()"
   ]
  },
  {
   "cell_type": "code",
   "execution_count": null,
   "metadata": {},
   "outputs": [],
   "source": []
  },
  {
   "cell_type": "code",
   "execution_count": null,
   "metadata": {},
   "outputs": [],
   "source": []
  },
  {
   "cell_type": "code",
   "execution_count": null,
   "metadata": {},
   "outputs": [],
   "source": []
  },
  {
   "cell_type": "code",
   "execution_count": null,
   "metadata": {},
   "outputs": [],
   "source": []
  },
  {
   "cell_type": "code",
   "execution_count": null,
   "metadata": {},
   "outputs": [],
   "source": []
  },
  {
   "cell_type": "code",
   "execution_count": null,
   "metadata": {},
   "outputs": [],
   "source": []
  },
  {
   "cell_type": "code",
   "execution_count": null,
   "metadata": {},
   "outputs": [],
   "source": []
  },
  {
   "cell_type": "code",
   "execution_count": null,
   "metadata": {},
   "outputs": [],
   "source": []
  },
  {
   "cell_type": "code",
   "execution_count": null,
   "metadata": {},
   "outputs": [],
   "source": []
  },
  {
   "cell_type": "code",
   "execution_count": 35,
   "metadata": {},
   "outputs": [
    {
     "data": {
      "text/plain": [
       "4*sqrt(1/3)"
      ]
     },
     "execution_count": 35,
     "metadata": {},
     "output_type": "execute_result"
    }
   ],
   "source": [
    "vector([2/3,2/3,2/3,-2]).norm()"
   ]
  },
  {
   "cell_type": "code",
   "execution_count": 36,
   "metadata": {},
   "outputs": [
    {
     "data": {
      "text/plain": [
       "4*sqrt(1/3)"
      ]
     },
     "execution_count": 36,
     "metadata": {},
     "output_type": "execute_result"
    }
   ],
   "source": [
    "sqrt(48/9)"
   ]
  },
  {
   "cell_type": "code",
   "execution_count": null,
   "metadata": {},
   "outputs": [],
   "source": []
  },
  {
   "cell_type": "code",
   "execution_count": null,
   "metadata": {},
   "outputs": [],
   "source": []
  },
  {
   "cell_type": "code",
   "execution_count": null,
   "metadata": {},
   "outputs": [],
   "source": []
  },
  {
   "cell_type": "code",
   "execution_count": null,
   "metadata": {},
   "outputs": [],
   "source": []
  },
  {
   "cell_type": "code",
   "execution_count": null,
   "metadata": {},
   "outputs": [],
   "source": []
  },
  {
   "cell_type": "code",
   "execution_count": null,
   "metadata": {},
   "outputs": [],
   "source": []
  },
  {
   "cell_type": "code",
   "execution_count": null,
   "metadata": {},
   "outputs": [],
   "source": []
  },
  {
   "cell_type": "code",
   "execution_count": null,
   "metadata": {},
   "outputs": [],
   "source": []
  },
  {
   "cell_type": "code",
   "execution_count": null,
   "metadata": {},
   "outputs": [],
   "source": []
  },
  {
   "cell_type": "code",
   "execution_count": null,
   "metadata": {},
   "outputs": [],
   "source": []
  },
  {
   "cell_type": "code",
   "execution_count": null,
   "metadata": {},
   "outputs": [],
   "source": []
  },
  {
   "cell_type": "code",
   "execution_count": null,
   "metadata": {},
   "outputs": [],
   "source": []
  },
  {
   "cell_type": "code",
   "execution_count": null,
   "metadata": {},
   "outputs": [],
   "source": []
  },
  {
   "cell_type": "code",
   "execution_count": null,
   "metadata": {},
   "outputs": [],
   "source": []
  }
 ],
 "metadata": {
  "kernelspec": {
   "display_name": "SageMath 9.4",
   "language": "sage",
   "name": "sagemath-9.4"
  },
  "language_info": {
   "codemirror_mode": {
    "name": "ipython",
    "version": 3
   },
   "file_extension": ".py",
   "mimetype": "text/x-python",
   "name": "python",
   "nbconvert_exporter": "python",
   "pygments_lexer": "ipython3",
   "version": "3.9.5"
  }
 },
 "nbformat": 4,
 "nbformat_minor": 4
}
